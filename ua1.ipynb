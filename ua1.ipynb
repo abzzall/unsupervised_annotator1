{
 "cells": [
  {
   "cell_type": "markdown",
   "source": [
    "Installing necessary modules and run necessary scripts"
   ],
   "metadata": {
    "collapsed": false
   },
   "id": "5d84faeb83ad2746"
  },
  {
   "cell_type": "code",
   "execution_count": 1,
   "outputs": [
    {
     "data": {
      "text/plain": "['Looking in indexes: https://download.pytorch.org/whl/cu121',\n 'Requirement already satisfied: torch in c:\\\\users\\\\qyzyr\\\\onedrive\\\\documents\\\\project_nlp\\\\unsupervised_annotator1\\\\venv\\\\lib\\\\site-packages (2.1.0+cu121)',\n 'Requirement already satisfied: torchvision in c:\\\\users\\\\qyzyr\\\\onedrive\\\\documents\\\\project_nlp\\\\unsupervised_annotator1\\\\venv\\\\lib\\\\site-packages (0.16.0+cu121)',\n 'Requirement already satisfied: torchaudio in c:\\\\users\\\\qyzyr\\\\onedrive\\\\documents\\\\project_nlp\\\\unsupervised_annotator1\\\\venv\\\\lib\\\\site-packages (2.1.0+cu121)',\n 'Requirement already satisfied: filelock in c:\\\\users\\\\qyzyr\\\\onedrive\\\\documents\\\\project_nlp\\\\unsupervised_annotator1\\\\venv\\\\lib\\\\site-packages (from torch) (3.12.3)',\n 'Requirement already satisfied: typing-extensions in c:\\\\users\\\\qyzyr\\\\onedrive\\\\documents\\\\project_nlp\\\\unsupervised_annotator1\\\\venv\\\\lib\\\\site-packages (from torch) (4.7.1)',\n 'Requirement already satisfied: sympy in c:\\\\users\\\\qyzyr\\\\onedrive\\\\documents\\\\project_nlp\\\\unsupervised_annotator1\\\\venv\\\\lib\\\\site-packages (from torch) (1.12)',\n 'Requirement already satisfied: networkx in c:\\\\users\\\\qyzyr\\\\onedrive\\\\documents\\\\project_nlp\\\\unsupervised_annotator1\\\\venv\\\\lib\\\\site-packages (from torch) (3.1)',\n 'Requirement already satisfied: jinja2 in c:\\\\users\\\\qyzyr\\\\onedrive\\\\documents\\\\project_nlp\\\\unsupervised_annotator1\\\\venv\\\\lib\\\\site-packages (from torch) (3.1.2)',\n 'Requirement already satisfied: fsspec in c:\\\\users\\\\qyzyr\\\\onedrive\\\\documents\\\\project_nlp\\\\unsupervised_annotator1\\\\venv\\\\lib\\\\site-packages (from torch) (2023.9.0)',\n 'Requirement already satisfied: numpy in c:\\\\users\\\\qyzyr\\\\onedrive\\\\documents\\\\project_nlp\\\\unsupervised_annotator1\\\\venv\\\\lib\\\\site-packages (from torchvision) (1.25.2)',\n 'Requirement already satisfied: requests in c:\\\\users\\\\qyzyr\\\\onedrive\\\\documents\\\\project_nlp\\\\unsupervised_annotator1\\\\venv\\\\lib\\\\site-packages (from torchvision) (2.31.0)',\n 'Requirement already satisfied: pillow!=8.3.*,>=5.3.0 in c:\\\\users\\\\qyzyr\\\\onedrive\\\\documents\\\\project_nlp\\\\unsupervised_annotator1\\\\venv\\\\lib\\\\site-packages (from torchvision) (10.0.0)',\n 'Requirement already satisfied: MarkupSafe>=2.0 in c:\\\\users\\\\qyzyr\\\\onedrive\\\\documents\\\\project_nlp\\\\unsupervised_annotator1\\\\venv\\\\lib\\\\site-packages (from jinja2->torch) (2.1.3)',\n 'Requirement already satisfied: charset-normalizer<4,>=2 in c:\\\\users\\\\qyzyr\\\\onedrive\\\\documents\\\\project_nlp\\\\unsupervised_annotator1\\\\venv\\\\lib\\\\site-packages (from requests->torchvision) (3.2.0)',\n 'Requirement already satisfied: idna<4,>=2.5 in c:\\\\users\\\\qyzyr\\\\onedrive\\\\documents\\\\project_nlp\\\\unsupervised_annotator1\\\\venv\\\\lib\\\\site-packages (from requests->torchvision) (3.4)',\n 'Requirement already satisfied: urllib3<3,>=1.21.1 in c:\\\\users\\\\qyzyr\\\\onedrive\\\\documents\\\\project_nlp\\\\unsupervised_annotator1\\\\venv\\\\lib\\\\site-packages (from requests->torchvision) (2.0.4)',\n 'Requirement already satisfied: certifi>=2017.4.17 in c:\\\\users\\\\qyzyr\\\\onedrive\\\\documents\\\\project_nlp\\\\unsupervised_annotator1\\\\venv\\\\lib\\\\site-packages (from requests->torchvision) (2023.7.22)',\n 'Requirement already satisfied: mpmath>=0.19 in c:\\\\users\\\\qyzyr\\\\onedrive\\\\documents\\\\project_nlp\\\\unsupervised_annotator1\\\\venv\\\\lib\\\\site-packages (from sympy->torch) (1.3.0)']"
     },
     "execution_count": 1,
     "metadata": {},
     "output_type": "execute_result"
    }
   ],
   "source": [
    "from torch import Tensor\n",
    "!!pip install torch torchvision torchaudio --index-url https://download.pytorch.org/whl/cu121"
   ],
   "metadata": {
    "collapsed": false,
    "ExecuteTime": {
     "end_time": "2023-11-06T05:33:21.511170800Z",
     "start_time": "2023-11-06T05:33:14.817443200Z"
    }
   },
   "id": "fc1fc3aea952fb9c"
  },
  {
   "cell_type": "code",
   "execution_count": 2,
   "outputs": [],
   "source": [
    "import torch\n",
    "device = torch.device(\"cuda\" if torch.cuda.is_available() else \"cpu\")\n"
   ],
   "metadata": {
    "collapsed": false,
    "ExecuteTime": {
     "end_time": "2023-11-06T05:33:22.733671300Z",
     "start_time": "2023-11-06T05:33:21.495383300Z"
    }
   },
   "id": "752767abe5f7ecd0"
  },
  {
   "cell_type": "code",
   "execution_count": 3,
   "outputs": [
    {
     "data": {
      "text/plain": "['Requirement already satisfied: sentence-transformers in c:\\\\users\\\\qyzyr\\\\onedrive\\\\documents\\\\project_nlp\\\\unsupervised_annotator1\\\\venv\\\\lib\\\\site-packages (2.2.2)',\n 'Requirement already satisfied: transformers<5.0.0,>=4.6.0 in c:\\\\users\\\\qyzyr\\\\onedrive\\\\documents\\\\project_nlp\\\\unsupervised_annotator1\\\\venv\\\\lib\\\\site-packages (from sentence-transformers) (4.33.0)',\n 'Requirement already satisfied: tqdm in c:\\\\users\\\\qyzyr\\\\onedrive\\\\documents\\\\project_nlp\\\\unsupervised_annotator1\\\\venv\\\\lib\\\\site-packages (from sentence-transformers) (4.66.1)',\n 'Requirement already satisfied: torch>=1.6.0 in c:\\\\users\\\\qyzyr\\\\onedrive\\\\documents\\\\project_nlp\\\\unsupervised_annotator1\\\\venv\\\\lib\\\\site-packages (from sentence-transformers) (2.1.0+cu121)',\n 'Requirement already satisfied: torchvision in c:\\\\users\\\\qyzyr\\\\onedrive\\\\documents\\\\project_nlp\\\\unsupervised_annotator1\\\\venv\\\\lib\\\\site-packages (from sentence-transformers) (0.16.0+cu121)',\n 'Requirement already satisfied: numpy in c:\\\\users\\\\qyzyr\\\\onedrive\\\\documents\\\\project_nlp\\\\unsupervised_annotator1\\\\venv\\\\lib\\\\site-packages (from sentence-transformers) (1.25.2)',\n 'Requirement already satisfied: scikit-learn in c:\\\\users\\\\qyzyr\\\\onedrive\\\\documents\\\\project_nlp\\\\unsupervised_annotator1\\\\venv\\\\lib\\\\site-packages (from sentence-transformers) (1.3.0)',\n 'Requirement already satisfied: scipy in c:\\\\users\\\\qyzyr\\\\onedrive\\\\documents\\\\project_nlp\\\\unsupervised_annotator1\\\\venv\\\\lib\\\\site-packages (from sentence-transformers) (1.11.2)',\n 'Requirement already satisfied: nltk in c:\\\\users\\\\qyzyr\\\\onedrive\\\\documents\\\\project_nlp\\\\unsupervised_annotator1\\\\venv\\\\lib\\\\site-packages (from sentence-transformers) (3.8.1)',\n 'Requirement already satisfied: sentencepiece in c:\\\\users\\\\qyzyr\\\\onedrive\\\\documents\\\\project_nlp\\\\unsupervised_annotator1\\\\venv\\\\lib\\\\site-packages (from sentence-transformers) (0.1.99)',\n 'Requirement already satisfied: huggingface-hub>=0.4.0 in c:\\\\users\\\\qyzyr\\\\onedrive\\\\documents\\\\project_nlp\\\\unsupervised_annotator1\\\\venv\\\\lib\\\\site-packages (from sentence-transformers) (0.16.4)',\n 'Requirement already satisfied: filelock in c:\\\\users\\\\qyzyr\\\\onedrive\\\\documents\\\\project_nlp\\\\unsupervised_annotator1\\\\venv\\\\lib\\\\site-packages (from huggingface-hub>=0.4.0->sentence-transformers) (3.12.3)',\n 'Requirement already satisfied: fsspec in c:\\\\users\\\\qyzyr\\\\onedrive\\\\documents\\\\project_nlp\\\\unsupervised_annotator1\\\\venv\\\\lib\\\\site-packages (from huggingface-hub>=0.4.0->sentence-transformers) (2023.9.0)',\n 'Requirement already satisfied: requests in c:\\\\users\\\\qyzyr\\\\onedrive\\\\documents\\\\project_nlp\\\\unsupervised_annotator1\\\\venv\\\\lib\\\\site-packages (from huggingface-hub>=0.4.0->sentence-transformers) (2.31.0)',\n 'Requirement already satisfied: pyyaml>=5.1 in c:\\\\users\\\\qyzyr\\\\onedrive\\\\documents\\\\project_nlp\\\\unsupervised_annotator1\\\\venv\\\\lib\\\\site-packages (from huggingface-hub>=0.4.0->sentence-transformers) (6.0.1)',\n 'Requirement already satisfied: typing-extensions>=3.7.4.3 in c:\\\\users\\\\qyzyr\\\\onedrive\\\\documents\\\\project_nlp\\\\unsupervised_annotator1\\\\venv\\\\lib\\\\site-packages (from huggingface-hub>=0.4.0->sentence-transformers) (4.7.1)',\n 'Requirement already satisfied: packaging>=20.9 in c:\\\\users\\\\qyzyr\\\\onedrive\\\\documents\\\\project_nlp\\\\unsupervised_annotator1\\\\venv\\\\lib\\\\site-packages (from huggingface-hub>=0.4.0->sentence-transformers) (23.1)',\n 'Requirement already satisfied: sympy in c:\\\\users\\\\qyzyr\\\\onedrive\\\\documents\\\\project_nlp\\\\unsupervised_annotator1\\\\venv\\\\lib\\\\site-packages (from torch>=1.6.0->sentence-transformers) (1.12)',\n 'Requirement already satisfied: networkx in c:\\\\users\\\\qyzyr\\\\onedrive\\\\documents\\\\project_nlp\\\\unsupervised_annotator1\\\\venv\\\\lib\\\\site-packages (from torch>=1.6.0->sentence-transformers) (3.1)',\n 'Requirement already satisfied: jinja2 in c:\\\\users\\\\qyzyr\\\\onedrive\\\\documents\\\\project_nlp\\\\unsupervised_annotator1\\\\venv\\\\lib\\\\site-packages (from torch>=1.6.0->sentence-transformers) (3.1.2)',\n 'Requirement already satisfied: colorama in c:\\\\users\\\\qyzyr\\\\onedrive\\\\documents\\\\project_nlp\\\\unsupervised_annotator1\\\\venv\\\\lib\\\\site-packages (from tqdm->sentence-transformers) (0.4.6)',\n 'Requirement already satisfied: regex!=2019.12.17 in c:\\\\users\\\\qyzyr\\\\onedrive\\\\documents\\\\project_nlp\\\\unsupervised_annotator1\\\\venv\\\\lib\\\\site-packages (from transformers<5.0.0,>=4.6.0->sentence-transformers) (2023.8.8)',\n 'Requirement already satisfied: tokenizers!=0.11.3,<0.14,>=0.11.1 in c:\\\\users\\\\qyzyr\\\\onedrive\\\\documents\\\\project_nlp\\\\unsupervised_annotator1\\\\venv\\\\lib\\\\site-packages (from transformers<5.0.0,>=4.6.0->sentence-transformers) (0.13.3)',\n 'Requirement already satisfied: safetensors>=0.3.1 in c:\\\\users\\\\qyzyr\\\\onedrive\\\\documents\\\\project_nlp\\\\unsupervised_annotator1\\\\venv\\\\lib\\\\site-packages (from transformers<5.0.0,>=4.6.0->sentence-transformers) (0.3.3)',\n 'Requirement already satisfied: click in c:\\\\users\\\\qyzyr\\\\onedrive\\\\documents\\\\project_nlp\\\\unsupervised_annotator1\\\\venv\\\\lib\\\\site-packages (from nltk->sentence-transformers) (8.1.7)',\n 'Requirement already satisfied: joblib in c:\\\\users\\\\qyzyr\\\\onedrive\\\\documents\\\\project_nlp\\\\unsupervised_annotator1\\\\venv\\\\lib\\\\site-packages (from nltk->sentence-transformers) (1.3.2)',\n 'Requirement already satisfied: threadpoolctl>=2.0.0 in c:\\\\users\\\\qyzyr\\\\onedrive\\\\documents\\\\project_nlp\\\\unsupervised_annotator1\\\\venv\\\\lib\\\\site-packages (from scikit-learn->sentence-transformers) (3.2.0)',\n 'Requirement already satisfied: pillow!=8.3.*,>=5.3.0 in c:\\\\users\\\\qyzyr\\\\onedrive\\\\documents\\\\project_nlp\\\\unsupervised_annotator1\\\\venv\\\\lib\\\\site-packages (from torchvision->sentence-transformers) (10.0.0)',\n 'Requirement already satisfied: MarkupSafe>=2.0 in c:\\\\users\\\\qyzyr\\\\onedrive\\\\documents\\\\project_nlp\\\\unsupervised_annotator1\\\\venv\\\\lib\\\\site-packages (from jinja2->torch>=1.6.0->sentence-transformers) (2.1.3)',\n 'Requirement already satisfied: charset-normalizer<4,>=2 in c:\\\\users\\\\qyzyr\\\\onedrive\\\\documents\\\\project_nlp\\\\unsupervised_annotator1\\\\venv\\\\lib\\\\site-packages (from requests->huggingface-hub>=0.4.0->sentence-transformers) (3.2.0)',\n 'Requirement already satisfied: idna<4,>=2.5 in c:\\\\users\\\\qyzyr\\\\onedrive\\\\documents\\\\project_nlp\\\\unsupervised_annotator1\\\\venv\\\\lib\\\\site-packages (from requests->huggingface-hub>=0.4.0->sentence-transformers) (3.4)',\n 'Requirement already satisfied: urllib3<3,>=1.21.1 in c:\\\\users\\\\qyzyr\\\\onedrive\\\\documents\\\\project_nlp\\\\unsupervised_annotator1\\\\venv\\\\lib\\\\site-packages (from requests->huggingface-hub>=0.4.0->sentence-transformers) (2.0.4)',\n 'Requirement already satisfied: certifi>=2017.4.17 in c:\\\\users\\\\qyzyr\\\\onedrive\\\\documents\\\\project_nlp\\\\unsupervised_annotator1\\\\venv\\\\lib\\\\site-packages (from requests->huggingface-hub>=0.4.0->sentence-transformers) (2023.7.22)',\n 'Requirement already satisfied: mpmath>=0.19 in c:\\\\users\\\\qyzyr\\\\onedrive\\\\documents\\\\project_nlp\\\\unsupervised_annotator1\\\\venv\\\\lib\\\\site-packages (from sympy->torch>=1.6.0->sentence-transformers) (1.3.0)',\n '',\n '[notice] A new release of pip is available: 23.2.1 -> 23.3.1',\n '[notice] To update, run: python.exe -m pip install --upgrade pip']"
     },
     "execution_count": 3,
     "metadata": {},
     "output_type": "execute_result"
    }
   ],
   "source": [
    "!! pip install spacy\n",
    "!! python -m spacy download en_core_web_sm\n",
    "!!pip install sentence-transformers"
   ],
   "metadata": {
    "collapsed": false,
    "ExecuteTime": {
     "end_time": "2023-11-06T05:33:36.997657400Z",
     "start_time": "2023-11-06T05:33:22.734667300Z"
    }
   },
   "id": "bb705793e4eb5a48"
  },
  {
   "cell_type": "markdown",
   "source": [
    "Importing modules"
   ],
   "metadata": {
    "collapsed": false
   },
   "id": "c44ac7a7abe1cd78"
  },
  {
   "cell_type": "code",
   "execution_count": 4,
   "outputs": [],
   "source": [
    "import spacy\n",
    "from spacy.tokenizer import Tokenizer\n",
    "from spacy.util import compile_infix_regex\n",
    "spacy.prefer_gpu()\n",
    "\n",
    "# Load the language model\n",
    "nlp = spacy.load('en_core_web_sm')\n",
    "\n",
    "from sentence_transformers import SentenceTransformer\n",
    "\n",
    "model = SentenceTransformer('distilbert-base-nli-mean-tokens', device=device)\n",
    "from sentence_transformers import SentenceTransformer, util\n",
    "from typing import List\n",
    "from transformers import BertTokenizer\n",
    "\n",
    "# Initialize the BERT tokenizer\n",
    "tokenizer = BertTokenizer.from_pretrained(\"bert-base-uncased\")"
   ],
   "metadata": {
    "collapsed": false,
    "ExecuteTime": {
     "end_time": "2023-11-06T05:33:41.645545300Z",
     "start_time": "2023-11-06T05:33:36.998658600Z"
    }
   },
   "id": "7c57129dab585428"
  },
  {
   "cell_type": "code",
   "execution_count": 5,
   "outputs": [],
   "source": [
    "from collections import namedtuple\n",
    "CandidateMWE = namedtuple('CandidateMWE',['text','head', 'sentence','self_encode', 'sent_encode'])\n",
    "CandidateW=namedtuple('CandidateW',['text','lemma', 'self_encode' ])\n",
    "# Term=namedtuple('Term',['text','detected' ])"
   ],
   "metadata": {
    "collapsed": false,
    "ExecuteTime": {
     "end_time": "2023-11-06T05:33:41.654420300Z",
     "start_time": "2023-11-06T05:33:41.647542200Z"
    }
   },
   "id": "ca195029b0d8acd3"
  },
  {
   "cell_type": "markdown",
   "source": [
    "creating functions"
   ],
   "metadata": {
    "collapsed": false
   },
   "id": "1f1a8e78a4e42d9f"
  },
  {
   "cell_type": "code",
   "execution_count": 6,
   "outputs": [],
   "source": [
    "def parse_candidates(text:str):   \n",
    "    # Process the text with spaCy\n",
    "    doc = nlp(text)\n",
    "    \n",
    "    # Extract MWEs (noun phrases) from the text\n",
    "    mwe_list = []\n",
    "    single_noun_list=dict()\n",
    "    candidate_list=[]\n",
    "    for sent in doc.sents:\n",
    "        sent_encode=model.encode(sent.text, convert_to_tensor=True).to(device)\n",
    "        for chunk in sent.noun_chunks:\n",
    "            is_candidate=False\n",
    "            word_count=0\n",
    "            # mwe_list.append(chunk.text)\n",
    "            if len(chunk.text.split()) > 1:\n",
    "                noun_appeared=False\n",
    "                is_candidate=True\n",
    "                cleared_candidate=''\n",
    "                for word in chunk:\n",
    "                    #IGNORING\n",
    "                    if word.pos_ in ['PUNCT', 'DET']:\n",
    "                        continue\n",
    "                    elif word.pos_ not in ['ADJ', 'PROPN', 'NOUN']:\n",
    "                        is_candidate=False\n",
    "                        # print(f'{chunk.text} is not candidate 1 {word.text} -- {word.pos_}')\n",
    "                        break\n",
    "                    elif word.pos_ in ['PROPN', 'NOUN']:\n",
    "                        noun_appeared=True\n",
    "                    elif not(not noun_appeared and word.pos_=='ADJ'):\n",
    "                        is_candidate=False\n",
    "                        # print(f'{chunk.text} is not candidate 2 {word.text} -- {word.pos_}, {noun_appeared}')\n",
    "                        break\n",
    "                    cleared_candidate+=' '+word.text\n",
    "                    word_count+=1\n",
    "            if is_candidate and word_count>1:\n",
    "                cleared_candidate=cleared_candidate.strip()\n",
    "                candidate_list.append(CandidateMWE(cleared_candidate, chunk.root.text, sent.text, model.encode(cleared_candidate, convert_to_tensor=True).to(device), sent_encode))\n",
    "                # print(f'Added candicate expression: {cleared_candidate}')\n",
    "            else:\n",
    "                \n",
    "                # print(f'Added candidate words from : {chunk.text}')    \n",
    "                for word in chunk:\n",
    "                    if word.pos_ in ['NOUN', 'PROPN']:\n",
    "                        single_noun_list[word.text]=  CandidateW(word.text, word.lemma_, model.encode(word.text))\n",
    "                        # print(word.text)    \n",
    "    return candidate_list, single_noun_list.values()"
   ],
   "metadata": {
    "collapsed": false,
    "ExecuteTime": {
     "end_time": "2023-11-06T05:33:41.662594600Z",
     "start_time": "2023-11-06T05:33:41.654420300Z"
    }
   },
   "id": "a9c58471f3da86bf"
  },
  {
   "cell_type": "code",
   "execution_count": 7,
   "outputs": [],
   "source": [
    "def dist(wi_encode, wj_encode):\n",
    "    return util.pytorch_cos_sim(\n",
    "        wi_encode,\n",
    "        wj_encode\n",
    "    )\n",
    "def calculate_topic_score(expression_embedding, sentence_embedding)->float:\n",
    "    \"\"\"\n",
    "    Calculate the topic score between a multiword expression and a sentence.\n",
    "\n",
    "    Args:\n",
    "        multiword_expression (str): The multiword expression.\n",
    "        sentence (str): The sentence containing the expression.\n",
    "\n",
    "    Returns:\n",
    "        float: The topic score (cosine similarity) between the two embeddings.\n",
    "    \"\"\"\n",
    "    # Load the distilbert-base-nli-mean-tokens model\n",
    "\n",
    "    # Encode the multiword expression and sentence into embeddings\n",
    "    # expression_embedding = model.encode(multiword_expression, convert_to_tensor=True)\n",
    "    # sentence_embedding = model.encode(sentence, convert_to_tensor=True)\n",
    "\n",
    "    # Calculate cosine similarity between the two embeddings\n",
    "    similarity_score = util.pytorch_cos_sim(expression_embedding, sentence_embedding)\n",
    "\n",
    "    # Extract the cosine similarity value from the tensor\n",
    "    topic_score = similarity_score[0].item()\n",
    "\n",
    "    return topic_score\n",
    "\n",
    "\n",
    "def calculate_specificity_score(mw:CandidateMWE, full_encode:Tensor)->float:\n",
    "    \"\"\"\n",
    "    Calculate the specificity score (SP) between a multiword expression (mw) and a list of words/multiword expressions (w).\n",
    "\n",
    "    Args:\n",
    "        mw (str): The multiword expression.\n",
    "        w (list of str): The list of words/multiword expressions in the context.\n",
    "\n",
    "    Returns:\n",
    "        float: The specificity score (SP).\n",
    "    \"\"\"\n",
    "    # Load the distilbert-base-nli-mean-tokens model\n",
    "    # Calculate distances between mw and each word/phrase in w\n",
    "    distances = dist(mw.self_encode,full_encode)\n",
    "\n",
    "    # Calculate the mean of the distances\n",
    "    specificity_score = distances.mean().item()\n",
    "    \n",
    "\n",
    "    return specificity_score\n"
   ],
   "metadata": {
    "collapsed": false,
    "ExecuteTime": {
     "end_time": "2023-11-06T05:33:41.663602800Z",
     "start_time": "2023-11-06T05:33:41.660983600Z"
    }
   },
   "id": "550e916cd76d4fc9"
  },
  {
   "cell_type": "code",
   "execution_count": 8,
   "outputs": [],
   "source": [
    "def detect_mw_terms(candidate_list:List[CandidateMWE], TSP:float = 0.05, Ttopic:float = 0.1)->List[CandidateMWE]:    \n",
    "            \n",
    "    full_encode= torch.stack([wi.self_encode for wi in candidate_list], dim=0)    \n",
    "    \n",
    "    temp_candidate = []\n",
    "    for candidate in candidate_list:\n",
    "        topic_score = calculate_topic_score(candidate.self_encode, candidate.sent_encode)\n",
    "        sp_score=calculate_specificity_score(candidate, full_encode)\n",
    "        if topic_score > Ttopic and sp_score > TSP:\n",
    "            temp_candidate.append(candidate)\n",
    "            # print(f'Added \"{candidate.text}\" topic score {topic_score}, specifity score {sp_score}')\n",
    "\n",
    "    return temp_candidate"
   ],
   "metadata": {
    "collapsed": false,
    "ExecuteTime": {
     "end_time": "2023-11-06T05:33:41.673347100Z",
     "start_time": "2023-11-06T05:33:41.667115800Z"
    }
   },
   "id": "2d085eeb13426a1d"
  },
  {
   "cell_type": "code",
   "execution_count": 9,
   "outputs": [],
   "source": [
    "def detect_single_noun_terms(term_mws:List[CandidateMWE], single_noun_list:List[CandidateW], subtoken_threshold:int=4)->List[CandidateW]:    \n",
    "    term_nouns=[]\n",
    "    for candidate in single_noun_list:\n",
    "        #Check if the lemma of the noun is the same as any of the heads of the multiword expressions.\n",
    "        is_term=False\n",
    "        lemma_is_head=False\n",
    "        for term_mw in term_mws:\n",
    "            if term_mw.head==candidate.lemma:\n",
    "                is_term=True\n",
    "                term_nouns.append(candidate)\n",
    "                # print(f'\"{candidate.text}\" is added by lemma: \"{candidate.lemma}\" is head of \"{term_mw}\"')\n",
    "                break\n",
    "        if is_term:\n",
    "            continue\n",
    "        #segment the word using a subword-unit segmentation and a vocabulary trained over a large general purpose corpus.\n",
    "        subtokens=tokenizer.tokenize(candidate.text)\n",
    "        if len(subtokens)>subtoken_threshold:\n",
    "            term_nouns.append(candidate)\n",
    "            # print(f'{candidate.text} is added by subtokens count: {len(subtokens)}')\n",
    "    return term_nouns"
   ],
   "metadata": {
    "collapsed": false,
    "ExecuteTime": {
     "end_time": "2023-11-06T05:33:41.689693800Z",
     "start_time": "2023-11-06T05:33:41.669944900Z"
    }
   },
   "id": "682a0aaba8edf6ca"
  },
  {
   "cell_type": "markdown",
   "source": [
    "Calculate metrics(from https://colab.research.google.com/drive/1y9WM3MSAEwvODhMt0cMwJi24XIllrmaY?usp=sharing) "
   ],
   "metadata": {
    "collapsed": false
   },
   "id": "fe36b79e31abe8f1"
  },
  {
   "cell_type": "code",
   "execution_count": 10,
   "outputs": [],
   "source": [
    "def calculate_metrics(true_terms, extracted_terms):\n",
    "    true_positives = len(true_terms.intersection(extracted_terms))\n",
    "    false_positives = len(extracted_terms.difference(true_terms))\n",
    "    false_negatives = len(true_terms.difference(extracted_terms))\n",
    "\n",
    "    precision = true_positives / (true_positives + false_positives) if (true_positives + false_positives) != 0 else 0\n",
    "    recall = true_positives / (true_positives + false_negatives) if (true_positives + false_negatives) != 0 else 0\n",
    "    f1_score = 2 * (precision * recall) / (precision + recall) if (precision + recall) != 0 else 0\n",
    "\n",
    "    return precision, recall, f1_score\n",
    "\n",
    "def compare_sets(extracted_terms, true_terms):\n",
    "    true_detections = extracted_terms.intersection(true_terms)\n",
    "    false_gaps = true_terms.difference(extracted_terms)\n",
    "    false_detections = extracted_terms.difference(true_terms)\n",
    "\n",
    "    return true_detections, false_gaps, false_detections"
   ],
   "metadata": {
    "collapsed": false,
    "ExecuteTime": {
     "end_time": "2023-11-06T05:33:41.689693800Z",
     "start_time": "2023-11-06T05:33:41.677884100Z"
    }
   },
   "id": "9e2889ce9dd8b338"
  },
  {
   "cell_type": "code",
   "execution_count": 11,
   "outputs": [],
   "source": [
    "def report(true_terms, extracted_terms):\n",
    "    # Расчет метрик\n",
    "    precision, recall, f1_score = calculate_metrics(true_terms, extracted_terms)\n",
    "    \n",
    "    print(\"Precision:\", precision) #Точность\n",
    "    print(\"Recall:\", recall) #Полнота\n",
    "    print(\"F1 Score:\", f1_score)\n",
    "    # Выводит списки истинных обнаружений, ложных пропуски и ложных обнаружений\n",
    "    true_detections, false_gaps, false_detections = compare_sets(extracted_terms, true_terms)\n",
    "    \n",
    "    print(\"Истинные обнаружения:\", true_detections)\n",
    "    print(\"Ложные пропуски:\", false_gaps)\n",
    "    print(\"Ложные обнаружения:\", false_detections)\n",
    "    return precision, recall, f1_score, true_detections, false_gaps, false_detections "
   ],
   "metadata": {
    "collapsed": false,
    "ExecuteTime": {
     "end_time": "2023-11-06T05:33:41.689693800Z",
     "start_time": "2023-11-06T05:33:41.682277600Z"
    }
   },
   "id": "5171f8f0a4386690"
  },
  {
   "cell_type": "code",
   "execution_count": 11,
   "outputs": [],
   "source": [],
   "metadata": {
    "collapsed": false,
    "ExecuteTime": {
     "end_time": "2023-11-06T05:33:41.690709Z",
     "start_time": "2023-11-06T05:33:41.686599700Z"
    }
   },
   "id": "cb2a35c8f824c8c0"
  },
  {
   "cell_type": "markdown",
   "source": [
    "Testing in Folder"
   ],
   "metadata": {
    "collapsed": false
   },
   "id": "8ec79888dda3aa91"
  },
  {
   "cell_type": "code",
   "execution_count": 12,
   "outputs": [],
   "source": [
    "import os\n",
    "\n",
    "folder_name='tests'\n",
    "# Get a list of all files in the folder\n",
    "all_files = os.listdir(folder_name)\n",
    "\n",
    "# Initialize empty lists to store the tuples\n",
    "file_tuples = []\n",
    "\n",
    "# Iterate through the files in the folder\n",
    "for filename in all_files:\n",
    "    # Check if the file is a test file (starts with \"text_\")\n",
    "    if filename.startswith(\"text_\"):\n",
    "        # Construct the expected result filename by replacing \"text_\" with \"term_\"\n",
    "        result_filename = \"term_\" + filename[5:]\n",
    "        \n",
    "        # Check if the corresponding result file exists in the folder\n",
    "        if result_filename in all_files:\n",
    "            # Append the tuple to the list\n",
    "            file_tuples.append((filename, result_filename))"
   ],
   "metadata": {
    "collapsed": false,
    "ExecuteTime": {
     "end_time": "2023-11-06T05:33:41.703048700Z",
     "start_time": "2023-11-06T05:33:41.689693800Z"
    }
   },
   "id": "97d37b7434e321f3"
  },
  {
   "cell_type": "code",
   "execution_count": 13,
   "outputs": [
    {
     "data": {
      "text/plain": "[('text_1.txt', 'term_1.txt'), ('text_2.txt', 'term_2.txt')]"
     },
     "execution_count": 13,
     "metadata": {},
     "output_type": "execute_result"
    }
   ],
   "source": [
    "file_tuples"
   ],
   "metadata": {
    "collapsed": false,
    "ExecuteTime": {
     "end_time": "2023-11-06T05:33:41.703555100Z",
     "start_time": "2023-11-06T05:33:41.695775100Z"
    }
   },
   "id": "6533871b027572d7"
  },
  {
   "cell_type": "code",
   "execution_count": 14,
   "outputs": [],
   "source": [
    "def test_file(text_file_name, term_file_name):\n",
    "    print('____________________________________________________________________\\n')\n",
    "    print(f\"checking files: {text_file_name}, {term_file_name}\")    \n",
    "    text=''\n",
    "    with open(text_file_name) as text_file:\n",
    "        text=text_file.read()\n",
    "    print('_____________________________FIRST STEP_________________________________________')\n",
    "    candidate_list, single_noun_list=parse_candidates(text)\n",
    "    print('_____________________________SECOND STEP___________________________________________________')\n",
    "    term_mws=detect_mw_terms(candidate_list)\n",
    "    print('_____________________________THIRD STEP______________________________________________________________')\n",
    "    term_nouns=detect_single_noun_terms(term_mws, single_noun_list)\n",
    "    print('____________________________________TESTING__________________________________________________________________')\n",
    "    extracted_terms=set([txt.text.lower() for txt in term_mws+term_nouns])\n",
    "    with open(term_file_name) as term_file:\n",
    "        terms_str=term_file.read()\n",
    "    true_terms=set(terms_str.lower().split(', '))\n",
    "\n",
    "    precision, recall, f1_score, true_detections, false_gaps, false_detections = report(true_terms, extracted_terms)\n",
    "    return true_terms, extracted_terms, precision, recall, f1_score, true_detections, false_gaps, false_detections \n",
    " \n"
   ],
   "metadata": {
    "collapsed": false,
    "ExecuteTime": {
     "end_time": "2023-11-06T05:33:41.705679600Z",
     "start_time": "2023-11-06T05:33:41.701720Z"
    }
   },
   "id": "fae850ba26da2b19"
  },
  {
   "cell_type": "code",
   "execution_count": 15,
   "outputs": [
    {
     "name": "stdout",
     "output_type": "stream",
     "text": [
      "____________________________________________________________________\n",
      "\n",
      "checking files: text_1.txt, term_1.txt\n",
      "_____________________________FIRST STEP_________________________________________\n",
      "_____________________________SECOND STEP___________________________________________________\n",
      "_____________________________THIRD STEP______________________________________________________________\n",
      "____________________________________TESTING__________________________________________________________________\n",
      "Precision: 0.26480836236933797\n",
      "Recall: 0.2857142857142857\n",
      "F1 Score: 0.27486437613019893\n",
      "Истинные обнаружения: {'federal government departments', 'business relations', 'policy', 'company', 'custodial sentence', 'corrupt behaviour', 'international market', 'criminal prosecution', 'fighting corruption', 'misdemeanours', 'joint venture', 'misdemeanour', 'corruption risks', 'civil servants', 'legal person', 'corrupt practices', 'prosecution', 'private sector', 'ngo', 'public sector', 'advantage', 'private corruption', 'money laundering', 'aggravating circumstances', 'private bribery', 'professional ethics', 'laws', 'belgian criminal code', 'slush money', 'business community', 'integrity policy', 'ethical enterprise', 'legal action', 'criminal offences', 'market', 'government', 'public contracts', 'criminal law', 'development aid', 'transparency international', 'ethical behaviour', 'commercial dispute', 'royal decree', 'corporate taxpayer', 'enterprises', 'criminal liability', 'corruption', 'government contracts', 'corrupt business practices', 'criminal conspiracy', 'united nations global compact', 'political parties', 'european union', 'companies', 'general assembly', 'law', 'tax legislation', 'criminal code', 'moniteur belge', 'criminal proceedings', 'criminal abuses', 'third party', 'ex officio', 'legal persons', 'accounting irregularities', 'federal civil service', 'grey areas', 'subsidy laws', 'active corruption', 'legal status', 'world bank', 'police', 'officials', 'federal criminal investigation police', 'public bribery', 'bribery'}\n",
      "Ложные пропуски: {'departments of government', 'criminality', 'integrity', 'cream something off payments', 'usa', 'basis of tax assessment', 'ethically', 'public', 'federal police', 'network of expertise on corruption', 'recognitions', 'penalties', 'framework of good practice', 'policy against corruption', 'iraq', 'income tax law', 'icc', 'statutory', 'pay', 'penalization', 'saddam hussein', 'principal', 'financial statements', 'assets', 'termination of a contract', 'directives', 'compromise', 'central office for the repression of corruption', 'central department on combating corruption', 'levied', 'combating corruption', 'foreign corrupt practices act', 'businesses', 'imprisonment', 'non-transparent', 'funding', 'trading', 'purchasing director', 'federal department of the budget', 'commercial', 'fight against corruption', 'society', 'report', 'american', 'penalizes', 'bureau of official ethics and good practice', 'legislation', 'paying', 'contractors', 'royal decrees', 'united nations convention against corruption', 'trade union', 'public invitations to tender', 'small and medium-sized enterprises11', 'federal department of finance', 'market procedures', 'malpractices', 'oecd', 'fine', 'federal government department of the budget and management control', 'directorate for combating economic and financial crime', 'anti-fraud', 'bribing', 'anti-bribery convention', 'prohibition', 'chamber of commerce', 'group of states against corruption', \"employers ' organization\", 'commission', 'penalty of imprisonment', 'lawfully provided services', 'federation of enterprises in belgium', 'sme', 'procurement', 'us', 'national security plan 2008 - 2011', 'contracts', 'olaf', 'agreement on government procurement', 'office for administrative ethics and deontology', 'corporate governance', 'office-holders', 'rome', 'prosecute', 'payments', 'governments', 'count of corruption', 'goods', 'investment', 'trade', 'transparency international belgium', 'civil', 'licensing', 'markets', 'competition', 'anti-corruption', 'gpa', 'board of directors', 'registration for transfers of ownership', 'punishes', 'un corruption', 'blacklists', 'european commission', 'natural', 'business contacts', 'active', 'business practices', 'corruption scandals', 'advantages', 'oecd convention on combating bribery of foreign public officials in international business transactions', 'criminal law convention on corruption', 'auditing', 'compliance', 'tactless', 'network of expertise on economic ', 'immovable property', 'contracting', 'internet portal', 'punishable', 'legal', 'subsidies', 'freedom of bidding', 'passive bribery', 'police on web', 'blackmail', 'enforcement', 'natural persons', 'distortion of competition', 'convict', 'codes of conduct', 'feb', 'costs', 'subcontracts', 'extortion', 'paid', 'business', 'convicted', 'judicial', 'code of conduct', 'usufruct', 'off-books accounting', 'deducted', 'federal government department of justice', 'belgium', 'movable', 'reclaim', 'transactions', 'trade organization', 'board of public prosecutors-general', 'fraud', 'additional tenths', 'passive corruption', 'civil law convention on corruption', 'fiscal', 'private', 'double-checking', 'eu', 'anti-corruption policy', 'wto', 'san francisco', 'transparent', 'blacklist', 'salary', 'rights', 'corrupt', 'corruption-related', 'authorities', 'financial and fiscal crime', 'greco', 'liable', 'misconduct', 'council of europe', 'embezzle', 'rules', 'corporate', 'madrid', 'rules of conduct', 'private sectors', 'official', 'intermediaries', 'organisation for economic cooperation and development', 'fines', 'criminally liable', 'service for criminal policy', 'icc belgium', 'price', 'bribe', 'regulations', 'public institution', 'un'}\n",
      "Ложные обнаружения: {'role', 'major reform', 'primary purpose', 'main international initiatives', 'multi - disciplinary integrated method', 'days', 'service', 'brief list', 'whole week', 'inadequate legal means', 'sound decisions', 'belgian government', 'national corruption scandals', 'community rules', 'criminal policy', 'corporate financial statements', 'longer term', 'best signal', 'official ethics', 'federal government department', 'context', 'foreign public officials', 'liability', 'various levels', 'severe penalties', 'such advantage', 'other methods', 'method', 'level playing field', 'such risk countries', 'best practices', 'good management', 'clearest possible picture', 'member states', 'publicity', 'international', 'international level', 'strict evaluation mechanism', 'clear procedures', 'criminal code articles', 'alarm signals', 'belgian government department', 'corporate life', 'sectors', 'various forms', 'other international regulations', 'www.fightingcorruption.org', 'major international companies', 'administrative ethics', 'network', 'certain contracting', 'main obstacle', 'oecd convention', 'common framework', 'further information', 'levels', 'practical guide', 'assessments', 'consultancy agreements', 'pilot role', 'sunny destination', 'american company', 'foreign officials', 'other misdemeanour', 'support', 'other countries', 'multinational enterprises', 'information', 'certain country', 'commercial players', 'public trust', 'corporate initiatives', 'cross - border approach', 'oecd guidelines', 'inter - departmental working group', 'such advantages', 'belgian companies', 'possible penalties', 'other actions', 'practices', 'preventive monitoring', 'clear definition', 'foreign official', 'fields', 'national governments', 'national level', 'list', 'main measures', 'information exchange', 'incidental condition', 'main barriers', 'preventive measures', 'noteworthy initiatives', 'official context', 'basic rules', 'person', 'certain countries', 'broad support', 'future trends', 'government procurement', 'anti - corruption policy', 'bank', 'serious consequences', 'collective action guide', 'belgian federal government', 'normal business contacts', 'various markets', 'tactless civil servants', 'main ngo', 'tax assessment', 'voluntary principles', 'unremitting work', 'corruption prosecution policy', 'crisis situation', 'screen candidates', 'new act', 'systematic protection', 'human rights', 'belgian anti - corruption policy', 'other persons', 'adequate salary', 'countries', 'practice', 'regular contacts', 'purpose', 'technical support', 'sound companies', 'responsible behaviour', 'country', 'recent years', 'firm legislation', 'prior knowledge', 'co', 'civil aspects', 'sector', 'international co', 'belgian law', 'belgian network', 'negative publicity', 'positions', 'international companies', 'states', 'powerful tool', 'office', 'first global instrument', 'such conventions', 'attention', 'regular integrity courses', 'warning signs', 'convention', 'first important steps', 'firm line', 'good start', 'international markets', 'good practices', 'secret agreement', 'international business transactions', 'sufficient time', 'such payments', 'vulnerable position', 'affected aspects', 'departments', 'federal civil servants', 'belgian government departments', 'central office', 'awkward situations', 'public prosecutors general', 'technical assistance', 'main partners', 'federal government', 'behaviour', 'responsible management', 'department', 'early stage', 'local agents', 'group', 'eu member states', 'special attention', 'foreign legislation', 'action', 'delicate situations', 'community', 'late 1990s', 'persons', 'closed doors', 'good practice', 'other words', 'foreign markets', 'framework', 'position', 'iraqi officials', 'economic cooperation', 'nearest belgian factory', 'corruptie voorkomen', 'important tool', 'invaluable source', 'further development', 'icc rules', 'international pressure', 'trust', 'transparency international business principles', 'certain royal decrees', 'belgian individuals', 'icc publication', 'united nations convention', 'public invitations', 'international corporate integrity handbook', 'latter us legislation', 'proper functioning', 'field day', 'such behaviour'}\n",
      "____________________________________________________________________\n",
      "\n",
      "____________________________________________________________________\n",
      "\n",
      "checking files: text_2.txt, term_2.txt\n",
      "_____________________________FIRST STEP_________________________________________\n",
      "_____________________________SECOND STEP___________________________________________________\n",
      "_____________________________THIRD STEP______________________________________________________________\n",
      "____________________________________TESTING__________________________________________________________________\n",
      "Precision: 0.3611111111111111\n",
      "Recall: 0.2765957446808511\n",
      "F1 Score: 0.3132530120481928\n",
      "Истинные обнаружения: {'hazard ratio', 'neurohumoral blockers', 'uptitration', 'heart rate', 'spironolactone', 'heart failure', 'left ventricular ejection fraction', 'ras blockers', 'renal function', 'blood pressure', 'uptitrations', 'î²-blockers', 'hospitalization'}\n",
      "Ложные пропуски: {'pef', 'significant', 'beta-blocker', 'preserved left ventricular ejection fractions', 'readmissions', 'co-morbidity', 'patients', 'î²-blocker', 'hr', 'admission', 'confidence interval', 'reduced ejection fraction', 'clinical', 'ci', 'hfpef', 'significantly', 'therapy', 'ref', 'ambulatory', 'hospital', 'reduced', 'renin-angiotensin system blocker', 'composite end-point', 'p', 'ras', 'all-cause mortality', 'outcome', 'hf with preserved ejection fraction', 'hospitalized', 'hf', 'hfref', 'renin-angiotensin system', 'ras-blocker', 'ras -'}\n",
      "Ложные обнаружения: {'hospital admission', 'ambulatory patients', 'consecutive patients', 'renin angiotensin system blocker', 'beta blocker therapy', 'dose changes', 'spironolactone use', 'higher heart rate', 'hf hospitalization', 'fractions', 'composite end point', 'â‰¥10 %', 'clinical outcome', '%', 'â‰¥40 %', 'younger patients', 'significant reductions', 'hf readmissions', 'better renal function', 'renin angiotensin system', 'dose increase', 'fraction', 'ras blocker uptitration'}\n",
      "____________________________________________________________________\n",
      "\n",
      "___________________________TOTAL_________________________________________\n",
      "\n",
      "total result\n",
      "Precision: 0.3611111111111111\n",
      "Recall: 0.04153354632587859\n",
      "F1 Score: 0.07449856733524356\n",
      "Истинные обнаружения: {'hazard ratio', 'neurohumoral blockers', 'uptitration', 'heart rate', 'spironolactone', 'heart failure', 'left ventricular ejection fraction', 'ras blockers', 'renal function', 'blood pressure', 'uptitrations', 'î²-blockers', 'hospitalization'}\n",
      "Ложные пропуски: {'departments of government', 'custodial sentence', 'integrity', 'criminal prosecution', 'readmissions', 'cream something off payments', 'misdemeanours', 'usa', 'basis of tax assessment', 'prosecution', 'federal police', 'recognitions', 'network of expertise on corruption', 'framework of good practice', 'integrity policy', 'icc', 'statutory', 'saddam hussein', 'principal', 'directives', 'termination of a contract', 'assets', 'ambulatory', 'central office for the repression of corruption', 'royal decree', 'enterprises', 'levied', 'foreign corrupt practices act', 'renin-angiotensin system blocker', 'imprisonment', 'funding', 'non-transparent', 'trading', 'legal persons', 'grey areas', 'bureau of official ethics and good practice', 'legal status', 'paying', 'contractors', 'public bribery', 'public invitations to tender', 'company', 'international market', 'preserved left ventricular ejection fractions', 'malpractices', 'fine', 'corrupt practices', 'public sector', 'federal government department of the budget and management control', 'ngo', 'directorate for combating economic and financial crime', 'anti-fraud', 'private corruption', 'aggravating circumstances', 'anti-bribery convention', 'laws', 'confidence interval', 'ci', 'government', 'chamber of commerce', 'ethical behaviour', \"employers ' organization\", 'federation of enterprises in belgium', 'sme', 'government contracts', 'us', 'united nations global compact', 'office-holders', 'rome', 'governments', 'ex officio', 'count of corruption', 'trade', 'licensing', 'competition', 'anti-corruption', 'gpa', 'board of directors', 'blacklists', 'pef', 'european commission', 'beta-blocker', 'natural', 'active', 'fighting corruption', 'oecd convention on combating bribery of foreign public officials in international business transactions', 'co-morbidity', 'misdemeanour', 'criminal law convention on corruption', 'tactless', 'advantage', 'internet portal', 'contracting', 'money laundering', 'punishable', 'private bribery', 'legal', 'subsidies', 'legal action', 'freedom of bidding', 'criminal offences', 'passive bribery', 'public contracts', 'ref', 'police on web', 'transparency international', 'blackmail', 'natural persons', 'distortion of competition', 'political parties', 'european union', 'feb', 'ras', 'outcome', 'extortion', 'business', 'paid', 'active corruption', 'federal government department of justice', 'off-books accounting', 'usufruct', 'belgium', 'movable', 'transactions', 'trade organization', 'admission', 'board of public prosecutors-general', 'ras -', 'policy', 'passive corruption', 'joint venture', 'corruption risks', 'private', 'hr', 'double-checking', 'san francisco', 'transparent', 'belgian criminal code', 'salary', 'rights', 'clinical', 'corrupt', 'significantly', 'criminal law', 'authorities', 'hospital', 'liable', 'rules', 'companies', 'composite end-point', 'organisation for economic cooperation and development', 'criminal code', 'all-cause mortality', 'third party', 'criminally liable', 'police', 'hfref', 'price', 'federal criminal investigation police', 'public institution', 'un', 'federal government departments', 'criminality', 'ethically', 'public', 'penalties', 'policy against corruption', 'iraq', 'income tax law', 'pay', 'penalization', 'development aid', 'financial statements', 'central department on combating corruption', 'compromise', 'combating corruption', 'businesses', 'general assembly', 'law', 'purchasing director', 'federal department of the budget', 'hf with preserved ejection fraction', 'commercial', 'fight against corruption', 'hospitalized', 'society', 'report', 'penalizes', 'hf', 'american', 'legislation', 'federal civil service', 'royal decrees', 'trade union', 'united nations convention against corruption', 'business relations', 'small and medium-sized enterprises11', 'federal department of finance', 'market procedures', 'oecd', 'patients', 'î²-blocker', 'private sector', 'bribing', 'slush money', 'ethical enterprise', 'prohibition', 'group of states against corruption', 'commercial dispute', 'commission', 'penalty of imprisonment', 'lawfully provided services', 'procurement', 'criminal liability', 'corruption', 'national security plan 2008 - 2011', 'tax legislation', 'p', 'contracts', 'olaf', 'agreement on government procurement', 'office for administrative ethics and deontology', 'corporate governance', 'prosecute', 'moniteur belge', 'criminal proceedings', 'payments', 'criminal abuses', 'accounting irregularities', 'goods', 'investment', 'transparency international belgium', 'world bank', 'civil', 'markets', 'punishes', 'registration for transfers of ownership', 'un corruption', 'bribery', 'corrupt behaviour', 'business contacts', 'business practices', 'corruption scandals', 'advantages', 'auditing', 'compliance', 'network of expertise on economic ', 'immovable property', 'business community', 'enforcement', 'corporate taxpayer', 'corrupt business practices', 'convict', 'codes of conduct', 'costs', 'subcontracts', 'judicial', 'convicted', 'subsidy laws', 'code of conduct', 'deducted', 'reclaim', 'ras-blocker', 'significant', 'fraud', 'additional tenths', 'civil law convention on corruption', 'anti-corruption policy', 'civil servants', 'legal person', 'eu', 'fiscal', 'wto', 'professional ethics', 'blacklist', 'reduced ejection fraction', 'hfpef', 'market', 'therapy', 'corruption-related', 'financial and fiscal crime', 'greco', 'misconduct', 'reduced', 'criminal conspiracy', 'council of europe', 'embezzle', 'corporate', 'madrid', 'rules of conduct', 'private sectors', 'official', 'intermediaries', 'fines', 'service for criminal policy', 'icc belgium', 'regulations', 'bribe', 'renin-angiotensin system', 'officials'}\n",
      "Ложные обнаружения: {'hospital admission', 'ambulatory patients', 'consecutive patients', 'renin angiotensin system blocker', 'beta blocker therapy', 'dose changes', 'spironolactone use', 'higher heart rate', 'hf hospitalization', 'fractions', 'composite end point', 'â‰¥10 %', 'clinical outcome', '%', 'â‰¥40 %', 'younger patients', 'significant reductions', 'hf readmissions', 'better renal function', 'renin angiotensin system', 'dose increase', 'fraction', 'ras blocker uptitration'}\n"
     ]
    },
    {
     "data": {
      "text/plain": "(0.3611111111111111,\n 0.04153354632587859,\n 0.07449856733524356,\n {'blood pressure',\n  'hazard ratio',\n  'heart failure',\n  'heart rate',\n  'hospitalization',\n  'left ventricular ejection fraction',\n  'neurohumoral blockers',\n  'ras blockers',\n  'renal function',\n  'spironolactone',\n  'uptitration',\n  'uptitrations',\n  'î²-blockers'},\n {'accounting irregularities',\n  'active',\n  'active corruption',\n  'additional tenths',\n  'admission',\n  'advantage',\n  'advantages',\n  'aggravating circumstances',\n  'agreement on government procurement',\n  'all-cause mortality',\n  'ambulatory',\n  'american',\n  'anti-bribery convention',\n  'anti-corruption',\n  'anti-corruption policy',\n  'anti-fraud',\n  'assets',\n  'auditing',\n  'authorities',\n  'basis of tax assessment',\n  'belgian criminal code',\n  'belgium',\n  'beta-blocker',\n  'blacklist',\n  'blacklists',\n  'blackmail',\n  'board of directors',\n  'board of public prosecutors-general',\n  'bribe',\n  'bribery',\n  'bribing',\n  'bureau of official ethics and good practice',\n  'business',\n  'business community',\n  'business contacts',\n  'business practices',\n  'business relations',\n  'businesses',\n  'central department on combating corruption',\n  'central office for the repression of corruption',\n  'chamber of commerce',\n  'ci',\n  'civil',\n  'civil law convention on corruption',\n  'civil servants',\n  'clinical',\n  'co-morbidity',\n  'code of conduct',\n  'codes of conduct',\n  'combating corruption',\n  'commercial',\n  'commercial dispute',\n  'commission',\n  'companies',\n  'company',\n  'competition',\n  'compliance',\n  'composite end-point',\n  'compromise',\n  'confidence interval',\n  'contracting',\n  'contractors',\n  'contracts',\n  'convict',\n  'convicted',\n  'corporate',\n  'corporate governance',\n  'corporate taxpayer',\n  'corrupt',\n  'corrupt behaviour',\n  'corrupt business practices',\n  'corrupt practices',\n  'corruption',\n  'corruption risks',\n  'corruption scandals',\n  'corruption-related',\n  'costs',\n  'council of europe',\n  'count of corruption',\n  'cream something off payments',\n  'criminal abuses',\n  'criminal code',\n  'criminal conspiracy',\n  'criminal law',\n  'criminal law convention on corruption',\n  'criminal liability',\n  'criminal offences',\n  'criminal proceedings',\n  'criminal prosecution',\n  'criminality',\n  'criminally liable',\n  'custodial sentence',\n  'deducted',\n  'departments of government',\n  'development aid',\n  'directives',\n  'directorate for combating economic and financial crime',\n  'distortion of competition',\n  'double-checking',\n  'embezzle',\n  \"employers ' organization\",\n  'enforcement',\n  'enterprises',\n  'ethical behaviour',\n  'ethical enterprise',\n  'ethically',\n  'eu',\n  'european commission',\n  'european union',\n  'ex officio',\n  'extortion',\n  'feb',\n  'federal civil service',\n  'federal criminal investigation police',\n  'federal department of finance',\n  'federal department of the budget',\n  'federal government department of justice',\n  'federal government department of the budget and management control',\n  'federal government departments',\n  'federal police',\n  'federation of enterprises in belgium',\n  'fight against corruption',\n  'fighting corruption',\n  'financial and fiscal crime',\n  'financial statements',\n  'fine',\n  'fines',\n  'fiscal',\n  'foreign corrupt practices act',\n  'framework of good practice',\n  'fraud',\n  'freedom of bidding',\n  'funding',\n  'general assembly',\n  'goods',\n  'government',\n  'government contracts',\n  'governments',\n  'gpa',\n  'greco',\n  'grey areas',\n  'group of states against corruption',\n  'hf',\n  'hf with preserved ejection fraction',\n  'hfpef',\n  'hfref',\n  'hospital',\n  'hospitalized',\n  'hr',\n  'icc',\n  'icc belgium',\n  'immovable property',\n  'imprisonment',\n  'income tax law',\n  'integrity',\n  'integrity policy',\n  'intermediaries',\n  'international market',\n  'internet portal',\n  'investment',\n  'iraq',\n  'joint venture',\n  'judicial',\n  'law',\n  'lawfully provided services',\n  'laws',\n  'legal',\n  'legal action',\n  'legal person',\n  'legal persons',\n  'legal status',\n  'legislation',\n  'levied',\n  'liable',\n  'licensing',\n  'madrid',\n  'malpractices',\n  'market',\n  'market procedures',\n  'markets',\n  'misconduct',\n  'misdemeanour',\n  'misdemeanours',\n  'money laundering',\n  'moniteur belge',\n  'movable',\n  'national security plan 2008 - 2011',\n  'natural',\n  'natural persons',\n  'network of expertise on corruption',\n  'network of expertise on economic ',\n  'ngo',\n  'non-transparent',\n  'oecd',\n  'oecd convention on combating bribery of foreign public officials in international business transactions',\n  'off-books accounting',\n  'office for administrative ethics and deontology',\n  'office-holders',\n  'official',\n  'officials',\n  'olaf',\n  'organisation for economic cooperation and development',\n  'outcome',\n  'p',\n  'paid',\n  'passive bribery',\n  'passive corruption',\n  'patients',\n  'pay',\n  'paying',\n  'payments',\n  'pef',\n  'penalization',\n  'penalizes',\n  'penalties',\n  'penalty of imprisonment',\n  'police',\n  'police on web',\n  'policy',\n  'policy against corruption',\n  'political parties',\n  'preserved left ventricular ejection fractions',\n  'price',\n  'principal',\n  'private',\n  'private bribery',\n  'private corruption',\n  'private sector',\n  'private sectors',\n  'procurement',\n  'professional ethics',\n  'prohibition',\n  'prosecute',\n  'prosecution',\n  'public',\n  'public bribery',\n  'public contracts',\n  'public institution',\n  'public invitations to tender',\n  'public sector',\n  'punishable',\n  'punishes',\n  'purchasing director',\n  'ras',\n  'ras -',\n  'ras-blocker',\n  'readmissions',\n  'reclaim',\n  'recognitions',\n  'reduced',\n  'reduced ejection fraction',\n  'ref',\n  'registration for transfers of ownership',\n  'regulations',\n  'renin-angiotensin system',\n  'renin-angiotensin system blocker',\n  'report',\n  'rights',\n  'rome',\n  'royal decree',\n  'royal decrees',\n  'rules',\n  'rules of conduct',\n  'saddam hussein',\n  'salary',\n  'san francisco',\n  'service for criminal policy',\n  'significant',\n  'significantly',\n  'slush money',\n  'small and medium-sized enterprises11',\n  'sme',\n  'society',\n  'statutory',\n  'subcontracts',\n  'subsidies',\n  'subsidy laws',\n  'tactless',\n  'tax legislation',\n  'termination of a contract',\n  'therapy',\n  'third party',\n  'trade',\n  'trade organization',\n  'trade union',\n  'trading',\n  'transactions',\n  'transparency international',\n  'transparency international belgium',\n  'transparent',\n  'un',\n  'un corruption',\n  'united nations convention against corruption',\n  'united nations global compact',\n  'us',\n  'usa',\n  'usufruct',\n  'world bank',\n  'wto',\n  'î²-blocker'},\n {'%',\n  'ambulatory patients',\n  'beta blocker therapy',\n  'better renal function',\n  'clinical outcome',\n  'composite end point',\n  'consecutive patients',\n  'dose changes',\n  'dose increase',\n  'fraction',\n  'fractions',\n  'hf hospitalization',\n  'hf readmissions',\n  'higher heart rate',\n  'hospital admission',\n  'ras blocker uptitration',\n  'renin angiotensin system',\n  'renin angiotensin system blocker',\n  'significant reductions',\n  'spironolactone use',\n  'younger patients',\n  'â‰¥10 %',\n  'â‰¥40 %'})"
     },
     "execution_count": 15,
     "metadata": {},
     "output_type": "execute_result"
    }
   ],
   "source": [
    "os.chdir(folder_name)\n",
    "whole_true_terms=[]\n",
    "whole_extracted_terms=[]\n",
    "results=[]\n",
    "for text_file_name, term_file_name in file_tuples:\n",
    "    true_terms, extracted_terms, precision, recall, f1_score, true_detections, false_gaps, false_detections=test_file(text_file_name, term_file_name)\n",
    "    results.append((true_terms, extracted_terms, precision, recall, f1_score, true_detections, false_gaps, false_detections ))\n",
    "    print('____________________________________________________________________\\n')\n",
    "    whole_true_terms+=true_terms\n",
    "    whole_extracted_terms=extracted_terms\n",
    "print('___________________________TOTAL_________________________________________\\n')\n",
    "whole_true_terms=set(whole_true_terms)\n",
    "whole_extracted_terms=set(whole_extracted_terms)\n",
    "print('total result')\n",
    "report(whole_true_terms, whole_extracted_terms)"
   ],
   "metadata": {
    "collapsed": false,
    "ExecuteTime": {
     "end_time": "2023-11-06T05:33:53.301047200Z",
     "start_time": "2023-11-06T05:33:41.706686400Z"
    }
   },
   "id": "f07c640dc1e74e39"
  },
  {
   "cell_type": "code",
   "execution_count": 16,
   "outputs": [],
   "source": [
    "os.chdir('..')\n"
   ],
   "metadata": {
    "collapsed": false,
    "ExecuteTime": {
     "end_time": "2023-11-06T05:33:53.304850800Z",
     "start_time": "2023-11-06T05:33:53.302671100Z"
    }
   },
   "id": "2bb33be2aa83c996"
  },
  {
   "cell_type": "code",
   "execution_count": 16,
   "outputs": [],
   "source": [],
   "metadata": {
    "collapsed": false,
    "ExecuteTime": {
     "end_time": "2023-11-06T05:33:53.308071600Z",
     "start_time": "2023-11-06T05:33:53.305907100Z"
    }
   },
   "id": "fa44f4fdf3a91839"
  }
 ],
 "metadata": {
  "kernelspec": {
   "display_name": "Python 3",
   "language": "python",
   "name": "python3"
  },
  "language_info": {
   "codemirror_mode": {
    "name": "ipython",
    "version": 2
   },
   "file_extension": ".py",
   "mimetype": "text/x-python",
   "name": "python",
   "nbconvert_exporter": "python",
   "pygments_lexer": "ipython2",
   "version": "2.7.6"
  }
 },
 "nbformat": 4,
 "nbformat_minor": 5
}
