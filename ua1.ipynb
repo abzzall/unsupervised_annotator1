{
 "cells": [
  {
   "cell_type": "markdown",
   "source": [
    "Installing necessary modules and run necessary scripts"
   ],
   "metadata": {
    "collapsed": false
   },
   "id": "5d84faeb83ad2746"
  },
  {
   "cell_type": "code",
   "execution_count": 1,
   "outputs": [
    {
     "data": {
      "text/plain": "['Looking in indexes: https://download.pytorch.org/whl/cu121',\n 'Requirement already satisfied: torch in c:\\\\users\\\\qyzyr\\\\onedrive\\\\documents\\\\project_nlp\\\\unsupervised_annotator1\\\\venv\\\\lib\\\\site-packages (2.1.0+cu121)',\n 'Requirement already satisfied: torchvision in c:\\\\users\\\\qyzyr\\\\onedrive\\\\documents\\\\project_nlp\\\\unsupervised_annotator1\\\\venv\\\\lib\\\\site-packages (0.16.0+cu121)',\n 'Requirement already satisfied: torchaudio in c:\\\\users\\\\qyzyr\\\\onedrive\\\\documents\\\\project_nlp\\\\unsupervised_annotator1\\\\venv\\\\lib\\\\site-packages (2.1.0+cu121)',\n 'Requirement already satisfied: filelock in c:\\\\users\\\\qyzyr\\\\onedrive\\\\documents\\\\project_nlp\\\\unsupervised_annotator1\\\\venv\\\\lib\\\\site-packages (from torch) (3.12.3)',\n 'Requirement already satisfied: typing-extensions in c:\\\\users\\\\qyzyr\\\\onedrive\\\\documents\\\\project_nlp\\\\unsupervised_annotator1\\\\venv\\\\lib\\\\site-packages (from torch) (4.7.1)',\n 'Requirement already satisfied: sympy in c:\\\\users\\\\qyzyr\\\\onedrive\\\\documents\\\\project_nlp\\\\unsupervised_annotator1\\\\venv\\\\lib\\\\site-packages (from torch) (1.12)',\n 'Requirement already satisfied: networkx in c:\\\\users\\\\qyzyr\\\\onedrive\\\\documents\\\\project_nlp\\\\unsupervised_annotator1\\\\venv\\\\lib\\\\site-packages (from torch) (3.1)',\n 'Requirement already satisfied: jinja2 in c:\\\\users\\\\qyzyr\\\\onedrive\\\\documents\\\\project_nlp\\\\unsupervised_annotator1\\\\venv\\\\lib\\\\site-packages (from torch) (3.1.2)',\n 'Requirement already satisfied: fsspec in c:\\\\users\\\\qyzyr\\\\onedrive\\\\documents\\\\project_nlp\\\\unsupervised_annotator1\\\\venv\\\\lib\\\\site-packages (from torch) (2023.9.0)',\n 'Requirement already satisfied: numpy in c:\\\\users\\\\qyzyr\\\\onedrive\\\\documents\\\\project_nlp\\\\unsupervised_annotator1\\\\venv\\\\lib\\\\site-packages (from torchvision) (1.25.2)',\n 'Requirement already satisfied: requests in c:\\\\users\\\\qyzyr\\\\onedrive\\\\documents\\\\project_nlp\\\\unsupervised_annotator1\\\\venv\\\\lib\\\\site-packages (from torchvision) (2.31.0)',\n 'Requirement already satisfied: pillow!=8.3.*,>=5.3.0 in c:\\\\users\\\\qyzyr\\\\onedrive\\\\documents\\\\project_nlp\\\\unsupervised_annotator1\\\\venv\\\\lib\\\\site-packages (from torchvision) (10.0.0)',\n 'Requirement already satisfied: MarkupSafe>=2.0 in c:\\\\users\\\\qyzyr\\\\onedrive\\\\documents\\\\project_nlp\\\\unsupervised_annotator1\\\\venv\\\\lib\\\\site-packages (from jinja2->torch) (2.1.3)',\n 'Requirement already satisfied: charset-normalizer<4,>=2 in c:\\\\users\\\\qyzyr\\\\onedrive\\\\documents\\\\project_nlp\\\\unsupervised_annotator1\\\\venv\\\\lib\\\\site-packages (from requests->torchvision) (3.2.0)',\n 'Requirement already satisfied: idna<4,>=2.5 in c:\\\\users\\\\qyzyr\\\\onedrive\\\\documents\\\\project_nlp\\\\unsupervised_annotator1\\\\venv\\\\lib\\\\site-packages (from requests->torchvision) (3.4)',\n 'Requirement already satisfied: urllib3<3,>=1.21.1 in c:\\\\users\\\\qyzyr\\\\onedrive\\\\documents\\\\project_nlp\\\\unsupervised_annotator1\\\\venv\\\\lib\\\\site-packages (from requests->torchvision) (2.0.4)',\n 'Requirement already satisfied: certifi>=2017.4.17 in c:\\\\users\\\\qyzyr\\\\onedrive\\\\documents\\\\project_nlp\\\\unsupervised_annotator1\\\\venv\\\\lib\\\\site-packages (from requests->torchvision) (2023.7.22)',\n 'Requirement already satisfied: mpmath>=0.19 in c:\\\\users\\\\qyzyr\\\\onedrive\\\\documents\\\\project_nlp\\\\unsupervised_annotator1\\\\venv\\\\lib\\\\site-packages (from sympy->torch) (1.3.0)']"
     },
     "execution_count": 1,
     "metadata": {},
     "output_type": "execute_result"
    }
   ],
   "source": [
    "from torch import Tensor\n",
    "!!pip install torch torchvision torchaudio --index-url https://download.pytorch.org/whl/cu121"
   ],
   "metadata": {
    "collapsed": false,
    "ExecuteTime": {
     "end_time": "2023-11-26T18:26:37.554962300Z",
     "start_time": "2023-11-26T18:26:29.021632800Z"
    }
   },
   "id": "fc1fc3aea952fb9c"
  },
  {
   "cell_type": "code",
   "execution_count": 2,
   "outputs": [],
   "source": [
    "import torch\n",
    "device = torch.device(\"cuda\" if torch.cuda.is_available() else \"cpu\")\n"
   ],
   "metadata": {
    "collapsed": false,
    "ExecuteTime": {
     "end_time": "2023-11-26T18:26:38.803089600Z",
     "start_time": "2023-11-26T18:26:38.800902500Z"
    }
   },
   "id": "752767abe5f7ecd0"
  },
  {
   "cell_type": "code",
   "execution_count": 3,
   "outputs": [
    {
     "data": {
      "text/plain": "['Requirement already satisfied: sentence-transformers in c:\\\\users\\\\qyzyr\\\\onedrive\\\\documents\\\\project_nlp\\\\unsupervised_annotator1\\\\venv\\\\lib\\\\site-packages (2.2.2)',\n 'Requirement already satisfied: transformers<5.0.0,>=4.6.0 in c:\\\\users\\\\qyzyr\\\\onedrive\\\\documents\\\\project_nlp\\\\unsupervised_annotator1\\\\venv\\\\lib\\\\site-packages (from sentence-transformers) (4.33.0)',\n 'Requirement already satisfied: tqdm in c:\\\\users\\\\qyzyr\\\\onedrive\\\\documents\\\\project_nlp\\\\unsupervised_annotator1\\\\venv\\\\lib\\\\site-packages (from sentence-transformers) (4.66.1)',\n 'Requirement already satisfied: torch>=1.6.0 in c:\\\\users\\\\qyzyr\\\\onedrive\\\\documents\\\\project_nlp\\\\unsupervised_annotator1\\\\venv\\\\lib\\\\site-packages (from sentence-transformers) (2.1.0+cu121)',\n 'Requirement already satisfied: torchvision in c:\\\\users\\\\qyzyr\\\\onedrive\\\\documents\\\\project_nlp\\\\unsupervised_annotator1\\\\venv\\\\lib\\\\site-packages (from sentence-transformers) (0.16.0+cu121)',\n 'Requirement already satisfied: numpy in c:\\\\users\\\\qyzyr\\\\onedrive\\\\documents\\\\project_nlp\\\\unsupervised_annotator1\\\\venv\\\\lib\\\\site-packages (from sentence-transformers) (1.25.2)',\n 'Requirement already satisfied: scikit-learn in c:\\\\users\\\\qyzyr\\\\onedrive\\\\documents\\\\project_nlp\\\\unsupervised_annotator1\\\\venv\\\\lib\\\\site-packages (from sentence-transformers) (1.3.0)',\n 'Requirement already satisfied: scipy in c:\\\\users\\\\qyzyr\\\\onedrive\\\\documents\\\\project_nlp\\\\unsupervised_annotator1\\\\venv\\\\lib\\\\site-packages (from sentence-transformers) (1.11.2)',\n 'Requirement already satisfied: nltk in c:\\\\users\\\\qyzyr\\\\onedrive\\\\documents\\\\project_nlp\\\\unsupervised_annotator1\\\\venv\\\\lib\\\\site-packages (from sentence-transformers) (3.8.1)',\n 'Requirement already satisfied: sentencepiece in c:\\\\users\\\\qyzyr\\\\onedrive\\\\documents\\\\project_nlp\\\\unsupervised_annotator1\\\\venv\\\\lib\\\\site-packages (from sentence-transformers) (0.1.99)',\n 'Requirement already satisfied: huggingface-hub>=0.4.0 in c:\\\\users\\\\qyzyr\\\\onedrive\\\\documents\\\\project_nlp\\\\unsupervised_annotator1\\\\venv\\\\lib\\\\site-packages (from sentence-transformers) (0.16.4)',\n 'Requirement already satisfied: filelock in c:\\\\users\\\\qyzyr\\\\onedrive\\\\documents\\\\project_nlp\\\\unsupervised_annotator1\\\\venv\\\\lib\\\\site-packages (from huggingface-hub>=0.4.0->sentence-transformers) (3.12.3)',\n 'Requirement already satisfied: fsspec in c:\\\\users\\\\qyzyr\\\\onedrive\\\\documents\\\\project_nlp\\\\unsupervised_annotator1\\\\venv\\\\lib\\\\site-packages (from huggingface-hub>=0.4.0->sentence-transformers) (2023.9.0)',\n 'Requirement already satisfied: requests in c:\\\\users\\\\qyzyr\\\\onedrive\\\\documents\\\\project_nlp\\\\unsupervised_annotator1\\\\venv\\\\lib\\\\site-packages (from huggingface-hub>=0.4.0->sentence-transformers) (2.31.0)',\n 'Requirement already satisfied: pyyaml>=5.1 in c:\\\\users\\\\qyzyr\\\\onedrive\\\\documents\\\\project_nlp\\\\unsupervised_annotator1\\\\venv\\\\lib\\\\site-packages (from huggingface-hub>=0.4.0->sentence-transformers) (6.0.1)',\n 'Requirement already satisfied: typing-extensions>=3.7.4.3 in c:\\\\users\\\\qyzyr\\\\onedrive\\\\documents\\\\project_nlp\\\\unsupervised_annotator1\\\\venv\\\\lib\\\\site-packages (from huggingface-hub>=0.4.0->sentence-transformers) (4.7.1)',\n 'Requirement already satisfied: packaging>=20.9 in c:\\\\users\\\\qyzyr\\\\onedrive\\\\documents\\\\project_nlp\\\\unsupervised_annotator1\\\\venv\\\\lib\\\\site-packages (from huggingface-hub>=0.4.0->sentence-transformers) (23.1)',\n 'Requirement already satisfied: sympy in c:\\\\users\\\\qyzyr\\\\onedrive\\\\documents\\\\project_nlp\\\\unsupervised_annotator1\\\\venv\\\\lib\\\\site-packages (from torch>=1.6.0->sentence-transformers) (1.12)',\n 'Requirement already satisfied: networkx in c:\\\\users\\\\qyzyr\\\\onedrive\\\\documents\\\\project_nlp\\\\unsupervised_annotator1\\\\venv\\\\lib\\\\site-packages (from torch>=1.6.0->sentence-transformers) (3.1)',\n 'Requirement already satisfied: jinja2 in c:\\\\users\\\\qyzyr\\\\onedrive\\\\documents\\\\project_nlp\\\\unsupervised_annotator1\\\\venv\\\\lib\\\\site-packages (from torch>=1.6.0->sentence-transformers) (3.1.2)',\n 'Requirement already satisfied: colorama in c:\\\\users\\\\qyzyr\\\\onedrive\\\\documents\\\\project_nlp\\\\unsupervised_annotator1\\\\venv\\\\lib\\\\site-packages (from tqdm->sentence-transformers) (0.4.6)',\n 'Requirement already satisfied: regex!=2019.12.17 in c:\\\\users\\\\qyzyr\\\\onedrive\\\\documents\\\\project_nlp\\\\unsupervised_annotator1\\\\venv\\\\lib\\\\site-packages (from transformers<5.0.0,>=4.6.0->sentence-transformers) (2023.8.8)',\n 'Requirement already satisfied: tokenizers!=0.11.3,<0.14,>=0.11.1 in c:\\\\users\\\\qyzyr\\\\onedrive\\\\documents\\\\project_nlp\\\\unsupervised_annotator1\\\\venv\\\\lib\\\\site-packages (from transformers<5.0.0,>=4.6.0->sentence-transformers) (0.13.3)',\n 'Requirement already satisfied: safetensors>=0.3.1 in c:\\\\users\\\\qyzyr\\\\onedrive\\\\documents\\\\project_nlp\\\\unsupervised_annotator1\\\\venv\\\\lib\\\\site-packages (from transformers<5.0.0,>=4.6.0->sentence-transformers) (0.3.3)',\n 'Requirement already satisfied: click in c:\\\\users\\\\qyzyr\\\\onedrive\\\\documents\\\\project_nlp\\\\unsupervised_annotator1\\\\venv\\\\lib\\\\site-packages (from nltk->sentence-transformers) (8.1.7)',\n 'Requirement already satisfied: joblib in c:\\\\users\\\\qyzyr\\\\onedrive\\\\documents\\\\project_nlp\\\\unsupervised_annotator1\\\\venv\\\\lib\\\\site-packages (from nltk->sentence-transformers) (1.3.2)',\n 'Requirement already satisfied: threadpoolctl>=2.0.0 in c:\\\\users\\\\qyzyr\\\\onedrive\\\\documents\\\\project_nlp\\\\unsupervised_annotator1\\\\venv\\\\lib\\\\site-packages (from scikit-learn->sentence-transformers) (3.2.0)',\n 'Requirement already satisfied: pillow!=8.3.*,>=5.3.0 in c:\\\\users\\\\qyzyr\\\\onedrive\\\\documents\\\\project_nlp\\\\unsupervised_annotator1\\\\venv\\\\lib\\\\site-packages (from torchvision->sentence-transformers) (10.0.0)',\n 'Requirement already satisfied: MarkupSafe>=2.0 in c:\\\\users\\\\qyzyr\\\\onedrive\\\\documents\\\\project_nlp\\\\unsupervised_annotator1\\\\venv\\\\lib\\\\site-packages (from jinja2->torch>=1.6.0->sentence-transformers) (2.1.3)',\n 'Requirement already satisfied: charset-normalizer<4,>=2 in c:\\\\users\\\\qyzyr\\\\onedrive\\\\documents\\\\project_nlp\\\\unsupervised_annotator1\\\\venv\\\\lib\\\\site-packages (from requests->huggingface-hub>=0.4.0->sentence-transformers) (3.2.0)',\n 'Requirement already satisfied: idna<4,>=2.5 in c:\\\\users\\\\qyzyr\\\\onedrive\\\\documents\\\\project_nlp\\\\unsupervised_annotator1\\\\venv\\\\lib\\\\site-packages (from requests->huggingface-hub>=0.4.0->sentence-transformers) (3.4)',\n 'Requirement already satisfied: urllib3<3,>=1.21.1 in c:\\\\users\\\\qyzyr\\\\onedrive\\\\documents\\\\project_nlp\\\\unsupervised_annotator1\\\\venv\\\\lib\\\\site-packages (from requests->huggingface-hub>=0.4.0->sentence-transformers) (2.0.4)',\n 'Requirement already satisfied: certifi>=2017.4.17 in c:\\\\users\\\\qyzyr\\\\onedrive\\\\documents\\\\project_nlp\\\\unsupervised_annotator1\\\\venv\\\\lib\\\\site-packages (from requests->huggingface-hub>=0.4.0->sentence-transformers) (2023.7.22)',\n 'Requirement already satisfied: mpmath>=0.19 in c:\\\\users\\\\qyzyr\\\\onedrive\\\\documents\\\\project_nlp\\\\unsupervised_annotator1\\\\venv\\\\lib\\\\site-packages (from sympy->torch>=1.6.0->sentence-transformers) (1.3.0)']"
     },
     "execution_count": 3,
     "metadata": {},
     "output_type": "execute_result"
    }
   ],
   "source": [
    "!! pip install spacy\n",
    "!! python -m spacy download en_core_web_sm\n",
    "!!pip install sentence-transformers"
   ],
   "metadata": {
    "collapsed": false,
    "ExecuteTime": {
     "end_time": "2023-11-26T18:26:59.107941300Z",
     "start_time": "2023-11-26T18:26:38.805287100Z"
    }
   },
   "id": "bb705793e4eb5a48"
  },
  {
   "cell_type": "markdown",
   "source": [
    "Importing modules"
   ],
   "metadata": {
    "collapsed": false
   },
   "id": "c44ac7a7abe1cd78"
  },
  {
   "cell_type": "code",
   "execution_count": 3,
   "outputs": [],
   "source": [],
   "metadata": {
    "collapsed": false,
    "ExecuteTime": {
     "end_time": "2023-11-26T18:26:59.108924Z",
     "start_time": "2023-11-26T18:26:59.104657500Z"
    }
   },
   "id": "4c8012774715791e"
  },
  {
   "cell_type": "code",
   "execution_count": 4,
   "outputs": [],
   "source": [
    "import spacy\n",
    "from spacy.tokenizer import Tokenizer\n",
    "from spacy.util import compile_infix_regex\n",
    "spacy.prefer_gpu()\n",
    "\n",
    "# Load the language model\n",
    "nlp = spacy.load('en_core_web_sm')\n",
    "# Remove hyphen from the default infix patterns\n",
    "infixes = [pattern for pattern in nlp.Defaults.infixes if pattern != r\"-\"]\n",
    "infix_regex = compile_infix_regex(infixes)\n",
    "nlp.tokenizer.infix_finditer = infix_regex.finditer\n",
    "from sentence_transformers import SentenceTransformer\n",
    "# model = SentenceTransformer('distilbert-base-nli-mean-tokens', device=device)\n",
    "# model = SentenceTransformer('deberta-v3-base', device=device)\n",
    "model = SentenceTransformer('all-MiniLM-L6-v2', device=device)\n",
    "\n",
    "from sentence_transformers import SentenceTransformer, util\n",
    "from typing import List\n",
    "from transformers import BertTokenizer\n",
    "\n",
    "# Initialize the BERT tokenizer\n",
    "tokenizer = BertTokenizer.from_pretrained(\"bert-base-uncased\")"
   ],
   "metadata": {
    "collapsed": false,
    "ExecuteTime": {
     "end_time": "2023-11-26T18:27:03.470992100Z",
     "start_time": "2023-11-26T18:26:59.110080500Z"
    }
   },
   "id": "7c57129dab585428"
  },
  {
   "cell_type": "code",
   "execution_count": 5,
   "outputs": [],
   "source": [
    "from collections import namedtuple\n",
    "CandidateMWE = namedtuple('CandidateMWE',['text','head', 'sentence','self_encode', 'sent_encode'])\n",
    "CandidateW=namedtuple('CandidateW',['text','lemma', 'self_encode' ])\n",
    "# Term=namedtuple('Term',['text','detected' ])"
   ],
   "metadata": {
    "collapsed": false,
    "ExecuteTime": {
     "end_time": "2023-11-26T18:27:03.478069300Z",
     "start_time": "2023-11-26T18:27:03.472184300Z"
    }
   },
   "id": "ca195029b0d8acd3"
  },
  {
   "cell_type": "markdown",
   "source": [
    "creating functions"
   ],
   "metadata": {
    "collapsed": false
   },
   "id": "1f1a8e78a4e42d9f"
  },
  {
   "cell_type": "code",
   "execution_count": 18,
   "outputs": [],
   "source": [
    "def parse_candidates(text:str):\n",
    "        # Remove the default rule that splits on hyphens\n",
    "    infixes = [pattern for pattern in nlp.Defaults.infixes if \"-\" not in pattern]\n",
    "    infix_regex = compile_infix_regex(infixes)\n",
    "    nlp.tokenizer.infix_finditer = infix_regex.finditer\n",
    "    # Process the text with spaCy\n",
    "    doc = nlp(text)\n",
    "    \n",
    "    # Extract MWEs (noun phrases) from the text\n",
    "    mwe_list = []\n",
    "    single_noun_list=dict()\n",
    "    candidate_list=[]\n",
    "    for sent in doc.sents:\n",
    "        sent_encode=model.encode(sent.text, convert_to_tensor=True).to(device)\n",
    "        for chunk in sent.noun_chunks:\n",
    "            is_candidate=False\n",
    "            word_count=0\n",
    "            # mwe_list.append(chunk.text)\n",
    "            if len(chunk.text.split()) > 1:\n",
    "                noun_appeared=False\n",
    "                is_candidate=True\n",
    "                cleared_candidate=''\n",
    "                for word in chunk:\n",
    "                    if word.text == '-':\n",
    "                        cleared_candidate+='-'\n",
    "                        continue\n",
    "                    #IGNORING\n",
    "                    if word.pos_ in ['PUNCT', 'ADP', 'DET']:\n",
    "                        continue\n",
    "                    elif word.pos_ not in ['ADJ', 'PROPN', 'NOUN']:\n",
    "                        is_candidate=False\n",
    "                        # print(f'{chunk.text} is not candidate 1 {word.text} -- {word.pos_}')\n",
    "                        break\n",
    "                    elif word.pos_ in ['PROPN', 'NOUN']:\n",
    "                        noun_appeared=True\n",
    "                    elif not(not noun_appeared and word.pos_=='ADJ'):\n",
    "                        is_candidate=False\n",
    "                        # print(f'{chunk.text} is not candidate 2 {word.text} -- {word.pos_}, {noun_appeared}')\n",
    "                        break\n",
    "                    cleared_candidate+=word.text+' '\n",
    "                    word_count+=1\n",
    "            if is_candidate and word_count>1:\n",
    "                cleared_candidate=cleared_candidate.strip()\n",
    "                candidate_list.append(CandidateMWE(cleared_candidate, chunk.root.text, sent.text, model.encode(cleared_candidate, convert_to_tensor=True).to(device), sent_encode))\n",
    "                # print(f'Added candicate expression: {cleared_candidate}')\n",
    "            else:\n",
    "                \n",
    "                # print(f'Added candidate words from : {chunk.text}')    \n",
    "                for word in chunk:\n",
    "                    if word.pos_ in ['NOUN', 'PROPN']:\n",
    "                        single_noun_list[word.text]=  CandidateW(word.text, word.lemma_, model.encode(word.text))\n",
    "                        # print(word.text)    \n",
    "    return candidate_list, single_noun_list.values()"
   ],
   "metadata": {
    "collapsed": false,
    "ExecuteTime": {
     "end_time": "2023-11-26T18:30:35.278080800Z",
     "start_time": "2023-11-26T18:30:35.256258400Z"
    }
   },
   "id": "a9c58471f3da86bf"
  },
  {
   "cell_type": "code",
   "execution_count": 19,
   "outputs": [],
   "source": [
    "\n",
    "\n",
    "def parse_candidates_new(text:str):  \n",
    "    # Remove the default rule that splits on hyphens\n",
    "    infixes = [pattern for pattern in nlp.Defaults.infixes if \"-\" not in pattern]\n",
    "    infix_regex = compile_infix_regex(infixes)\n",
    "    nlp.tokenizer.infix_finditer = infix_regex.finditer\n",
    "    # Process the text with spaCy\n",
    "    doc = nlp(text)\n",
    "    \n",
    "    # Extract MWEs (noun phrases) from the text\n",
    "    mwe_list = []\n",
    "    single_noun_list=dict()\n",
    "    candidate_list=[]\n",
    "    for sent in doc.sents:\n",
    "        sent_encode=model.encode(sent.text, convert_to_tensor=True).to(device)\n",
    "        temp_list=[]\n",
    "        for word in sent:\n",
    "            if word.pos_ in ['ADJ']:#DET ADP\n",
    "                temp_list.append(word)\n",
    "            elif word.pos_ in ['NOUN', 'PROPN']:\n",
    "                single_noun_list[word.text]=  CandidateW(word.text, word.lemma_, model.encode(word.text))\n",
    "                temp_list.append(word)\n",
    "                for i in range(1, len(temp_list)):\n",
    "                    # cleared_candidate=' '.join(temp_list[-i-1:])\n",
    "                    chunk=doc[temp_list[-i-1].i:temp_list[-1].i+1]\n",
    "                    cleared_candidate=chunk.text\n",
    "                    candidate_list.append(CandidateMWE(cleared_candidate, chunk.root.text, sent.text, model.encode(cleared_candidate, convert_to_tensor=True).to(device), sent_encode))\n",
    "            else:\n",
    "                temp_list=[]\n",
    "                    \n",
    "\n",
    "    return candidate_list, single_noun_list.values()"
   ],
   "metadata": {
    "collapsed": false,
    "ExecuteTime": {
     "end_time": "2023-11-26T18:30:36.326703200Z",
     "start_time": "2023-11-26T18:30:36.311820900Z"
    }
   },
   "id": "2f5b43459d6dbd2d"
  },
  {
   "cell_type": "code",
   "execution_count": 20,
   "outputs": [],
   "source": [
    "def dist(wi_encode, wj_encode):\n",
    "    return util.pytorch_cos_sim(\n",
    "        wi_encode,\n",
    "        wj_encode\n",
    "    )\n",
    "def calculate_topic_score(expression_embedding, sentence_embedding)->float:\n",
    "    \"\"\"\n",
    "    Calculate the topic score between a multiword expression and a sentence.\n",
    "\n",
    "    Args:\n",
    "        multiword_expression (str): The multiword expression.\n",
    "        sentence (str): The sentence containing the expression.\n",
    "\n",
    "    Returns:\n",
    "        float: The topic score (cosine similarity) between the two embeddings.\n",
    "    \"\"\"\n",
    "    # Load the distilbert-base-nli-mean-tokens model\n",
    "\n",
    "    # Encode the multiword expression and sentence into embeddings\n",
    "    # expression_embedding = model.encode(multiword_expression, convert_to_tensor=True)\n",
    "    # sentence_embedding = model.encode(sentence, convert_to_tensor=True)\n",
    "\n",
    "    # Calculate cosine similarity between the two embeddings\n",
    "    similarity_score = util.pytorch_cos_sim(expression_embedding, sentence_embedding)\n",
    "\n",
    "    # Extract the cosine similarity value from the tensor\n",
    "    topic_score = similarity_score[0].item()\n",
    "\n",
    "    return topic_score\n",
    "\n",
    "\n",
    "def calculate_specificity_score(mw:CandidateMWE, full_encode:Tensor)->float:\n",
    "    \"\"\"\n",
    "    Calculate the specificity score (SP) between a multiword expression (mw) and a list of words/multiword expressions (w).\n",
    "\n",
    "    Args:\n",
    "        mw (str): The multiword expression.\n",
    "        w (list of str): The list of words/multiword expressions in the context.\n",
    "\n",
    "    Returns:\n",
    "        float: The specificity score (SP).\n",
    "    \"\"\"\n",
    "    # Load the distilbert-base-nli-mean-tokens model\n",
    "    # Calculate distances between mw and each word/phrase in w\n",
    "    distances = dist(mw.self_encode,full_encode)\n",
    "\n",
    "    # Calculate the mean of the distances\n",
    "    specificity_score = distances.mean().item()\n",
    "    \n",
    "\n",
    "    return specificity_score\n"
   ],
   "metadata": {
    "collapsed": false,
    "ExecuteTime": {
     "end_time": "2023-11-26T18:30:37.109765600Z",
     "start_time": "2023-11-26T18:30:37.092142700Z"
    }
   },
   "id": "550e916cd76d4fc9"
  },
  {
   "cell_type": "code",
   "execution_count": 21,
   "outputs": [],
   "source": [
    "def detect_mw_terms(candidate_list:List[CandidateMWE], TSP:float = 0.05, Ttopic:float = 0.1)->List[CandidateMWE]:    \n",
    "            \n",
    "    full_encode= torch.stack([wi.self_encode for wi in candidate_list], dim=0)    \n",
    "    \n",
    "    temp_candidate = []\n",
    "    for candidate in candidate_list:\n",
    "        topic_score = calculate_topic_score(candidate.self_encode, candidate.sent_encode)\n",
    "        sp_score=calculate_specificity_score(candidate, full_encode)\n",
    "        if topic_score > Ttopic and sp_score > TSP:\n",
    "            temp_candidate.append(candidate)\n",
    "            # print(f'Added \"{candidate.text}\" topic score {topic_score}, specifity score {sp_score}')\n",
    "\n",
    "    return temp_candidate"
   ],
   "metadata": {
    "collapsed": false,
    "ExecuteTime": {
     "end_time": "2023-11-26T18:30:37.903487700Z",
     "start_time": "2023-11-26T18:30:37.879479Z"
    }
   },
   "id": "2d085eeb13426a1d"
  },
  {
   "cell_type": "code",
   "execution_count": 22,
   "outputs": [],
   "source": [
    "def detect_single_noun_terms(term_mws:List[CandidateMWE], single_noun_list:List[CandidateW], subtoken_threshold:int=4)->List[CandidateW]:    \n",
    "    term_nouns=[]\n",
    "    for candidate in single_noun_list:\n",
    "        #Check if the lemma of the noun is the same as any of the heads of the multiword expressions.\n",
    "        is_term=False\n",
    "        lemma_is_head=False\n",
    "        for term_mw in term_mws:\n",
    "            if term_mw.head==candidate.lemma:\n",
    "                is_term=True\n",
    "                term_nouns.append(candidate)\n",
    "                # print(f'\"{candidate.text}\" is added by lemma: \"{candidate.lemma}\" is head of \"{term_mw}\"')\n",
    "                break\n",
    "        if is_term:\n",
    "            continue\n",
    "        #segment the word using a subword-unit segmentation and a vocabulary trained over a large general purpose corpus.\n",
    "        subtokens=tokenizer.tokenize(candidate.text)\n",
    "        if len(subtokens)>subtoken_threshold:\n",
    "            term_nouns.append(candidate)\n",
    "            # print(f'{candidate.text} is added by subtokens count: {len(subtokens)}')\n",
    "    return term_nouns"
   ],
   "metadata": {
    "collapsed": false,
    "ExecuteTime": {
     "end_time": "2023-11-26T18:30:38.842824500Z",
     "start_time": "2023-11-26T18:30:38.738620500Z"
    }
   },
   "id": "682a0aaba8edf6ca"
  },
  {
   "cell_type": "markdown",
   "source": [
    "Calculate metrics(from https://colab.research.google.com/drive/1y9WM3MSAEwvODhMt0cMwJi24XIllrmaY?usp=sharing) "
   ],
   "metadata": {
    "collapsed": false
   },
   "id": "fe36b79e31abe8f1"
  },
  {
   "cell_type": "code",
   "execution_count": 23,
   "outputs": [],
   "source": [
    "def calculate_metrics(true_terms, extracted_terms):\n",
    "    true_positives = len(true_terms.intersection(extracted_terms))\n",
    "    false_positives = len(extracted_terms.difference(true_terms))\n",
    "    false_negatives = len(true_terms.difference(extracted_terms))\n",
    "\n",
    "    precision = true_positives / (true_positives + false_positives) if (true_positives + false_positives) != 0 else 0\n",
    "    recall = true_positives / (true_positives + false_negatives) if (true_positives + false_negatives) != 0 else 0\n",
    "    f1_score = 2 * (precision * recall) / (precision + recall) if (precision + recall) != 0 else 0\n",
    "\n",
    "    return precision, recall, f1_score\n",
    "\n",
    "def compare_sets(extracted_terms, true_terms):\n",
    "    true_detections = extracted_terms.intersection(true_terms)\n",
    "    false_gaps = true_terms.difference(extracted_terms)\n",
    "    false_detections = extracted_terms.difference(true_terms)\n",
    "\n",
    "    return true_detections, false_gaps, false_detections"
   ],
   "metadata": {
    "collapsed": false,
    "ExecuteTime": {
     "end_time": "2023-11-26T18:30:40.938821100Z",
     "start_time": "2023-11-26T18:30:40.932078900Z"
    }
   },
   "id": "9e2889ce9dd8b338"
  },
  {
   "cell_type": "code",
   "execution_count": 24,
   "outputs": [],
   "source": [
    "def report(true_terms, extracted_terms):\n",
    "    # Расчет метрик\n",
    "    precision, recall, f1_score = calculate_metrics(true_terms, extracted_terms)\n",
    "    \n",
    "    print(\"Precision:\", precision) #Точность\n",
    "    print(\"Recall:\", recall) #Полнота\n",
    "    print(\"F1 Score:\", f1_score)\n",
    "    # Выводит списки истинных обнаружений, ложных пропуски и ложных обнаружений\n",
    "    true_detections, false_gaps, false_detections = compare_sets(extracted_terms, true_terms)\n",
    "    \n",
    "    print(\"Истинные обнаружения:\", true_detections)\n",
    "    print(\"Ложные пропуски:\", false_gaps)\n",
    "    print(\"Ложные обнаружения:\", false_detections)\n",
    "    return precision, recall, f1_score, true_detections, false_gaps, false_detections "
   ],
   "metadata": {
    "collapsed": false,
    "ExecuteTime": {
     "end_time": "2023-11-26T18:30:41.823728500Z",
     "start_time": "2023-11-26T18:30:41.806912Z"
    }
   },
   "id": "5171f8f0a4386690"
  },
  {
   "cell_type": "code",
   "execution_count": 24,
   "outputs": [],
   "source": [],
   "metadata": {
    "collapsed": false,
    "ExecuteTime": {
     "end_time": "2023-11-26T18:30:42.932752100Z",
     "start_time": "2023-11-26T18:30:42.905483900Z"
    }
   },
   "id": "cb2a35c8f824c8c0"
  },
  {
   "cell_type": "markdown",
   "source": [
    "Testing in Folder"
   ],
   "metadata": {
    "collapsed": false
   },
   "id": "8ec79888dda3aa91"
  },
  {
   "cell_type": "code",
   "execution_count": 25,
   "outputs": [],
   "source": [
    "import os\n",
    "\n",
    "folder_name='tests'\n",
    "# Get a list of all files in the folder\n",
    "all_files = os.listdir(folder_name)\n",
    "\n",
    "# Initialize empty lists to store the tuples\n",
    "file_tuples = []\n",
    "\n",
    "# Iterate through the files in the folder\n",
    "for filename in all_files:\n",
    "    # Check if the file is a test file (starts with \"text_\")\n",
    "    if filename.startswith(\"text_\"):\n",
    "        # Construct the expected result filename by replacing \"text_\" with \"term_\"\n",
    "        result_filename = \"term_\" + filename[5:]\n",
    "        \n",
    "        # Check if the corresponding result file exists in the folder\n",
    "        if result_filename in all_files:\n",
    "            # Append the tuple to the list\n",
    "            file_tuples.append((filename, result_filename))"
   ],
   "metadata": {
    "collapsed": false,
    "ExecuteTime": {
     "end_time": "2023-11-26T18:30:44.586799500Z",
     "start_time": "2023-11-26T18:30:44.565283600Z"
    }
   },
   "id": "97d37b7434e321f3"
  },
  {
   "cell_type": "code",
   "execution_count": 26,
   "outputs": [
    {
     "data": {
      "text/plain": "[('text_1.txt', 'term_1.txt'),\n ('text_2.txt', 'term_2.txt'),\n ('text_4.txt', 'term_4.txt'),\n ('text_5.txt', 'term_5.txt'),\n ('text_6.txt', 'term_6.txt'),\n ('text_7.txt', 'term_7.txt')]"
     },
     "execution_count": 26,
     "metadata": {},
     "output_type": "execute_result"
    }
   ],
   "source": [
    "file_tuples"
   ],
   "metadata": {
    "collapsed": false,
    "ExecuteTime": {
     "end_time": "2023-11-26T18:30:45.753459400Z",
     "start_time": "2023-11-26T18:30:45.732826100Z"
    }
   },
   "id": "6533871b027572d7"
  },
  {
   "cell_type": "code",
   "execution_count": 27,
   "outputs": [],
   "source": [
    "def test_file(text_file_name, term_file_name):\n",
    "    print('____________________________________________________________________\\n')\n",
    "    print(f\"checking files: {text_file_name}, {term_file_name}\")    \n",
    "    text=''\n",
    "    with open(text_file_name) as text_file:\n",
    "        text=text_file.read()\n",
    "    print('_____________________________FIRST STEP_________________________________________')\n",
    "    candidate_list, single_noun_list=parse_candidates(text)\n",
    "    print('_____________________________SECOND STEP___________________________________________________')\n",
    "    term_mws=detect_mw_terms(candidate_list)\n",
    "    print('_____________________________THIRD STEP______________________________________________________________')\n",
    "    term_nouns=detect_single_noun_terms(term_mws, single_noun_list)\n",
    "    print('____________________________________TESTING__________________________________________________________________')\n",
    "    extracted_terms=set([txt.text.lower() for txt in term_mws+term_nouns])\n",
    "    with open(term_file_name) as term_file:\n",
    "        terms_str=term_file.read()\n",
    "    true_terms=set(terms_str.lower().split(', '))\n",
    "\n",
    "    precision, recall, f1_score, true_detections, false_gaps, false_detections = report(true_terms, extracted_terms)\n",
    "    return true_terms, extracted_terms, precision, recall, f1_score, true_detections, false_gaps, false_detections \n",
    " \n"
   ],
   "metadata": {
    "collapsed": false,
    "ExecuteTime": {
     "end_time": "2023-11-26T18:30:47.401178300Z",
     "start_time": "2023-11-26T18:30:47.396029Z"
    }
   },
   "id": "fae850ba26da2b19"
  },
  {
   "cell_type": "code",
   "execution_count": 28,
   "outputs": [
    {
     "name": "stdout",
     "output_type": "stream",
     "text": [
      "____________________________________________________________________\n",
      "\n",
      "checking files: text_1.txt, term_1.txt\n",
      "_____________________________FIRST STEP_________________________________________\n",
      "_____________________________SECOND STEP___________________________________________________\n",
      "_____________________________THIRD STEP______________________________________________________________\n",
      "____________________________________TESTING__________________________________________________________________\n",
      "Precision: 0.2671232876712329\n",
      "Recall: 0.2932330827067669\n",
      "F1 Score: 0.27956989247311825\n",
      "Истинные обнаружения: {'officials', 'criminal conspiracy', 'commercial dispute', 'civil servants', 'criminal code', 'grey areas', 'belgian criminal code', 'fighting corruption', 'integrity policy', 'public sector', 'corrupt practices', 'corruption risks', 'market', 'federal civil service', 'corrupt business practices', 'active corruption', 'united nations global compact', 'private sector', 'tax legislation', 'subsidy laws', 'custodial sentence', 'international market', 'development aid', 'enterprises', 'law', 'business community', 'ethical behaviour', 'moniteur belge', 'aggravating circumstances', 'criminal prosecution', 'misdemeanours', 'criminal proceedings', 'accounting irregularities', 'legal action', 'bribery', 'money laundering', 'ngo', 'ethical enterprise', 'criminal offences', 'advantage', 'corruption', 'public institution', 'government contracts', 'public bribery', 'slush money', 'european union', 'legal person', 'business relations', 'criminal abuses', 'anti-corruption policy', 'companies', 'laws', 'federal government departments', 'world bank', 'policy', 'private bribery', 'private corruption', 'third party', 'ex officio', 'transparency international', 'legal persons', 'police', 'criminal liability', 'corrupt behaviour', 'prosecution', 'company', 'misdemeanour', 'royal decree', 'corporate taxpayer', 'legal status', 'joint venture', 'government', 'professional ethics', 'general assembly', 'criminal law', 'political parties', 'public contracts', 'federal criminal investigation police'}\n",
      "Ложные пропуски: {'reclaim', 'transparent', 'statutory', 'small and medium-sized enterprises11', 'punishable', 'usufruct', 'criminal law convention on corruption', 'report', 'gpa', 'fraud', 'central office for the repression of corruption', 'framework of good practice', 'fine', 'iraq', 'blackmail', 'governments', 'police on web', 'penalization', 'payments', 'cream something off payments', 'penalty of imprisonment', 'enforcement', 'national security plan 2008 - 2011', 'chamber of commerce', 'legislation', 'office-holders', 'corruption-related', 'federation of enterprises in belgium', 'olaf', 'organisation for economic cooperation and development', 'network of expertise on economic ', 'investment', 'non-transparent', 'imprisonment', 'regulations', 'movable', 'double-checking', 'policy against corruption', 'criminally liable', 'public', 'board of public prosecutors-general', 'income tax law', 'judicial', 'natural persons', 'additional tenths', 'directorate for combating economic and financial crime', 'extortion', 'ethically', 'european commission', 'private sectors', 'costs', 'subcontracts', 'transactions', 'office for administrative ethics and deontology', 'immovable property', 'combating corruption', 'code of conduct', 'central department on combating corruption', 'compromise', 'rules of conduct', 'basis of tax assessment', 'society', 'goods', 'fight against corruption', 'corporate', 'icc belgium', 'count of corruption', 'prohibition', 'rules', 'civil law convention on corruption', 'civil', 'natural', 'foreign corrupt practices act', 'financial statements', 'trading', 'purchasing director', 'business', 'wto', 'financial and fiscal crime', 'commission', 'compliance', 'assets', 'licensing', 'bureau of official ethics and good practice', 'contracts', 'price', 'passive corruption', 'advantages', 'procurement', 'market procedures', 'trade organization', 'embezzle', 'off-books accounting', 'authorities', 'deducted', 'penalties', 'salary', 'convicted', 'fines', 'royal decrees', 'termination of a contract', 'corrupt', 'competition', 'oecd convention on combating bribery of foreign public officials in international business transactions', 'internet portal', 'levied', 'directives', 'anti-corruption', 'business contacts', 'corruption scandals', 'un corruption', 'agreement on government procurement', 'registration for transfers of ownership', 'legal', 'us', 'lawfully provided services', 'federal department of the budget', 'anti-bribery convention', 'blacklist', 'united nations convention against corruption', 'group of states against corruption', 'rights', 'pay', 'punishes', 'freedom of bidding', 'integrity', 'federal government department of justice', 'paying', 'criminality', 'malpractices', 'un', 'usa', 'convict', 'san francisco', \"employers ' organization\", 'eu', 'blacklists', 'businesses', 'service for criminal policy', 'icc', 'madrid', 'oecd', 'belgium', 'penalizes', 'business practices', 'council of europe', 'public invitations to tender', 'bribe', 'saddam hussein', 'board of directors', 'feb', 'paid', 'rome', 'contractors', 'fiscal', 'funding', 'intermediaries', 'trade union', 'prosecute', 'sme', 'federal police', 'bribing', 'transparency international belgium', 'liable', 'codes of conduct', 'distortion of competition', 'recognitions', 'trade', 'federal government department of the budget and management control', 'departments of government', 'anti-fraud', 'private', 'federal department of finance', 'greco', 'official', 'subsidies', 'commercial', 'auditing', 'american', 'passive bribery', 'active', 'network of expertise on corruption', 'markets', 'principal', 'corporate governance', 'tactless', 'contracting', 'misconduct'}\n",
      "Ложные обнаружения: {'certain contracting', 'good start', 'broad support', 'criminal policy', 'international business transactions', 'positions', 'preventive measures', 'other countries', 'normal business contacts', 'new act', 'belgian individuals', 'further development', 'belgian law', 'public prosecutors-general', 'foreign official', 'federal government department', 'office', 'group', 'first important steps', 'government procurement', 'public invitations', 'sound decisions', 'few dollars', 'delicate situations', 'support', 'sector', 'such risk countries', 'persons', 'voluntary principles', 'action', 'longer term', 'cross-border approach', 'practical guide', 'clear definition', 'american company', 'main ngo', 'oecd guidelines', 'future trends', 'fields', 'common framework', 'international level', 'various forms', 'certain countries', 'national level', 'icc rules', 'service', 'major international companies', 'federal government', 'sme edition', 'collective action guide', 'multi-disciplinary integrated method', 'levels', 'belgian government department', 'attention', 'other misdemeanour', 'liability', 'possible penalties', 'other methods', 'warning signs', 'transparency international business principles', 'sectors', 'sound companies', 'main measures', 'member states', 'best signal', 'late 1990s', 'role', 'alarm signals', 'list', 'country', 'information exchange', 'inter-departmental working group', 'such payments', 'local agents', 'department', 'regular integrity courses', 'recent years', 'powerful tool', 'network', 'main partners', 'departments', 'economic cooperation', 'framework', 'negative publicity', 'serious consequences', 'such conventions', 'www.fightingcorruption.org', 'practices', 'belgian government departments', 'foreign markets', 'international co-operation', 'firm line', 'closed doors', 'position', 'good management', 'early stage', 'secret agreement', 'corruptie voorkomen', 'best practices', 'international corporate integrity handbook', 'main international initiatives', 'special attention', 'noteworthy initiatives', 'publicity', 'responsible behaviour', 'consultancy agreements', 'criminal code articles', 'nearest belgian factory', 'firm legislation', 'oecd convention', 'public trust', 'belgian network', 'important tool', 'brief list', 'purpose', 'basic rules', 'edition', 'vulnerable position', 'adequate salary', 'other international regulations', 'amounts', 'belgian government', 'further information', 'severe penalties', 'foreign officials', 'co-operation', 'unremitting work', 'tactless civil servants', 'such behaviour', 'icc publication', 'main obstacle', 'international pressure', 'affected aspects', 'separate amount', 'sunny destination', 'sufficient time', 'practice', 'first global instrument', 'invaluable source', 'various levels', 'responsible management', 'commercial players', 'screen candidates', 'administrative ethics', 'corporate initiatives', 'various markets', 'clearest possible picture', 'official ethics', 'multinational enterprises', 'behaviour', 'technical support', 'civil aspects', 'prior knowledge', 'such advantage', 'preventive monitoring', 'person', 'other actions', 'assessments', 'united nations convention', 'international', 'such advantages', 'community', 'corruption prosecution policy', 'national governments', 'community rules', 'whole week', 'proper functioning', 'major reform', 'technical assistance', 'corruption-related issues', 'official context', 'regular contacts', 'systematic protection', 'tax assessment', 'certain country', 'other persons', 'strict evaluation mechanism', 'belgian federal government', 'trust', 'bank', 'certain royal decrees', 'foreign legislation', 'states', 'international markets', 'latter us legislation', 'pilot role', 'belgian companies', 'crisis situation head-on', 'corporate life', 'good practices', 'context', 'eu member states', 'main barriers', 'primary purpose', 'many years', 'national corruption scandals', 'foreign public officials', 'countries', 'good practice', 'central office', 'iraqi officials', 'method', 'international companies', 'incidental condition', 'inadequate legal means', 'clear procedures', 'belgian anti-corruption policy', 'awkward situations', 'convention', 'corporate financial statements', 'information', 'human rights', 'level playing field', 'federal civil servants'}\n",
      "____________________________________________________________________\n",
      "\n",
      "____________________________________________________________________\n",
      "\n",
      "checking files: text_2.txt, term_2.txt\n",
      "_____________________________FIRST STEP_________________________________________\n",
      "_____________________________SECOND STEP___________________________________________________\n",
      "_____________________________THIRD STEP______________________________________________________________\n",
      "____________________________________TESTING__________________________________________________________________\n",
      "Precision: 0.41025641025641024\n",
      "Recall: 0.3404255319148936\n",
      "F1 Score: 0.37209302325581395\n",
      "Истинные обнаружения: {'all-cause mortality', 'blood pressure', 'spironolactone', 'heart failure', 'hospitalization', 'uptitrations', 'neurohumoral blockers', 'heart rate', 'renin-angiotensin system', 'î²-blockers', 'renin-angiotensin system blocker', 'renal function', 'hazard ratio', 'uptitration', 'left ventricular ejection fraction', 'ras blockers'}\n",
      "Ложные пропуски: {'hospital', 'confidence interval', 'admission', 'pef', 'reduced ejection fraction', 'p', 'co-morbidity', 'hfpef', 'outcome', 'hf with preserved ejection fraction', 'ambulatory', 'readmissions', 'beta-blocker', 'significantly', 'reduced', 'î²-blocker', 'significant', 'therapy', 'preserved left ventricular ejection fractions', 'hr', 'hfref', 'clinical', 'ras-blocker', 'composite end-point', 'hf', 'ras -', 'ci', 'patients', 'hospitalized', 'ras', 'ref'}\n",
      "Ложные обнаружения: {'better renal function', '%', 'spironolactone use', 'â‰¥10 %', 'fraction', 'consecutive patients', 'â‰¥40 %', 'guideline-recommended target dose', 'dose', 'ambulatory patients', 'hospital admission', 'hf hospitalization', 'ras-blocker uptitration', 'fractions', 'dose changes', 'hf readmissions', 'low co-morbidity burden', 'beta-blocker therapy', 'higher heart rate', 'significant reductions', 'younger patients', 'dose increase', 'clinical outcome'}\n",
      "____________________________________________________________________\n",
      "\n",
      "____________________________________________________________________\n",
      "\n",
      "checking files: text_4.txt, term_4.txt\n",
      "_____________________________FIRST STEP_________________________________________\n",
      "_____________________________SECOND STEP___________________________________________________\n",
      "_____________________________THIRD STEP______________________________________________________________\n",
      "____________________________________TESTING__________________________________________________________________\n",
      "Precision: 0.14492753623188406\n",
      "Recall: 0.1388888888888889\n",
      "F1 Score: 0.14184397163120568\n",
      "Истинные обнаружения: {'personal interest', 'advisory committee', 'parliament', 'term', 'direct universal suffrage', 'public interest', 'internal appeal procedures', 'european parliament', 'third parties', 'financial interests'}\n",
      "Ложные пропуски: {'conflict of interest', 'advisory committee on the conduct of members', 'law', 'public policy', 'gifts', 'transparency', 'rapporteur', 'european union', 'principles of conduct', 'voting', 'report', 'legal', 'mandate', 'code of conduct', 'remunerated', 'compromise', 'companies', 'statute', 'company', 'natural person', 'rules of the procedure', 'expenses', 'conflicts of interest', 'vote', 'term of office', 'lobbying', 'rules', 'travel', 'unremunerated', 'legislation', 'breached', 'bribery', 'office-holders', 'integrity', 'reward', 'rules of procedure', 'voting freedom', 'payment', 'committee on constitutional affairs', 'income', 'accountability', 'elections', 'indirect financial benefit', 'subsistence expenses', 'rule', 'political', 'non - governmental organisations', 'accommodation', 'public', 'disinterest', 'declaration of financial interests', 'remuneration', 'breaches', 'penalty', 'resolution', 'corruption', 'reimbursement', 'direct', 'salary', 'financial', 'breach', 'committee on legal affairs'}\n",
      "Ложные обнаружения: {'direct payment', 'advice', 'official capacity', 'official delegation', 'particular rules', 'political group', 'self-employed person', 'possible action', 'general public', 'members', 'legal affairs', 'basis', 'courtesy usage', 'other bodies', 'potential public policy implications', 'rule 153(3', 'such expenses', 'constitutional affairs', 'necessary steps', 'annual report', 'broad class', 'conflict', 'possible breaches', 'terms', 'monitoring procedure', 'first part-session', 'former members', 'expert advice', 'alleged breach', 'such disclosure', 'such guidance', 'outside experts', 'second subparagraph', 'parliamentary proceedings', 'interest', 'relevant reserve member', 'period', 'nominate reserve members', 'non -governmental organisations', 'persons', 'three-year period', 'such conflict', 'alleged breaches', 'similar benefits', 'sixth full member', 'annual basis', 'other reward', 'parliamentary term', 'first subparagraph', 'total remuneration', 'political balance', 'person', 'committee', 'other financial interests', 'reasoned decision', 'member', 'possible decision', 'other income', 'conflicts'}\n",
      "____________________________________________________________________\n",
      "\n",
      "____________________________________________________________________\n",
      "\n",
      "checking files: text_5.txt, term_5.txt\n",
      "_____________________________FIRST STEP_________________________________________\n",
      "_____________________________SECOND STEP___________________________________________________\n",
      "_____________________________THIRD STEP______________________________________________________________\n",
      "____________________________________TESTING__________________________________________________________________\n",
      "Precision: 0.2545454545454545\n",
      "Recall: 0.2857142857142857\n",
      "F1 Score: 0.26923076923076916\n",
      "Истинные обнаружения: {'european anti-corruption network', 'european council', 'european commission', 'civil society', 'fighting corruption', 'official journal', 'corruption', 'hague programme', 'council', 'commission', 'european parliament', 'anti-corruption network', 'european union', 'combat corruption'}\n",
      "Ложные пропуски: {'council of the european union', 'eurojust', 'private sectors', 'federal republic of germany', 'agis', 'police', 'organised crime', 'cepol', 'combating corruption', 'crime', 'fraud', 'm. alliot-marie', 'anti-corruption agencies', 'justice', 'expenses', 'european partners against corruption', 'european economic and social committee', 'vienna', 'fight against corruption', 'rules', 'europe', 'treaty on european union', 'epac', 'budapest', 'business', 'luxembourg', 'rule', 'decision', 'policy against corruption', 'eu', 'public', 'judicial', 'resolution', 'authorities', 'europol'}\n",
      "Ложные обнаружения: {'judicial cooperation', 'contact-point network', 'following tasks', 'member states', 'european partners', 'agis conference', 'inspection bodies', 'such rules', 'important contribution', 'network', 'epac member organisations', 'states', 'particular article', 'eu level', 'contact points', 'relevant rules', 'federal republic', 'good practices', 'european union strategy', 'effective measures', 'comprehensive eu policy', 'same rule', 'new millennium', 'web site', 'key representatives', 'comprehensive multi-faceted policy', 'overwhelming majority', 'operational cooperation', 'concept', 'key issue', 'cooperation', 'strategic concept', 'such cooperation', 'active maintenance', 'union', 'relevant players', 'vienna conference', 'annual meetings', 'international cooperation', 'high professional standards', 'inter alia'}\n",
      "____________________________________________________________________\n",
      "\n",
      "____________________________________________________________________\n",
      "\n",
      "checking files: text_6.txt, term_6.txt\n",
      "_____________________________FIRST STEP_________________________________________\n",
      "_____________________________SECOND STEP___________________________________________________\n",
      "_____________________________THIRD STEP______________________________________________________________\n",
      "____________________________________TESTING__________________________________________________________________\n",
      "Precision: 0.43103448275862066\n",
      "Recall: 0.3787878787878788\n",
      "F1 Score: 0.4032258064516129\n",
      "Истинные обнаружения: {'custodial sentences', 'criminal offence', 'mutual legal assistance', 'european commission', 'criminal penalties', 'public official', 'legal persons', 'financial interests', 'fraud', 'european anti-fraud office', 'european communities', 'tax payments', 'interpretative jurisdiction', 'preliminary rulings', 'offences', 'official', 'money laundering', 'passive corruption', 'offence', 'public officials', 'criminal law', 'corruption', 'jurisdiction', 'corruption offences', 'wrongful retention'}\n",
      "Ложные пропуски: {'oj', 'dispute', 'court of justice of the european union', 'revenue', 'legally', 'bribe', 'taxpayers', 'european court of justice', 'prosecution', 'funds', 'sentences', 'passive', 'extradition', 'enforcement', \"convention on the protection of the european communities ' financial interests\", 'legislation', 'courts', 'treaty on european union', 'legal definition', 'fight against fraud', 'misappropriation', 'business', 'confiscation', 'romania', 'expenditure', 'court of justice', 'decision', 'criminally liable', 'active corruption', 'eu', 'active', 'ecj', 'bulgaria', 'transfer of proceedings', 'illegal', 'disputes', 'council', 'penalties', 'businesses', 'budget', 'liability'}\n",
      "Ложные обнаружения: {'serious fraud', 'first protocol', 'european court', 'specific obligation', 'council act', 'article k.3', 'last update', 'intentional act', 'protocol', 'necessary measures', 'eu country', 'protocols', 'court', 'national courts', 'country', 'european union', '23.10.1996', 'more information', 'second protocol', 'communities', 'oj c', 'obligations', 'certain cases', '12.1.2008', 'such funds', 'eu countries', 'act', 'eu budget resources', 'countries', 'illegal reduction', 'oj l', 'passive * corruption', 'information'}\n",
      "____________________________________________________________________\n",
      "\n",
      "____________________________________________________________________\n",
      "\n",
      "checking files: text_7.txt, term_7.txt\n",
      "_____________________________FIRST STEP_________________________________________\n",
      "_____________________________SECOND STEP___________________________________________________\n",
      "_____________________________THIRD STEP______________________________________________________________\n",
      "____________________________________TESTING__________________________________________________________________\n",
      "Precision: 0.22011834319526627\n",
      "Recall: 0.3875\n",
      "F1 Score: 0.280754716981132\n",
      "Истинные обнаружения: {'officials', 'disciplinary sanctions', 'civil society', 'european arrest warrant', 'criminal penalties', 'transparency', 'corruption case', 'civil servants', 'police officers', 'report', 'non-governmental organisation', 'european treaty series', 'mandate', 'fraud', 'corrupt acts', 'political corruption', 'government procurement', 'legal framework', 'common market', 'double criminality', 'public sector', 'corrupt practices', 'enforcement', 'corrupt activities', 'contracting authorities', 'legislation', 'private sector corruption', 'in-house corruption', 'investment', 'free trade', 'political corruption scandals', 'auditors', 'private gain', 'laundering', 'party financing', 'world economy', 'tax deductibility', 'private sector', 'public services', 'corporate liability', 'acquis', 'joint action', 'prosecutors', 'liability', 'serious wrongdoings', 'public prosecutor', 'civil service', 'legal instruments', 'economic damage', 'election spending', 'public procurement procedures', 'european commission', 'mutual legal assistance', 'ad-hoc committee', 'law', 'costs', 'criminal act', 'statutory auditor', 'european parliament', 'public institutions', 'tax offences', 'administrations', 'public service provider', 'acp-eu partnership agreement', 'external financial control', 'criminal proceedings', 'society', 'public authorities', 'millennium strategy', 'illicit financing', 'eu council', 'financial crime', 'combat corruption', 'anti-corruption culture', 'internal market', 'rules', 'europe', 'victims', 'petty corruption', 'fundamental ethical obligations', 'financial investigations', 'offences', 'criminal enquiries', 'cotonou agreement', 'political scandals', 'commission', 'money laundering', 'rule', 'offence', 'financial transactions', 'definitive judgement', 'public administrations', 'professional secrecy', 'public officials', 'prosecutor', 'law enforcement', 'state contracts', 'procurement', 'corruption', 'authorities', 'directive', 'corruption offences', 'competition', 'framework decision', 'criminal offence', 'home affairs', 'western nis', 'parliament', 'undue advantage', 'european community', 'legal obligations', 'statutory audit', 'corruption cases', 'european union', 'public accounting system', 'financial interests', 'crime', 'anti-corruption policy', 'judicial authorities', 'single market', 'laws', 'anti-corruption standards', 'anti-bribery laws', 'evaluation mechanisms', 'contracting authority', 'statutory audits', 'white lists', \"cadre d'auto-ã©valuation des fonctions publiques\", 'preliminary rulings', 'integrity', 'international accounting standards', 'world bank', 'private-to-private corruption', 'criminal behaviour', 'financial irregularities', 'financing', 'policy', 'public agents', 'decision', 'eu', 'good governance', 'transborder corruption cases', 'internal investigations', 'export credits', 'council', 'crime records', 'improper influence', 'staff regulations', 'united nations', 'white paper', 'western europe', 'transparency international', 'authority', 'south-east europe', 'criminal organisation', 'tax administration', 'legal persons', 'organised crime', 'corrupt behaviour', 'criminal liability', 'predicate offences', 'public office', 'gains', 'punishable offence', 'disciplinary rules', 'european communities', 'data protection', 'european anti-fraud office', 'fair competition', 'action plan', 'public procurement', 'professional misconduct', 'trade', 'common assessment framework', 'tax consultants', 'open markets', 'policies', 'european council', 'criminal law', 'political parties', 'public interest', 'societies', 'public administration', 'framework decisions', 'anti-corruption instruments', 'business world'}\n",
      "Ложные пропуски: {'punished', 'gratuity', 'accountants', 'moldova', 'legitimately', 'transparent', 'civil law', 'internal audit schemes', 'monopolies', 'evidence', 'favoritism', 'briber', 'administrative', 'self-regulatory regimes', 'punishable', 'rule of law', 'political agreement', 'communication on wider europe - neighbourhood', 'criminal law convention on corruption', 'retaliation', 'acts of bribery', 'illegal activity', 'blacklisting', 'doha', 'italy', 'costs of transactions', 'banks', 'russia', 'investigation power', 'legal acts', 'funds', 'cologne', 'mandated', 'policy areas', 'justice', 'fighting corruption', 'passive', 'bribe giving', 'governments', 'public tender', 'bribed', 'legislative', 'integrity standards', 'offenders', 'reported', 'copenhagen', 'victim', 'corruption-related', 'illicit proceeds', 'olaf', 'bribe taking', 'mismanagement', 'accountable', 'algeria', 'balkan', 'punishing', 'incriminations', 'turkey', 'exploited', 'imprisonment', 'anti-corruption authorities', 'balkans', 'private gains', 'accounting offences', 'political', 'policy against corruption', 'public', 'cost', 'judicial', 'resolution', 'politicians', 'jurisdictions', 'judges', 'undeclared donations', 'financial prosecutor', 'ad hoc committee for the negotiations of a united nations convention against corruption', 'oecd working group on bribery', 'oj', 'duty of loyalty', 'prosecuted', 'criminalising', 'organised and transborder corruption', 'pact of silence', 'exploitation', 'whistle blowing', 'dereliction', 'criminalises', 'strasbourg', 'combating corruption', 'tenderer', 'public money', 'compromise', 'caf', 'sanctions', 'privatisation', 'anti-corruption policies', 'cotonou', 'eu-wide', 'fight against corruption', 'extradition', 'corporate', 'idoc', 'notaries', 'prohibition', 'green paper', 'well-paid', 'civil law convention on corruption', 'collection of evidence', 'primacy of the rule of law', 'treaty on european union', 'judiciary', 'criminal law legislation on corruption', 'monitoring mechanism', 'bribery', 'disciplinary', \"convention on the protection of the european communities ' financial interests\", 'bribe-paying', 'magistrates', 'auditing standards', 'prosecuting', 'business', 'fight against fraud', 'wto', 'acp', 'confiscation', 'treaty of amsterdam', 'compliance', 'accountability', 'assets', 'consolidated accounts', 'commissions', 'contracts', 'un convention against corruption', 'passive corruption', 'denmark', 'disbursements', 'legal instrument', 'bribes', 'whistleblowing', 'uclaf', 'penalties', 'jurisdiction', 'governance-related', 'burden of proof', 'financial', 'accounting standards', 'teu', 'convicted', 'criminal law enforcement', 'oecd convention on combating bribery of foreign public officials in international business transactions', 'good-governance', 'corrupt', 'tender', 'bribee', 'integer', 'directives', 'legally', \"bribe payers ' index\", 'anti-corruption', 'infringement', 'public official', 'market conditions', 'agreement on government procurement', 'tampere', 'european court of justice', 'legal', 'witnesses', 'adjudicating', 'equitable', 'memorandum of understanding', 'us', 'belarus', 'companies', 'whistleblowers', 'impartiality', 'accounting', 'vulnerability to fraud', 'committee of independent experts', 'european economic and social committee', 'conflicts of interest', 'evaluation of the activities of the european anti-fraud office', 'illicit', 'group of states against corruption', 'financial services action plan', 'committee of ministers', 'cards', 'conflicts of interests', 'rights', 'economic', 'financial offences', 'hidden', 'black-lists', 'punishment', 'illegitimate', 'ukraine', 'phare', 'cases of corruption', 'tenderers', 'un', 'international standards on auditing', 'illicitly', 'standards of conduct', 'professional integrity', 'witness', 'neighbourhood policy', 'audit', 'expenditures', 'legislative proposal', 'magistracy', 'accomplices', 'criminals', 'isa', 'confiscate', 'capital market', 'criminal', 'oecd', 'bureaucratisation', 'budget', 'semi-public', 'collusion', 'economic crimes', 'public servants', 'proceeds', 'collusive', 'global programme against corruption', 'council of europe', 'conflict of interest', 'eurojust', 'sentence', 'anti-corruption services', 'doha wto 4th ministerial conference', 'investigation and disciplinary office', 'abuse of power', 'bribe', 'contract', 'deprivation of liberty', 'judge', 'paid', 'irregularities', 'business transactions', 'police', 'prosecution', 'funding', 'public sectors', 'ec', 'pif-convention', 'organised crime groups', 'company', 'statute', 'regulation', 'social responsibility', 'vienna', 'tax', 'trade policy', 'business interests', 'integrity-enhancing', 'lawyers', 'code of good administrative behaviour', 'liable', 'codes of conduct', 'distortion of competition', 'ethical', 'lebanon', 'socio-economic', 'reward', 'private-to-private', 'private', 'accounts', 'objectively', 'court of auditors', 'greco', 'monitoring standards', 'ias', 'government', 'freezing', 'auditing', 'disciplinary bodies', 'general assembly', 'action statement', 'active', 'gdp', 'impartially', 'tec', 'passive transborder corruption', 'europol', 'customs', 'rule of law principles', 'euratom', 'adjudication', 'austria', 'reporting', 'anti-corruption strategy', 'anti-corruption laws', 'financial management'}\n",
      "Ложные обнаружения: {'evaluation report', 'areas', 'first reading', 'political competition', 'european court', 'olaf expertise', 'multilateral agreement', 'situation', 'relevant administrative capacities', 'international business transactions', 'former public companies', 'unambiguous stance', 'further development', 'special report', 'mandatory character', 'beneficiary states', 'effective protection', 'conclusions', 'social partner entities', 'broader definition', 'capacity building', 'overarching concern', 'sector', 'full commission', 'work programme', 'sound project management', 'public office holders', 'continuous basis', 'regular political dialogue', 'tender procedures', 'private entities', 'effective functioning', 'mediterranean countries', 'natural resources', 'new neighbourhood policy', 'important subject', 'national bodies', 'quality management tools', 'member states', 'prior verification', 'key objectives', 'role', 'major review', 'anti-corruption prosecutors', 'insurance companies', 'european public prosecutor', 'wto doha agenda', 'parts', 'criminal law sense', 'appropriate modalities', 'framework', 'consultations', 'clear political determination', 'oecd action statement', 'important eu', 'best practices', 'international anti-corruption instruments', 'direct infringement', 'independent experts', 'comprehensive effort', 'text', 'strategy', 'independence', 'crimes', 'commission green paper', 'aforesaid millennium strategy', 'stronger coherence', 'right solution', 'new rules', 'approach', 'previous instrument', 'extended mandate', 'standardised application', 'accession', 'well-paid civil servants', 'direct victim', 'activities', 'internal decision', 'social partners', 'relevant documents', 'mutual interest', 'essential elements', 'copenhagen european council', 'affairs', 'professional duties', 'issue', 'health sector', 'maximum sentence', 'common values', 'foreign public official', 'cases', 'acts', 'sensitive posts', 'audit profession', 'overall strategy', 'com', 'participation', 'efforts', 'strong indirect incentives', 'article', 'procurement opportunities', 'narrower criminal law sense', 'serious crime', 'international legal instrument', 'hidden phenomenon', 'relevant international anti-corruption instruments', 'factors', 'relevant provisions', 'eu ministers', 'community system', 'effective means', 'interest groups', 'anti-corruption clauses', 'ten principles', 'fight', 'job rotation', 'general problem', 'administrative integrity', 'protocol', 'insufficiencies', 'specific accession clauses', 'proposals', 'common integrity standards', 'draft framework decision', 'campaign expenditures', 'essential element', 'appropriate follow-up', 'eu officials', 'enhanced transparency', 'states', 'comprehensive eu policy corruption', 'party', 'internal control', 'multilateral systems', 'common positions', 'international efforts', 'further delay', 'recent communication', 'democratic principles', 'initiative', 'protection', 'foreign public officials', 'system', 'countries', 'corruption undermines', 'other serious professional misconduct', 'future staff regulations', 'substantial criminal law legislation', 'convention', 'public awareness', 'work', 'stage', 'legal point', 'in-depth evaluation report', 'permanent political dialogue', 'pure law enforcement', 'peer review', 'following core elements', 'protocols', 'membership', 'general role', 'integer companies', 'agreements', 'international trade', 'law enforcement bodies', 'follow-up', 'group', 'substantive criminal law', 'second protocol', 'council declaration', 'possible areas', 'communication', 'texts', 'common definitions', 'damaging consequences', 'european integration', 'institutions', 'western balkan countries', 'relevant rules', 'europol convention', 'administrative co-operation', 'individual rights', 'entire private sector', 'particular ec law', 'respect', 'other agents', 'sound financial management', 'market', 'double-faced role', 'area', 'serious corruption', 'judicial cooperation network', 'criminal behaviours', 'personal threats', 'effective criminal law enforcement', 'covert links', 'new chapters', 'international organisations', 'actions', 'prioritised action', 'e accounting standards', 'common security threats', 'eu governments', 'nature', 'ec treaty', 'unnecessary duplication', 'adequate internal audit schemes', 'widespread phenomenon', 'level', 'parties', 'eu anti-corruption policy', 'national anti-corruption strategies', 'unlimited respect', 'sectors', 'model decision', 'serious matters', 'appropriate actor', 'secret nature', 'european public administration integrity', 'partner country', 'basis', 'independent administrative body', 'commission evaluation report', 'higher investment', 'european professional associations', 'internal measures', 'proper implementation', 'eu instruments', 'eu convention', 'recent years', 'tampere presidency conclusion', 'certain restrictions', 'agreement', 'collusive behaviour', 'practices', 'training programmes', 'unreported cases', 'civil law conventions', 'significant partner', 'mechanism', 'appropriate work', 'monitoring', 'act', 'oecd bribery convention', 'definition', 'legal professions', 'tampere conclusions', 'ratification process', 'social rights', 'groups', 'similar activities', 'other framework decisions', 'special investigative techniques', 'equivalent conditions', 'concrete quid-pro-quo bribe giving', 'oecd convention', 'neighbouring countries', 'criminal law provisions', 'eu anti-corruption instruments', 'irregular conduct', 'implementation', 'such corruption', 'means', 'instruments', 'western balkans', 'challenge', 'self-assessment framework', 'community directives', 'high investment', 'new policy', 'character', 'unselected bidder', 'co-operation', 'progresses', 'major recent scandals', 'vulnerable professions', 'national institution', 'wider europe -neighbourhood', 'organisations', 'best practice', 'oj c', 'european financial prosecutor', 'more transparent', 'partner countries', 'common standards', 'modern accounting standards', 'world-wide fight', 'further campaigns', 'third countries', 'works', 'improper award', 'several documents', 'practical application', 'systematic checks', 'comprehensive dialogue', 'comprehensive framework', 'other third countries', 'second report', 'awareness', 'body', 'clear benchmark', 'first protocol', 'concerns', 'important issue', 'co-operation framework', 'important part', 'bodies', 'international standards', 'further momentum', 'significant step', 'illegitimate private gains', 'most eu member states', 'networks', 'different authorities', 'structure', 'eu forum', 'disciplinary point', 'eu acquis', 'eu institutions', 'appropriate independence', 'communities', 'provisional eurojust unit', 'eu level', 'specific predicate offences', 'commission report', 'other rule', 'progress', 'particular focus', 'eu heads', 'articles', 'conclusion', 'documents', 'cooperation', 'supranational efforts', 'commitments', 'oecd conventions', 'material competence', 'award process', 'national anti-corruption policies', 'political guideline', 'enormous progress', 'other countries', 'paper', 'national contact points', 'clear delimitation', 'clear stance', 'governance-related issues', 'investigative techniques', 'future initiatives', 'conventions', 'certain sectors', 'clear rules', 'support', 'cards assistance programme', 'corporate responsibility', 'institution-building good governance', 'policy development', 'other eu institutions', 'practical guide', 'coherent approach', 'adoption', 'international level', 'law instruments', 'innovative public services group', 'union', 'improved co-ordination', 'judicial review', 'important role', 'several anti-corruption projects', 'levels', 'international activities', 'comprehensive approach', 'new borders', 'ministers', 'genuine follow-up monitoring', 'future policy priorities', 'phare programme', 'document', 'transparent funding', 'strong political commitment', 'illicit business interests', 'other interest groups', 'guidelines', 'investigative tools', 'clear signal', 'prevention', 'particular relevance', 'way', 'interest', 'interests', 'only way', 'external aid', 'civil law convention', 'duplication', 'specific provisions', 'tolerable phenomenon', 'potential conflicts', 'candidate countries', 'professions', 'economic performance', 'aforementioned eu', 'substantial proceeds', 'interest situations', 'application', 'specialised anti-corruption services', 'practical breakdown', 'concrete actions', 'general strengthening', 'signal', 'key factor', 'general political agreement', 'interinstitutional agreement', 'external aspects', 'single anti-corruption unit', 'trade unions', 'degree', 'oecd working group', 'procedures', 'semi-public entities', 'aid', 'clear timeframe', 'criminal law perspective', 'ways', 'management', 'e.g. fraud', 'other servants', 'serious cases', 'proposal', 'mediterranean partners', 'speedy ratification', 'treaty', 'investigation', 'case participation', 'interinstitutional investigative powers', 'beneficiary state', 'necessary dialogue', 'global cost', 'capacity', 'general principles', 'total quality management', 'decisions', 'comprehensive eu policy', 'aforesaid recommendations', 'second money laundering directive', 'subject', 'relevant areas', 'new millennium', 'behaviour', 'independent european public prosecutor', 'united nations convention', 'basic ethical principles', 'competent authorities', 'accession negotiations', 'appropriate remedies', 'staff', 'constituent elements', 'judicial cooperation', 'legal protection', 'corruption-related issues', 'public administration structures', 'inter alia fraud', 'member state', 'organisational structure', 'public procurement directives', 'essential issue', 'personal situation', 'administrative investigation', 'consultation procedure', 'ec budget', 'dialogue', 'better capacity', 'ad hoc committee', 'european area', 'repressive measures', 'formal invitation', 'same degree', 'new initiatives', 'commission staff', 'issues', 'european union strategy', 'specific financing agreements', 'instrument', 'olaf enquiries', 'serious forms', 'thorough scrutiny', 'aforesaid joint action', 'possible legal discrepancies', 'absolute priority', 'co-ordination', 'danish initiative', 'main international anti-corruption instruments', 'forthcoming accession', 'human rights', 'state', 'conduct', 'relevant national agencies', 'special nature', 'other illegal activity', 'priorities', 'minimum rules', 'ratification', 'comprehensive preventative policy', 'preventive measures', 'court', 'problem', 'international instruments', 'present communication', 'overall strategic approach com', 'corrupt companies', 'national legislation', 'office', 'detailed interinstitutional approach', 'other undue advantage', 'first stage', 'award', 'action', 'comprehensive policy', 'other economic crimes', 'eu strategy', 'public tender procedure', 'time', 'criminal law matters', 'better protection', 'future un convention', 'first time', 'european public administration', 'enhanced alignment', 'international procurement', 'cologne european council', 'political dialogue', 'high-profile cases', 'ratification instruments', 'international cooperation', 'controls', 'domestic law', 'information procedures', 'joint investigations', 'key element', 'phenomenon', 'other international fora', 'possible application', 'particular project', 'plan', 'standard clauses', 'part', 'specialised anti-corruption authorities', 'foreign aid programmes', 'central message', 'investigations', 'country', 'regular assessment', 'process', 'other international organisations', 'other internal policies', 'council regulation', 'responsibility', 'last resort', 'reading', 'criminal law convention', 'project financing', 'affected party', 'development', 'aforementioned eu instruments', 'concentrated eu initiatives', 'applicable legislation', 'control', 'greco membership', 'law enforcement measures', 'assistance', 'law principles', 'community competencies', 'common definition', 'particular country', 'specific article', 'report com', 'commission decision', 'community interests', 'secret triangular links', 'financial support', 'definitions', 'union policy', 'general agreement', 'crime prevention', 'viable option', 'broad consultation', 'interagency co-operation', 'draft convention', 'future eu policy', 'concrete implementation', 'foreign investment', 'community competence', 'national mechanisms', 'ec funds', 'right conclusions', 'council framework decision', 'community co-operation', 'initiatives', 'various initiatives', 'jurisdiction world-wide', 'forthcoming communication', 'different areas', 'different co-operation agreements', 'eu territory', 'other international instruments', 'strategies', 'un general assembly', 'minimum standards', 'direct victims', 'case', 'offices', 'law enforcement authorities', 'full text', 'new provisions', 'committee', 'world', 'non-discriminatory access', 'business activities', 'best safeguard', 'same corrupt behaviour', 'proper functioning', 'good administrative behaviour', 'global programme', 'single uniform definition', 'other policy objectives', 'far-reaching implications', 'fundamental element', 'further steps', 'clear decision-making procedures', 'rotation', 'such guidelines', 'eu mechanism', 'new dividing lines', 'reports', 'supply side', 'olaf activities', 'further legislative proposal', 'eu-wide adoption', 'fundamental freedoms', 'other wto parties', 'structures', 'strong influence', 'ratifications', 'eu member states', 'broader socio-economic sense', 'illicit purposes', 'same document', 'unnecessary resources', 'biggest challenge', 'community financial interests', 'benchmarks', 'protection instruments', 'influences', 'highest level', 'oj l', 'best corruption prevention strategy', 'fresh impetus', 'institutional safeguards', 'new eu members states', 'strasbourg resolution'}\n",
      "____________________________________________________________________\n",
      "\n",
      "___________________________TOTAL_________________________________________\n",
      "\n",
      "total result\n",
      "Precision: 0.22419354838709676\n",
      "Recall: 0.35732647814910024\n",
      "F1 Score: 0.27552031714568875\n",
      "Истинные обнаружения: {'officials', 'criminal conspiracy', 'commercial dispute', 'disciplinary sanctions', 'civil society', 'european arrest warrant', 'internal appeal procedures', 'criminal penalties', 'transparency', 'corruption case', 'civil servants', 'police officers', 'report', 'criminal code', 'non-governmental organisation', 'european treaty series', 'mandate', 'fraud', 'corrupt acts', 'personal interest', 'political corruption', 'government procurement', 'grey areas', 'belgian criminal code', 'uptitrations', 'fighting corruption', 'term', 'legal framework', 'tax payments', 'renin-angiotensin system blocker', 'common market', 'double criminality', 'public sector', 'integrity policy', 'corrupt practices', 'enforcement', 'corruption risks', 'corrupt activities', 'contracting authorities', 'legislation', 'private sector corruption', 'in-house corruption', 'official journal', 'investment', 'market', 'free trade', 'political corruption scandals', 'auditors', 'federal civil service', 'corrupt business practices', 'private gain', 'active corruption', 'spironolactone', 'laundering', 'party financing', 'united nations global compact', 'world economy', 'tax deductibility', 'private sector', 'public services', 'corporate liability', 'acquis', 'tax legislation', 'joint action', 'anti-corruption network', 'heart failure', 'subsidy laws', 'prosecutors', 'liability', 'serious wrongdoings', 'custodial sentence', 'european anti-corruption network', 'public prosecutor', 'civil service', 'legal instruments', 'economic damage', 'international market', 'development aid', 'election spending', 'public procurement procedures', 'european commission', 'enterprises', 'mutual legal assistance', 'ad-hoc committee', 'law', 'costs', 'business community', 'criminal act', 'statutory auditor', 'european parliament', 'public institutions', 'ethical behaviour', 'tax offences', 'administrations', 'moniteur belge', 'aggravating circumstances', 'criminal prosecution', 'blood pressure', 'public service provider', 'misdemeanours', 'acp-eu partnership agreement', 'external financial control', 'criminal proceedings', 'neurohumoral blockers', 'society', 'public authorities', 'millennium strategy', 'illicit financing', 'eu council', 'financial crime', 'combat corruption', 'anti-corruption culture', 'accounting irregularities', 'rules', 'europe', 'victims', 'internal market', 'petty corruption', 'fundamental ethical obligations', 'legal action', 'bribery', 'financial investigations', 'offences', 'criminal enquiries', 'cotonou agreement', 'political scandals', 'commission', 'money laundering', 'rule', 'ngo', 'passive corruption', 'financial transactions', 'ethical enterprise', 'definitive judgement', 'public administrations', 'professional secrecy', 'offence', 'prosecutor', 'law enforcement', 'state contracts', 'criminal offences', 'advantage', 'public officials', 'procurement', 'corruption', 'authorities', 'public institution', 'government contracts', 'jurisdiction', 'corruption offences', 'directive', 'wrongful retention', 'uptitration', 'left ventricular ejection fraction', 'competition', 'framework decision', 'public bribery', 'criminal offence', 'home affairs', 'hospitalization', 'parliament', 'western nis', 'undue advantage', 'renin-angiotensin system', 'slush money', 'european community', 'legal obligations', 'statutory audit', 'public official', 'legal person', 'european union', 'financial interests', 'business relations', 'corruption cases', 'public accounting system', 'criminal abuses', 'crime', 'anti-corruption policy', 'companies', 'judicial authorities', 'single market', 'laws', 'anti-corruption standards', 'î²-blockers', 'anti-bribery laws', 'third parties', 'federal government departments', 'evaluation mechanisms', 'contracting authority', 'statutory audits', 'interpretative jurisdiction', 'white lists', \"cadre d'auto-ã©valuation des fonctions publiques\", 'preliminary rulings', 'integrity', 'international accounting standards', 'world bank', 'heart rate', 'private-to-private corruption', 'criminal behaviour', 'financial irregularities', 'financing', 'policy', 'private bribery', 'public agents', 'private corruption', 'decision', 'eu', 'good governance', 'transborder corruption cases', 'internal investigations', 'export credits', 'direct universal suffrage', 'council', 'third party', 'crime records', 'improper influence', 'custodial sentences', 'staff regulations', 'ex officio', 'united nations', 'white paper', 'western europe', 'transparency international', 'authority', 'south-east europe', 'criminal organisation', 'tax administration', 'legal persons', 'police', 'organised crime', 'corrupt behaviour', 'criminal liability', 'prosecution', 'predicate offences', 'public office', 'gains', 'punishable offence', 'all-cause mortality', 'disciplinary rules', 'company', 'european communities', 'data protection', 'european anti-fraud office', 'misdemeanour', 'action plan', 'public procurement', 'renal function', 'royal decree', 'professional misconduct', 'corporate taxpayer', 'fair competition', 'legal status', 'joint venture', 'trade', 'common assessment framework', 'official', 'tax consultants', 'open markets', 'government', 'policies', 'professional ethics', 'general assembly', 'european council', 'advisory committee', 'criminal law', 'political parties', 'hague programme', 'public interest', 'public contracts', 'societies', 'federal criminal investigation police', 'public administration', 'framework decisions', 'anti-corruption instruments', 'hazard ratio', 'business world', 'ras blockers'}\n",
      "Ложные пропуски: {'punished', 'gratuity', 'legitimately', 'internal audit schemes', 'monopolies', 'small and medium-sized enterprises11', 'briber', 'usufruct', 'p', 'rule of law', 'doha', 'costs of transactions', 'investigation power', 'central office for the repression of corruption', 'governments', 'legislative', 'integrity standards', 'reported', 'office-holders', 'budapest', 'exploited', 'movable', 'clinical', 'board of public prosecutors-general', 'income tax law', 'cost', 'additional tenths', 'breach', 'judges', 'ad hoc committee for the negotiations of a united nations convention against corruption', 'court of justice of the european union', 'duty of loyalty', 'immovable property', 'strasbourg', 'code of conduct', 'sanctions', 'cotonou', 'fight against corruption', 'icc belgium', 'prohibition', 'foreign corrupt practices act', 'civil law convention on corruption', 'epac', 'bribe-paying', 'magistrates', 'business', 'fight against fraud', 'prosecuting', 'financial and fiscal crime', 'confiscation', 'bureau of official ethics and good practice', 'commissions', 'contracts', 'price', 'un convention against corruption', 'accommodation', 'whistleblowing', 'deducted', 'penalties', 'salary', 'governance-related', 'oecd convention on combating bribery of foreign public officials in international business transactions', 'royal decrees', 'good-governance', 'corrupt', \"bribe payers ' index\", 'gifts', 'un corruption', 'infringement', 'tampere', 'registration for transfers of ownership', 'belarus', 'federal department of the budget', 'united nations convention against corruption', 'illicit', 'cards', 'conflicts of interests', 'financial offences', 'illegitimate', 'ukraine', 'malpractices', 'elections', 'international standards on auditing', 'illicitly', 'witness', \"employers ' organization\", 'audit', 'expenditures', 'legislative proposal', 'icc', 'criminal', 'budget', 'committee on legal affairs', 'semi-public', 'business practices', 'global programme against corruption', 'advisory committee on the conduct of members', 'anti-corruption services', 'doha wto 4th ministerial conference', 'co-morbidity', 'judge', 'irregularities', 'fiscal', 'funding', 'intermediaries', 'public sectors', 'prosecute', 'federal police', 'social responsibility', 'trade policy', 'term of office', 'code of good administrative behaviour', 'distortion of competition', 'recognitions', 'federal government department of the budget and management control', 'socio-economic', 'departments of government', 'therapy', 'accounts', 'federal department of finance', 'active', 'impartially', 'ci', 'illegal', 'tec', 'customs', 'rule of law principles', 'contracting', 'misconduct', 'reclaim', 'pef', 'transparent', 'civil law', 'reduced ejection fraction', 'favoritism', 'political agreement', 'outcome', 'communication on wider europe - neighbourhood', 'retaliation', 'banks', 'readmissions', 'funds', 'natural person', 'mandated', 'policy areas', 'passive', 'fine', 'bribe giving', 'iraq', 'blackmail', 'public tender', 'significantly', 'penalization', 'offenders', 'national security plan 2008 - 2011', 'network of expertise on economic ', 'corruption-related', 'illicit proceeds', 'olaf', 'imprisonment', 'private gains', 'accounting offences', 'policy against corruption', 'criminally liable', 'bulgaria', 'breaches', 'judicial', 'natural persons', 'extortion', 'ethically', 'private sectors', 'federal republic of germany', 'criminalising', 'whistle blowing', 'office for administrative ethics and deontology', 'combating corruption', 'central department on combating corruption', 'privatisation', 'anti-corruption policies', 'basis of tax assessment', 'idoc', 'count of corruption', 'travel', 'well-paid', 'î²-blocker', 'natural', 'judiciary', 'monitoring mechanism', 'auditing standards', 'trading', 'wto', 'compliance', 'market procedures', 'uclaf', 'off-books accounting', 'financial', 'burden of proof', 'internet portal', 'tender', 'hospital', 'dispute', 'revenue', 'anti-corruption', 'hf with preserved ejection fraction', 'market conditions', 'agreement on government procurement', 'lawfully provided services', 'impartiality', 'anti-bribery convention', 'committee of independent experts', 'conflicts of interest', 'rights', 'courts', 'voting freedom', 'criminality', 'income', 'standards of conduct', 'composite end-point', 'transfer of proceedings', 'magistracy', 'confiscate', 'capital market', 'madrid', 'oecd', 'belgium', 'collusion', 'penalizes', 'sentence', 'investigation and disciplinary office', 'abuse of power', 'board of directors', 'ec', 'anti-corruption agencies', 'rules of the procedure', 'beta-blocker', 'sme', 'bribing', 'lawyers', 'payment', 'monitoring standards', 'subsidies', 'auditing', 'network of expertise on corruption', 'disputes', 'euratom', 'tactless', 'anti-corruption laws', 'ref', 'accountants', 'moldova', 'administrative', 'self-regulatory regimes', 'criminal law convention on corruption', 'acts of bribery', 'illegal activity', 'blacklisting', 'gpa', 'legal acts', 'cologne', 'framework of good practice', 'justice', 'expenses', 'european partners against corruption', 'bribed', 'police on web', 'copenhagen', 'penalty of imprisonment', 'victim', 'accountable', 'balkan', 'non-transparent', 'anti-corruption authorities', 'balkans', 'regulations', 'public', 'remuneration', 'resolution', 'politicians', 'hospitalized', 'directorate for combating economic and financial crime', 'oecd working group on bribery', 'oj', 'admission', 'subcontracts', 'organised and transborder corruption', 'exploitation', 'transactions', 'dereliction', 'ambulatory', 'tenderer', 'public money', 'rules of conduct', 'sentences', 'eu-wide', 'extradition', 'notaries', 'green paper', 'civil', 'collection of evidence', 'treaty on european union', 'financial statements', 'criminal law legislation on corruption', 'purchasing director', 'assets', 'licensing', 'accountability', 'indirect financial benefit', 'disbursements', 'advantages', 'bribes', 'trade organization', 'embezzle', 'disinterest', 'declaration of financial interests', 'accounting standards', 'ras', 'fines', 'bribee', 'integer', 'european court of justice', 'legal', 'us', 'accounting', 'vulnerability to fraud', 'evaluation of the activities of the european anti-fraud office', 'reduced', 'committee of ministers', 'black-lists', 'freedom of bidding', 'punishment', 'phare', 'preserved left ventricular ejection fractions', 'un', 'committee on constitutional affairs', 'usa', 'convict', 'romania', 'non - governmental organisations', 'neighbourhood policy', 'blacklists', 'accomplices', 'direct', 'isa', 'businesses', 'service for criminal policy', 'economic crimes', 'public servants', 'conflict of interest', 'bribe', 'contract', 'public policy', 'deprivation of liberty', 'saddam hussein', 'rome', 'pif-convention', 'trade union', 'vienna', 'business interests', 'integrity-enhancing', 'transparency international belgium', 'liable', 'codes of conduct', 'ethical', 'lebanon', 'reward', 'legal definition', 'court of auditors', 'greco', 'commercial', 'american', 'court of justice', 'disciplinary bodies', 'action statement', 'ecj', 'penalty', 'passive transborder corruption', 'principal', 'adjudication', 'austria', 'reporting', 'anti-corruption strategy', 'financial management', 'algeria', 'statutory', 'evidence', 'punishable', 'rapporteur', 'principles of conduct', 'voting', 'agis', 'italy', 'remunerated', 'russia', 'vote', 'payments', 'cream something off payments', 'chamber of commerce', 'significant', 'federation of enterprises in belgium', 'bribe taking', 'mismanagement', 'organisation for economic cooperation and development', 'punishing', 'incriminations', 'turkey', 'subsistence expenses', 'political', 'double-checking', 'hf', 'jurisdictions', 'undeclared donations', 'financial prosecutor', 'prosecuted', 'pact of silence', 'criminalises', 'm. alliot-marie', 'compromise', 'caf', 'goods', 'corporate', 'primacy of the rule of law', 'disciplinary', \"convention on the protection of the european communities ' financial interests\", 'acp', 'treaty of amsterdam', 'consolidated accounts', 'hfref', 'denmark', 'legal instrument', 'reimbursement', 'convicted', 'teu', 'criminal law enforcement', 'termination of a contract', 'levied', 'directives', 'legally', 'business contacts', 'hfpef', 'corruption scandals', 'witnesses', 'adjudicating', 'equitable', 'memorandum of understanding', 'whistleblowers', 'european economic and social committee', 'blacklist', 'group of states against corruption', 'financial services action plan', 'lobbying', 'economic', 'pay', 'breached', 'rules of procedure', 'punishes', 'hidden', 'federal government department of justice', 'paying', 'misappropriation', 'cases of corruption', 'tenderers', 'luxembourg', 'professional integrity', 'ras-blocker', 'expenditure', 'san francisco', 'criminals', 'bureaucratisation', 'proceeds', 'collusive', 'confidence interval', 'council of europe', 'public invitations to tender', 'council of the european union', 'eurojust', 'feb', 'paid', 'taxpayers', 'business transactions', 'contractors', 'cepol', 'organised crime groups', 'statute', 'regulation', 'tax', 'unremunerated', 'private-to-private', 'anti-fraud', 'private', 'objectively', 'hr', 'ias', 'freezing', 'passive bribery', 'ras -', 'gdp', 'markets', 'patients', 'corporate governance', 'europol'}\n",
      "Ложные обнаружения: {'evaluation report', 'areas', 'european court', 'political competition', 'first reading', 'multilateral agreement', 'olaf expertise', 'good start', 'situation', 'relevant administrative capacities', 'international business transactions', 'former public companies', 'unambiguous stance', 'potential public policy implications', 'further development', 'belgian law', 'public prosecutors-general', 'special report', 'mandatory character', 'first important steps', 'important contribution', 'public invitations', 'beneficiary states', 'first part-session', 'effective protection', 'conclusions', 'social partner entities', 'broader definition', 'capacity building', 'overarching concern', 'sector', 'such risk countries', 'voluntary principles', 'full commission', 'work programme', 'sound project management', 'similar benefits', 'web site', 'total quality management', 'common framework', 'public office holders', 'continuous basis', 'certain countries', 'regular political dialogue', 'tender procedures', 'private entities', 'collective action guide', 'multi-disciplinary integrated method', 'effective functioning', 'mediterranean countries', 'natural resources', 'belgian government department', 'new neighbourhood policy', 'important subject', 'possible penalties', 'national bodies', 'quality management tools', 'member states', 'best signal', 'role', 'courtesy usage', 'prior verification', 'key objectives', 'major review', 'rule 153(3', '%', 'anti-corruption prosecutors', 'insurance companies', 'department', 'european public prosecutor', 'monitoring procedure', 'wto doha agenda', 'parts', 'criminal law sense', 'appropriate modalities', 'framework', 'consultations', 'clear political determination', 'oecd action statement', 'important eu', 'position', 'good management', 'corruptie voorkomen', 'best practices', 'international anti-corruption instruments', 'direct infringement', 'independent experts', 'comprehensive effort', 'text', 'strategy', 'such cooperation', 'noteworthy initiatives', 'independence', 'crimes', 'commission green paper', 'aforesaid millennium strategy', 'stronger coherence', 'right solution', 'new rules', 'approach', 'previous instrument', 'belgian network', 'extended mandate', 'standardised application', 'accession', 'well-paid civil servants', 'direct victim', 'activities', 'internal decision', 'social partners', 'relevant documents', 'essential elements', 'mutual interest', 'copenhagen european council', 'affairs', 'other international regulations', 'professional duties', 'belgian government', 'necessary steps', 'severe penalties', 'unremitting work', 'tactless civil servants', 'such behaviour', 'health sector', 'maximum sentence', 'issue', 'common values', 'outside experts', 'foreign public official', 'cases', 'acts', 'sensitive posts', 'audit profession', 'overall strategy', 'com', 'participation', 'first global instrument', 'efforts', 'article', 'strong indirect incentives', 'procurement opportunities', 'invaluable source', 'commercial players', 'narrower criminal law sense', 'serious crime', 'comprehensive multi-faceted policy', 'international legal instrument', 'multinational enterprises', 'hidden phenomenon', 'civil aspects', 'relevant international anti-corruption instruments', 'key issue', 'factors', 'such advantages', 'relevant provisions', 'corruption prosecution policy', 'eu ministers', 'community system', 'ten principles', 'interest groups', 'anti-corruption clauses', 'fight', 'effective means', 'whole week', 'specific obligation', 'official delegation', 'job rotation', 'general problem', 'administrative integrity', 'insufficiencies', 'following tasks', 'protocol', 'specific accession clauses', 'legal affairs', 'systematic protection', 'common integrity standards', 'proposals', 'draft framework decision', 'campaign expenditures', 'terms', 'essential element', 'bank', 'appropriate follow-up', 'eu officials', 'enhanced transparency', 'states', 'second subparagraph', 'comprehensive eu policy corruption', 'party', 'latter us legislation', 'internal control', 'multilateral systems', 'certain cases', 'common positions', 'good practices', 'international efforts', 'corporate life', 'further delay', 'such funds', 'recent communication', 'democratic principles', 'hf hospitalization', 'main barriers', 'initiative', 'key representatives', 'foreign public officials', 'system', 'protection', 'countries', 'good practice', 'other serious professional misconduct', 'central office', 'method', 'future staff regulations', 'substantial criminal law legislation', 'corruption undermines', 'convention', 'inadequate legal means', 'public awareness', 'stage', 'work', 'legal point', 'corporate financial statements', 'in-depth evaluation report', 'permanent political dialogue', 'direct payment', 'pure law enforcement', 'peer review', 'political group', 'contact-point network', 'following core elements', 'members', 'general public', 'protocols', 'membership', 'new act', 'general role', 'integer companies', 'agreements', 'law enforcement bodies', 'international trade', 'follow-up', 'group', 'substantive criminal law', 'council declaration', 'communication', 'texts', 'possible areas', 'second protocol', 'common definitions', 'institutions', 'damaging consequences', 'expert advice', 'western balkan countries', 'european integration', 'few dollars', 'relevant rules', 'europol convention', 'relevant reserve member', 'administrative co-operation', 'persons', 'individual rights', 'entire private sector', 'cross-border approach', 'respect', 'particular ec law', 'other agents', 'sound financial management', 'american company', 'oecd guidelines', 'double-faced role', 'area', 'serious corruption', 'covert links', 'personal threats', 'future trends', 'fields', 'judicial cooperation network', 'criminal behaviours', 'effective criminal law enforcement', 'various forms', 'new chapters', 'actions', 'prioritised action', 'e accounting standards', 'common security threats', 'international organisations', 'strategic concept', 'icc rules', 'national level', 'eu governments', 'nature', 'major international companies', 'ec treaty', 'federal government', 'adequate internal audit schemes', 'unnecessary duplication', 'widespread phenomenon', 'other misdemeanour', 'attention', 'level', 'parties', 'other methods', 'national anti-corruption strategies', 'transparency international business principles', 'unlimited respect', 'sound companies', 'model decision', 'serious matters', 'appropriate actor', 'sectors', 'eu anti-corruption policy', 'intentional act', 'secret nature', 'european public administration integrity', 'inspection bodies', 'late 1990s', 'basis', 'partner country', 'commission evaluation report', 'independent administrative body', 'list', 'higher investment', 'inter-departmental working group', 'european professional associations', 'internal measures', 'proper implementation', 'eu instruments', 'recent years', 'eu convention', 'tampere presidency conclusion', 'certain restrictions', 'such disclosure', 'period', 'federal republic', 'agreement', 'serious consequences', 'collusive behaviour', 'practices', 'training programmes', 'unreported cases', 'civil law conventions', 'significant partner', 'mechanism', 'appropriate work', 'monitoring', 'act', 'oecd bribery convention', 'definition', 'early stage', 'secret agreement', 'total remuneration', 'legal professions', 'ratification process', 'tampere conclusions', 'social rights', 'vienna conference', 'groups', 'publicity', 'similar activities', 'consultancy agreements', 'other framework decisions', 'criminal code articles', 'high professional standards', 'equivalent conditions', 'special investigative techniques', 'nearest belgian factory', 'concrete quid-pro-quo bribe giving', 'oecd convention', 'neighbouring countries', 'eu anti-corruption instruments', 'criminal law provisions', 'irregular conduct', 'implementation', 'brief list', 'means', 'such corruption', 'necessary measures', 'european partners', 'agis conference', 'instruments', 'western balkans', 'challenge', 'self-assessment framework', 'amounts', 'community directives', 'high investment', 'new policy', 'co-operation', 'character', 'progresses', 'unselected bidder', 'major recent scandals', 'vulnerable professions', 'organisations', 'national institution', 'wider europe -neighbourhood', 'best practice', 'european financial prosecutor', 'more transparent', 'main obstacle', 'oj c', 'partner countries', 'common standards', 'practice', 'modern accounting standards', 'world-wide fight', 'further campaigns', 'annual basis', 'dose changes', 'corporate initiatives', 'low co-morbidity burden', 'prior knowledge', 'third countries', 'preventive monitoring', 'improper award', 'other actions', 'several documents', 'practical application', 'international', 'systematic checks', 'works', 'comprehensive dialogue', 'other third countries', 'comprehensive framework', 'second report', 'other income', 'conflicts', 'federal civil servants', 'body', 'awareness', 'clear benchmark', 'major reform', 'first protocol', 'concerns', 'important issue', 'co-operation framework', 'official context', 'important part', 'self-employed person', 'bodies', 'international standards', 'further momentum', 'significant step', 'illegitimate private gains', 'most eu member states', 'networks', 'different authorities', 'tax assessment', 'structure', 'eu forum', 'disciplinary point', 'certain country', 'conflict', 'eu acquis', 'eu institutions', 'appropriate independence', 'certain royal decrees', 'communities', 'provisional eurojust unit', 'eu level', 'specific predicate offences', 'international markets', 'belgian companies', 'commission report', 'nominate reserve members', 'crisis situation head-on', 'effective measures', 'other rule', 'progress', 'particular focus', 'eu heads', 'eu budget resources', 'primary purpose', 'conclusion', 'articles', 'documents', 'cooperation', 'commitments', 'clear procedures', 'supranational efforts', 'awkward situations', 'younger patients', 'national governments', 'oecd conventions', 'award process', 'material competence', 'certain contracting', 'national anti-corruption policies', 'criminal policy', 'political guideline', 'enormous progress', 'other countries', 'normal business contacts', 'national courts', 'paper', 'belgian individuals', 'national contact points', 'clear delimitation', 'foreign official', 'clear stance', 'governance-related issues', 'investigative techniques', 'future initiatives', 'epac member organisations', 'conventions', 'certain sectors', 'support', 'clear rules', 'cards assistance programme', 'corporate responsibility', 'institution-building good governance', 'policy development', 'other eu institutions', 'practical guide', 'coherent approach', 'adoption', 'innovative public services group', 'law instruments', 'international level', 'operational cooperation', 'higher heart rate', 'union', 'improved co-ordination', 'judicial review', 'important role', 'annual meetings', 'several anti-corruption projects', 'levels', 'international activities', 'comprehensive approach', 'new borders', 'ministers', 'genuine follow-up monitoring', 'warning signs', 'future policy priorities', 'document', 'phare programme', 'transparent funding', 'strong political commitment', 'illicit business interests', 'alarm signals', 'other interest groups', '23.10.1996', 'local agents', 'guidelines', 'investigative tools', 'annual report', 'clear signal', 'network', 'prevention', 'particular relevance', 'way', 'main partners', 'departments', 'interest', 'interests', 'negative publicity', 'civil law convention', 'such conventions', 'only way', 'external aid', '12.1.2008', 'belgian government departments', 'international co-operation', 'duplication', 'alleged breaches', 'firm line', 'specific provisions', 'professions', 'potential conflicts', 'candidate countries', 'sixth full member', 'tolerable phenomenon', 'economic performance', 'aforementioned eu', 'ras-blocker uptitration', 'substantial proceeds', 'main international initiatives', 'international corporate integrity handbook', 'application', 'specialised anti-corruption services', 'practical breakdown', 'interest situations', 'special attention', 'concrete actions', 'general strengthening', 'signal', 'other financial interests', 'key factor', 'external aspects', 'general political agreement', 'interinstitutional agreement', 'single anti-corruption unit', 'trade unions', 'passive * corruption', 'degree', 'oecd working group', 'procedures', 'advice', 'semi-public entities', 'purpose', 'aid', 'criminal law perspective', 'clear timeframe', 'vulnerable position', 'ways', 'management', 'e.g. fraud', 'other servants', 'serious cases', 'proposal', 'mediterranean partners', 'foreign officials', 'speedy ratification', 'treaty', 'investigation', 'icc publication', 'â‰¥40 %', 'case participation', 'interinstitutional investigative powers', 'non -governmental organisations', 'affected aspects', 'necessary dialogue', 'beneficiary state', 'global cost', 'three-year period', 'sunny destination', 'capacity', 'such conflict', 'general principles', 'dose', 'aforesaid recommendations', 'second money laundering directive', 'comprehensive eu policy', 'decisions', 'ambulatory patients', 'various levels', 'subject', 'relevant areas', 'new millennium', 'screen candidates', 'various markets', 'behaviour', 'independent european public prosecutor', 'united nations convention', 'relevant players', 'reasoned decision', 'basic ethical principles', 'competent authorities', 'accession negotiations', 'appropriate remedies', 'staff', 'constituent elements', 'judicial cooperation', 'legal protection', 'corruption-related issues', 'public administration structures', 'inter alia fraud', 'member state', 'organisational structure', 'regular contacts', 'other bodies', 'public procurement directives', 'essential issue', 'personal situation', 'consultation procedure', 'administrative investigation', 'trust', 'belgian federal government', 'ec budget', 'fraction', 'dialogue', 'foreign legislation', 'better capacity', 'ad hoc committee', 'repressive measures', 'formal invitation', 'pilot role', 'european area', 'same degree', 'new initiatives', 'commission staff', 'issues', 'european union strategy', 'specific financing agreements', 'instrument', 'olaf enquiries', 'serious forms', 'thorough scrutiny', 'eu countries', 'many years', 'parliamentary term', 'national corruption scandals', 'aforesaid joint action', 'international companies', 'absolute priority', 'active maintenance', 'incidental condition', 'co-ordination', 'possible legal discrepancies', 'danish initiative', 'main international anti-corruption instruments', 'information', 'forthcoming accession', 'human rights', 'conduct', 'state', 'inter alia', 'special nature', 'relevant national agencies', 'better renal function', 'other illegal activity', 'official capacity', 'priorities', 'minimum rules', 'particular rules', 'last update', 'ratification', 'broad support', 'comprehensive preventative policy', 'positions', 'preventive measures', 'court', 'problem', 'international instruments', 'such rules', 'present communication', 'overall strategic approach com', 'constitutional affairs', 'federal government department', 'corrupt companies', 'office', 'national legislation', 'detailed interinstitutional approach', 'other undue advantage', 'first stage', 'sound decisions', 'such guidance', 'award', 'delicate situations', 'action', 'longer term', 'guideline-recommended target dose', 'other economic crimes', 'comprehensive policy', 'clear definition', 'eu strategy', 'main ngo', 'public tender procedure', 'fractions', 'time', 'criminal law matters', 'overwhelming majority', 'better protection', 'future un convention', 'first time', 'european public administration', 'enhanced alignment', 'service', 'international procurement', 'cologne european council', 'political dialogue', 'sme edition', 'high-profile cases', 'ratification instruments', 'international cooperation', 'controls', 'domestic law', 'serious fraud', 'information procedures', 'joint investigations', 'key element', 'main measures', 'other international fora', 'phenomenon', 'possible application', 'plan', 'particular project', 'eu country', 'standard clauses', 'part', 'country', 'investigations', 'central message', 'specialised anti-corruption authorities', 'information exchange', 'foreign aid programmes', 'spironolactone use', 'more information', 'such payments', 'regular assessment', 'process', 'regular integrity courses', 'other international organisations', 'powerful tool', 'other internal policies', 'council regulation', 'reading', 'responsibility', 'last resort', 'broad class', 'former members', 'criminal law convention', 'project financing', 'affected party', 'particular article', 'economic cooperation', 'aforementioned eu instruments', 'development', 'concentrated eu initiatives', 'applicable legislation', 'www.fightingcorruption.org', 'control', 'greco membership', 'foreign markets', 'law enforcement measures', 'assistance', 'law principles', 'same rule', 'closed doors', 'community competencies', 'other reward', 'first subparagraph', 'common definition', 'particular country', 'concept', 'specific article', 'significant reductions', 'report com', 'commission decision', 'community interests', 'responsible behaviour', 'secret triangular links', 'firm legislation', 'article k.3', 'public trust', 'financial support', 'council act', 'important tool', 'basic rules', 'definitions', 'union policy', 'general agreement', 'edition', 'crime prevention', 'viable option', 'adequate salary', 'broad consultation', 'interagency co-operation', 'draft convention', 'â‰¥10 %', 'future eu policy', 'further information', 'foreign investment', 'concrete implementation', 'possible breaches', 'community competence', 'national mechanisms', 'consecutive patients', 'ec funds', 'parliamentary proceedings', 'right conclusions', 'council framework decision', 'community co-operation', 'obligations', 'international pressure', 'initiatives', 'various initiatives', 'jurisdiction world-wide', 'separate amount', 'different co-operation agreements', 'sufficient time', 'forthcoming communication', 'eu territory', 'different areas', 'other international instruments', 'strategies', 'un general assembly', 'responsible management', 'minimum standards', 'administrative ethics', 'clearest possible picture', 'official ethics', 'direct victims', 'case', 'technical support', 'beta-blocker therapy', 'law enforcement authorities', 'assessments', 'such advantage', 'person', 'committee', 'new provisions', 'world', 'offices', 'full text', 'non-discriminatory access', 'business activities', 'illegal reduction', 'member', 'community', 'possible decision', 'best safeguard', 'same corrupt behaviour', 'community rules', 'good administrative behaviour', 'proper functioning', 'global programme', 'single uniform definition', 'other policy objectives', 'technical assistance', 'possible action', 'far-reaching implications', 'fundamental element', 'further steps', 'rotation', 'clear decision-making procedures', 'such expenses', 'eu mechanism', 'such guidelines', 'new dividing lines', 'reports', 'supply side', 'other persons', 'strict evaluation mechanism', 'olaf activities', 'alleged breach', 'further legislative proposal', 'eu-wide adoption', 'contact points', 'fundamental freedoms', 'other wto parties', 'structures', 'context', 'strong influence', 'ratifications', 'eu member states', 'broader socio-economic sense', 'hospital admission', 'illicit purposes', 'hf readmissions', 'same document', 'unnecessary resources', 'biggest challenge', 'political balance', 'iraqi officials', 'community financial interests', 'benchmarks', 'protection instruments', 'belgian anti-corruption policy', 'influences', 'highest level', 'oj l', 'best corruption prevention strategy', 'dose increase', 'fresh impetus', 'clinical outcome', 'institutional safeguards', 'new eu members states', 'level playing field', 'strasbourg resolution'}\n"
     ]
    },
    {
     "data": {
      "text/plain": "(0.22419354838709676,\n 0.35732647814910024,\n 0.27552031714568875,\n {'accounting irregularities',\n  'acp-eu partnership agreement',\n  'acquis',\n  'action plan',\n  'active corruption',\n  'ad-hoc committee',\n  'administrations',\n  'advantage',\n  'advisory committee',\n  'aggravating circumstances',\n  'all-cause mortality',\n  'anti-bribery laws',\n  'anti-corruption culture',\n  'anti-corruption instruments',\n  'anti-corruption network',\n  'anti-corruption policy',\n  'anti-corruption standards',\n  'auditors',\n  'authorities',\n  'authority',\n  'belgian criminal code',\n  'blood pressure',\n  'bribery',\n  'business community',\n  'business relations',\n  'business world',\n  \"cadre d'auto-ã©valuation des fonctions publiques\",\n  'civil servants',\n  'civil service',\n  'civil society',\n  'combat corruption',\n  'commercial dispute',\n  'commission',\n  'common assessment framework',\n  'common market',\n  'companies',\n  'company',\n  'competition',\n  'contracting authorities',\n  'contracting authority',\n  'corporate liability',\n  'corporate taxpayer',\n  'corrupt activities',\n  'corrupt acts',\n  'corrupt behaviour',\n  'corrupt business practices',\n  'corrupt practices',\n  'corruption',\n  'corruption case',\n  'corruption cases',\n  'corruption offences',\n  'corruption risks',\n  'costs',\n  'cotonou agreement',\n  'council',\n  'crime',\n  'crime records',\n  'criminal abuses',\n  'criminal act',\n  'criminal behaviour',\n  'criminal code',\n  'criminal conspiracy',\n  'criminal enquiries',\n  'criminal law',\n  'criminal liability',\n  'criminal offence',\n  'criminal offences',\n  'criminal organisation',\n  'criminal penalties',\n  'criminal proceedings',\n  'criminal prosecution',\n  'custodial sentence',\n  'custodial sentences',\n  'data protection',\n  'decision',\n  'definitive judgement',\n  'development aid',\n  'direct universal suffrage',\n  'directive',\n  'disciplinary rules',\n  'disciplinary sanctions',\n  'double criminality',\n  'economic damage',\n  'election spending',\n  'enforcement',\n  'enterprises',\n  'ethical behaviour',\n  'ethical enterprise',\n  'eu',\n  'eu council',\n  'europe',\n  'european anti-corruption network',\n  'european anti-fraud office',\n  'european arrest warrant',\n  'european commission',\n  'european communities',\n  'european community',\n  'european council',\n  'european parliament',\n  'european treaty series',\n  'european union',\n  'evaluation mechanisms',\n  'ex officio',\n  'export credits',\n  'external financial control',\n  'fair competition',\n  'federal civil service',\n  'federal criminal investigation police',\n  'federal government departments',\n  'fighting corruption',\n  'financial crime',\n  'financial interests',\n  'financial investigations',\n  'financial irregularities',\n  'financial transactions',\n  'financing',\n  'framework decision',\n  'framework decisions',\n  'fraud',\n  'free trade',\n  'fundamental ethical obligations',\n  'gains',\n  'general assembly',\n  'good governance',\n  'government',\n  'government contracts',\n  'government procurement',\n  'grey areas',\n  'hague programme',\n  'hazard ratio',\n  'heart failure',\n  'heart rate',\n  'home affairs',\n  'hospitalization',\n  'illicit financing',\n  'improper influence',\n  'in-house corruption',\n  'integrity',\n  'integrity policy',\n  'internal appeal procedures',\n  'internal investigations',\n  'internal market',\n  'international accounting standards',\n  'international market',\n  'interpretative jurisdiction',\n  'investment',\n  'joint action',\n  'joint venture',\n  'judicial authorities',\n  'jurisdiction',\n  'laundering',\n  'law',\n  'law enforcement',\n  'laws',\n  'left ventricular ejection fraction',\n  'legal action',\n  'legal framework',\n  'legal instruments',\n  'legal obligations',\n  'legal person',\n  'legal persons',\n  'legal status',\n  'legislation',\n  'liability',\n  'mandate',\n  'market',\n  'millennium strategy',\n  'misdemeanour',\n  'misdemeanours',\n  'money laundering',\n  'moniteur belge',\n  'mutual legal assistance',\n  'neurohumoral blockers',\n  'ngo',\n  'non-governmental organisation',\n  'offence',\n  'offences',\n  'official',\n  'official journal',\n  'officials',\n  'open markets',\n  'organised crime',\n  'parliament',\n  'party financing',\n  'passive corruption',\n  'personal interest',\n  'petty corruption',\n  'police',\n  'police officers',\n  'policies',\n  'policy',\n  'political corruption',\n  'political corruption scandals',\n  'political parties',\n  'political scandals',\n  'predicate offences',\n  'preliminary rulings',\n  'private bribery',\n  'private corruption',\n  'private gain',\n  'private sector',\n  'private sector corruption',\n  'private-to-private corruption',\n  'procurement',\n  'professional ethics',\n  'professional misconduct',\n  'professional secrecy',\n  'prosecution',\n  'prosecutor',\n  'prosecutors',\n  'public accounting system',\n  'public administration',\n  'public administrations',\n  'public agents',\n  'public authorities',\n  'public bribery',\n  'public contracts',\n  'public institution',\n  'public institutions',\n  'public interest',\n  'public office',\n  'public official',\n  'public officials',\n  'public procurement',\n  'public procurement procedures',\n  'public prosecutor',\n  'public sector',\n  'public service provider',\n  'public services',\n  'punishable offence',\n  'ras blockers',\n  'renal function',\n  'renin-angiotensin system',\n  'renin-angiotensin system blocker',\n  'report',\n  'royal decree',\n  'rule',\n  'rules',\n  'serious wrongdoings',\n  'single market',\n  'slush money',\n  'societies',\n  'society',\n  'south-east europe',\n  'spironolactone',\n  'staff regulations',\n  'state contracts',\n  'statutory audit',\n  'statutory auditor',\n  'statutory audits',\n  'subsidy laws',\n  'tax administration',\n  'tax consultants',\n  'tax deductibility',\n  'tax legislation',\n  'tax offences',\n  'tax payments',\n  'term',\n  'third parties',\n  'third party',\n  'trade',\n  'transborder corruption cases',\n  'transparency',\n  'transparency international',\n  'undue advantage',\n  'united nations',\n  'united nations global compact',\n  'uptitration',\n  'uptitrations',\n  'victims',\n  'western europe',\n  'western nis',\n  'white lists',\n  'white paper',\n  'world bank',\n  'world economy',\n  'wrongful retention',\n  'î²-blockers'},\n {'abuse of power',\n  'accommodation',\n  'accomplices',\n  'accountability',\n  'accountable',\n  'accountants',\n  'accounting',\n  'accounting offences',\n  'accounting standards',\n  'accounts',\n  'acp',\n  'action statement',\n  'active',\n  'acts of bribery',\n  'ad hoc committee for the negotiations of a united nations convention against corruption',\n  'additional tenths',\n  'adjudicating',\n  'adjudication',\n  'administrative',\n  'admission',\n  'advantages',\n  'advisory committee on the conduct of members',\n  'agis',\n  'agreement on government procurement',\n  'algeria',\n  'ambulatory',\n  'american',\n  'anti-bribery convention',\n  'anti-corruption',\n  'anti-corruption agencies',\n  'anti-corruption authorities',\n  'anti-corruption laws',\n  'anti-corruption policies',\n  'anti-corruption services',\n  'anti-corruption strategy',\n  'anti-fraud',\n  'assets',\n  'audit',\n  'auditing',\n  'auditing standards',\n  'austria',\n  'balkan',\n  'balkans',\n  'banks',\n  'basis of tax assessment',\n  'belarus',\n  'belgium',\n  'beta-blocker',\n  'black-lists',\n  'blacklist',\n  'blacklisting',\n  'blacklists',\n  'blackmail',\n  'board of directors',\n  'board of public prosecutors-general',\n  'breach',\n  'breached',\n  'breaches',\n  'bribe',\n  'bribe giving',\n  \"bribe payers ' index\",\n  'bribe taking',\n  'bribe-paying',\n  'bribed',\n  'bribee',\n  'briber',\n  'bribes',\n  'bribing',\n  'budapest',\n  'budget',\n  'bulgaria',\n  'burden of proof',\n  'bureau of official ethics and good practice',\n  'bureaucratisation',\n  'business',\n  'business contacts',\n  'business interests',\n  'business practices',\n  'business transactions',\n  'businesses',\n  'caf',\n  'capital market',\n  'cards',\n  'cases of corruption',\n  'central department on combating corruption',\n  'central office for the repression of corruption',\n  'cepol',\n  'chamber of commerce',\n  'ci',\n  'civil',\n  'civil law',\n  'civil law convention on corruption',\n  'clinical',\n  'co-morbidity',\n  'code of conduct',\n  'code of good administrative behaviour',\n  'codes of conduct',\n  'collection of evidence',\n  'collusion',\n  'collusive',\n  'cologne',\n  'combating corruption',\n  'commercial',\n  'commissions',\n  'committee of independent experts',\n  'committee of ministers',\n  'committee on constitutional affairs',\n  'committee on legal affairs',\n  'communication on wider europe - neighbourhood',\n  'compliance',\n  'composite end-point',\n  'compromise',\n  'confidence interval',\n  'confiscate',\n  'confiscation',\n  'conflict of interest',\n  'conflicts of interest',\n  'conflicts of interests',\n  'consolidated accounts',\n  'contract',\n  'contracting',\n  'contractors',\n  'contracts',\n  \"convention on the protection of the european communities ' financial interests\",\n  'convict',\n  'convicted',\n  'copenhagen',\n  'corporate',\n  'corporate governance',\n  'corrupt',\n  'corruption scandals',\n  'corruption-related',\n  'cost',\n  'costs of transactions',\n  'cotonou',\n  'council of europe',\n  'council of the european union',\n  'count of corruption',\n  'court of auditors',\n  'court of justice',\n  'court of justice of the european union',\n  'courts',\n  'cream something off payments',\n  'criminal',\n  'criminal law convention on corruption',\n  'criminal law enforcement',\n  'criminal law legislation on corruption',\n  'criminalises',\n  'criminalising',\n  'criminality',\n  'criminally liable',\n  'criminals',\n  'customs',\n  'declaration of financial interests',\n  'deducted',\n  'denmark',\n  'departments of government',\n  'deprivation of liberty',\n  'dereliction',\n  'direct',\n  'directives',\n  'directorate for combating economic and financial crime',\n  'disbursements',\n  'disciplinary',\n  'disciplinary bodies',\n  'disinterest',\n  'dispute',\n  'disputes',\n  'distortion of competition',\n  'doha',\n  'doha wto 4th ministerial conference',\n  'double-checking',\n  'duty of loyalty',\n  'ec',\n  'ecj',\n  'economic',\n  'economic crimes',\n  'elections',\n  'embezzle',\n  \"employers ' organization\",\n  'epac',\n  'equitable',\n  'ethical',\n  'ethically',\n  'eu-wide',\n  'euratom',\n  'eurojust',\n  'european court of justice',\n  'european economic and social committee',\n  'european partners against corruption',\n  'europol',\n  'evaluation of the activities of the european anti-fraud office',\n  'evidence',\n  'expenditure',\n  'expenditures',\n  'expenses',\n  'exploitation',\n  'exploited',\n  'extortion',\n  'extradition',\n  'favoritism',\n  'feb',\n  'federal department of finance',\n  'federal department of the budget',\n  'federal government department of justice',\n  'federal government department of the budget and management control',\n  'federal police',\n  'federal republic of germany',\n  'federation of enterprises in belgium',\n  'fight against corruption',\n  'fight against fraud',\n  'financial',\n  'financial and fiscal crime',\n  'financial management',\n  'financial offences',\n  'financial prosecutor',\n  'financial services action plan',\n  'financial statements',\n  'fine',\n  'fines',\n  'fiscal',\n  'foreign corrupt practices act',\n  'framework of good practice',\n  'freedom of bidding',\n  'freezing',\n  'funding',\n  'funds',\n  'gdp',\n  'gifts',\n  'global programme against corruption',\n  'good-governance',\n  'goods',\n  'governance-related',\n  'governments',\n  'gpa',\n  'gratuity',\n  'greco',\n  'green paper',\n  'group of states against corruption',\n  'hf',\n  'hf with preserved ejection fraction',\n  'hfpef',\n  'hfref',\n  'hidden',\n  'hospital',\n  'hospitalized',\n  'hr',\n  'ias',\n  'icc',\n  'icc belgium',\n  'idoc',\n  'illegal',\n  'illegal activity',\n  'illegitimate',\n  'illicit',\n  'illicit proceeds',\n  'illicitly',\n  'immovable property',\n  'impartiality',\n  'impartially',\n  'imprisonment',\n  'income',\n  'income tax law',\n  'incriminations',\n  'indirect financial benefit',\n  'infringement',\n  'integer',\n  'integrity standards',\n  'integrity-enhancing',\n  'intermediaries',\n  'internal audit schemes',\n  'international standards on auditing',\n  'internet portal',\n  'investigation and disciplinary office',\n  'investigation power',\n  'iraq',\n  'irregularities',\n  'isa',\n  'italy',\n  'judge',\n  'judges',\n  'judicial',\n  'judiciary',\n  'jurisdictions',\n  'justice',\n  'lawfully provided services',\n  'lawyers',\n  'lebanon',\n  'legal',\n  'legal acts',\n  'legal definition',\n  'legal instrument',\n  'legally',\n  'legislative',\n  'legislative proposal',\n  'legitimately',\n  'levied',\n  'liable',\n  'licensing',\n  'lobbying',\n  'luxembourg',\n  'm. alliot-marie',\n  'madrid',\n  'magistracy',\n  'magistrates',\n  'malpractices',\n  'mandated',\n  'market conditions',\n  'market procedures',\n  'markets',\n  'memorandum of understanding',\n  'misappropriation',\n  'misconduct',\n  'mismanagement',\n  'moldova',\n  'monitoring mechanism',\n  'monitoring standards',\n  'monopolies',\n  'movable',\n  'national security plan 2008 - 2011',\n  'natural',\n  'natural person',\n  'natural persons',\n  'neighbourhood policy',\n  'network of expertise on corruption',\n  'network of expertise on economic ',\n  'non - governmental organisations',\n  'non-transparent',\n  'notaries',\n  'objectively',\n  'oecd',\n  'oecd convention on combating bribery of foreign public officials in international business transactions',\n  'oecd working group on bribery',\n  'off-books accounting',\n  'offenders',\n  'office for administrative ethics and deontology',\n  'office-holders',\n  'oj',\n  'olaf',\n  'organisation for economic cooperation and development',\n  'organised and transborder corruption',\n  'organised crime groups',\n  'outcome',\n  'p',\n  'pact of silence',\n  'paid',\n  'passive',\n  'passive bribery',\n  'passive transborder corruption',\n  'patients',\n  'pay',\n  'paying',\n  'payment',\n  'payments',\n  'pef',\n  'penalization',\n  'penalizes',\n  'penalties',\n  'penalty',\n  'penalty of imprisonment',\n  'phare',\n  'pif-convention',\n  'police on web',\n  'policy against corruption',\n  'policy areas',\n  'political',\n  'political agreement',\n  'politicians',\n  'preserved left ventricular ejection fractions',\n  'price',\n  'primacy of the rule of law',\n  'principal',\n  'principles of conduct',\n  'private',\n  'private gains',\n  'private sectors',\n  'private-to-private',\n  'privatisation',\n  'proceeds',\n  'professional integrity',\n  'prohibition',\n  'prosecute',\n  'prosecuted',\n  'prosecuting',\n  'public',\n  'public invitations to tender',\n  'public money',\n  'public policy',\n  'public sectors',\n  'public servants',\n  'public tender',\n  'punishable',\n  'punished',\n  'punishes',\n  'punishing',\n  'punishment',\n  'purchasing director',\n  'rapporteur',\n  'ras',\n  'ras -',\n  'ras-blocker',\n  'readmissions',\n  'reclaim',\n  'recognitions',\n  'reduced',\n  'reduced ejection fraction',\n  'ref',\n  'registration for transfers of ownership',\n  'regulation',\n  'regulations',\n  'reimbursement',\n  'remunerated',\n  'remuneration',\n  'reported',\n  'reporting',\n  'resolution',\n  'retaliation',\n  'revenue',\n  'reward',\n  'rights',\n  'romania',\n  'rome',\n  'royal decrees',\n  'rule of law',\n  'rule of law principles',\n  'rules of conduct',\n  'rules of procedure',\n  'rules of the procedure',\n  'russia',\n  'saddam hussein',\n  'salary',\n  'san francisco',\n  'sanctions',\n  'self-regulatory regimes',\n  'semi-public',\n  'sentence',\n  'sentences',\n  'service for criminal policy',\n  'significant',\n  'significantly',\n  'small and medium-sized enterprises11',\n  'sme',\n  'social responsibility',\n  'socio-economic',\n  'standards of conduct',\n  'statute',\n  'statutory',\n  'strasbourg',\n  'subcontracts',\n  'subsidies',\n  'subsistence expenses',\n  'tactless',\n  'tampere',\n  'tax',\n  'taxpayers',\n  'tec',\n  'tender',\n  'tenderer',\n  'tenderers',\n  'term of office',\n  'termination of a contract',\n  'teu',\n  'therapy',\n  'trade organization',\n  'trade policy',\n  'trade union',\n  'trading',\n  'transactions',\n  'transfer of proceedings',\n  'transparency international belgium',\n  'transparent',\n  'travel',\n  'treaty of amsterdam',\n  'treaty on european union',\n  'turkey',\n  'uclaf',\n  'ukraine',\n  'un',\n  'un convention against corruption',\n  'un corruption',\n  'undeclared donations',\n  'united nations convention against corruption',\n  'unremunerated',\n  'us',\n  'usa',\n  'usufruct',\n  'victim',\n  'vienna',\n  'vote',\n  'voting',\n  'voting freedom',\n  'vulnerability to fraud',\n  'well-paid',\n  'whistle blowing',\n  'whistleblowers',\n  'whistleblowing',\n  'witness',\n  'witnesses',\n  'wto',\n  'î²-blocker'},\n {'%',\n  '12.1.2008',\n  '23.10.1996',\n  'absolute priority',\n  'accession',\n  'accession negotiations',\n  'act',\n  'action',\n  'actions',\n  'active maintenance',\n  'activities',\n  'acts',\n  'ad hoc committee',\n  'adequate internal audit schemes',\n  'adequate salary',\n  'administrative co-operation',\n  'administrative ethics',\n  'administrative integrity',\n  'administrative investigation',\n  'adoption',\n  'advice',\n  'affairs',\n  'affected aspects',\n  'affected party',\n  'aforementioned eu',\n  'aforementioned eu instruments',\n  'aforesaid joint action',\n  'aforesaid millennium strategy',\n  'aforesaid recommendations',\n  'agis conference',\n  'agreement',\n  'agreements',\n  'aid',\n  'alarm signals',\n  'alleged breach',\n  'alleged breaches',\n  'ambulatory patients',\n  'american company',\n  'amounts',\n  'annual basis',\n  'annual meetings',\n  'annual report',\n  'anti-corruption clauses',\n  'anti-corruption prosecutors',\n  'applicable legislation',\n  'application',\n  'approach',\n  'appropriate actor',\n  'appropriate follow-up',\n  'appropriate independence',\n  'appropriate modalities',\n  'appropriate remedies',\n  'appropriate work',\n  'area',\n  'areas',\n  'article',\n  'article k.3',\n  'articles',\n  'assessments',\n  'assistance',\n  'attention',\n  'audit profession',\n  'award',\n  'award process',\n  'awareness',\n  'awkward situations',\n  'bank',\n  'basic ethical principles',\n  'basic rules',\n  'basis',\n  'behaviour',\n  'belgian anti-corruption policy',\n  'belgian companies',\n  'belgian federal government',\n  'belgian government',\n  'belgian government department',\n  'belgian government departments',\n  'belgian individuals',\n  'belgian law',\n  'belgian network',\n  'benchmarks',\n  'beneficiary state',\n  'beneficiary states',\n  'best corruption prevention strategy',\n  'best practice',\n  'best practices',\n  'best safeguard',\n  'best signal',\n  'beta-blocker therapy',\n  'better capacity',\n  'better protection',\n  'better renal function',\n  'biggest challenge',\n  'bodies',\n  'body',\n  'brief list',\n  'broad class',\n  'broad consultation',\n  'broad support',\n  'broader definition',\n  'broader socio-economic sense',\n  'business activities',\n  'campaign expenditures',\n  'candidate countries',\n  'capacity',\n  'capacity building',\n  'cards assistance programme',\n  'case',\n  'case participation',\n  'cases',\n  'central message',\n  'central office',\n  'certain cases',\n  'certain contracting',\n  'certain countries',\n  'certain country',\n  'certain restrictions',\n  'certain royal decrees',\n  'certain sectors',\n  'challenge',\n  'character',\n  'civil aspects',\n  'civil law convention',\n  'civil law conventions',\n  'clear benchmark',\n  'clear decision-making procedures',\n  'clear definition',\n  'clear delimitation',\n  'clear political determination',\n  'clear procedures',\n  'clear rules',\n  'clear signal',\n  'clear stance',\n  'clear timeframe',\n  'clearest possible picture',\n  'clinical outcome',\n  'closed doors',\n  'co-operation',\n  'co-operation framework',\n  'co-ordination',\n  'coherent approach',\n  'collective action guide',\n  'collusive behaviour',\n  'cologne european council',\n  'com',\n  'commercial players',\n  'commission decision',\n  'commission evaluation report',\n  'commission green paper',\n  'commission report',\n  'commission staff',\n  'commitments',\n  'committee',\n  'common definition',\n  'common definitions',\n  'common framework',\n  'common integrity standards',\n  'common positions',\n  'common security threats',\n  'common standards',\n  'common values',\n  'communication',\n  'communities',\n  'community',\n  'community co-operation',\n  'community competence',\n  'community competencies',\n  'community directives',\n  'community financial interests',\n  'community interests',\n  'community rules',\n  'community system',\n  'competent authorities',\n  'comprehensive approach',\n  'comprehensive dialogue',\n  'comprehensive effort',\n  'comprehensive eu policy',\n  'comprehensive eu policy corruption',\n  'comprehensive framework',\n  'comprehensive multi-faceted policy',\n  'comprehensive policy',\n  'comprehensive preventative policy',\n  'concentrated eu initiatives',\n  'concept',\n  'concerns',\n  'conclusion',\n  'conclusions',\n  'concrete actions',\n  'concrete implementation',\n  'concrete quid-pro-quo bribe giving',\n  'conduct',\n  'conflict',\n  'conflicts',\n  'consecutive patients',\n  'constituent elements',\n  'constitutional affairs',\n  'consultancy agreements',\n  'consultation procedure',\n  'consultations',\n  'contact points',\n  'contact-point network',\n  'context',\n  'continuous basis',\n  'control',\n  'controls',\n  'convention',\n  'conventions',\n  'cooperation',\n  'copenhagen european council',\n  'corporate financial statements',\n  'corporate initiatives',\n  'corporate life',\n  'corporate responsibility',\n  'corrupt companies',\n  'corruptie voorkomen',\n  'corruption prosecution policy',\n  'corruption undermines',\n  'corruption-related issues',\n  'council act',\n  'council declaration',\n  'council framework decision',\n  'council regulation',\n  'countries',\n  'country',\n  'court',\n  'courtesy usage',\n  'covert links',\n  'crime prevention',\n  'crimes',\n  'criminal behaviours',\n  'criminal code articles',\n  'criminal law convention',\n  'criminal law matters',\n  'criminal law perspective',\n  'criminal law provisions',\n  'criminal law sense',\n  'criminal policy',\n  'crisis situation head-on',\n  'cross-border approach',\n  'damaging consequences',\n  'danish initiative',\n  'decisions',\n  'definition',\n  'definitions',\n  'degree',\n  'delicate situations',\n  'democratic principles',\n  'department',\n  'departments',\n  'detailed interinstitutional approach',\n  'development',\n  'dialogue',\n  'different areas',\n  'different authorities',\n  'different co-operation agreements',\n  'direct infringement',\n  'direct payment',\n  'direct victim',\n  'direct victims',\n  'disciplinary point',\n  'document',\n  'documents',\n  'domestic law',\n  'dose',\n  'dose changes',\n  'dose increase',\n  'double-faced role',\n  'draft convention',\n  'draft framework decision',\n  'duplication',\n  'e accounting standards',\n  'e.g. fraud',\n  'early stage',\n  'ec budget',\n  'ec funds',\n  'ec treaty',\n  'economic cooperation',\n  'economic performance',\n  'edition',\n  'effective criminal law enforcement',\n  'effective functioning',\n  'effective means',\n  'effective measures',\n  'effective protection',\n  'efforts',\n  'enhanced alignment',\n  'enhanced transparency',\n  'enormous progress',\n  'entire private sector',\n  'epac member organisations',\n  'equivalent conditions',\n  'essential element',\n  'essential elements',\n  'essential issue',\n  'eu acquis',\n  'eu anti-corruption instruments',\n  'eu anti-corruption policy',\n  'eu budget resources',\n  'eu convention',\n  'eu countries',\n  'eu country',\n  'eu forum',\n  'eu governments',\n  'eu heads',\n  'eu institutions',\n  'eu instruments',\n  'eu level',\n  'eu mechanism',\n  'eu member states',\n  'eu ministers',\n  'eu officials',\n  'eu strategy',\n  'eu territory',\n  'eu-wide adoption',\n  'european area',\n  'european court',\n  'european financial prosecutor',\n  'european integration',\n  'european partners',\n  'european professional associations',\n  'european public administration',\n  'european public administration integrity',\n  'european public prosecutor',\n  'european union strategy',\n  'europol convention',\n  'evaluation report',\n  'expert advice',\n  'extended mandate',\n  'external aid',\n  'external aspects',\n  'factors',\n  'far-reaching implications',\n  'federal civil servants',\n  'federal government',\n  'federal government department',\n  'federal republic',\n  'few dollars',\n  'fields',\n  'fight',\n  'financial support',\n  'firm legislation',\n  'firm line',\n  'first global instrument',\n  'first important steps',\n  'first part-session',\n  'first protocol',\n  'first reading',\n  'first stage',\n  'first subparagraph',\n  'first time',\n  'follow-up',\n  'following core elements',\n  'following tasks',\n  'foreign aid programmes',\n  'foreign investment',\n  'foreign legislation',\n  'foreign markets',\n  'foreign official',\n  'foreign officials',\n  'foreign public official',\n  'foreign public officials',\n  'formal invitation',\n  'former members',\n  'former public companies',\n  'forthcoming accession',\n  'forthcoming communication',\n  'fraction',\n  'fractions',\n  'framework',\n  'fresh impetus',\n  'full commission',\n  'full text',\n  'fundamental element',\n  'fundamental freedoms',\n  'further campaigns',\n  'further delay',\n  'further development',\n  'further information',\n  'further legislative proposal',\n  'further momentum',\n  'further steps',\n  'future eu policy',\n  'future initiatives',\n  'future policy priorities',\n  'future staff regulations',\n  'future trends',\n  'future un convention',\n  'general agreement',\n  'general political agreement',\n  'general principles',\n  'general problem',\n  'general public',\n  'general role',\n  'general strengthening',\n  'genuine follow-up monitoring',\n  'global cost',\n  'global programme',\n  'good administrative behaviour',\n  'good management',\n  'good practice',\n  'good practices',\n  'good start',\n  'governance-related issues',\n  'greco membership',\n  'group',\n  'groups',\n  'guideline-recommended target dose',\n  'guidelines',\n  'health sector',\n  'hf hospitalization',\n  'hf readmissions',\n  'hidden phenomenon',\n  'high investment',\n  'high professional standards',\n  'high-profile cases',\n  'higher heart rate',\n  'higher investment',\n  'highest level',\n  'hospital admission',\n  'human rights',\n  'icc publication',\n  'icc rules',\n  'illegal reduction',\n  'illegitimate private gains',\n  'illicit business interests',\n  'illicit purposes',\n  'implementation',\n  'important contribution',\n  'important eu',\n  'important issue',\n  'important part',\n  'important role',\n  'important subject',\n  'important tool',\n  'improper award',\n  'improved co-ordination',\n  'in-depth evaluation report',\n  'inadequate legal means',\n  'incidental condition',\n  'independence',\n  'independent administrative body',\n  'independent european public prosecutor',\n  'independent experts',\n  'individual rights',\n  'influences',\n  'information',\n  'information exchange',\n  'information procedures',\n  'initiative',\n  'initiatives',\n  'innovative public services group',\n  'inspection bodies',\n  'institution-building good governance',\n  'institutional safeguards',\n  'institutions',\n  'instrument',\n  'instruments',\n  'insufficiencies',\n  'insurance companies',\n  'integer companies',\n  'intentional act',\n  'inter alia',\n  'inter alia fraud',\n  'inter-departmental working group',\n  'interagency co-operation',\n  'interest',\n  'interest groups',\n  'interest situations',\n  'interests',\n  'interinstitutional agreement',\n  'interinstitutional investigative powers',\n  'internal control',\n  'internal decision',\n  'internal measures',\n  'international',\n  'international activities',\n  'international anti-corruption instruments',\n  'international business transactions',\n  'international co-operation',\n  'international companies',\n  'international cooperation',\n  'international corporate integrity handbook',\n  'international efforts',\n  'international instruments',\n  'international legal instrument',\n  'international level',\n  'international markets',\n  'international organisations',\n  'international pressure',\n  'international procurement',\n  'international standards',\n  'international trade',\n  'invaluable source',\n  'investigation',\n  'investigations',\n  'investigative techniques',\n  'investigative tools',\n  'iraqi officials',\n  'irregular conduct',\n  'issue',\n  'issues',\n  'job rotation',\n  'joint investigations',\n  'judicial cooperation',\n  'judicial cooperation network',\n  'judicial review',\n  'jurisdiction world-wide',\n  'key element',\n  'key factor',\n  'key issue',\n  'key objectives',\n  'key representatives',\n  'last resort',\n  'last update',\n  'late 1990s',\n  'latter us legislation',\n  'law enforcement authorities',\n  'law enforcement bodies',\n  'law enforcement measures',\n  'law instruments',\n  'law principles',\n  'legal affairs',\n  'legal point',\n  'legal professions',\n  'legal protection',\n  'level',\n  'level playing field',\n  'levels',\n  'list',\n  'local agents',\n  'longer term',\n  'low co-morbidity burden',\n  'main barriers',\n  'main international anti-corruption instruments',\n  'main international initiatives',\n  'main measures',\n  'main ngo',\n  'main obstacle',\n  'main partners',\n  'major international companies',\n  'major recent scandals',\n  'major reform',\n  'major review',\n  'management',\n  'mandatory character',\n  'many years',\n  'material competence',\n  'maximum sentence',\n  'means',\n  'mechanism',\n  'mediterranean countries',\n  'mediterranean partners',\n  'member',\n  'member state',\n  'member states',\n  'members',\n  'membership',\n  'method',\n  'minimum rules',\n  'minimum standards',\n  'ministers',\n  'model decision',\n  'modern accounting standards',\n  'monitoring',\n  'monitoring procedure',\n  'more information',\n  'more transparent',\n  'most eu member states',\n  'multi-disciplinary integrated method',\n  'multilateral agreement',\n  'multilateral systems',\n  'multinational enterprises',\n  'mutual interest',\n  'narrower criminal law sense',\n  'national anti-corruption policies',\n  'national anti-corruption strategies',\n  'national bodies',\n  'national contact points',\n  'national corruption scandals',\n  'national courts',\n  'national governments',\n  'national institution',\n  'national legislation',\n  'national level',\n  'national mechanisms',\n  'natural resources',\n  'nature',\n  'nearest belgian factory',\n  'necessary dialogue',\n  'necessary measures',\n  'necessary steps',\n  'negative publicity',\n  'neighbouring countries',\n  'network',\n  'networks',\n  'new act',\n  'new borders',\n  'new chapters',\n  'new dividing lines',\n  'new eu members states',\n  'new initiatives',\n  'new millennium',\n  'new neighbourhood policy',\n  'new policy',\n  'new provisions',\n  'new rules',\n  'nominate reserve members',\n  'non -governmental organisations',\n  'non-discriminatory access',\n  'normal business contacts',\n  'noteworthy initiatives',\n  'obligations',\n  'oecd action statement',\n  'oecd bribery convention',\n  'oecd convention',\n  'oecd conventions',\n  'oecd guidelines',\n  'oecd working group',\n  'office',\n  'offices',\n  'official capacity',\n  'official context',\n  'official delegation',\n  'official ethics',\n  'oj c',\n  'oj l',\n  'olaf activities',\n  'olaf enquiries',\n  'olaf expertise',\n  'only way',\n  'operational cooperation',\n  'organisational structure',\n  'organisations',\n  'other actions',\n  'other agents',\n  'other bodies',\n  'other countries',\n  'other economic crimes',\n  'other eu institutions',\n  'other financial interests',\n  'other framework decisions',\n  'other illegal activity',\n  'other income',\n  'other interest groups',\n  'other internal policies',\n  'other international fora',\n  'other international instruments',\n  'other international organisations',\n  'other international regulations',\n  'other methods',\n  'other misdemeanour',\n  'other persons',\n  'other policy objectives',\n  'other reward',\n  'other rule',\n  'other serious professional misconduct',\n  'other servants',\n  'other third countries',\n  'other undue advantage',\n  'other wto parties',\n  'outside experts',\n  'overall strategic approach com',\n  'overall strategy',\n  'overarching concern',\n  'overwhelming majority',\n  'paper',\n  'parliamentary proceedings',\n  'parliamentary term',\n  'part',\n  'participation',\n  'particular article',\n  'particular country',\n  'particular ec law',\n  'particular focus',\n  'particular project',\n  'particular relevance',\n  'particular rules',\n  'parties',\n  'partner countries',\n  'partner country',\n  'parts',\n  'party',\n  'passive * corruption',\n  'peer review',\n  'period',\n  'permanent political dialogue',\n  'person',\n  'personal situation',\n  'personal threats',\n  'persons',\n  'phare programme',\n  'phenomenon',\n  'pilot role',\n  'plan',\n  'policy development',\n  'political balance',\n  'political competition',\n  'political dialogue',\n  'political group',\n  'political guideline',\n  'position',\n  'positions',\n  'possible action',\n  'possible application',\n  'possible areas',\n  'possible breaches',\n  'possible decision',\n  'possible legal discrepancies',\n  'possible penalties',\n  'potential conflicts',\n  'potential public policy implications',\n  'powerful tool',\n  'practical application',\n  'practical breakdown',\n  'practical guide',\n  'practice',\n  'practices',\n  'present communication',\n  'prevention',\n  'preventive measures',\n  'preventive monitoring',\n  'previous instrument',\n  'primary purpose',\n  'prior knowledge',\n  'prior verification',\n  'priorities',\n  'prioritised action',\n  'private entities',\n  'problem',\n  'procedures',\n  'process',\n  'procurement opportunities',\n  'professional duties',\n  'professions',\n  'progress',\n  'progresses',\n  'project financing',\n  'proper functioning',\n  'proper implementation',\n  'proposal',\n  'proposals',\n  'protection',\n  'protection instruments',\n  'protocol',\n  'protocols',\n  'provisional eurojust unit',\n  'public administration structures',\n  'public awareness',\n  'public invitations',\n  'public office holders',\n  'public procurement directives',\n  'public prosecutors-general',\n  'public tender procedure',\n  'public trust',\n  'publicity',\n  'pure law enforcement',\n  'purpose',\n  'quality management tools',\n  'ras-blocker uptitration',\n  'ratification',\n  'ratification instruments',\n  'ratification process',\n  'ratifications',\n  'reading',\n  'reasoned decision',\n  'recent communication',\n  'recent years',\n  'regular assessment',\n  'regular contacts',\n  'regular integrity courses',\n  'regular political dialogue',\n  'relevant administrative capacities',\n  'relevant areas',\n  'relevant documents',\n  'relevant international anti-corruption instruments',\n  'relevant national agencies',\n  'relevant players',\n  'relevant provisions',\n  'relevant reserve member',\n  'relevant rules',\n  'report com',\n  'reports',\n  'repressive measures',\n  'respect',\n  'responsibility',\n  'responsible behaviour',\n  'responsible management',\n  'right conclusions',\n  'right solution',\n  'role',\n  'rotation',\n  'rule 153(3',\n  'same corrupt behaviour',\n  'same degree',\n  'same document',\n  'same rule',\n  'screen candidates',\n  'second money laundering directive',\n  'second protocol',\n  'second report',\n  'second subparagraph',\n  'secret agreement',\n  'secret nature',\n  'secret triangular links',\n  'sector',\n  'sectors',\n  'self-assessment framework',\n  'self-employed person',\n  'semi-public entities',\n  'sensitive posts',\n  'separate amount',\n  'serious cases',\n  'serious consequences',\n  'serious corruption',\n  'serious crime',\n  'serious forms',\n  'serious fraud',\n  'serious matters',\n  'service',\n  'several anti-corruption projects',\n  'several documents',\n  'severe penalties',\n  'signal',\n  'significant partner',\n  'significant reductions',\n  'significant step',\n  'similar activities',\n  'similar benefits',\n  'single anti-corruption unit',\n  'single uniform definition',\n  'situation',\n  'sixth full member',\n  'sme edition',\n  'social partner entities',\n  'social partners',\n  'social rights',\n  'sound companies',\n  'sound decisions',\n  'sound financial management',\n  'sound project management',\n  'special attention',\n  'special investigative techniques',\n  'special nature',\n  'special report',\n  'specialised anti-corruption authorities',\n  'specialised anti-corruption services',\n  'specific accession clauses',\n  'specific article',\n  'specific financing agreements',\n  'specific obligation',\n  'specific predicate offences',\n  'specific provisions',\n  'speedy ratification',\n  'spironolactone use',\n  'staff',\n  'stage',\n  'standard clauses',\n  'standardised application',\n  'state',\n  'states',\n  'strasbourg resolution',\n  'strategic concept',\n  'strategies',\n  'strategy',\n  'strict evaluation mechanism',\n  'strong indirect incentives',\n  'strong influence',\n  'strong political commitment',\n  'stronger coherence',\n  'structure',\n  'structures',\n  'subject',\n  'substantial criminal law legislation',\n  'substantial proceeds',\n  'substantive criminal law',\n  'such advantage',\n  'such advantages',\n  'such behaviour',\n  'such conflict',\n  'such conventions',\n  'such cooperation',\n  'such corruption',\n  'such disclosure',\n  'such expenses',\n  'such funds',\n  'such guidance',\n  'such guidelines',\n  'such payments',\n  'such risk countries',\n  'such rules',\n  'sufficient time',\n  'sunny destination',\n  'supply side',\n  'support',\n  'supranational efforts',\n  'system',\n  'systematic checks',\n  'systematic protection',\n  'tactless civil servants',\n  'tampere conclusions',\n  'tampere presidency conclusion',\n  'tax assessment',\n  'technical assistance',\n  'technical support',\n  'ten principles',\n  'tender procedures',\n  'terms',\n  'text',\n  'texts',\n  'third countries',\n  'thorough scrutiny',\n  'three-year period',\n  'time',\n  'tolerable phenomenon',\n  'total quality management',\n  'total remuneration',\n  'trade unions',\n  'training programmes',\n  'transparency international business principles',\n  'transparent funding',\n  'treaty',\n  'trust',\n  'un general assembly',\n  'unambiguous stance',\n  'union',\n  'union policy',\n  'united nations convention',\n  'unlimited respect',\n  'unnecessary duplication',\n  'unnecessary resources',\n  'unremitting work',\n  'unreported cases',\n  'unselected bidder',\n  'various forms',\n  'various initiatives',\n  'various levels',\n  'various markets',\n  'viable option',\n  'vienna conference',\n  'voluntary principles',\n  'vulnerable position',\n  'vulnerable professions',\n  'warning signs',\n  'way',\n  'ways',\n  'web site',\n  'well-paid civil servants',\n  'western balkan countries',\n  'western balkans',\n  'whole week',\n  'wider europe -neighbourhood',\n  'widespread phenomenon',\n  'work',\n  'work programme',\n  'works',\n  'world',\n  'world-wide fight',\n  'wto doha agenda',\n  'www.fightingcorruption.org',\n  'younger patients',\n  'â‰¥10 %',\n  'â‰¥40 %'})"
     },
     "execution_count": 28,
     "metadata": {},
     "output_type": "execute_result"
    }
   ],
   "source": [
    "os.chdir(folder_name)\n",
    "whole_true_terms=[]\n",
    "whole_extracted_terms=[]\n",
    "results=[]\n",
    "for text_file_name, term_file_name in file_tuples:\n",
    "    true_terms, extracted_terms, precision, recall, f1_score, true_detections, false_gaps, false_detections=test_file(text_file_name, term_file_name)\n",
    "    results.append((true_terms, extracted_terms, precision, recall, f1_score, true_detections, false_gaps, false_detections ))\n",
    "    print('____________________________________________________________________\\n')\n",
    "    whole_true_terms+=true_terms\n",
    "    whole_extracted_terms+=extracted_terms\n",
    "print('___________________________TOTAL_________________________________________\\n')\n",
    "whole_true_terms=set(whole_true_terms)\n",
    "whole_extracted_terms=set(whole_extracted_terms)\n",
    "print('total result')\n",
    "report(whole_true_terms, whole_extracted_terms)"
   ],
   "metadata": {
    "collapsed": false,
    "ExecuteTime": {
     "end_time": "2023-11-26T18:32:09.169428800Z",
     "start_time": "2023-11-26T18:30:49.302411200Z"
    }
   },
   "id": "f07c640dc1e74e39"
  },
  {
   "cell_type": "code",
   "execution_count": 17,
   "outputs": [],
   "source": [
    "os.chdir('..')\n"
   ],
   "metadata": {
    "collapsed": false,
    "ExecuteTime": {
     "end_time": "2023-11-26T18:30:03.500911900Z",
     "start_time": "2023-11-26T18:30:03.473069200Z"
    }
   },
   "id": "2bb33be2aa83c996"
  },
  {
   "cell_type": "code",
   "execution_count": 17,
   "outputs": [],
   "source": [],
   "metadata": {
    "collapsed": false,
    "ExecuteTime": {
     "end_time": "2023-11-10T04:40:26.169680800Z",
     "start_time": "2023-11-10T04:40:26.160917900Z"
    }
   },
   "id": "fa44f4fdf3a91839"
  },
  {
   "cell_type": "code",
   "execution_count": 17,
   "outputs": [],
   "source": [],
   "metadata": {
    "collapsed": false,
    "ExecuteTime": {
     "end_time": "2023-11-10T04:40:26.173186600Z",
     "start_time": "2023-11-10T04:40:26.166957Z"
    }
   },
   "id": "2fc4f60d0e74e732"
  }
 ],
 "metadata": {
  "kernelspec": {
   "display_name": "Python 3",
   "language": "python",
   "name": "python3"
  },
  "language_info": {
   "codemirror_mode": {
    "name": "ipython",
    "version": 2
   },
   "file_extension": ".py",
   "mimetype": "text/x-python",
   "name": "python",
   "nbconvert_exporter": "python",
   "pygments_lexer": "ipython2",
   "version": "2.7.6"
  }
 },
 "nbformat": 4,
 "nbformat_minor": 5
}
