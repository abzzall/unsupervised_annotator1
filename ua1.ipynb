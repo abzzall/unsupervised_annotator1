{
 "cells": [
  {
   "cell_type": "markdown",
   "source": [
    "Installing necessary modules and run necessary scripts"
   ],
   "metadata": {
    "collapsed": false
   },
   "id": "5d84faeb83ad2746"
  },
  {
   "cell_type": "code",
   "execution_count": 78,
   "outputs": [
    {
     "data": {
      "text/plain": "['Looking in indexes: https://download.pytorch.org/whl/cu121',\n 'Requirement already satisfied: torch in c:\\\\users\\\\qyzyr\\\\onedrive\\\\documents\\\\project_nlp\\\\unsupervised_annotator1\\\\venv\\\\lib\\\\site-packages (2.1.0+cu121)',\n 'Requirement already satisfied: torchvision in c:\\\\users\\\\qyzyr\\\\onedrive\\\\documents\\\\project_nlp\\\\unsupervised_annotator1\\\\venv\\\\lib\\\\site-packages (0.16.0+cu121)',\n 'Requirement already satisfied: torchaudio in c:\\\\users\\\\qyzyr\\\\onedrive\\\\documents\\\\project_nlp\\\\unsupervised_annotator1\\\\venv\\\\lib\\\\site-packages (2.1.0+cu121)',\n 'Requirement already satisfied: filelock in c:\\\\users\\\\qyzyr\\\\onedrive\\\\documents\\\\project_nlp\\\\unsupervised_annotator1\\\\venv\\\\lib\\\\site-packages (from torch) (3.12.3)',\n 'Requirement already satisfied: typing-extensions in c:\\\\users\\\\qyzyr\\\\onedrive\\\\documents\\\\project_nlp\\\\unsupervised_annotator1\\\\venv\\\\lib\\\\site-packages (from torch) (4.7.1)',\n 'Requirement already satisfied: sympy in c:\\\\users\\\\qyzyr\\\\onedrive\\\\documents\\\\project_nlp\\\\unsupervised_annotator1\\\\venv\\\\lib\\\\site-packages (from torch) (1.12)',\n 'Requirement already satisfied: networkx in c:\\\\users\\\\qyzyr\\\\onedrive\\\\documents\\\\project_nlp\\\\unsupervised_annotator1\\\\venv\\\\lib\\\\site-packages (from torch) (3.1)',\n 'Requirement already satisfied: jinja2 in c:\\\\users\\\\qyzyr\\\\onedrive\\\\documents\\\\project_nlp\\\\unsupervised_annotator1\\\\venv\\\\lib\\\\site-packages (from torch) (3.1.2)',\n 'Requirement already satisfied: fsspec in c:\\\\users\\\\qyzyr\\\\onedrive\\\\documents\\\\project_nlp\\\\unsupervised_annotator1\\\\venv\\\\lib\\\\site-packages (from torch) (2023.9.0)',\n 'Requirement already satisfied: numpy in c:\\\\users\\\\qyzyr\\\\onedrive\\\\documents\\\\project_nlp\\\\unsupervised_annotator1\\\\venv\\\\lib\\\\site-packages (from torchvision) (1.25.2)',\n 'Requirement already satisfied: requests in c:\\\\users\\\\qyzyr\\\\onedrive\\\\documents\\\\project_nlp\\\\unsupervised_annotator1\\\\venv\\\\lib\\\\site-packages (from torchvision) (2.31.0)',\n 'Requirement already satisfied: pillow!=8.3.*,>=5.3.0 in c:\\\\users\\\\qyzyr\\\\onedrive\\\\documents\\\\project_nlp\\\\unsupervised_annotator1\\\\venv\\\\lib\\\\site-packages (from torchvision) (10.0.0)',\n 'Requirement already satisfied: MarkupSafe>=2.0 in c:\\\\users\\\\qyzyr\\\\onedrive\\\\documents\\\\project_nlp\\\\unsupervised_annotator1\\\\venv\\\\lib\\\\site-packages (from jinja2->torch) (2.1.3)',\n 'Requirement already satisfied: charset-normalizer<4,>=2 in c:\\\\users\\\\qyzyr\\\\onedrive\\\\documents\\\\project_nlp\\\\unsupervised_annotator1\\\\venv\\\\lib\\\\site-packages (from requests->torchvision) (3.2.0)',\n 'Requirement already satisfied: idna<4,>=2.5 in c:\\\\users\\\\qyzyr\\\\onedrive\\\\documents\\\\project_nlp\\\\unsupervised_annotator1\\\\venv\\\\lib\\\\site-packages (from requests->torchvision) (3.4)',\n 'Requirement already satisfied: urllib3<3,>=1.21.1 in c:\\\\users\\\\qyzyr\\\\onedrive\\\\documents\\\\project_nlp\\\\unsupervised_annotator1\\\\venv\\\\lib\\\\site-packages (from requests->torchvision) (2.0.4)',\n 'Requirement already satisfied: certifi>=2017.4.17 in c:\\\\users\\\\qyzyr\\\\onedrive\\\\documents\\\\project_nlp\\\\unsupervised_annotator1\\\\venv\\\\lib\\\\site-packages (from requests->torchvision) (2023.7.22)',\n 'Requirement already satisfied: mpmath>=0.19 in c:\\\\users\\\\qyzyr\\\\onedrive\\\\documents\\\\project_nlp\\\\unsupervised_annotator1\\\\venv\\\\lib\\\\site-packages (from sympy->torch) (1.3.0)']"
     },
     "execution_count": 78,
     "metadata": {},
     "output_type": "execute_result"
    }
   ],
   "source": [
    "from torch import Tensor\n",
    "!!pip install torch torchvision torchaudio --index-url https://download.pytorch.org/whl/cu121"
   ],
   "metadata": {
    "collapsed": false,
    "ExecuteTime": {
     "end_time": "2023-10-25T11:23:22.751525Z",
     "start_time": "2023-10-25T11:23:19.623919700Z"
    }
   },
   "id": "fc1fc3aea952fb9c"
  },
  {
   "cell_type": "code",
   "execution_count": 79,
   "outputs": [
    {
     "data": {
      "text/plain": "True"
     },
     "execution_count": 79,
     "metadata": {},
     "output_type": "execute_result"
    }
   ],
   "source": [
    "import torch\n",
    "torch.cuda.is_available()\n",
    "device = torch.device(\"cuda\" if torch.cuda.is_available() else \"cpu\")\n"
   ],
   "metadata": {
    "collapsed": false,
    "ExecuteTime": {
     "end_time": "2023-10-25T11:23:22.756519500Z",
     "start_time": "2023-10-25T11:23:22.742332200Z"
    }
   },
   "id": "752767abe5f7ecd0"
  },
  {
   "cell_type": "code",
   "execution_count": 80,
   "outputs": [
    {
     "data": {
      "text/plain": "['Requirement already satisfied: sentence-transformers in c:\\\\users\\\\qyzyr\\\\onedrive\\\\documents\\\\project_nlp\\\\unsupervised_annotator1\\\\venv\\\\lib\\\\site-packages (2.2.2)',\n 'Requirement already satisfied: transformers<5.0.0,>=4.6.0 in c:\\\\users\\\\qyzyr\\\\onedrive\\\\documents\\\\project_nlp\\\\unsupervised_annotator1\\\\venv\\\\lib\\\\site-packages (from sentence-transformers) (4.33.0)',\n 'Requirement already satisfied: tqdm in c:\\\\users\\\\qyzyr\\\\onedrive\\\\documents\\\\project_nlp\\\\unsupervised_annotator1\\\\venv\\\\lib\\\\site-packages (from sentence-transformers) (4.66.1)',\n 'Requirement already satisfied: torch>=1.6.0 in c:\\\\users\\\\qyzyr\\\\onedrive\\\\documents\\\\project_nlp\\\\unsupervised_annotator1\\\\venv\\\\lib\\\\site-packages (from sentence-transformers) (2.1.0+cu121)',\n 'Requirement already satisfied: torchvision in c:\\\\users\\\\qyzyr\\\\onedrive\\\\documents\\\\project_nlp\\\\unsupervised_annotator1\\\\venv\\\\lib\\\\site-packages (from sentence-transformers) (0.16.0+cu121)',\n 'Requirement already satisfied: numpy in c:\\\\users\\\\qyzyr\\\\onedrive\\\\documents\\\\project_nlp\\\\unsupervised_annotator1\\\\venv\\\\lib\\\\site-packages (from sentence-transformers) (1.25.2)',\n 'Requirement already satisfied: scikit-learn in c:\\\\users\\\\qyzyr\\\\onedrive\\\\documents\\\\project_nlp\\\\unsupervised_annotator1\\\\venv\\\\lib\\\\site-packages (from sentence-transformers) (1.3.0)',\n 'Requirement already satisfied: scipy in c:\\\\users\\\\qyzyr\\\\onedrive\\\\documents\\\\project_nlp\\\\unsupervised_annotator1\\\\venv\\\\lib\\\\site-packages (from sentence-transformers) (1.11.2)',\n 'Requirement already satisfied: nltk in c:\\\\users\\\\qyzyr\\\\onedrive\\\\documents\\\\project_nlp\\\\unsupervised_annotator1\\\\venv\\\\lib\\\\site-packages (from sentence-transformers) (3.8.1)',\n 'Requirement already satisfied: sentencepiece in c:\\\\users\\\\qyzyr\\\\onedrive\\\\documents\\\\project_nlp\\\\unsupervised_annotator1\\\\venv\\\\lib\\\\site-packages (from sentence-transformers) (0.1.99)',\n 'Requirement already satisfied: huggingface-hub>=0.4.0 in c:\\\\users\\\\qyzyr\\\\onedrive\\\\documents\\\\project_nlp\\\\unsupervised_annotator1\\\\venv\\\\lib\\\\site-packages (from sentence-transformers) (0.16.4)',\n 'Requirement already satisfied: filelock in c:\\\\users\\\\qyzyr\\\\onedrive\\\\documents\\\\project_nlp\\\\unsupervised_annotator1\\\\venv\\\\lib\\\\site-packages (from huggingface-hub>=0.4.0->sentence-transformers) (3.12.3)',\n 'Requirement already satisfied: fsspec in c:\\\\users\\\\qyzyr\\\\onedrive\\\\documents\\\\project_nlp\\\\unsupervised_annotator1\\\\venv\\\\lib\\\\site-packages (from huggingface-hub>=0.4.0->sentence-transformers) (2023.9.0)',\n 'Requirement already satisfied: requests in c:\\\\users\\\\qyzyr\\\\onedrive\\\\documents\\\\project_nlp\\\\unsupervised_annotator1\\\\venv\\\\lib\\\\site-packages (from huggingface-hub>=0.4.0->sentence-transformers) (2.31.0)',\n 'Requirement already satisfied: pyyaml>=5.1 in c:\\\\users\\\\qyzyr\\\\onedrive\\\\documents\\\\project_nlp\\\\unsupervised_annotator1\\\\venv\\\\lib\\\\site-packages (from huggingface-hub>=0.4.0->sentence-transformers) (6.0.1)',\n 'Requirement already satisfied: typing-extensions>=3.7.4.3 in c:\\\\users\\\\qyzyr\\\\onedrive\\\\documents\\\\project_nlp\\\\unsupervised_annotator1\\\\venv\\\\lib\\\\site-packages (from huggingface-hub>=0.4.0->sentence-transformers) (4.7.1)',\n 'Requirement already satisfied: packaging>=20.9 in c:\\\\users\\\\qyzyr\\\\onedrive\\\\documents\\\\project_nlp\\\\unsupervised_annotator1\\\\venv\\\\lib\\\\site-packages (from huggingface-hub>=0.4.0->sentence-transformers) (23.1)',\n 'Requirement already satisfied: sympy in c:\\\\users\\\\qyzyr\\\\onedrive\\\\documents\\\\project_nlp\\\\unsupervised_annotator1\\\\venv\\\\lib\\\\site-packages (from torch>=1.6.0->sentence-transformers) (1.12)',\n 'Requirement already satisfied: networkx in c:\\\\users\\\\qyzyr\\\\onedrive\\\\documents\\\\project_nlp\\\\unsupervised_annotator1\\\\venv\\\\lib\\\\site-packages (from torch>=1.6.0->sentence-transformers) (3.1)',\n 'Requirement already satisfied: jinja2 in c:\\\\users\\\\qyzyr\\\\onedrive\\\\documents\\\\project_nlp\\\\unsupervised_annotator1\\\\venv\\\\lib\\\\site-packages (from torch>=1.6.0->sentence-transformers) (3.1.2)',\n 'Requirement already satisfied: colorama in c:\\\\users\\\\qyzyr\\\\onedrive\\\\documents\\\\project_nlp\\\\unsupervised_annotator1\\\\venv\\\\lib\\\\site-packages (from tqdm->sentence-transformers) (0.4.6)',\n 'Requirement already satisfied: regex!=2019.12.17 in c:\\\\users\\\\qyzyr\\\\onedrive\\\\documents\\\\project_nlp\\\\unsupervised_annotator1\\\\venv\\\\lib\\\\site-packages (from transformers<5.0.0,>=4.6.0->sentence-transformers) (2023.8.8)',\n 'Requirement already satisfied: tokenizers!=0.11.3,<0.14,>=0.11.1 in c:\\\\users\\\\qyzyr\\\\onedrive\\\\documents\\\\project_nlp\\\\unsupervised_annotator1\\\\venv\\\\lib\\\\site-packages (from transformers<5.0.0,>=4.6.0->sentence-transformers) (0.13.3)',\n 'Requirement already satisfied: safetensors>=0.3.1 in c:\\\\users\\\\qyzyr\\\\onedrive\\\\documents\\\\project_nlp\\\\unsupervised_annotator1\\\\venv\\\\lib\\\\site-packages (from transformers<5.0.0,>=4.6.0->sentence-transformers) (0.3.3)',\n 'Requirement already satisfied: click in c:\\\\users\\\\qyzyr\\\\onedrive\\\\documents\\\\project_nlp\\\\unsupervised_annotator1\\\\venv\\\\lib\\\\site-packages (from nltk->sentence-transformers) (8.1.7)',\n 'Requirement already satisfied: joblib in c:\\\\users\\\\qyzyr\\\\onedrive\\\\documents\\\\project_nlp\\\\unsupervised_annotator1\\\\venv\\\\lib\\\\site-packages (from nltk->sentence-transformers) (1.3.2)',\n 'Requirement already satisfied: threadpoolctl>=2.0.0 in c:\\\\users\\\\qyzyr\\\\onedrive\\\\documents\\\\project_nlp\\\\unsupervised_annotator1\\\\venv\\\\lib\\\\site-packages (from scikit-learn->sentence-transformers) (3.2.0)',\n 'Requirement already satisfied: pillow!=8.3.*,>=5.3.0 in c:\\\\users\\\\qyzyr\\\\onedrive\\\\documents\\\\project_nlp\\\\unsupervised_annotator1\\\\venv\\\\lib\\\\site-packages (from torchvision->sentence-transformers) (10.0.0)',\n 'Requirement already satisfied: MarkupSafe>=2.0 in c:\\\\users\\\\qyzyr\\\\onedrive\\\\documents\\\\project_nlp\\\\unsupervised_annotator1\\\\venv\\\\lib\\\\site-packages (from jinja2->torch>=1.6.0->sentence-transformers) (2.1.3)',\n 'Requirement already satisfied: charset-normalizer<4,>=2 in c:\\\\users\\\\qyzyr\\\\onedrive\\\\documents\\\\project_nlp\\\\unsupervised_annotator1\\\\venv\\\\lib\\\\site-packages (from requests->huggingface-hub>=0.4.0->sentence-transformers) (3.2.0)',\n 'Requirement already satisfied: idna<4,>=2.5 in c:\\\\users\\\\qyzyr\\\\onedrive\\\\documents\\\\project_nlp\\\\unsupervised_annotator1\\\\venv\\\\lib\\\\site-packages (from requests->huggingface-hub>=0.4.0->sentence-transformers) (3.4)',\n 'Requirement already satisfied: urllib3<3,>=1.21.1 in c:\\\\users\\\\qyzyr\\\\onedrive\\\\documents\\\\project_nlp\\\\unsupervised_annotator1\\\\venv\\\\lib\\\\site-packages (from requests->huggingface-hub>=0.4.0->sentence-transformers) (2.0.4)',\n 'Requirement already satisfied: certifi>=2017.4.17 in c:\\\\users\\\\qyzyr\\\\onedrive\\\\documents\\\\project_nlp\\\\unsupervised_annotator1\\\\venv\\\\lib\\\\site-packages (from requests->huggingface-hub>=0.4.0->sentence-transformers) (2023.7.22)',\n 'Requirement already satisfied: mpmath>=0.19 in c:\\\\users\\\\qyzyr\\\\onedrive\\\\documents\\\\project_nlp\\\\unsupervised_annotator1\\\\venv\\\\lib\\\\site-packages (from sympy->torch>=1.6.0->sentence-transformers) (1.3.0)',\n '',\n '[notice] A new release of pip is available: 23.2.1 -> 23.3.1',\n '[notice] To update, run: python.exe -m pip install --upgrade pip']"
     },
     "execution_count": 80,
     "metadata": {},
     "output_type": "execute_result"
    }
   ],
   "source": [
    "!! pip install spacy\n",
    "!! python -m spacy download en_core_web_sm\n",
    "!!pip install sentence-transformers"
   ],
   "metadata": {
    "collapsed": false,
    "ExecuteTime": {
     "end_time": "2023-10-25T11:23:40.098928200Z",
     "start_time": "2023-10-25T11:23:22.749510200Z"
    }
   },
   "id": "bb705793e4eb5a48"
  },
  {
   "cell_type": "markdown",
   "source": [
    "Importing modules"
   ],
   "metadata": {
    "collapsed": false
   },
   "id": "c44ac7a7abe1cd78"
  },
  {
   "cell_type": "code",
   "execution_count": 81,
   "outputs": [],
   "source": [
    "import spacy\n",
    "from spacy.tokenizer import Tokenizer\n",
    "from spacy.util import compile_infix_regex\n",
    "spacy.prefer_gpu()\n",
    "\n",
    "# Load the language model\n",
    "nlp = spacy.load('en_core_web_sm')\n",
    "\n",
    "from sentence_transformers import SentenceTransformer\n",
    "\n",
    "model = SentenceTransformer('distilbert-base-nli-mean-tokens')\n",
    "from sentence_transformers import SentenceTransformer, util\n",
    "from typing import List\n",
    "from transformers import BertTokenizer\n",
    "\n",
    "# Initialize the BERT tokenizer\n",
    "tokenizer = BertTokenizer.from_pretrained(\"bert-base-uncased\")"
   ],
   "metadata": {
    "collapsed": false,
    "ExecuteTime": {
     "end_time": "2023-10-25T11:23:41.823694Z",
     "start_time": "2023-10-25T11:23:40.095212100Z"
    }
   },
   "id": "7c57129dab585428"
  },
  {
   "cell_type": "code",
   "execution_count": 82,
   "outputs": [],
   "source": [
    "from collections import namedtuple\n",
    "CandidateMWE = namedtuple('CandidateMWE',['text','head', 'sentence','self_encode', 'sent_encode'])\n",
    "CandidateW=namedtuple('CandidateW',['text','lemma', 'self_encode' ])\n",
    "# Term=namedtuple('Term',['text','detected' ])"
   ],
   "metadata": {
    "collapsed": false,
    "ExecuteTime": {
     "end_time": "2023-10-25T11:23:41.832681900Z",
     "start_time": "2023-10-25T11:23:41.825703100Z"
    }
   },
   "id": "ca195029b0d8acd3"
  },
  {
   "cell_type": "markdown",
   "source": [
    "creating functions"
   ],
   "metadata": {
    "collapsed": false
   },
   "id": "1f1a8e78a4e42d9f"
  },
  {
   "cell_type": "code",
   "execution_count": 83,
   "outputs": [],
   "source": [
    "def parse_candidates(text:str):   \n",
    "    # Process the text with spaCy\n",
    "    doc = nlp(text)\n",
    "    \n",
    "    # Extract MWEs (noun phrases) from the text\n",
    "    mwe_list = []\n",
    "    single_noun_list=dict()\n",
    "    candidate_list=[]\n",
    "    for sent in doc.sents:\n",
    "        sent_encode=model.encode(sent.text, convert_to_tensor=True).to(device)\n",
    "        for chunk in doc.noun_chunks:\n",
    "            is_candidate=False\n",
    "            word_count=0\n",
    "            # mwe_list.append(chunk.text)\n",
    "            if len(chunk.text.split()) > 1:\n",
    "                noun_appeared=False\n",
    "                is_candidate=True\n",
    "                cleared_candidate=''\n",
    "                for word in chunk:\n",
    "                    #IGNORING\n",
    "                    if word.pos_ in ['PUNCT', 'DET']:\n",
    "                        continue\n",
    "                    elif word.pos_ not in ['ADJ', 'PROPN', 'NOUN']:\n",
    "                        is_candidate=False\n",
    "                        # print(f'{chunk.text} is not candidate 1 {word.text} -- {word.pos_}')\n",
    "                        break\n",
    "                    elif word.pos_ in ['PROPN', 'NOUN']:\n",
    "                        noun_appeared=True\n",
    "                    elif not(not noun_appeared and word.pos_=='ADJ'):\n",
    "                        is_candidate=False\n",
    "                        # print(f'{chunk.text} is not candidate 2 {word.text} -- {word.pos_}, {noun_appeared}')\n",
    "                        break\n",
    "                    cleared_candidate+=' '+word.text\n",
    "                    word_count+=1\n",
    "            if is_candidate and word_count>1:\n",
    "                cleared_candidate.strip()\n",
    "                candidate_list.append(CandidateMWE(cleared_candidate, chunk.root.text, sent.text, model.encode(cleared_candidate, convert_to_tensor=True).to(device), sent_encode))\n",
    "                # print(f'Added candicate expression: {cleared_candidate}')\n",
    "            else:\n",
    "                \n",
    "                # print(f'Added candidate words from : {chunk.text}')    \n",
    "                for word in chunk:\n",
    "                    if word.pos_ in ['NOUN', 'PROPN']:\n",
    "                        single_noun_list[word.text]=  CandidateW(word.text, word.lemma_, model.encode(word.text))\n",
    "                        # print(word.text)    \n",
    "    return candidate_list, single_noun_list.values()"
   ],
   "metadata": {
    "collapsed": false,
    "ExecuteTime": {
     "end_time": "2023-10-25T11:23:41.841999Z",
     "start_time": "2023-10-25T11:23:41.831096Z"
    }
   },
   "id": "a9c58471f3da86bf"
  },
  {
   "cell_type": "code",
   "execution_count": 84,
   "outputs": [],
   "source": [
    "def dist(wi_encode, wj_encode):\n",
    "    return util.pytorch_cos_sim(\n",
    "        wi_encode,\n",
    "        wj_encode\n",
    "    )\n",
    "def calculate_topic_score(expression_embedding, sentence_embedding)->float:\n",
    "    \"\"\"\n",
    "    Calculate the topic score between a multiword expression and a sentence.\n",
    "\n",
    "    Args:\n",
    "        multiword_expression (str): The multiword expression.\n",
    "        sentence (str): The sentence containing the expression.\n",
    "\n",
    "    Returns:\n",
    "        float: The topic score (cosine similarity) between the two embeddings.\n",
    "    \"\"\"\n",
    "    # Load the distilbert-base-nli-mean-tokens model\n",
    "\n",
    "    # Encode the multiword expression and sentence into embeddings\n",
    "    # expression_embedding = model.encode(multiword_expression, convert_to_tensor=True)\n",
    "    # sentence_embedding = model.encode(sentence, convert_to_tensor=True)\n",
    "\n",
    "    # Calculate cosine similarity between the two embeddings\n",
    "    similarity_score = util.pytorch_cos_sim(expression_embedding, sentence_embedding)\n",
    "\n",
    "    # Extract the cosine similarity value from the tensor\n",
    "    topic_score = similarity_score[0].item()\n",
    "\n",
    "    return topic_score\n",
    "\n",
    "\n",
    "def calculate_specificity_score(mw:CandidateMWE, full_encode:Tensor)->float:\n",
    "    \"\"\"\n",
    "    Calculate the specificity score (SP) between a multiword expression (mw) and a list of words/multiword expressions (w).\n",
    "\n",
    "    Args:\n",
    "        mw (str): The multiword expression.\n",
    "        w (list of str): The list of words/multiword expressions in the context.\n",
    "\n",
    "    Returns:\n",
    "        float: The specificity score (SP).\n",
    "    \"\"\"\n",
    "    # Load the distilbert-base-nli-mean-tokens model\n",
    "    # Calculate distances between mw and each word/phrase in w\n",
    "    distances = dist(mw.self_encode,full_encode)\n",
    "\n",
    "    # Calculate the mean of the distances\n",
    "    specificity_score = distances.mean().item()\n",
    "    \n",
    "\n",
    "    return specificity_score\n"
   ],
   "metadata": {
    "collapsed": false,
    "ExecuteTime": {
     "end_time": "2023-10-25T11:23:41.843010100Z",
     "start_time": "2023-10-25T11:23:41.839382600Z"
    }
   },
   "id": "550e916cd76d4fc9"
  },
  {
   "cell_type": "code",
   "execution_count": 85,
   "outputs": [],
   "source": [
    "def detect_mw_terms(candidate_list:List[CandidateMWE], TSP:float = 0.05, Ttopic:float = 0.1)->List[CandidateMWE]:    \n",
    "            \n",
    "    full_encode= torch.stack([wi.self_encode for wi in candidate_list], dim=0)    \n",
    "    \n",
    "    temp_candidate = []\n",
    "    for candidate in candidate_list:\n",
    "        topic_score = calculate_topic_score(candidate.self_encode, candidate.sent_encode)\n",
    "        sp_score=calculate_specificity_score(candidate, full_encode)\n",
    "        if topic_score > Ttopic and sp_score > TSP:\n",
    "            temp_candidate.append(candidate)\n",
    "            # print(f'Added \"{candidate.text}\" topic score {topic_score}, specifity score {sp_score}')\n",
    "\n",
    "    return temp_candidate"
   ],
   "metadata": {
    "collapsed": false,
    "ExecuteTime": {
     "end_time": "2023-10-25T11:23:41.852412100Z",
     "start_time": "2023-10-25T11:23:41.845138300Z"
    }
   },
   "id": "2d085eeb13426a1d"
  },
  {
   "cell_type": "code",
   "execution_count": 86,
   "outputs": [],
   "source": [
    "def detect_single_noun_terms(term_mws:List[CandidateMWE], single_noun_list:List[CandidateW], subtoken_threshold:int=4)->List[CandidateW]:    \n",
    "    term_nouns=[]\n",
    "    for candidate in single_noun_list:\n",
    "        #Check if the lemma of the noun is the same as any of the heads of the multiword expressions.\n",
    "        is_term=False\n",
    "        lemma_is_head=False\n",
    "        for term_mw in term_mws:\n",
    "            if term_mw.head==candidate.lemma:\n",
    "                is_term=True\n",
    "                term_nouns.append(candidate)\n",
    "                # print(f'\"{candidate.text}\" is added by lemma: \"{candidate.lemma}\" is head of \"{term_mw}\"')\n",
    "                break\n",
    "        if is_term:\n",
    "            continue\n",
    "        #segment the word using a subword-unit segmentation and a vocabulary trained over a large general purpose corpus.\n",
    "        subtokens=tokenizer.tokenize(candidate.text)\n",
    "        if len(subtokens)>subtoken_threshold:\n",
    "            term_nouns.append(candidate)\n",
    "            # print(f'{candidate.text} is added by subtokens count: {len(subtokens)}')\n",
    "    return term_nouns"
   ],
   "metadata": {
    "collapsed": false,
    "ExecuteTime": {
     "end_time": "2023-10-25T11:23:41.862156800Z",
     "start_time": "2023-10-25T11:23:41.848895400Z"
    }
   },
   "id": "682a0aaba8edf6ca"
  },
  {
   "cell_type": "markdown",
   "source": [
    "Calculate metrics(from https://colab.research.google.com/drive/1y9WM3MSAEwvODhMt0cMwJi24XIllrmaY?usp=sharing) "
   ],
   "metadata": {
    "collapsed": false
   },
   "id": "fe36b79e31abe8f1"
  },
  {
   "cell_type": "code",
   "execution_count": 87,
   "outputs": [],
   "source": [
    "def calculate_metrics(true_terms, extracted_terms):\n",
    "    true_positives = len(true_terms.intersection(extracted_terms))\n",
    "    false_positives = len(extracted_terms.difference(true_terms))\n",
    "    false_negatives = len(true_terms.difference(extracted_terms))\n",
    "\n",
    "    precision = true_positives / (true_positives + false_positives) if (true_positives + false_positives) != 0 else 0\n",
    "    recall = true_positives / (true_positives + false_negatives) if (true_positives + false_negatives) != 0 else 0\n",
    "    f1_score = 2 * (precision * recall) / (precision + recall) if (precision + recall) != 0 else 0\n",
    "\n",
    "    return precision, recall, f1_score\n",
    "\n",
    "def compare_sets(extracted_terms, true_terms):\n",
    "    true_detections = extracted_terms.intersection(true_terms)\n",
    "    false_gaps = true_terms.difference(extracted_terms)\n",
    "    false_detections = extracted_terms.difference(true_terms)\n",
    "\n",
    "    return true_detections, false_gaps, false_detections"
   ],
   "metadata": {
    "collapsed": false,
    "ExecuteTime": {
     "end_time": "2023-10-25T11:23:41.876363600Z",
     "start_time": "2023-10-25T11:23:41.858165200Z"
    }
   },
   "id": "9e2889ce9dd8b338"
  },
  {
   "cell_type": "code",
   "execution_count": 88,
   "outputs": [],
   "source": [
    "def report(true_terms, extracted_terms):\n",
    "    # Расчет метрик\n",
    "    precision, recall, f1_score = calculate_metrics(true_terms, extracted_terms)\n",
    "    \n",
    "    print(\"Precision:\", precision) #Точность\n",
    "    print(\"Recall:\", recall) #Полнота\n",
    "    print(\"F1 Score:\", f1_score)\n",
    "    # Выводит списки истинных обнаружений, ложных пропуски и ложных обнаружений\n",
    "    true_detections, false_gaps, false_detections = compare_sets(extracted_terms, true_terms)\n",
    "    \n",
    "    print(\"Истинные обнаружения:\", true_detections)\n",
    "    print(\"Ложные пропуски:\", false_gaps)\n",
    "    print(\"Ложные обнаружения:\", false_detections)\n",
    "    return precision, recall, f1_score, true_detections, false_gaps, false_detections "
   ],
   "metadata": {
    "collapsed": false,
    "ExecuteTime": {
     "end_time": "2023-10-25T11:23:41.877367100Z",
     "start_time": "2023-10-25T11:23:41.863162900Z"
    }
   },
   "id": "5171f8f0a4386690"
  },
  {
   "cell_type": "code",
   "execution_count": 88,
   "outputs": [],
   "source": [],
   "metadata": {
    "collapsed": false,
    "ExecuteTime": {
     "end_time": "2023-10-25T11:23:41.877367100Z",
     "start_time": "2023-10-25T11:23:41.866914900Z"
    }
   },
   "id": "cb2a35c8f824c8c0"
  },
  {
   "cell_type": "markdown",
   "source": [
    "Testing in Folder"
   ],
   "metadata": {
    "collapsed": false
   },
   "id": "8ec79888dda3aa91"
  },
  {
   "cell_type": "code",
   "execution_count": 89,
   "outputs": [],
   "source": [
    "import os\n",
    "\n",
    "folder_name='tests'\n",
    "# Get a list of all files in the folder\n",
    "all_files = os.listdir(folder_name)\n",
    "\n",
    "# Initialize empty lists to store the tuples\n",
    "file_tuples = []\n",
    "\n",
    "# Iterate through the files in the folder\n",
    "for filename in all_files:\n",
    "    # Check if the file is a test file (starts with \"text_\")\n",
    "    if filename.startswith(\"text_\"):\n",
    "        # Construct the expected result filename by replacing \"text_\" with \"term_\"\n",
    "        result_filename = \"term_\" + filename[5:]\n",
    "        \n",
    "        # Check if the corresponding result file exists in the folder\n",
    "        if result_filename in all_files:\n",
    "            # Append the tuple to the list\n",
    "            file_tuples.append((filename, result_filename))"
   ],
   "metadata": {
    "collapsed": false,
    "ExecuteTime": {
     "end_time": "2023-10-25T11:23:41.878367700Z",
     "start_time": "2023-10-25T11:23:41.872250600Z"
    }
   },
   "id": "97d37b7434e321f3"
  },
  {
   "cell_type": "code",
   "execution_count": 90,
   "outputs": [
    {
     "data": {
      "text/plain": "[('text_1.txt', 'term_1.txt'), ('text_2.txt', 'term_2.txt')]"
     },
     "execution_count": 90,
     "metadata": {},
     "output_type": "execute_result"
    }
   ],
   "source": [
    "file_tuples"
   ],
   "metadata": {
    "collapsed": false,
    "ExecuteTime": {
     "end_time": "2023-10-25T11:23:41.892733100Z",
     "start_time": "2023-10-25T11:23:41.877367100Z"
    }
   },
   "id": "6533871b027572d7"
  },
  {
   "cell_type": "code",
   "execution_count": 91,
   "outputs": [],
   "source": [
    "def test_file(text_file_name, term_file_name):\n",
    "    print('____________________________________________________________________\\n')\n",
    "    print(f\"checking files: {text_file_name}, {term_file_name}\")    \n",
    "    text=''\n",
    "    with open(text_file_name) as text_file:\n",
    "        text=text_file.read()\n",
    "    print('_____________________________FIRST STEP_________________________________________')\n",
    "    candidate_list, single_noun_list=parse_candidates(text)\n",
    "    print('_____________________________SECOND STEP___________________________________________________')\n",
    "    term_mws=detect_mw_terms(candidate_list)\n",
    "    print('_____________________________THIRD STEP______________________________________________________________')\n",
    "    term_nouns=detect_single_noun_terms(term_mws, single_noun_list)\n",
    "    print('____________________________________TESTING__________________________________________________________________')\n",
    "    extracted_terms=set([txt.text.lower() for txt in term_mws+term_nouns])\n",
    "    with open(term_file_name) as term_file:\n",
    "        terms_str=term_file.read()\n",
    "    true_terms=set(terms_str.lower().split(', '))\n",
    "\n",
    "    precision, recall, f1_score, true_detections, false_gaps, false_detections = report(true_terms, extracted_terms)\n",
    "    return true_terms, extracted_terms, precision, recall, f1_score, true_detections, false_gaps, false_detections \n",
    " \n"
   ],
   "metadata": {
    "collapsed": false,
    "ExecuteTime": {
     "end_time": "2023-10-25T11:23:41.892733100Z",
     "start_time": "2023-10-25T11:23:41.886558300Z"
    }
   },
   "id": "fae850ba26da2b19"
  },
  {
   "cell_type": "code",
   "execution_count": 92,
   "outputs": [
    {
     "name": "stdout",
     "output_type": "stream",
     "text": [
      "____________________________________________________________________\n",
      "\n",
      "checking files: text_1.txt, term_1.txt\n",
      "_____________________________FIRST STEP_________________________________________\n",
      "_____________________________SECOND STEP___________________________________________________\n",
      "_____________________________THIRD STEP______________________________________________________________\n",
      "____________________________________TESTING__________________________________________________________________\n",
      "Precision: 0.05782312925170068\n",
      "Recall: 0.06390977443609022\n",
      "F1 Score: 0.060714285714285714\n",
      "Истинные обнаружения: {'officials', 'law', 'government', 'corruption', 'market', 'misdemeanour', 'bribery', 'policy', 'company', 'ngo', 'companies', 'enterprises', 'police', 'laws', 'advantage', 'prosecution', 'misdemeanours'}\n",
      "Ложные пропуски: {'price', 'corporate', 'cream something off payments', 'international market', 'paid', 'trade union', 'fraud', 'off-books accounting', 'group of states against corruption', 'intermediaries', 'corruption scandals', 'service for criminal policy', 'punishable', 'slush money', 'rome', 'legal', 'icc', 'council of europe', 'ethical enterprise', 'departments of government', 'corporate taxpayer', 'private sectors', 'bribing', 'code of conduct', 'investment', 'authorities', 'olaf', 'governments', 'tactless', 'purchasing director', 'office for administrative ethics and deontology', 'police on web', 'national security plan 2008 - 2011', 'liable', 'legal persons', 'funding', 'corruption-related', 'contractors', 'money laundering', 'criminally liable', 'greco', 'world bank', 'custodial sentence', 'financial and fiscal crime', 'transparency international belgium', 'fighting corruption', 'board of directors', 'grey areas', 'board of public prosecutors-general', 'market procedures', 'federal government department of the budget and management control', 'report', 'paying', 'immovable property', 'public', 'tax legislation', 'convicted', 'royal decree', 'rules', 'business relations', 'levied', 'eu', 'natural persons', 'federal criminal investigation police', 'civil law convention on corruption', 'reclaim', 'business', 'royal decrees', \"employers ' organization\", 'public contracts', 'political parties', 'legal status', 'corrupt practices', 'office-holders', 'combating corruption', 'organisation for economic cooperation and development', 'rules of conduct', 'criminality', 'framework of good practice', 'federal department of the budget', 'compliance', 'legal person', 'financial statements', 'federation of enterprises in belgium', 'professional ethics', 'usa', 'basis of tax assessment', 'commercial', 'non-transparent', 'anti-bribery convention', 'transactions', 'salary', 'natural', 'un', 'private bribery', 'public institution', 'corrupt business practices', 'corrupt behaviour', 'criminal code', 'criminal liability', 'passive bribery', 'freedom of bidding', 'general assembly', 'fine', 'chamber of commerce', 'network of expertise on corruption', 'ethical behaviour', 'civil', 'internet portal', 'deducted', 'criminal conspiracy', 'small and medium-sized enterprises11', 'penalization', 'public invitations to tender', 'agreement on government procurement', 'belgian criminal code', 'embezzle', 'termination of a contract', 'trade', 'codes of conduct', 'costs', 'anti-corruption policy', 'development aid', 'regulations', 'central office for the repression of corruption', 'commercial dispute', 'contracts', 'network of expertise on economic ', 'bureau of official ethics and good practice', 'government contracts', 'fines', 'businesses', 'private sector', 'imprisonment', 'income tax law', 'iraq', 'ethically', 'active corruption', 'legal action', 'extortion', 'united nations global compact', 'misconduct', 'assets', 'criminal law', 'anti-corruption', 'blacklist', 'distortion of competition', 'transparent', 'federal government departments', 'legislation', 'active', 'un corruption', 'private corruption', 'corrupt', 'joint venture', 'san francisco', 'contracting', 'lawfully provided services', 'subsidies', 'advantages', 'prohibition', 'penalizes', 'corporate governance', 'public bribery', 'directorate for combating economic and financial crime', 'licensing', 'pay', 'auditing', 'compromise', 'accounting irregularities', 'additional tenths', 'trading', 'double-checking', 'oecd convention on combating bribery of foreign public officials in international business transactions', 'business contacts', 'punishes', 'fiscal', 'procurement', 'belgium', 'integrity', 'feb', 'commission', 'fight against corruption', 'public sector', 'central department on combating corruption', 'malpractices', 'blacklists', 'society', 'transparency international', 'anti-fraud', 'enforcement', 'business practices', 'european union', 'subcontracts', 'federal police', 'count of corruption', 'penalty of imprisonment', 'third party', 'penalties', 'goods', 'convict', 'sme', 'criminal abuses', 'subsidy laws', 'united nations convention against corruption', 'moniteur belge', 'corruption risks', 'criminal proceedings', 'private', 'rights', 'prosecute', 'registration for transfers of ownership', 'saddam hussein', 'ex officio', 'oecd', 'federal government department of justice', 'movable', 'passive corruption', 'official', 'us', 'integrity policy', 'payments', 'gpa', 'federal civil service', 'federal department of finance', 'judicial', 'madrid', 'foreign corrupt practices act', 'european commission', 'icc belgium', 'policy against corruption', 'statutory', 'trade organization', 'civil servants', 'business community', 'usufruct', 'directives', 'american', 'principal', 'bribe', 'criminal law convention on corruption', 'competition', 'aggravating circumstances', 'criminal offences', 'wto', 'recognitions', 'markets', 'blackmail', 'criminal prosecution'}\n",
      "Ложные обнаружения: {'international', ' whole week', ' iraqi officials', ' major reform', ' preventive monitoring', ' subsidy laws', ' joint venture', ' ex officio', ' sunny destination', ' public contracts', ' technical support', ' strict evaluation mechanism', 'attention', ' corporate life', ' future trends', ' central office', ' national governments', ' international markets', 'amounts', ' main partners', ' federal government departments', ' federal civil service', 'country', 'trust', 'bank', ' multinational enterprises', 'levels', ' corruption risks', ' longer term', ' slush money', ' possible penalties', ' sme edition', ' commercial players', ' severe penalties', ' invaluable source', ' noteworthy initiatives', ' third party', ' ethical enterprise', ' international pressure', ' inter - departmental working group', ' powerful tool', ' cross - border approach', ' regular contacts', ' corruption prosecution policy', 'group', ' sufficient time', ' criminal offences', ' such advantages', ' early stage', ' other actions', ' clear definition', ' custodial sentence', ' proper functioning', ' such behaviour', ' other international regulations', ' affected aspects', ' warning signs', ' public sector', 'information', ' belgian individuals', ' criminal policy', ' government contracts', ' transparency international', ' corrupt behaviour', ' private corruption', ' secret agreement', ' belgian criminal code', ' public bribery', ' professional ethics', ' certain country', ' international companies', ' prior knowledge', ' civil aspects', 'sectors', 'persons', ' other words', ' international business transactions', ' belgian network', ' new act', ' level playing field', ' civil servants', ' european union', ' main measures', ' collective action guide', ' inadequate legal means', 'framework', 'positions', ' main ngo', ' certain countries', 'purpose', 'support', ' major international companies', ' public invitations', ' active corruption', ' criminal code articles', ' foreign officials', 'position', ' local agents', ' business community', ' such conventions', ' grey areas', ' firm line', ' other persons', ' private sector', ' other misdemeanour', ' clear procedures', ' brief list', ' main international initiatives', ' ethical behaviour', ' national level', 'departments', ' international corporate integrity handbook', ' closed doors', ' icc rules', 'person', 'fields', ' criminal code', ' delicate situations', ' latter us legislation', ' other methods', ' money laundering', ' united nations convention', ' incidental condition', ' special attention', ' royal decree', ' government procurement', ' good practice', ' corrupt business practices', 'action', ' legal persons', ' various levels', ' administrative ethics', ' negative publicity', ' foreign official', ' human rights', ' adequate salary', ' foreign public officials', ' community rules', 'liability', ' such advantage', ' political parties', ' general assembly', ' belgian federal government', 'convention', ' broad support', ' federal civil servants', ' corporate initiatives', ' belgian companies', ' first global instrument', ' separate amount', ' international level', ' certain contracting', ' fighting corruption', 'practices', ' foreign markets', ' development aid', ' legal status', ' technical assistance', ' private bribery', ' recent years', ' alarm signals', ' tax legislation', 'edition', 'states', ' american company', ' united nations global compact', ' legal person', ' corruptie voorkomen', ' further development', ' belgian anti - corruption policy', ' main barriers', ' belgian government department', ' various forms', ' crisis situation', ' business relations', ' clearest possible picture', ' vulnerable position', ' further information', ' eu member states', ' corporate financial statements', ' good start', 'role', ' international market', ' various markets', ' field day', ' public trust', ' good practices', ' aggravating circumstances', ' member states', 'behaviour', ' responsible management', ' foreign legislation', ' belgian law', ' tax assessment', ' practical guide', ' legal action', ' international co', ' criminal prosecution', ' commercial dispute', ' firm legislation', ' first important steps', ' criminal liability', ' basic rules', ' oecd guidelines', ' corporate taxpayer', 'network', ' certain royal decrees', ' oecd convention', ' federal criminal investigation police', ' federal government', 'practice', ' official ethics', ' systematic protection', 'list', ' belgian government departments', 'department', ' consultancy agreements', ' best signal', ' belgian government', ' important tool', 'days', 'office', ' anti - corruption policy', ' criminal law', ' accounting irregularities', ' unremitting work', ' tactless civil servants', ' best practices', ' public prosecutors general', ' responsible behaviour', ' primary purpose', ' other countries', ' national corruption scandals', ' integrity policy', ' such risk countries', ' screen candidates', ' criminal conspiracy', ' transparency international business principles', ' moniteur belge', ' sound decisions', ' voluntary principles', ' icc publication', ' public institution', ' federal government department', ' criminal proceedings', ' corrupt practices', ' awkward situations', ' sound companies', ' information exchange', ' multi - disciplinary integrated method', 'countries', ' pilot role', ' serious consequences', ' such payments', ' common framework', ' criminal abuses', ' world bank', ' normal business contacts', 'assessments', ' preventive measures', ' many years', ' late 1990s', 'sector', ' few dollars', 'method', ' official context', 'publicity', 'co', ' main obstacle', 'community', ' good management', ' nearest belgian factory', 'service', 'context', ' economic cooperation', 'www.fightingcorruption.org', ' regular integrity courses'}\n",
      "____________________________________________________________________\n",
      "\n",
      "____________________________________________________________________\n",
      "\n",
      "checking files: text_2.txt, term_2.txt\n",
      "_____________________________FIRST STEP_________________________________________\n",
      "_____________________________SECOND STEP___________________________________________________\n",
      "_____________________________THIRD STEP______________________________________________________________\n",
      "____________________________________TESTING__________________________________________________________________\n",
      "Precision: 0.1388888888888889\n",
      "Recall: 0.10638297872340426\n",
      "F1 Score: 0.12048192771084339\n",
      "Истинные обнаружения: {'uptitrations', 'uptitration', 'î²-blockers', 'hospitalization', 'spironolactone'}\n",
      "Ложные пропуски: {'co-morbidity', 'confidence interval', 'therapy', 'ambulatory', 'reduced ejection fraction', 'î²-blocker', 'pef', 'significant', 'heart rate', 'patients', 'readmissions', 'renin-angiotensin system', 'renal function', 'renin-angiotensin system blocker', 'significantly', 'ras blockers', 'neurohumoral blockers', 'heart failure', 'composite end-point', 'hazard ratio', 'reduced', 'clinical', 'ras', 'admission', 'preserved left ventricular ejection fractions', 'ras -', 'hfpef', 'hr', 'ras-blocker', 'hfref', 'left ventricular ejection fraction', 'outcome', 'hf with preserved ejection fraction', 'ref', 'p', 'ci', 'hospital', 'all-cause mortality', 'hospitalized', 'hf', 'blood pressure', 'beta-blocker'}\n",
      "Ложные обнаружения: {' higher heart rate', ' â‰¥10 %', ' dose increase', ' â‰¥40 %', ' hf readmissions', '%', ' heart failure', ' ras blockers', ' ambulatory patients', ' heart rate', ' left ventricular ejection fraction', ' renin angiotensin system blocker', ' beta blocker therapy', ' spironolactone use', ' renal function', ' blood pressure', ' hospital admission', ' younger patients', ' significant reductions', 'fractions', ' dose changes', ' ras blocker uptitration', ' renin angiotensin system', ' better renal function', ' neurohumoral blockers', ' consecutive patients', ' composite end point', ' clinical outcome', ' hazard ratio', 'fraction', ' hf hospitalization'}\n",
      "____________________________________________________________________\n",
      "\n",
      "___________________________TOTAL_________________________________________\n",
      "\n",
      "total result\n",
      "Precision: 0.1388888888888889\n",
      "Recall: 0.01597444089456869\n",
      "F1 Score: 0.02865329512893983\n",
      "Истинные обнаружения: {'uptitrations', 'uptitration', 'î²-blockers', 'hospitalization', 'spironolactone'}\n",
      "Ложные пропуски: {'price', 'corporate', 'co-morbidity', 'confidence interval', 'cream something off payments', 'reduced ejection fraction', 'corruption scandals', 'fraud', 'off-books accounting', 'significant', 'slush money', 'rome', 'legal', 'icc', 'council of europe', 'neurohumoral blockers', 'departments of government', 'code of conduct', 'investment', 'authorities', 'composite end-point', 'national security plan 2008 - 2011', 'liable', 'legal persons', 'funding', 'ras', 'money laundering', 'world bank', 'fighting corruption', 'board of directors', 'grey areas', 'board of public prosecutors-general', 'hf with preserved ejection fraction', 'report', 'ci', 'hospital', 'public', 'tax legislation', 'rules', 'convicted', 'business relations', 'blood pressure', 'company', 'ngo', 'enterprises', 'natural persons', 'reclaim', 'royal decrees', 'public contracts', 'political parties', 'therapy', 'legal status', 'combating corruption', 'rules of conduct', 'framework of good practice', 'federal department of the budget', 'federation of enterprises in belgium', 'professional ethics', 'basis of tax assessment', 'commercial', 'transactions', 'salary', 'natural', 'public institution', 'passive bribery', 'market', 'freedom of bidding', 'general assembly', 'ethical behaviour', 'deducted', 'small and medium-sized enterprises11', 'penalization', 'belgian criminal code', 'embezzle', 'misdemeanour', 'termination of a contract', 'trade', 'network of expertise on economic ', 'anti-corruption policy', 'development aid', 'hf', 'contracts', 'police', 'fines', 'businesses', 'imprisonment', 'ambulatory', 'income tax law', 'extortion', 'advantage', 'misconduct', 'assets', 'criminal law', 'renin-angiotensin system', 'blacklist', 'anti-corruption', 'legislation', 'active', 'san francisco', 'contracting', 'advantages', 'directorate for combating economic and financial crime', 'licensing', 'pay', 'accounting irregularities', 'punishes', 'procurement', 'fiscal', 'belgium', 'commission', 'public sector', 'central department on combating corruption', 'anti-fraud', 'business practices', 'european union', 'federal police', 'subcontracts', 'count of corruption', 'penalty of imprisonment', 'third party', 'penalties', 'patients', 'readmissions', 'goods', 'convict', 'sme', 'criminal abuses', 'united nations convention against corruption', 'criminal proceedings', 'reduced', 'registration for transfers of ownership', 'saddam hussein', 'gpa', 'federal civil service', 'hr', 'federal department of finance', 'preserved left ventricular ejection fractions', 'foreign corrupt practices act', 'outcome', 'policy against corruption', 'ref', 'statutory', 'p', 'business community', 'american', 'principal', 'hospitalized', 'competition', 'wto', 'recognitions', 'criminal prosecution', 'corruption', 'international market', 'paid', 'policy', 'trade union', 'group of states against corruption', 'intermediaries', 'service for criminal policy', 'punishable', 'renal function', 'renin-angiotensin system blocker', 'ethical enterprise', 'bribery', 'corporate taxpayer', 'heart failure', 'private sectors', 'bribing', 'olaf', 'governments', 'tactless', 'purchasing director', 'office for administrative ethics and deontology', 'criminally liable', 'police on web', 'corruption-related', 'contractors', 'financial and fiscal crime', 'greco', 'custodial sentence', 'transparency international belgium', 'ras-blocker', 'market procedures', 'federal government department of the budget and management control', 'paying', 'immovable property', 'royal decree', 'eu', 'levied', 'companies', 'federal criminal investigation police', 'civil law convention on corruption', 'business', \"employers ' organization\", 'officials', 'corrupt practices', 'office-holders', 'organisation for economic cooperation and development', 'î²-blocker', 'criminality', 'ras blockers', 'compliance', 'legal person', 'usa', 'financial statements', 'non-transparent', 'un', 'private bribery', 'corrupt business practices', 'corrupt behaviour', 'criminal code', 'criminal liability', 'fine', 'chamber of commerce', 'ras -', 'network of expertise on corruption', 'hfref', 'civil', 'internet portal', 'left ventricular ejection fraction', 'prosecution', 'criminal conspiracy', 'agreement on government procurement', 'public invitations to tender', 'codes of conduct', 'all-cause mortality', 'costs', 'regulations', 'central office for the repression of corruption', 'commercial dispute', 'bureau of official ethics and good practice', 'government contracts', 'private sector', 'iraq', 'ethically', 'active corruption', 'legal action', 'united nations global compact', 'distortion of competition', 'significantly', 'transparent', 'federal government departments', 'un corruption', 'hazard ratio', 'private corruption', 'corrupt', 'joint venture', 'clinical', 'lawfully provided services', 'subsidies', 'government', 'corporate governance', 'penalizes', 'prohibition', 'admission', 'public bribery', 'laws', 'auditing', 'compromise', 'additional tenths', 'misdemeanours', 'trading', 'double-checking', 'law', 'business contacts', 'oecd convention on combating bribery of foreign public officials in international business transactions', 'integrity', 'feb', 'fight against corruption', 'malpractices', 'beta-blocker', 'blacklists', 'society', 'transparency international', 'enforcement', 'pef', 'heart rate', 'subsidy laws', 'corruption risks', 'moniteur belge', 'prosecute', 'private', 'rights', 'ex officio', 'oecd', 'federal government department of justice', 'movable', 'passive corruption', 'official', 'us', 'integrity policy', 'payments', 'hfpef', 'judicial', 'madrid', 'european commission', 'icc belgium', 'trade organization', 'civil servants', 'usufruct', 'directives', 'bribe', 'criminal law convention on corruption', 'aggravating circumstances', 'criminal offences', 'markets', 'blackmail', 'anti-bribery convention'}\n",
      "Ложные обнаружения: {' higher heart rate', ' â‰¥10 %', ' dose increase', ' â‰¥40 %', ' hf readmissions', '%', ' heart failure', ' ras blockers', ' ambulatory patients', ' heart rate', ' left ventricular ejection fraction', ' renin angiotensin system blocker', ' beta blocker therapy', ' spironolactone use', ' renal function', ' blood pressure', ' hospital admission', ' younger patients', ' significant reductions', 'fractions', ' dose changes', ' ras blocker uptitration', ' renin angiotensin system', ' better renal function', ' neurohumoral blockers', ' consecutive patients', ' composite end point', ' clinical outcome', ' hazard ratio', 'fraction', ' hf hospitalization'}\n"
     ]
    },
    {
     "data": {
      "text/plain": "(0.1388888888888889,\n 0.01597444089456869,\n 0.02865329512893983,\n {'hospitalization',\n  'spironolactone',\n  'uptitration',\n  'uptitrations',\n  'î²-blockers'},\n {'accounting irregularities',\n  'active',\n  'active corruption',\n  'additional tenths',\n  'admission',\n  'advantage',\n  'advantages',\n  'aggravating circumstances',\n  'agreement on government procurement',\n  'all-cause mortality',\n  'ambulatory',\n  'american',\n  'anti-bribery convention',\n  'anti-corruption',\n  'anti-corruption policy',\n  'anti-fraud',\n  'assets',\n  'auditing',\n  'authorities',\n  'basis of tax assessment',\n  'belgian criminal code',\n  'belgium',\n  'beta-blocker',\n  'blacklist',\n  'blacklists',\n  'blackmail',\n  'blood pressure',\n  'board of directors',\n  'board of public prosecutors-general',\n  'bribe',\n  'bribery',\n  'bribing',\n  'bureau of official ethics and good practice',\n  'business',\n  'business community',\n  'business contacts',\n  'business practices',\n  'business relations',\n  'businesses',\n  'central department on combating corruption',\n  'central office for the repression of corruption',\n  'chamber of commerce',\n  'ci',\n  'civil',\n  'civil law convention on corruption',\n  'civil servants',\n  'clinical',\n  'co-morbidity',\n  'code of conduct',\n  'codes of conduct',\n  'combating corruption',\n  'commercial',\n  'commercial dispute',\n  'commission',\n  'companies',\n  'company',\n  'competition',\n  'compliance',\n  'composite end-point',\n  'compromise',\n  'confidence interval',\n  'contracting',\n  'contractors',\n  'contracts',\n  'convict',\n  'convicted',\n  'corporate',\n  'corporate governance',\n  'corporate taxpayer',\n  'corrupt',\n  'corrupt behaviour',\n  'corrupt business practices',\n  'corrupt practices',\n  'corruption',\n  'corruption risks',\n  'corruption scandals',\n  'corruption-related',\n  'costs',\n  'council of europe',\n  'count of corruption',\n  'cream something off payments',\n  'criminal abuses',\n  'criminal code',\n  'criminal conspiracy',\n  'criminal law',\n  'criminal law convention on corruption',\n  'criminal liability',\n  'criminal offences',\n  'criminal proceedings',\n  'criminal prosecution',\n  'criminality',\n  'criminally liable',\n  'custodial sentence',\n  'deducted',\n  'departments of government',\n  'development aid',\n  'directives',\n  'directorate for combating economic and financial crime',\n  'distortion of competition',\n  'double-checking',\n  'embezzle',\n  \"employers ' organization\",\n  'enforcement',\n  'enterprises',\n  'ethical behaviour',\n  'ethical enterprise',\n  'ethically',\n  'eu',\n  'european commission',\n  'european union',\n  'ex officio',\n  'extortion',\n  'feb',\n  'federal civil service',\n  'federal criminal investigation police',\n  'federal department of finance',\n  'federal department of the budget',\n  'federal government department of justice',\n  'federal government department of the budget and management control',\n  'federal government departments',\n  'federal police',\n  'federation of enterprises in belgium',\n  'fight against corruption',\n  'fighting corruption',\n  'financial and fiscal crime',\n  'financial statements',\n  'fine',\n  'fines',\n  'fiscal',\n  'foreign corrupt practices act',\n  'framework of good practice',\n  'fraud',\n  'freedom of bidding',\n  'funding',\n  'general assembly',\n  'goods',\n  'government',\n  'government contracts',\n  'governments',\n  'gpa',\n  'greco',\n  'grey areas',\n  'group of states against corruption',\n  'hazard ratio',\n  'heart failure',\n  'heart rate',\n  'hf',\n  'hf with preserved ejection fraction',\n  'hfpef',\n  'hfref',\n  'hospital',\n  'hospitalized',\n  'hr',\n  'icc',\n  'icc belgium',\n  'immovable property',\n  'imprisonment',\n  'income tax law',\n  'integrity',\n  'integrity policy',\n  'intermediaries',\n  'international market',\n  'internet portal',\n  'investment',\n  'iraq',\n  'joint venture',\n  'judicial',\n  'law',\n  'lawfully provided services',\n  'laws',\n  'left ventricular ejection fraction',\n  'legal',\n  'legal action',\n  'legal person',\n  'legal persons',\n  'legal status',\n  'legislation',\n  'levied',\n  'liable',\n  'licensing',\n  'madrid',\n  'malpractices',\n  'market',\n  'market procedures',\n  'markets',\n  'misconduct',\n  'misdemeanour',\n  'misdemeanours',\n  'money laundering',\n  'moniteur belge',\n  'movable',\n  'national security plan 2008 - 2011',\n  'natural',\n  'natural persons',\n  'network of expertise on corruption',\n  'network of expertise on economic ',\n  'neurohumoral blockers',\n  'ngo',\n  'non-transparent',\n  'oecd',\n  'oecd convention on combating bribery of foreign public officials in international business transactions',\n  'off-books accounting',\n  'office for administrative ethics and deontology',\n  'office-holders',\n  'official',\n  'officials',\n  'olaf',\n  'organisation for economic cooperation and development',\n  'outcome',\n  'p',\n  'paid',\n  'passive bribery',\n  'passive corruption',\n  'patients',\n  'pay',\n  'paying',\n  'payments',\n  'pef',\n  'penalization',\n  'penalizes',\n  'penalties',\n  'penalty of imprisonment',\n  'police',\n  'police on web',\n  'policy',\n  'policy against corruption',\n  'political parties',\n  'preserved left ventricular ejection fractions',\n  'price',\n  'principal',\n  'private',\n  'private bribery',\n  'private corruption',\n  'private sector',\n  'private sectors',\n  'procurement',\n  'professional ethics',\n  'prohibition',\n  'prosecute',\n  'prosecution',\n  'public',\n  'public bribery',\n  'public contracts',\n  'public institution',\n  'public invitations to tender',\n  'public sector',\n  'punishable',\n  'punishes',\n  'purchasing director',\n  'ras',\n  'ras -',\n  'ras blockers',\n  'ras-blocker',\n  'readmissions',\n  'reclaim',\n  'recognitions',\n  'reduced',\n  'reduced ejection fraction',\n  'ref',\n  'registration for transfers of ownership',\n  'regulations',\n  'renal function',\n  'renin-angiotensin system',\n  'renin-angiotensin system blocker',\n  'report',\n  'rights',\n  'rome',\n  'royal decree',\n  'royal decrees',\n  'rules',\n  'rules of conduct',\n  'saddam hussein',\n  'salary',\n  'san francisco',\n  'service for criminal policy',\n  'significant',\n  'significantly',\n  'slush money',\n  'small and medium-sized enterprises11',\n  'sme',\n  'society',\n  'statutory',\n  'subcontracts',\n  'subsidies',\n  'subsidy laws',\n  'tactless',\n  'tax legislation',\n  'termination of a contract',\n  'therapy',\n  'third party',\n  'trade',\n  'trade organization',\n  'trade union',\n  'trading',\n  'transactions',\n  'transparency international',\n  'transparency international belgium',\n  'transparent',\n  'un',\n  'un corruption',\n  'united nations convention against corruption',\n  'united nations global compact',\n  'us',\n  'usa',\n  'usufruct',\n  'world bank',\n  'wto',\n  'î²-blocker'},\n {' ambulatory patients',\n  ' beta blocker therapy',\n  ' better renal function',\n  ' blood pressure',\n  ' clinical outcome',\n  ' composite end point',\n  ' consecutive patients',\n  ' dose changes',\n  ' dose increase',\n  ' hazard ratio',\n  ' heart failure',\n  ' heart rate',\n  ' hf hospitalization',\n  ' hf readmissions',\n  ' higher heart rate',\n  ' hospital admission',\n  ' left ventricular ejection fraction',\n  ' neurohumoral blockers',\n  ' ras blocker uptitration',\n  ' ras blockers',\n  ' renal function',\n  ' renin angiotensin system',\n  ' renin angiotensin system blocker',\n  ' significant reductions',\n  ' spironolactone use',\n  ' younger patients',\n  ' â‰¥10 %',\n  ' â‰¥40 %',\n  '%',\n  'fraction',\n  'fractions'})"
     },
     "execution_count": 92,
     "metadata": {},
     "output_type": "execute_result"
    }
   ],
   "source": [
    "os.chdir(folder_name)\n",
    "whole_true_terms=[]\n",
    "whole_extracted_terms=[]\n",
    "results=[]\n",
    "for text_file_name, term_file_name in file_tuples:\n",
    "    true_terms, extracted_terms, precision, recall, f1_score, true_detections, false_gaps, false_detections=test_file(text_file_name, term_file_name)\n",
    "    results.append((true_terms, extracted_terms, precision, recall, f1_score, true_detections, false_gaps, false_detections ))\n",
    "    print('____________________________________________________________________\\n')\n",
    "    whole_true_terms+=true_terms\n",
    "    whole_extracted_terms=extracted_terms\n",
    "print('___________________________TOTAL_________________________________________\\n')\n",
    "whole_true_terms=set(whole_true_terms)\n",
    "whole_extracted_terms=set(whole_extracted_terms)\n",
    "print('total result')\n",
    "report(whole_true_terms, whole_extracted_terms)"
   ],
   "metadata": {
    "collapsed": false,
    "ExecuteTime": {
     "end_time": "2023-10-25T12:01:44.190187400Z",
     "start_time": "2023-10-25T11:23:41.891718800Z"
    }
   },
   "id": "f07c640dc1e74e39"
  },
  {
   "cell_type": "code",
   "execution_count": 93,
   "outputs": [],
   "source": [
    "os.chdir('..')\n"
   ],
   "metadata": {
    "collapsed": false,
    "ExecuteTime": {
     "end_time": "2023-10-25T12:01:44.197007200Z",
     "start_time": "2023-10-25T12:01:44.179555400Z"
    }
   },
   "id": "2bb33be2aa83c996"
  },
  {
   "cell_type": "code",
   "execution_count": 93,
   "outputs": [],
   "source": [],
   "metadata": {
    "collapsed": false,
    "ExecuteTime": {
     "end_time": "2023-10-25T12:01:44.197007200Z",
     "start_time": "2023-10-25T12:01:44.185181Z"
    }
   },
   "id": "fa44f4fdf3a91839"
  }
 ],
 "metadata": {
  "kernelspec": {
   "display_name": "Python 3",
   "language": "python",
   "name": "python3"
  },
  "language_info": {
   "codemirror_mode": {
    "name": "ipython",
    "version": 2
   },
   "file_extension": ".py",
   "mimetype": "text/x-python",
   "name": "python",
   "nbconvert_exporter": "python",
   "pygments_lexer": "ipython2",
   "version": "2.7.6"
  }
 },
 "nbformat": 4,
 "nbformat_minor": 5
}
