{
 "cells": [
  {
   "cell_type": "markdown",
   "source": [
    "Installing necessary modules and run necessary scripts"
   ],
   "metadata": {
    "collapsed": false
   },
   "id": "5d84faeb83ad2746"
  },
  {
   "cell_type": "code",
   "execution_count": 1,
   "outputs": [
    {
     "data": {
      "text/plain": "['Looking in indexes: https://download.pytorch.org/whl/cu121',\n 'Requirement already satisfied: torch in c:\\\\users\\\\qyzyr\\\\onedrive\\\\documents\\\\project_nlp\\\\unsupervised_annotator1\\\\venv\\\\lib\\\\site-packages (2.1.0+cu121)',\n 'Requirement already satisfied: torchvision in c:\\\\users\\\\qyzyr\\\\onedrive\\\\documents\\\\project_nlp\\\\unsupervised_annotator1\\\\venv\\\\lib\\\\site-packages (0.16.0+cu121)',\n 'Requirement already satisfied: torchaudio in c:\\\\users\\\\qyzyr\\\\onedrive\\\\documents\\\\project_nlp\\\\unsupervised_annotator1\\\\venv\\\\lib\\\\site-packages (2.1.0+cu121)',\n 'Requirement already satisfied: filelock in c:\\\\users\\\\qyzyr\\\\onedrive\\\\documents\\\\project_nlp\\\\unsupervised_annotator1\\\\venv\\\\lib\\\\site-packages (from torch) (3.12.3)',\n 'Requirement already satisfied: typing-extensions in c:\\\\users\\\\qyzyr\\\\onedrive\\\\documents\\\\project_nlp\\\\unsupervised_annotator1\\\\venv\\\\lib\\\\site-packages (from torch) (4.7.1)',\n 'Requirement already satisfied: sympy in c:\\\\users\\\\qyzyr\\\\onedrive\\\\documents\\\\project_nlp\\\\unsupervised_annotator1\\\\venv\\\\lib\\\\site-packages (from torch) (1.12)',\n 'Requirement already satisfied: networkx in c:\\\\users\\\\qyzyr\\\\onedrive\\\\documents\\\\project_nlp\\\\unsupervised_annotator1\\\\venv\\\\lib\\\\site-packages (from torch) (3.1)',\n 'Requirement already satisfied: jinja2 in c:\\\\users\\\\qyzyr\\\\onedrive\\\\documents\\\\project_nlp\\\\unsupervised_annotator1\\\\venv\\\\lib\\\\site-packages (from torch) (3.1.2)',\n 'Requirement already satisfied: fsspec in c:\\\\users\\\\qyzyr\\\\onedrive\\\\documents\\\\project_nlp\\\\unsupervised_annotator1\\\\venv\\\\lib\\\\site-packages (from torch) (2023.9.0)',\n 'Requirement already satisfied: numpy in c:\\\\users\\\\qyzyr\\\\onedrive\\\\documents\\\\project_nlp\\\\unsupervised_annotator1\\\\venv\\\\lib\\\\site-packages (from torchvision) (1.25.2)',\n 'Requirement already satisfied: requests in c:\\\\users\\\\qyzyr\\\\onedrive\\\\documents\\\\project_nlp\\\\unsupervised_annotator1\\\\venv\\\\lib\\\\site-packages (from torchvision) (2.31.0)',\n 'Requirement already satisfied: pillow!=8.3.*,>=5.3.0 in c:\\\\users\\\\qyzyr\\\\onedrive\\\\documents\\\\project_nlp\\\\unsupervised_annotator1\\\\venv\\\\lib\\\\site-packages (from torchvision) (10.0.0)',\n 'Requirement already satisfied: MarkupSafe>=2.0 in c:\\\\users\\\\qyzyr\\\\onedrive\\\\documents\\\\project_nlp\\\\unsupervised_annotator1\\\\venv\\\\lib\\\\site-packages (from jinja2->torch) (2.1.3)',\n 'Requirement already satisfied: charset-normalizer<4,>=2 in c:\\\\users\\\\qyzyr\\\\onedrive\\\\documents\\\\project_nlp\\\\unsupervised_annotator1\\\\venv\\\\lib\\\\site-packages (from requests->torchvision) (3.2.0)',\n 'Requirement already satisfied: idna<4,>=2.5 in c:\\\\users\\\\qyzyr\\\\onedrive\\\\documents\\\\project_nlp\\\\unsupervised_annotator1\\\\venv\\\\lib\\\\site-packages (from requests->torchvision) (3.4)',\n 'Requirement already satisfied: urllib3<3,>=1.21.1 in c:\\\\users\\\\qyzyr\\\\onedrive\\\\documents\\\\project_nlp\\\\unsupervised_annotator1\\\\venv\\\\lib\\\\site-packages (from requests->torchvision) (2.0.4)',\n 'Requirement already satisfied: certifi>=2017.4.17 in c:\\\\users\\\\qyzyr\\\\onedrive\\\\documents\\\\project_nlp\\\\unsupervised_annotator1\\\\venv\\\\lib\\\\site-packages (from requests->torchvision) (2023.7.22)',\n 'Requirement already satisfied: mpmath>=0.19 in c:\\\\users\\\\qyzyr\\\\onedrive\\\\documents\\\\project_nlp\\\\unsupervised_annotator1\\\\venv\\\\lib\\\\site-packages (from sympy->torch) (1.3.0)']"
     },
     "execution_count": 1,
     "metadata": {},
     "output_type": "execute_result"
    }
   ],
   "source": [
    "from torch import Tensor\n",
    "!!pip install torch torchvision torchaudio --index-url https://download.pytorch.org/whl/cu121"
   ],
   "metadata": {
    "collapsed": false,
    "ExecuteTime": {
     "end_time": "2023-11-30T10:49:27.817506Z",
     "start_time": "2023-11-30T10:49:21.940976200Z"
    }
   },
   "id": "fc1fc3aea952fb9c"
  },
  {
   "cell_type": "code",
   "execution_count": 2,
   "outputs": [],
   "source": [
    "import torch\n",
    "device = torch.device(\"cuda\" if torch.cuda.is_available() else \"cpu\")\n"
   ],
   "metadata": {
    "collapsed": false,
    "ExecuteTime": {
     "end_time": "2023-11-30T10:49:29.042192400Z",
     "start_time": "2023-11-30T10:49:29.039173400Z"
    }
   },
   "id": "752767abe5f7ecd0"
  },
  {
   "cell_type": "code",
   "execution_count": 3,
   "outputs": [
    {
     "data": {
      "text/plain": "['Requirement already satisfied: sentence-transformers in c:\\\\users\\\\qyzyr\\\\onedrive\\\\documents\\\\project_nlp\\\\unsupervised_annotator1\\\\venv\\\\lib\\\\site-packages (2.2.2)',\n 'Requirement already satisfied: transformers<5.0.0,>=4.6.0 in c:\\\\users\\\\qyzyr\\\\onedrive\\\\documents\\\\project_nlp\\\\unsupervised_annotator1\\\\venv\\\\lib\\\\site-packages (from sentence-transformers) (4.33.0)',\n 'Requirement already satisfied: tqdm in c:\\\\users\\\\qyzyr\\\\onedrive\\\\documents\\\\project_nlp\\\\unsupervised_annotator1\\\\venv\\\\lib\\\\site-packages (from sentence-transformers) (4.66.1)',\n 'Requirement already satisfied: torch>=1.6.0 in c:\\\\users\\\\qyzyr\\\\onedrive\\\\documents\\\\project_nlp\\\\unsupervised_annotator1\\\\venv\\\\lib\\\\site-packages (from sentence-transformers) (2.1.0+cu121)',\n 'Requirement already satisfied: torchvision in c:\\\\users\\\\qyzyr\\\\onedrive\\\\documents\\\\project_nlp\\\\unsupervised_annotator1\\\\venv\\\\lib\\\\site-packages (from sentence-transformers) (0.16.0+cu121)',\n 'Requirement already satisfied: numpy in c:\\\\users\\\\qyzyr\\\\onedrive\\\\documents\\\\project_nlp\\\\unsupervised_annotator1\\\\venv\\\\lib\\\\site-packages (from sentence-transformers) (1.25.2)',\n 'Requirement already satisfied: scikit-learn in c:\\\\users\\\\qyzyr\\\\onedrive\\\\documents\\\\project_nlp\\\\unsupervised_annotator1\\\\venv\\\\lib\\\\site-packages (from sentence-transformers) (1.3.0)',\n 'Requirement already satisfied: scipy in c:\\\\users\\\\qyzyr\\\\onedrive\\\\documents\\\\project_nlp\\\\unsupervised_annotator1\\\\venv\\\\lib\\\\site-packages (from sentence-transformers) (1.11.2)',\n 'Requirement already satisfied: nltk in c:\\\\users\\\\qyzyr\\\\onedrive\\\\documents\\\\project_nlp\\\\unsupervised_annotator1\\\\venv\\\\lib\\\\site-packages (from sentence-transformers) (3.8.1)',\n 'Requirement already satisfied: sentencepiece in c:\\\\users\\\\qyzyr\\\\onedrive\\\\documents\\\\project_nlp\\\\unsupervised_annotator1\\\\venv\\\\lib\\\\site-packages (from sentence-transformers) (0.1.99)',\n 'Requirement already satisfied: huggingface-hub>=0.4.0 in c:\\\\users\\\\qyzyr\\\\onedrive\\\\documents\\\\project_nlp\\\\unsupervised_annotator1\\\\venv\\\\lib\\\\site-packages (from sentence-transformers) (0.16.4)',\n 'Requirement already satisfied: filelock in c:\\\\users\\\\qyzyr\\\\onedrive\\\\documents\\\\project_nlp\\\\unsupervised_annotator1\\\\venv\\\\lib\\\\site-packages (from huggingface-hub>=0.4.0->sentence-transformers) (3.12.3)',\n 'Requirement already satisfied: fsspec in c:\\\\users\\\\qyzyr\\\\onedrive\\\\documents\\\\project_nlp\\\\unsupervised_annotator1\\\\venv\\\\lib\\\\site-packages (from huggingface-hub>=0.4.0->sentence-transformers) (2023.9.0)',\n 'Requirement already satisfied: requests in c:\\\\users\\\\qyzyr\\\\onedrive\\\\documents\\\\project_nlp\\\\unsupervised_annotator1\\\\venv\\\\lib\\\\site-packages (from huggingface-hub>=0.4.0->sentence-transformers) (2.31.0)',\n 'Requirement already satisfied: pyyaml>=5.1 in c:\\\\users\\\\qyzyr\\\\onedrive\\\\documents\\\\project_nlp\\\\unsupervised_annotator1\\\\venv\\\\lib\\\\site-packages (from huggingface-hub>=0.4.0->sentence-transformers) (6.0.1)',\n 'Requirement already satisfied: typing-extensions>=3.7.4.3 in c:\\\\users\\\\qyzyr\\\\onedrive\\\\documents\\\\project_nlp\\\\unsupervised_annotator1\\\\venv\\\\lib\\\\site-packages (from huggingface-hub>=0.4.0->sentence-transformers) (4.7.1)',\n 'Requirement already satisfied: packaging>=20.9 in c:\\\\users\\\\qyzyr\\\\onedrive\\\\documents\\\\project_nlp\\\\unsupervised_annotator1\\\\venv\\\\lib\\\\site-packages (from huggingface-hub>=0.4.0->sentence-transformers) (23.1)',\n 'Requirement already satisfied: sympy in c:\\\\users\\\\qyzyr\\\\onedrive\\\\documents\\\\project_nlp\\\\unsupervised_annotator1\\\\venv\\\\lib\\\\site-packages (from torch>=1.6.0->sentence-transformers) (1.12)',\n 'Requirement already satisfied: networkx in c:\\\\users\\\\qyzyr\\\\onedrive\\\\documents\\\\project_nlp\\\\unsupervised_annotator1\\\\venv\\\\lib\\\\site-packages (from torch>=1.6.0->sentence-transformers) (3.1)',\n 'Requirement already satisfied: jinja2 in c:\\\\users\\\\qyzyr\\\\onedrive\\\\documents\\\\project_nlp\\\\unsupervised_annotator1\\\\venv\\\\lib\\\\site-packages (from torch>=1.6.0->sentence-transformers) (3.1.2)',\n 'Requirement already satisfied: colorama in c:\\\\users\\\\qyzyr\\\\onedrive\\\\documents\\\\project_nlp\\\\unsupervised_annotator1\\\\venv\\\\lib\\\\site-packages (from tqdm->sentence-transformers) (0.4.6)',\n 'Requirement already satisfied: regex!=2019.12.17 in c:\\\\users\\\\qyzyr\\\\onedrive\\\\documents\\\\project_nlp\\\\unsupervised_annotator1\\\\venv\\\\lib\\\\site-packages (from transformers<5.0.0,>=4.6.0->sentence-transformers) (2023.8.8)',\n 'Requirement already satisfied: tokenizers!=0.11.3,<0.14,>=0.11.1 in c:\\\\users\\\\qyzyr\\\\onedrive\\\\documents\\\\project_nlp\\\\unsupervised_annotator1\\\\venv\\\\lib\\\\site-packages (from transformers<5.0.0,>=4.6.0->sentence-transformers) (0.13.3)',\n 'Requirement already satisfied: safetensors>=0.3.1 in c:\\\\users\\\\qyzyr\\\\onedrive\\\\documents\\\\project_nlp\\\\unsupervised_annotator1\\\\venv\\\\lib\\\\site-packages (from transformers<5.0.0,>=4.6.0->sentence-transformers) (0.3.3)',\n 'Requirement already satisfied: click in c:\\\\users\\\\qyzyr\\\\onedrive\\\\documents\\\\project_nlp\\\\unsupervised_annotator1\\\\venv\\\\lib\\\\site-packages (from nltk->sentence-transformers) (8.1.7)',\n 'Requirement already satisfied: joblib in c:\\\\users\\\\qyzyr\\\\onedrive\\\\documents\\\\project_nlp\\\\unsupervised_annotator1\\\\venv\\\\lib\\\\site-packages (from nltk->sentence-transformers) (1.3.2)',\n 'Requirement already satisfied: threadpoolctl>=2.0.0 in c:\\\\users\\\\qyzyr\\\\onedrive\\\\documents\\\\project_nlp\\\\unsupervised_annotator1\\\\venv\\\\lib\\\\site-packages (from scikit-learn->sentence-transformers) (3.2.0)',\n 'Requirement already satisfied: pillow!=8.3.*,>=5.3.0 in c:\\\\users\\\\qyzyr\\\\onedrive\\\\documents\\\\project_nlp\\\\unsupervised_annotator1\\\\venv\\\\lib\\\\site-packages (from torchvision->sentence-transformers) (10.0.0)',\n 'Requirement already satisfied: MarkupSafe>=2.0 in c:\\\\users\\\\qyzyr\\\\onedrive\\\\documents\\\\project_nlp\\\\unsupervised_annotator1\\\\venv\\\\lib\\\\site-packages (from jinja2->torch>=1.6.0->sentence-transformers) (2.1.3)',\n 'Requirement already satisfied: charset-normalizer<4,>=2 in c:\\\\users\\\\qyzyr\\\\onedrive\\\\documents\\\\project_nlp\\\\unsupervised_annotator1\\\\venv\\\\lib\\\\site-packages (from requests->huggingface-hub>=0.4.0->sentence-transformers) (3.2.0)',\n 'Requirement already satisfied: idna<4,>=2.5 in c:\\\\users\\\\qyzyr\\\\onedrive\\\\documents\\\\project_nlp\\\\unsupervised_annotator1\\\\venv\\\\lib\\\\site-packages (from requests->huggingface-hub>=0.4.0->sentence-transformers) (3.4)',\n 'Requirement already satisfied: urllib3<3,>=1.21.1 in c:\\\\users\\\\qyzyr\\\\onedrive\\\\documents\\\\project_nlp\\\\unsupervised_annotator1\\\\venv\\\\lib\\\\site-packages (from requests->huggingface-hub>=0.4.0->sentence-transformers) (2.0.4)',\n 'Requirement already satisfied: certifi>=2017.4.17 in c:\\\\users\\\\qyzyr\\\\onedrive\\\\documents\\\\project_nlp\\\\unsupervised_annotator1\\\\venv\\\\lib\\\\site-packages (from requests->huggingface-hub>=0.4.0->sentence-transformers) (2023.7.22)',\n 'Requirement already satisfied: mpmath>=0.19 in c:\\\\users\\\\qyzyr\\\\onedrive\\\\documents\\\\project_nlp\\\\unsupervised_annotator1\\\\venv\\\\lib\\\\site-packages (from sympy->torch>=1.6.0->sentence-transformers) (1.3.0)']"
     },
     "execution_count": 3,
     "metadata": {},
     "output_type": "execute_result"
    }
   ],
   "source": [
    "!! pip install spacy\n",
    "!! python -m spacy download en_core_web_sm\n",
    "!!pip install sentence-transformers"
   ],
   "metadata": {
    "collapsed": false,
    "ExecuteTime": {
     "end_time": "2023-11-30T10:49:48.633984200Z",
     "start_time": "2023-11-30T10:49:32.671478100Z"
    }
   },
   "id": "bb705793e4eb5a48"
  },
  {
   "cell_type": "markdown",
   "source": [
    "Importing modules"
   ],
   "metadata": {
    "collapsed": false
   },
   "id": "c44ac7a7abe1cd78"
  },
  {
   "cell_type": "code",
   "execution_count": 3,
   "outputs": [],
   "source": [],
   "metadata": {
    "collapsed": false,
    "ExecuteTime": {
     "end_time": "2023-11-30T10:49:48.633984200Z",
     "start_time": "2023-11-30T10:49:48.629975Z"
    }
   },
   "id": "4c8012774715791e"
  },
  {
   "cell_type": "code",
   "execution_count": 4,
   "outputs": [],
   "source": [
    "import spacy\n",
    "from spacy.tokenizer import Tokenizer\n",
    "from spacy.util import compile_infix_regex\n",
    "spacy.prefer_gpu()\n",
    "\n",
    "# Load the language model\n",
    "nlp = spacy.load('en_core_web_sm')\n",
    "# Remove hyphen from the default infix patterns\n",
    "infixes = [pattern for pattern in nlp.Defaults.infixes if pattern != r\"-\"]\n",
    "infix_regex = compile_infix_regex(infixes)\n",
    "nlp.tokenizer.infix_finditer = infix_regex.finditer\n",
    "from sentence_transformers import SentenceTransformer\n",
    "# model = SentenceTransformer('distilbert-base-nli-mean-tokens', device=device)\n",
    "# model = SentenceTransformer('deberta-v3-base', device=device)\n",
    "model = SentenceTransformer('all-MiniLM-L6-v2', device=device)\n",
    "\n",
    "from sentence_transformers import SentenceTransformer, util\n",
    "from typing import List\n",
    "from transformers import BertTokenizer\n",
    "\n",
    "# Initialize the BERT tokenizer\n",
    "tokenizer = BertTokenizer.from_pretrained(\"bert-base-uncased\")"
   ],
   "metadata": {
    "collapsed": false,
    "ExecuteTime": {
     "end_time": "2023-11-30T10:49:53.010654200Z",
     "start_time": "2023-11-30T10:49:48.633984200Z"
    }
   },
   "id": "7c57129dab585428"
  },
  {
   "cell_type": "code",
   "execution_count": 5,
   "outputs": [],
   "source": [
    "from collections import namedtuple\n",
    "CandidateMWE = namedtuple('CandidateMWE',['text','head', 'sentence','self_encode', 'sent_encode'])\n",
    "CandidateW=namedtuple('CandidateW',['text','lemma', 'self_encode' ])\n",
    "# Term=namedtuple('Term',['text','detected' ])"
   ],
   "metadata": {
    "collapsed": false,
    "ExecuteTime": {
     "end_time": "2023-11-30T10:49:53.017961600Z",
     "start_time": "2023-11-30T10:49:53.011654600Z"
    }
   },
   "id": "ca195029b0d8acd3"
  },
  {
   "cell_type": "markdown",
   "source": [
    "creating functions"
   ],
   "metadata": {
    "collapsed": false
   },
   "id": "1f1a8e78a4e42d9f"
  },
  {
   "cell_type": "code",
   "execution_count": 6,
   "outputs": [],
   "source": [
    "def parse_candidates(text:str):\n",
    "        # Remove the default rule that splits on hyphens\n",
    "    infixes = [pattern for pattern in nlp.Defaults.infixes if \"-\" not in pattern]\n",
    "    infix_regex = compile_infix_regex(infixes)\n",
    "    nlp.tokenizer.infix_finditer = infix_regex.finditer\n",
    "    # Process the text with spaCy\n",
    "    doc = nlp(text)\n",
    "    \n",
    "    # Extract MWEs (noun phrases) from the text\n",
    "    mwe_list = []\n",
    "    single_noun_list=dict()\n",
    "    candidate_list=[]\n",
    "    for sent in doc.sents:\n",
    "        sent_encode=model.encode(sent.text, convert_to_tensor=True).to(device)\n",
    "        for chunk in sent.noun_chunks:\n",
    "            is_candidate=False\n",
    "            word_count=0\n",
    "            # mwe_list.append(chunk.text)\n",
    "            if len(chunk.text.split()) > 1:\n",
    "                noun_appeared=False\n",
    "                is_candidate=True\n",
    "                cleared_candidate=''\n",
    "                for word in chunk:\n",
    "                    if word.text == '-':\n",
    "                        cleared_candidate+='-'\n",
    "                        continue\n",
    "                    #IGNORING\n",
    "                    if word.pos_ in ['PUNCT', 'ADP', 'DET']:\n",
    "                        continue\n",
    "                    elif word.pos_ not in ['ADJ', 'PROPN', 'NOUN']:\n",
    "                        is_candidate=False\n",
    "                        # print(f'{chunk.text} is not candidate 1 {word.text} -- {word.pos_}')\n",
    "                        break\n",
    "                    elif word.pos_ in ['PROPN', 'NOUN']:\n",
    "                        noun_appeared=True\n",
    "                    elif not(not noun_appeared and word.pos_=='ADJ'):\n",
    "                        is_candidate=False\n",
    "                        # print(f'{chunk.text} is not candidate 2 {word.text} -- {word.pos_}, {noun_appeared}')\n",
    "                        break\n",
    "                    cleared_candidate+=word.text+' '\n",
    "                    word_count+=1\n",
    "            if is_candidate and word_count>1:\n",
    "                cleared_candidate=cleared_candidate.strip()\n",
    "                candidate_list.append(CandidateMWE(cleared_candidate, chunk.root.text, sent.text, model.encode(cleared_candidate, convert_to_tensor=True).to(device), sent_encode))\n",
    "                # print(f'Added candicate expression: {cleared_candidate}')\n",
    "            else:\n",
    "                \n",
    "                # print(f'Added candidate words from : {chunk.text}')    \n",
    "                for word in chunk:\n",
    "                    if word.pos_ in ['NOUN', 'PROPN']:\n",
    "                        single_noun_list[word.text]=  CandidateW(word.text, word.lemma_, model.encode(word.text))\n",
    "                        # print(word.text)    \n",
    "    return candidate_list, single_noun_list.values()"
   ],
   "metadata": {
    "collapsed": false,
    "ExecuteTime": {
     "end_time": "2023-11-30T10:49:55.386226300Z",
     "start_time": "2023-11-30T10:49:55.383706600Z"
    }
   },
   "id": "a9c58471f3da86bf"
  },
  {
   "cell_type": "code",
   "execution_count": 7,
   "outputs": [],
   "source": [
    "\n",
    "\n",
    "def parse_candidates_new(text:str):  \n",
    "    # Remove the default rule that splits on hyphens\n",
    "    infixes = [pattern for pattern in nlp.Defaults.infixes if \"-\" not in pattern]\n",
    "    infix_regex = compile_infix_regex(infixes)\n",
    "    nlp.tokenizer.infix_finditer = infix_regex.finditer\n",
    "    # Process the text with spaCy\n",
    "    doc = nlp(text)\n",
    "    \n",
    "    # Extract MWEs (noun phrases) from the text\n",
    "    mwe_list = []\n",
    "    single_noun_list=dict()\n",
    "    candidate_list=[]\n",
    "    for sent in doc.sents:\n",
    "        sent_encode=model.encode(sent.text, convert_to_tensor=True).to(device)\n",
    "        temp_list=[]\n",
    "        for word in sent:\n",
    "            if word.pos_ in ['ADJ', 'ADP', 'DET']:#DET ADP\n",
    "                temp_list.append(word)\n",
    "            elif word.pos_ in ['NOUN', 'PROPN']:\n",
    "                single_noun_list[word.text]=  CandidateW(word.text, word.lemma_, model.encode(word.text))\n",
    "                temp_list.append(word)\n",
    "                for i in range(1, len(temp_list)):\n",
    "                    # cleared_candidate=' '.join(temp_list[-i-1:])\n",
    "                    chunk=doc[temp_list[-i-1].i:temp_list[-1].i+1]\n",
    "                    cleared_candidate=chunk.text\n",
    "                    candidate_list.append(CandidateMWE(cleared_candidate, chunk.root.text, sent.text, model.encode(cleared_candidate, convert_to_tensor=True).to(device), sent_encode))\n",
    "            else:\n",
    "                temp_list=[]\n",
    "                    \n",
    "\n",
    "    return candidate_list, single_noun_list.values()"
   ],
   "metadata": {
    "collapsed": false,
    "ExecuteTime": {
     "end_time": "2023-11-30T10:49:56.871507300Z",
     "start_time": "2023-11-30T10:49:56.865296200Z"
    }
   },
   "id": "2f5b43459d6dbd2d"
  },
  {
   "cell_type": "code",
   "execution_count": 8,
   "outputs": [],
   "source": [
    "def dist(wi_encode, wj_encode):\n",
    "    return util.pytorch_cos_sim(\n",
    "        wi_encode,\n",
    "        wj_encode\n",
    "    )\n",
    "def calculate_topic_score(expression_embedding, sentence_embedding)->float:\n",
    "    \"\"\"\n",
    "    Calculate the topic score between a multiword expression and a sentence.\n",
    "\n",
    "    Args:\n",
    "        multiword_expression (str): The multiword expression.\n",
    "        sentence (str): The sentence containing the expression.\n",
    "\n",
    "    Returns:\n",
    "        float: The topic score (cosine similarity) between the two embeddings.\n",
    "    \"\"\"\n",
    "    # Load the distilbert-base-nli-mean-tokens model\n",
    "\n",
    "    # Encode the multiword expression and sentence into embeddings\n",
    "    # expression_embedding = model.encode(multiword_expression, convert_to_tensor=True)\n",
    "    # sentence_embedding = model.encode(sentence, convert_to_tensor=True)\n",
    "\n",
    "    # Calculate cosine similarity between the two embeddings\n",
    "    similarity_score = util.pytorch_cos_sim(expression_embedding, sentence_embedding)\n",
    "\n",
    "    # Extract the cosine similarity value from the tensor\n",
    "    topic_score = similarity_score[0].item()\n",
    "\n",
    "    return topic_score\n",
    "\n",
    "\n",
    "def calculate_specificity_score(mw:CandidateMWE, full_encode:Tensor)->float:\n",
    "    \"\"\"\n",
    "    Calculate the specificity score (SP) between a multiword expression (mw) and a list of words/multiword expressions (w).\n",
    "\n",
    "    Args:\n",
    "        mw (str): The multiword expression.\n",
    "        w (list of str): The list of words/multiword expressions in the context.\n",
    "\n",
    "    Returns:\n",
    "        float: The specificity score (SP).\n",
    "    \"\"\"\n",
    "    # Load the distilbert-base-nli-mean-tokens model\n",
    "    # Calculate distances between mw and each word/phrase in w\n",
    "    distances = dist(mw.self_encode,full_encode)\n",
    "\n",
    "    # Calculate the mean of the distances\n",
    "    specificity_score = distances.mean().item()\n",
    "    \n",
    "\n",
    "    return specificity_score\n"
   ],
   "metadata": {
    "collapsed": false,
    "ExecuteTime": {
     "end_time": "2023-11-30T10:49:58.180055300Z",
     "start_time": "2023-11-30T10:49:58.172348200Z"
    }
   },
   "id": "550e916cd76d4fc9"
  },
  {
   "cell_type": "code",
   "execution_count": 9,
   "outputs": [],
   "source": [
    "def detect_mw_terms(candidate_list:List[CandidateMWE], TSP:float = 0.05, Ttopic:float = 0.1)->List[CandidateMWE]:    \n",
    "            \n",
    "    full_encode= torch.stack([wi.self_encode for wi in candidate_list], dim=0)    \n",
    "    \n",
    "    temp_candidate = []\n",
    "    for candidate in candidate_list:\n",
    "        topic_score = calculate_topic_score(candidate.self_encode, candidate.sent_encode)\n",
    "        sp_score=calculate_specificity_score(candidate, full_encode)\n",
    "        if topic_score > Ttopic and sp_score > TSP:\n",
    "            temp_candidate.append(candidate)\n",
    "            # print(f'Added \"{candidate.text}\" topic score {topic_score}, specifity score {sp_score}')\n",
    "\n",
    "    return temp_candidate"
   ],
   "metadata": {
    "collapsed": false,
    "ExecuteTime": {
     "end_time": "2023-11-30T10:49:58.871089600Z",
     "start_time": "2023-11-30T10:49:58.862838400Z"
    }
   },
   "id": "2d085eeb13426a1d"
  },
  {
   "cell_type": "code",
   "execution_count": 10,
   "outputs": [],
   "source": [
    "def detect_single_noun_terms(term_mws:List[CandidateMWE], single_noun_list:List[CandidateW], subtoken_threshold:int=4)->List[CandidateW]:    \n",
    "    term_nouns=[]\n",
    "    for candidate in single_noun_list:\n",
    "        #Check if the lemma of the noun is the same as any of the heads of the multiword expressions.\n",
    "        is_term=False\n",
    "        lemma_is_head=False\n",
    "        for term_mw in term_mws:\n",
    "            if term_mw.head==candidate.lemma:\n",
    "                is_term=True\n",
    "                term_nouns.append(candidate)\n",
    "                # print(f'\"{candidate.text}\" is added by lemma: \"{candidate.lemma}\" is head of \"{term_mw}\"')\n",
    "                break\n",
    "        if is_term:\n",
    "            continue\n",
    "        #segment the word using a subword-unit segmentation and a vocabulary trained over a large general purpose corpus.\n",
    "        subtokens=tokenizer.tokenize(candidate.text)\n",
    "        if len(subtokens)>subtoken_threshold:\n",
    "            term_nouns.append(candidate)\n",
    "            # print(f'{candidate.text} is added by subtokens count: {len(subtokens)}')\n",
    "    return term_nouns"
   ],
   "metadata": {
    "collapsed": false,
    "ExecuteTime": {
     "end_time": "2023-11-30T10:49:59.665311800Z",
     "start_time": "2023-11-30T10:49:59.656961700Z"
    }
   },
   "id": "682a0aaba8edf6ca"
  },
  {
   "cell_type": "markdown",
   "source": [
    "Calculate metrics(from https://colab.research.google.com/drive/1y9WM3MSAEwvODhMt0cMwJi24XIllrmaY?usp=sharing) "
   ],
   "metadata": {
    "collapsed": false
   },
   "id": "fe36b79e31abe8f1"
  },
  {
   "cell_type": "code",
   "execution_count": 11,
   "outputs": [],
   "source": [
    "def calculate_metrics(true_terms, extracted_terms):\n",
    "    true_positives = len(true_terms.intersection(extracted_terms))\n",
    "    false_positives = len(extracted_terms.difference(true_terms))\n",
    "    false_negatives = len(true_terms.difference(extracted_terms))\n",
    "\n",
    "    precision = true_positives / (true_positives + false_positives) if (true_positives + false_positives) != 0 else 0\n",
    "    recall = true_positives / (true_positives + false_negatives) if (true_positives + false_negatives) != 0 else 0\n",
    "    f1_score = 2 * (precision * recall) / (precision + recall) if (precision + recall) != 0 else 0\n",
    "\n",
    "    return precision, recall, f1_score\n",
    "\n",
    "def compare_sets(extracted_terms, true_terms):\n",
    "    true_detections = extracted_terms.intersection(true_terms)\n",
    "    false_gaps = true_terms.difference(extracted_terms)\n",
    "    false_detections = extracted_terms.difference(true_terms)\n",
    "\n",
    "    return true_detections, false_gaps, false_detections"
   ],
   "metadata": {
    "collapsed": false,
    "ExecuteTime": {
     "end_time": "2023-11-30T10:50:01.308988300Z",
     "start_time": "2023-11-30T10:50:01.299400300Z"
    }
   },
   "id": "9e2889ce9dd8b338"
  },
  {
   "cell_type": "code",
   "execution_count": 12,
   "outputs": [],
   "source": [
    "def report(true_terms, extracted_terms):\n",
    "    # Расчет метрик\n",
    "    precision, recall, f1_score = calculate_metrics(true_terms, extracted_terms)\n",
    "    \n",
    "    print(\"Precision:\", precision) #Точность\n",
    "    print(\"Recall:\", recall) #Полнота\n",
    "    print(\"F1 Score:\", f1_score)\n",
    "    # Выводит списки истинных обнаружений, ложных пропуски и ложных обнаружений\n",
    "    true_detections, false_gaps, false_detections = compare_sets(extracted_terms, true_terms)\n",
    "    \n",
    "    print(\"Истинные обнаружения:\", true_detections)\n",
    "    print(\"Ложные пропуски:\", false_gaps)\n",
    "    print(\"Ложные обнаружения:\", false_detections)\n",
    "    return precision, recall, f1_score, true_detections, false_gaps, false_detections "
   ],
   "metadata": {
    "collapsed": false,
    "ExecuteTime": {
     "end_time": "2023-11-30T10:50:02.072762800Z",
     "start_time": "2023-11-30T10:50:02.047638300Z"
    }
   },
   "id": "5171f8f0a4386690"
  },
  {
   "cell_type": "code",
   "execution_count": 12,
   "outputs": [],
   "source": [],
   "metadata": {
    "collapsed": false,
    "ExecuteTime": {
     "end_time": "2023-11-30T10:50:02.830698100Z",
     "start_time": "2023-11-30T10:50:02.825072300Z"
    }
   },
   "id": "cb2a35c8f824c8c0"
  },
  {
   "cell_type": "markdown",
   "source": [
    "Testing in Folder"
   ],
   "metadata": {
    "collapsed": false
   },
   "id": "8ec79888dda3aa91"
  },
  {
   "cell_type": "code",
   "execution_count": 13,
   "outputs": [],
   "source": [
    "import os\n",
    "\n",
    "folder_name='tests'\n",
    "# Get a list of all files in the folder\n",
    "all_files = os.listdir(folder_name)\n",
    "\n",
    "# Initialize empty lists to store the tuples\n",
    "file_tuples = []\n",
    "\n",
    "# Iterate through the files in the folder\n",
    "for filename in all_files:\n",
    "    # Check if the file is a test file (starts with \"text_\")\n",
    "    if filename.startswith(\"text_\"):\n",
    "        # Construct the expected result filename by replacing \"text_\" with \"term_\"\n",
    "        result_filename = \"term_\" + filename[5:]\n",
    "        \n",
    "        # Check if the corresponding result file exists in the folder\n",
    "        if result_filename in all_files:\n",
    "            # Append the tuple to the list\n",
    "            file_tuples.append((filename, result_filename))"
   ],
   "metadata": {
    "collapsed": false,
    "ExecuteTime": {
     "end_time": "2023-11-30T10:50:04.136736300Z",
     "start_time": "2023-11-30T10:50:04.117195600Z"
    }
   },
   "id": "97d37b7434e321f3"
  },
  {
   "cell_type": "code",
   "execution_count": 14,
   "outputs": [
    {
     "data": {
      "text/plain": "[('text_1.txt', 'term_1.txt'),\n ('text_2.txt', 'term_2.txt'),\n ('text_4.txt', 'term_4.txt'),\n ('text_5.txt', 'term_5.txt'),\n ('text_6.txt', 'term_6.txt'),\n ('text_7.txt', 'term_7.txt')]"
     },
     "execution_count": 14,
     "metadata": {},
     "output_type": "execute_result"
    }
   ],
   "source": [
    "file_tuples"
   ],
   "metadata": {
    "collapsed": false,
    "ExecuteTime": {
     "end_time": "2023-11-30T10:50:05.348908100Z",
     "start_time": "2023-11-30T10:50:05.342734900Z"
    }
   },
   "id": "6533871b027572d7"
  },
  {
   "cell_type": "code",
   "execution_count": 15,
   "outputs": [],
   "source": [
    "def test_file(text_file_name, term_file_name):\n",
    "    print('____________________________________________________________________\\n')\n",
    "    print(f\"checking files: {text_file_name}, {term_file_name}\")    \n",
    "    text=''\n",
    "    with open(text_file_name) as text_file:\n",
    "        text=text_file.read()\n",
    "    print('_____________________________FIRST STEP_________________________________________')\n",
    "    candidate_list, single_noun_list=parse_candidates(text)\n",
    "    print('_____________________________SECOND STEP___________________________________________________')\n",
    "    term_mws=detect_mw_terms(candidate_list)\n",
    "    print('_____________________________THIRD STEP______________________________________________________________')\n",
    "    term_nouns=detect_single_noun_terms(term_mws, single_noun_list)\n",
    "    print('____________________________________TESTING__________________________________________________________________')\n",
    "    extracted_terms=set([txt.text.lower() for txt in term_mws+term_nouns])\n",
    "    with open(term_file_name) as term_file:\n",
    "        terms_str=term_file.read()\n",
    "    true_terms=set(terms_str.lower().split(', '))\n",
    "\n",
    "    precision, recall, f1_score, true_detections, false_gaps, false_detections = report(true_terms, extracted_terms)\n",
    "    return true_terms, extracted_terms, precision, recall, f1_score, true_detections, false_gaps, false_detections \n",
    " \n"
   ],
   "metadata": {
    "collapsed": false,
    "ExecuteTime": {
     "end_time": "2023-11-30T10:50:06.237881400Z",
     "start_time": "2023-11-30T10:50:06.223744600Z"
    }
   },
   "id": "fae850ba26da2b19"
  },
  {
   "cell_type": "code",
   "execution_count": 16,
   "outputs": [
    {
     "name": "stdout",
     "output_type": "stream",
     "text": [
      "____________________________________________________________________\n",
      "\n",
      "checking files: text_1.txt, term_1.txt\n",
      "_____________________________FIRST STEP_________________________________________\n",
      "_____________________________SECOND STEP___________________________________________________\n",
      "_____________________________THIRD STEP______________________________________________________________\n",
      "____________________________________TESTING__________________________________________________________________\n",
      "Precision: 0.2671232876712329\n",
      "Recall: 0.2932330827067669\n",
      "F1 Score: 0.27956989247311825\n",
      "Истинные обнаружения: {'criminal conspiracy', 'private corruption', 'european union', 'private sector', 'laws', 'legal action', 'active corruption', 'corruption risks', 'federal criminal investigation police', 'general assembly', 'transparency international', 'criminal proceedings', 'company', 'international market', 'anti-corruption policy', 'criminal abuses', 'business community', 'police', 'ethical enterprise', 'legal status', 'professional ethics', 'public bribery', 'aggravating circumstances', 'companies', 'world bank', 'joint venture', 'money laundering', 'political parties', 'government', 'legal person', 'subsidy laws', 'civil servants', 'advantage', 'accounting irregularities', 'federal government departments', 'corruption', 'belgian criminal code', 'united nations global compact', 'law', 'legal persons', 'ethical behaviour', 'market', 'officials', 'ngo', 'corrupt practices', 'corporate taxpayer', 'tax legislation', 'moniteur belge', 'prosecution', 'commercial dispute', 'bribery', 'ex officio', 'third party', 'corrupt behaviour', 'misdemeanours', 'government contracts', 'royal decree', 'federal civil service', 'corrupt business practices', 'public sector', 'slush money', 'integrity policy', 'development aid', 'public institution', 'criminal prosecution', 'business relations', 'misdemeanour', 'private bribery', 'grey areas', 'enterprises', 'criminal offences', 'custodial sentence', 'public contracts', 'criminal law', 'criminal code', 'fighting corruption', 'criminal liability', 'policy'}\n",
      "Ложные пропуски: {'policy against corruption', 'council of europe', 'us', 'punishable', 'authorities', 'un corruption', 'natural persons', 'board of directors', 'police on web', 'trading', 'additional tenths', 'tactless', 'governments', 'san francisco', 'funding', 'anti-bribery convention', 'combating corruption', 'blacklist', 'national security plan 2008 - 2011', 'natural', 'malpractices', 'blacklists', 'private sectors', 'reclaim', 'office for administrative ethics and deontology', 'society', 'contracting', 'european commission', 'market procedures', 'freedom of bidding', 'recognitions', 'fines', 'rights', 'businesses', 'transparency international belgium', 'directives', 'punishes', 'feb', 'rules of conduct', 'markets', 'icc', 'fraud', 'price', 'public invitations to tender', 'network of expertise on economic ', 'departments of government', 'federal police', 'extortion', 'agreement on government procurement', 'trade organization', 'corruption-related', 'immovable property', 'non-transparent', 'business contacts', 'corporate', 'criminality', 'directorate for combating economic and financial crime', 'integrity', 'report', 'passive corruption', 'greco', 'convict', 'madrid', 'purchasing director', 'subcontracts', 'federal department of the budget', 'procurement', 'goods', 'cream something off payments', 'anti-corruption', 'contracts', 'public', 'competition', 'bribe', 'compromise', 'un', 'ethically', 'passive bribery', 'civil law convention on corruption', 'salary', 'rules', 'federal department of finance', 'corruption scandals', 'anti-fraud', 'federation of enterprises in belgium', 'icc belgium', 'trade union', 'penalization', 'penalties', 'criminally liable', 'code of conduct', 'statutory', 'service for criminal policy', 'active', 'rome', 'double-checking', 'subsidies', 'united nations convention against corruption', 'foreign corrupt practices act', 'board of public prosecutors-general', 'penalizes', 'gpa', 'federal government department of justice', 'federal government department of the budget and management control', 'oecd', 'regulations', 'american', 'commercial', 'internet portal', 'advantages', 'transparent', 'pay', 'criminal law convention on corruption', 'saddam hussein', 'fiscal', 'termination of a contract', 'iraq', 'usa', 'costs', 'commission', 'trade', 'registration for transfers of ownership', 'levied', 'codes of conduct', 'off-books accounting', 'sme', 'judicial', 'group of states against corruption', 'imprisonment', 'count of corruption', 'lawfully provided services', 'framework of good practice', 'deducted', 'corporate governance', \"employers ' organization\", 'auditing', 'fight against corruption', 'olaf', 'organisation for economic cooperation and development', 'network of expertise on corruption', 'legislation', 'business practices', 'fine', 'official', 'eu', 'legal', 'blackmail', 'wto', 'liable', 'licensing', 'compliance', 'private', 'bribing', 'principal', 'royal decrees', 'convicted', 'corrupt', 'transactions', 'contractors', 'office-holders', 'belgium', 'enforcement', 'prohibition', 'intermediaries', 'usufruct', 'business', 'misconduct', 'assets', 'oecd convention on combating bribery of foreign public officials in international business transactions', 'central department on combating corruption', 'investment', 'embezzle', 'paid', 'bureau of official ethics and good practice', 'paying', 'central office for the repression of corruption', 'movable', 'chamber of commerce', 'financial statements', 'financial and fiscal crime', 'penalty of imprisonment', 'payments', 'prosecute', 'distortion of competition', 'civil', 'basis of tax assessment', 'small and medium-sized enterprises11', 'income tax law'}\n",
      "Ложные обнаружения: {'systematic protection', 'various forms', 'late 1990s', 'closed doors', 'special attention', 'community', 'sufficient time', 'trust', 'network', 'other persons', 'international co-operation', 'future trends', 'official context', 'delicate situations', 'such payments', 'corruption-related issues', 'foreign markets', 'new act', 'warning signs', 'such risk countries', 'such conventions', 'commercial players', 'few dollars', 'collective action guide', 'international level', 'edition', 'awkward situations', 'proper functioning', 'assessments', 'nearest belgian factory', 'international markets', 'such advantage', 'group', 'other countries', 'tax assessment', 'good management', 'certain contracting', 'belgian companies', 'invaluable source', 'bank', 'foreign officials', 'method', 'position', 'belgian individuals', 'cross-border approach', 'crisis situation head-on', 'common framework', 'primary purpose', 'oecd guidelines', 'criminal policy', 'certain royal decrees', 'unremitting work', 'inter-departmental working group', 'purpose', 'secret agreement', 'technical assistance', 'convention', 'human rights', 'levels', 'iraqi officials', 'international business transactions', 'normal business contacts', 'early stage', 'member states', 'certain countries', 'such behaviour', 'noteworthy initiatives', 'corporate financial statements', 'national corruption scandals', 'pilot role', 'best signal', 'transparency international business principles', 'strict evaluation mechanism', 'firm legislation', 'official ethics', 'office', 'main measures', 'main obstacle', 'other methods', 'federal government', 'civil aspects', 'information exchange', 'attention', 'liability', 'good start', 'recent years', 'government procurement', 'tactless civil servants', 'practice', 'amounts', 'vulnerable position', 'preventive measures', 'country', 'national level', 'multi-disciplinary integrated method', 'international pressure', 'community rules', 'responsible behaviour', 'states', 'preventive monitoring', 'incidental condition', 'serious consequences', 'corporate life', 'firm line', 'belgian anti-corruption policy', 'behaviour', 'main ngo', 'negative publicity', 'economic cooperation', 'practical guide', 'voluntary principles', 'international companies', 'sunny destination', 'international corporate integrity handbook', 'public invitations', 'various levels', 'technical support', 'broad support', 'list', 'publicity', 'certain country', 'support', 'belgian government department', 'federal government department', 'corruptie voorkomen', 'united nations convention', 'belgian government departments', 'major reform', 'severe penalties', 'foreign legislation', 'whole week', 'foreign public officials', 'sme edition', 'longer term', 'possible penalties', 'positions', 'department', 'main partners', 'corruption prosecution policy', 'foreign official', 'main barriers', 'other misdemeanour', 'further information', 'first global instrument', 'federal civil servants', 'adequate salary', 'many years', 'level playing field', 'clear procedures', 'www.fightingcorruption.org', 'person', 'separate amount', 'best practices', 'brief list', 'belgian network', 'eu member states', 'sectors', 'belgian federal government', 'important tool', 'responsible management', 'criminal code articles', 'corporate initiatives', 'latter us legislation', 'first important steps', 'consultancy agreements', 'inadequate legal means', 'public trust', 'regular contacts', 'action', 'context', 'powerful tool', 'national governments', 'public prosecutors-general', 'fields', 'departments', 'administrative ethics', 'persons', 'framework', 'role', 'further development', 'oecd convention', 'co-operation', 'sector', 'icc publication', 'screen candidates', 'american company', 'such advantages', 'other actions', 'basic rules', 'central office', 'prior knowledge', 'sound companies', 'clear definition', 'belgian government', 'international', 'icc rules', 'clearest possible picture', 'belgian law', 'good practice', 'other international regulations', 'countries', 'information', 'various markets', 'regular integrity courses', 'major international companies', 'sound decisions', 'multinational enterprises', 'practices', 'affected aspects', 'local agents', 'alarm signals', 'good practices', 'main international initiatives', 'service'}\n",
      "____________________________________________________________________\n",
      "\n",
      "____________________________________________________________________\n",
      "\n",
      "checking files: text_2.txt, term_2.txt\n",
      "_____________________________FIRST STEP_________________________________________\n",
      "_____________________________SECOND STEP___________________________________________________\n",
      "_____________________________THIRD STEP______________________________________________________________\n",
      "____________________________________TESTING__________________________________________________________________\n",
      "Precision: 0.41025641025641024\n",
      "Recall: 0.3404255319148936\n",
      "F1 Score: 0.37209302325581395\n",
      "Истинные обнаружения: {'hazard ratio', 'neurohumoral blockers', 'hospitalization', 'heart failure', 'all-cause mortality', 'î²-blockers', 'renal function', 'spironolactone', 'heart rate', 'blood pressure', 'uptitrations', 'ras blockers', 'renin-angiotensin system', 'uptitration', 'renin-angiotensin system blocker', 'left ventricular ejection fraction'}\n",
      "Ложные пропуски: {'pef', 'hf with preserved ejection fraction', 'ambulatory', 'hospitalized', 'significant', 'hr', 'confidence interval', 'significantly', 'patients', 'ras-blocker', 'ras -', 'reduced', 'clinical', 'hospital', 'ci', 'preserved left ventricular ejection fractions', 'composite end-point', 'î²-blocker', 'ras', 'reduced ejection fraction', 'ref', 'therapy', 'outcome', 'beta-blocker', 'hfref', 'admission', 'hfpef', 'readmissions', 'co-morbidity', 'p', 'hf'}\n",
      "Ложные обнаружения: {'hf readmissions', 'fraction', 'dose increase', 'beta-blocker therapy', 'ras-blocker uptitration', 'clinical outcome', '%', 'guideline-recommended target dose', 'younger patients', 'hf hospitalization', 'low co-morbidity burden', 'spironolactone use', 'consecutive patients', 'fractions', 'hospital admission', 'â‰¥10 %', 'â‰¥40 %', 'better renal function', 'ambulatory patients', 'higher heart rate', 'significant reductions', 'dose', 'dose changes'}\n",
      "____________________________________________________________________\n",
      "\n",
      "____________________________________________________________________\n",
      "\n",
      "checking files: text_4.txt, term_4.txt\n",
      "_____________________________FIRST STEP_________________________________________\n",
      "_____________________________SECOND STEP___________________________________________________\n",
      "_____________________________THIRD STEP______________________________________________________________\n",
      "____________________________________TESTING__________________________________________________________________\n",
      "Precision: 0.14492753623188406\n",
      "Recall: 0.1388888888888889\n",
      "F1 Score: 0.14184397163120568\n",
      "Истинные обнаружения: {'advisory committee', 'european parliament', 'personal interest', 'third parties', 'public interest', 'financial interests', 'direct universal suffrage', 'internal appeal procedures', 'term', 'parliament'}\n",
      "Ложные пропуски: {'legal', 'conflict of interest', 'transparency', 'penalty', 'european union', 'integrity', 'report', 'rules of procedure', 'lobbying', 'breaches', 'resolution', 'voting freedom', 'rapporteur', 'term of office', 'public policy', 'bribery', 'disinterest', 'indirect financial benefit', 'statute', 'unremunerated', 'non - governmental organisations', 'office-holders', 'natural person', 'committee on constitutional affairs', 'committee on legal affairs', 'companies', 'financial', 'rule', 'advisory committee on the conduct of members', 'remuneration', 'public', 'elections', 'accountability', 'principles of conduct', 'income', 'expenses', 'compromise', 'subsistence expenses', 'salary', 'mandate', 'rules', 'gifts', 'conflicts of interest', 'travel', 'direct', 'vote', 'corruption', 'company', 'political', 'rules of the procedure', 'declaration of financial interests', 'reward', 'law', 'remunerated', 'accommodation', 'reimbursement', 'breach', 'code of conduct', 'voting', 'legislation', 'payment', 'breached'}\n",
      "Ложные обнаружения: {'courtesy usage', 'former members', 'first subparagraph', 'such expenses', 'possible action', 'legal affairs', 'political group', 'necessary steps', 'particular rules', 'direct payment', 'interest', 'conflict', 'other income', 'potential public policy implications', 'expert advice', 'persons', 'member', 'parliamentary proceedings', 'official delegation', 'committee', 'other bodies', 'conflicts', 'such disclosure', 'parliamentary term', 'total remuneration', 'nominate reserve members', 'general public', 'rule 153(3', 'similar benefits', 'relevant reserve member', 'monitoring procedure', 'non -governmental organisations', 'possible decision', 'period', 'self-employed person', 'reasoned decision', 'annual report', 'outside experts', 'constitutional affairs', 'annual basis', 'second subparagraph', 'political balance', 'alleged breach', 'such guidance', 'advice', 'such conflict', 'first part-session', 'three-year period', 'sixth full member', 'other reward', 'broad class', 'alleged breaches', 'possible breaches', 'terms', 'other financial interests', 'basis', 'person', 'official capacity', 'members'}\n",
      "____________________________________________________________________\n",
      "\n",
      "____________________________________________________________________\n",
      "\n",
      "checking files: text_5.txt, term_5.txt\n",
      "_____________________________FIRST STEP_________________________________________\n",
      "_____________________________SECOND STEP___________________________________________________\n",
      "_____________________________THIRD STEP______________________________________________________________\n",
      "____________________________________TESTING__________________________________________________________________\n",
      "Precision: 0.2545454545454545\n",
      "Recall: 0.2857142857142857\n",
      "F1 Score: 0.26923076923076916\n",
      "Истинные обнаружения: {'european parliament', 'european anti-corruption network', 'civil society', 'official journal', 'corruption', 'commission', 'european council', 'combat corruption', 'european commission', 'hague programme', 'fighting corruption', 'council', 'european union', 'anti-corruption network'}\n",
      "Ложные пропуски: {'justice', 'eu', 'policy against corruption', 'europe', 'council of the european union', 'authorities', 'federal republic of germany', 'police', 'decision', 'resolution', 'anti-corruption agencies', 'vienna', 'combating corruption', 'business', 'rule', 'organised crime', 'public', 'private sectors', 'expenses', 'budapest', 'eurojust', 'judicial', 'm. alliot-marie', 'rules', 'luxembourg', 'europol', 'fight against corruption', 'european economic and social committee', 'agis', 'epac', 'crime', 'fraud', 'treaty on european union', 'cepol', 'european partners against corruption'}\n",
      "Ложные обнаружения: {'relevant rules', 'web site', 'new millennium', 'states', 'annual meetings', 'contact-point network', 'overwhelming majority', 'operational cooperation', 'following tasks', 'network', 'active maintenance', 'particular article', 'cooperation', 'federal republic', 'comprehensive eu policy', 'inspection bodies', 'member states', 'judicial cooperation', 'effective measures', 'inter alia', 'such rules', 'concept', 'such cooperation', 'vienna conference', 'same rule', 'european union strategy', 'comprehensive multi-faceted policy', 'key representatives', 'relevant players', 'epac member organisations', 'international cooperation', 'eu level', 'key issue', 'important contribution', 'european partners', 'high professional standards', 'union', 'contact points', 'good practices', 'strategic concept', 'agis conference'}\n",
      "____________________________________________________________________\n",
      "\n",
      "____________________________________________________________________\n",
      "\n",
      "checking files: text_6.txt, term_6.txt\n",
      "_____________________________FIRST STEP_________________________________________\n",
      "_____________________________SECOND STEP___________________________________________________\n",
      "_____________________________THIRD STEP______________________________________________________________\n",
      "____________________________________TESTING__________________________________________________________________\n",
      "Precision: 0.43103448275862066\n",
      "Recall: 0.3787878787878788\n",
      "F1 Score: 0.4032258064516129\n",
      "Истинные обнаружения: {'mutual legal assistance', 'preliminary rulings', 'european anti-fraud office', 'custodial sentences', 'passive corruption', 'offence', 'offences', 'interpretative jurisdiction', 'money laundering', 'corruption offences', 'wrongful retention', 'jurisdiction', 'financial interests', 'criminal penalties', 'criminal law', 'european commission', 'public officials', 'criminal offence', 'public official', 'corruption', 'legal persons', 'fraud', 'european communities', 'tax payments', 'official'}\n",
      "Ложные пропуски: {'eu', 'legally', 'courts', \"convention on the protection of the european communities ' financial interests\", 'european court of justice', 'decision', 'revenue', 'prosecution', 'active corruption', 'passive', 'misappropriation', 'transfer of proceedings', 'fight against fraud', 'expenditure', 'enforcement', 'ecj', 'legal definition', 'business', 'budget', 'confiscation', 'bribe', 'illegal', 'romania', 'liability', 'disputes', 'businesses', 'court of justice', 'sentences', 'penalties', 'extradition', 'criminally liable', 'legislation', 'council', 'active', 'oj', 'bulgaria', 'taxpayers', 'court of justice of the european union', 'dispute', 'treaty on european union', 'funds'}\n",
      "Ложные обнаружения: {'eu country', 'european court', 'protocols', 'council act', 'national courts', 'more information', 'intentional act', 'european union', 'oj l', 'eu countries', 'second protocol', 'serious fraud', 'specific obligation', 'protocol', 'act', 'such funds', 'communities', 'illegal reduction', 'eu budget resources', '12.1.2008', 'passive * corruption', 'last update', 'necessary measures', 'certain cases', 'countries', 'information', 'oj c', 'first protocol', 'obligations', '23.10.1996', 'article k.3', 'country', 'court'}\n",
      "____________________________________________________________________\n",
      "\n",
      "____________________________________________________________________\n",
      "\n",
      "checking files: text_7.txt, term_7.txt\n",
      "_____________________________FIRST STEP_________________________________________\n",
      "_____________________________SECOND STEP___________________________________________________\n",
      "_____________________________THIRD STEP______________________________________________________________\n",
      "____________________________________TESTING__________________________________________________________________\n",
      "Precision: 0.22011834319526627\n",
      "Recall: 0.3875\n",
      "F1 Score: 0.280754716981132\n",
      "Истинные обнаружения: {'mutual legal assistance', 'preliminary rulings', 'non-governmental organisation', 'public services', 'western nis', 'state contracts', 'authorities', 'election spending', 'business world', 'statutory auditor', 'private sector', 'european union', 'authority', 'laws', 'private sector corruption', 'framework decision', 'criminal behaviour', 'offence', 'common market', 'criminal enquiries', 'south-east europe', 'joint action', 'fair competition', 'judicial authorities', 'data protection', 'european arrest warrant', 'millennium strategy', 'world economy', 'financial interests', 'transparency international', 'society', 'financing', 'european commission', 'evaluation mechanisms', 'white paper', 'mandate', 'civil service', 'legal obligations', 'economic damage', 'criminal proceedings', 'parliament', 'internal investigations', 'free trade', 'disciplinary sanctions', 'western europe', 'contracting authorities', 'political corruption scandals', 'professional secrecy', 'european communities', 'crime', 'fraud', 'directive', 'illicit financing', 'tax administration', 'anti-corruption policy', 'europe', 'transborder corruption cases', 'public interest', 'public administration', 'eu council', 'public authorities', 'corporate liability', 'party financing', 'improper influence', 'integrity', 'decision', 'corruption case', 'report', 'public accounting system', 'european parliament', 'common assessment framework', 'statutory audits', 'united nations', 'corruption cases', 'public service provider', 'procurement', 'world bank', 'european treaty series', 'rule', 'petty corruption', 'money laundering', 'acp-eu partnership agreement', 'criminal act', 'political parties', 'competition', 'european community', 'public procurement', 'public officials', 'civil servants', 'statutory audit', 'liability', 'rules', 'international accounting standards', 'professional misconduct', 'staff regulations', 'laundering', 'government procurement', 'public administrations', 'corruption', 'law', 'legal persons', 'framework decisions', 'police officers', 'public prosecutor', 'crime records', 'corrupt activities', 'civil society', 'officials', 'white lists', 'anti-corruption standards', 'corrupt practices', 'european anti-fraud office', 'policies', 'gains', 'combat corruption', 'public procurement procedures', 'private-to-private corruption', 'predicate offences', 'auditors', 'offences', 'costs', 'commission', 'trade', 'good governance', 'public institutions', 'corrupt behaviour', 'organised crime', 'corruption offences', 'anti-bribery laws', 'home affairs', 'criminal penalties', 'ad-hoc committee', 'anti-corruption instruments', 'societies', 'european council', 'law enforcement', 'prosecutors', 'contracting authority', 'corrupt acts', 'open markets', 'tax consultants', 'fundamental ethical obligations', 'private gain', 'undue advantage', 'in-house corruption', \"cadre d'auto-ã©valuation des fonctions publiques\", 'public sector', 'legislation', 'council', 'action plan', 'internal market', 'prosecutor', 'export credits', 'anti-corruption culture', 'eu', 'financial transactions', 'transparency', 'political corruption', 'disciplinary rules', 'financial investigations', 'tax deductibility', 'punishable offence', 'cotonou agreement', 'enforcement', 'financial irregularities', 'financial crime', 'public office', 'victims', 'legal framework', 'political scandals', 'administrations', 'investment', 'criminal law', 'public agents', 'definitive judgement', 'criminal offence', 'acquis', 'criminal organisation', 'double criminality', 'serious wrongdoings', 'tax offences', 'legal instruments', 'external financial control', 'criminal liability', 'single market', 'policy'}\n",
      "Ложные пропуски: {'memorandum of understanding', 'eu-wide', 'policy against corruption', 'good-governance', 'conflict of interest', 'neighbourhood policy', 'exploited', 'ias', 'monopolies', 'financial management', 'teu', 'strasbourg', 'council of europe', 'mismanagement', 'punishable', 'standards of conduct', 'collusive', 'tec', 'incriminations', 'resolution', 'jurisdictions', 'tax', 'judge', 'cases of corruption', 'criminal law enforcement', 'governments', 'magistrates', 'funding', 'general assembly', 'anti-corruption authorities', 'bribed', 'combating corruption', 'integer', 'anti-corruption services', 'budget', 'impartiality', 'lawyers', 'mandated', 'confiscation', 'reported', 'belarus', 'action statement', 'accounting offences', 'un convention against corruption', 'abuse of power', 'copenhagen', 'public money', 'costs of transactions', 'ukraine', 'evaluation of the activities of the european anti-fraud office', 'infringement', 'moldova', 'gdp', 'witness', 'business interests', 'illicit', 'rights', 'euratom', 'anti-corruption strategy', 'directives', 'company', 'private-to-private', 'cost', 'reporting', 'commissions', 'undeclared donations', 'global programme against corruption', 'legal instrument', 'irregularities', 'black-lists', 'socio-economic', 'notaries', 'anti-corruption policies', 'rule of law principles', 'legal acts', 'pact of silence', 'accounts', 'monitoring standards', 'illicitly', 'agreement on government procurement', 'witnesses', 'corruption-related', 'corporate', 'trade policy', 'police', 'punishing', 'greco', 'passive corruption', 'semi-public', 'deprivation of liberty', 'us', 'austria', 'disbursements', 'political agreement', 'tenderer', 'statute', 'monitoring mechanism', \"bribe payers ' index\", 'bribee', 'accomplices', 'criminalising', 'companies', 'gratuity', 'anti-corruption', 'organised and transborder corruption', 'criminal', 'administrative', 'contracts', 'public', 'objectively', 'government', 'bribe', 'criminalises', 'court of auditors', 'compromise', 'un', 'customs', 'eurojust', 'audit', 'impartially', 'freezing', 'civil law convention on corruption', 'bribe giving', 'balkans', 'pif-convention', 'retaliation', 'code of good administrative behaviour', 'european economic and social committee', 'legislative proposal', 'isa', 'international standards on auditing', 'dereliction', 'penalties', 'extradition', 'active', 'caf', 'judiciary', 'evidence', 'tenderers', 'acp', \"convention on the protection of the european communities ' financial interests\", 'prosecuting', 'oecd', 'european court of justice', 'illicit proceeds', 'contract', 'legislative', 'transparent', 'primacy of the rule of law', 'organised crime groups', 'prosecution', 'internal audit schemes', 'duty of loyalty', 'doha', 'criminal law convention on corruption', 'privatisation', 'private gains', 'bribery', 'market conditions', 'illegitimate', 'consolidated accounts', 'lebanon', 'fight against fraud', 'bribes', 'illegal activity', 'financial prosecutor', 'whistleblowers', 'committee of independent experts', 'financial services action plan', 'conflicts of interests', 'italy', 'bribe-paying', 'integrity standards', 'burden of proof', 'denmark', 'accountability', 'jurisdiction', 'social responsibility', 'public tender', 'auditing standards', 'equitable', 'public sectors', 'treaty of amsterdam', 'favoritism', 'codes of conduct', 'green paper', 'turkey', 'offenders', 'judicial', 'group of states against corruption', 'imprisonment', 'professional integrity', 'public official', 'regulation', 'punished', 'fight against corruption', 'doha wto 4th ministerial conference', 'auditing', 'banks', 'cards', 'civil law', 'olaf', 'ad hoc committee for the negotiations of a united nations convention against corruption', 'criminals', 'punishment', 'treaty on european union', 'accounting', 'exploitation', 'disciplinary', 'judges', 'ec', 'justice', 'legal', 'legally', 'russia', 'governance-related', 'phare', 'collection of evidence', 'adjudicating', 'wto', 'proceeds', 'prosecuted', 'tender', 'communication on wider europe - neighbourhood', 'liable', 'compliance', 'disciplinary bodies', 'balkan', 'private', 'cologne', 'convicted', 'corrupt', 'public servants', 'accounting standards', 'passive', 'adjudication', 'capital market', 'vienna', 'ethical', 'cotonou', 'accountable', 'bureaucratisation', 'prohibition', 'sanctions', 'business', 'uclaf', 'committee of ministers', 'assets', 'algeria', 'whistleblowing', 'investigation power', 'expenditures', 'financial', 'victim', 'oecd convention on combating bribery of foreign public officials in international business transactions', 'vulnerability to fraud', 'passive transborder corruption', 'economic', 'investigation and disciplinary office', 'economic crimes', 'paid', 'collusion', 'oecd working group on bribery', 'rule of law', 'policy areas', 'financial offences', 'europol', 'accountants', 'acts of bribery', 'conflicts of interest', 'politicians', 'whistle blowing', 'tampere', 'political', 'hidden', 'integrity-enhancing', 'magistracy', 'reward', 'well-paid', 'distortion of competition', 'bribe taking', 'briber', 'criminal law legislation on corruption', 'anti-corruption laws', 'fighting corruption', 'oj', 'sentence', 'self-regulatory regimes', 'legitimately', 'business transactions', 'blacklisting', 'confiscate', 'idoc', 'funds'}\n",
      "Ложные обнаружения: {'instruments', 'general agreement', 'western balkan countries', 'social partners', 'interest situations', 'european public administration integrity', 'other servants', 'international trade', 'first reading', 'possible areas', 'sound project management', 'unreported cases', 'secret nature', 'administrative integrity', 'concrete quid-pro-quo bribe giving', 'judicial cooperation', 'guidelines', 'most eu member states', 'international level', 'project financing', 'ec treaty', 'documents', 'double-faced role', 'broader socio-economic sense', 'challenge', 'draft convention', 'group', 'continuous basis', 'political dialogue', 'specific predicate offences', 'supranational efforts', 'broad consultation', 'partner country', 'criminal behaviours', 'democratic principles', 'national contact points', 'tolerable phenomenon', 'areas', 'illegitimate private gains', 'eu convention', 'commission green paper', 'parts', 'appropriate actor', 'certain sectors', 'possible legal discrepancies', 'member states', 'similar activities', 'fresh impetus', 'reading', 'evaluation report', 'clear rules', 'mediterranean partners', 'mediterranean countries', 'single uniform definition', 'follow-up', 'eu mechanism', 'aforementioned eu', 'policy development', 'individual rights', 'semi-public entities', 'unambiguous stance', 'criminal law sense', 'national anti-corruption strategies', 'international instruments', 'new dividing lines', 'decisions', 'way', 'provisional eurojust unit', 'progress', 'recent years', 'future initiatives', 'relevant provisions', 'multilateral agreement', 'ten principles', 'forthcoming communication', 'international anti-corruption instruments', 'basis', 'award', 'new provisions', 'procurement opportunities', 'eu forum', 'different authorities', 'communication', 'external aid', 'tampere presidency conclusion', 'comprehensive dialogue', 'organisations', 'further delay', 'european public prosecutor', 'specific provisions', 'special nature', 'law instruments', 'cases', 'protocol', 'fight', 'joint investigations', 'professions', 'common security threats', 'act', 'best practice', 'higher investment', 'aforementioned eu instruments', 'legal point', 'particular country', 'report com', 'support', 'total quality management', 'other internal policies', 'essential issue', 'eu ministers', 'degree', 'general role', 'relevant documents', 'adoption', 'unnecessary resources', 'oj c', 'community system', 'acts', 'commission evaluation report', 'effective means', 'tampere conclusions', 'mutual interest', 'unnecessary duplication', 'several documents', 'eu member states', 'more transparent', 'applicable legislation', 'business activities', 'stage', 'beneficiary state', 'foreign investment', 'interest groups', 'controls', 'approach', 'second report', 'action', 'basic ethical principles', 'such guidelines', 'candidate countries', 'absolute priority', 'further development', 'insurance companies', 'europol convention', 'hidden phenomenon', 'issues', 'public awareness', 'corruption undermines', 'proper implementation', 'significant step', 'central message', 'world-wide fight', 'various initiatives', 'efforts', 'parties', 'procedures', 'other eu institutions', 'offices', 'capacity', 'foreign public official', 'same corrupt behaviour', 'institutions', 'agreement', 'major review', 'thorough scrutiny', 'community competence', 'european professional associations', 'e.g. fraud', 'eu strategy', 'ratification', 'illicit purposes', 'other international fora', 'conventions', 'law principles', 'work programme', 'management', 'community interests', 'different areas', 'western balkans', 'independent administrative body', 'broader definition', 'common definition', 'greco membership', 'membership', 'structure', 'natural resources', 'common standards', 'text', 'comprehensive approach', 'texts', 'essential elements', 'com', 'innovative public services group', 'international efforts', 'other countries', 'common definitions', 'stronger coherence', 'union policy', 'council framework decision', 'protection', 'last resort', 'european integration', 'other framework decisions', 'investigative techniques', 'personal situation', 'major recent scandals', 'illicit business interests', 'article', 'unselected bidder', 'court', 'genuine follow-up monitoring', 'former public companies', 'equivalent conditions', 'first time', 'political competition', 'new initiatives', 'protocols', 'aforesaid joint action', 'significant partner', 'human rights', 'council declaration', 'other economic crimes', 'cooperation', 'other rule', 'serious cases', 'neighbouring countries', 'national bodies', 'effective protection', 'overall strategic approach com', 'other illegal activity', 'participation', 'serious forms', 'co-ordination', 'national legislation', 'dialogue', 'relevant areas', 'sound financial management', 'affairs', 'highest level', 'european area', 'internal decision', 'european financial prosecutor', 'direct victims', 'investigative tools', 'eu level', 'influences', 'investigation', 'model decision', 'international legal instrument', 'preventive measures', 'serious corruption', 'new neighbourhood policy', 'constituent elements', 'third countries', 'mechanism', 'new rules', 'strategies', 'eu officials', 'financial support', 'administrative co-operation', 'case', 'campaign expenditures', 'copenhagen european council', 'external aspects', 'area', 'olaf enquiries', 'structures', 'clear stance', 'practical guide', 'means', 'professional duties', 'duplication', 'implementation', 'covert links', 'communities', 'eu governments', 'reports', 'national anti-corruption policies', 'ec budget', 'relevant international anti-corruption instruments', 'united nations convention', 'new eu members states', 'clear political determination', 'clear timeframe', 'institution-building good governance', 'transparent funding', 'foreign public officials', 'civil law conventions', 'new policy', 'fundamental element', 'widespread phenomenon', 'fundamental freedoms', 'actions', 'commission report', 'rotation', 'judicial review', 'quality management tools', 'specialised anti-corruption services', 'peer review', 'different co-operation agreements', 'nature', 'material competence', 'draft framework decision', 'systematic checks', 'community co-operation', 'awareness', 'framework', 'interinstitutional agreement', 'training programmes', 'eu anti-corruption policy', 'substantial proceeds', 'right solution', 'concentrated eu initiatives', 'oecd convention', 'public procurement directives', 'independence', 'direct victim', 'e accounting standards', 'first stage', 'good administrative behaviour', 'social partner entities', 'assistance', 'situation', 'sensitive posts', 'eu acquis', 'private entities', 'biggest challenge', 'personal threats', 'appropriate remedies', 'ratification instruments', 'other undue advantage', 'national institution', 'same degree', 'practices', 'comprehensive preventative policy', 'aforesaid recommendations', 'key element', 'important role', 'inter alia fraud', 'other international instruments', 'new chapters', 'part', 'investigations', 'disciplinary point', 'formal invitation', 'entire private sector', 'interest', 'strong political commitment', 'corruption-related issues', 'ministers', 'detailed interinstitutional approach', 'oecd action statement', 'committee', 'other interest groups', 'accession negotiations', 'improved co-ordination', 'proper functioning', 'definition', 'necessary dialogue', 'cologne european council', 'legal professions', 'progresses', 'development', 'council regulation', 'appropriate modalities', 'control', 'further campaigns', 'comprehensive effort', 'international procurement', 'certain restrictions', 'extended mandate', 'forthcoming accession', 'criminal law provisions', 'appropriate follow-up', 'effective functioning', 'present communication', 'level', 'activities', 'damaging consequences', 'integer companies', 'practical breakdown', 'essential element', 'special report', 'community directives', 'accession', 'non-discriminatory access', 'effective criminal law enforcement', 'best corruption prevention strategy', 'community competencies', 'specific financing agreements', 'special investigative techniques', 'appropriate work', 'important eu', 'criminal law perspective', 'concrete actions', 'initiatives', 'european union strategy', 'common values', 'job rotation', 'crimes', 'office', 'high-profile cases', 'problem', 'better protection', 'political guideline', 'first protocol', 'pure law enforcement', 'oecd working group', 'judicial cooperation network', 'ratification process', 'award process', 'new millennium', 'conclusion', 'common integrity standards', 'states', 'capacity building', 'single anti-corruption unit', 'specific article', 'application', 'plan', 'other serious professional misconduct', 'comprehensive eu policy', 'oecd bribery convention', 'public tender procedure', 'overall strategy', 'staff', 'law enforcement authorities', 'ad hoc committee', 'eu territory', 'bodies', 'other international organisations', 'common positions', 'law enforcement bodies', 'benchmarks', 'independent experts', 'priorities', 'global programme', 'aid', 'danish initiative', 'protection instruments', 'coherent approach', 'global cost', 'groups', 'community financial interests', 'general principles', 'member state', 'legal protection', 'previous instrument', 'public office holders', 'prevention', 'sectors', 'signal', 'enormous progress', 'paper', 'possible application', 'information procedures', 'eu instruments', 'treaty', 'corporate responsibility', 'independent european public prosecutor', 'role', 'internal control', 'substantive criminal law', 'affected party', 'sector', 'social rights', 'improper award', 'international organisations', 'phare programme', 'law enforcement measures', 'phenomenon', 'monitoring', 'definitions', 'national mechanisms', 'international cooperation', 'particular focus', 'full text', 'system', 'union', 'wto doha agenda', 'appropriate independence', 'party', 'eu institutions', 'other third countries', 'standard clauses', 'multilateral systems', 'agreements', 'relevant rules', 'in-depth evaluation report', 'un general assembly', 'repressive measures', 'minimum standards', 'other agents', 'crime prevention', 'competent authorities', 'comprehensive framework', 'relevant administrative capacities', 'right conclusions', 'particular ec law', 'serious crime', 'second money laundering directive', 'particular relevance', 'regular assessment', 'only way', 'comprehensive policy', 'jurisdiction world-wide', 'enhanced transparency', 'character', 'general strengthening', 'unlimited respect', 'cards assistance programme', 'beneficiary states', 'clear signal', 'corrupt companies', 'collusive behaviour', 'civil law convention', 'specific accession clauses', 'vulnerable professions', 'relevant national agencies', 'clear delimitation', 'future policy priorities', 'institutional safeguards', 'same document', 'insufficiencies', 'further legislative proposal', 'anti-corruption prosecutors', 'modern accounting standards', 'economic performance', 'permanent political dialogue', 'initiative', 'direct infringement', 'consultations', 'conclusions', 'organisational structure', 'enhanced alignment', 'important issue', 'foreign aid programmes', 'comprehensive eu policy corruption', 'governance-related issues', 'proposal', 'important subject', 'levels', 'convention', 'audit profession', 'further momentum', 'oj l', 'key factor', 'well-paid civil servants', 'irregular conduct', 'international business transactions', 'strasbourg resolution', 'time', 'adequate internal audit schemes', 'several anti-corruption projects', 'work', 'potential conflicts', 'speedy ratification', 'standardised application', 'international activities', 'process', 'main international anti-corruption instruments', 'articles', 'best safeguard', 'consultation procedure', 'high investment', 'tender procedures', 'subject', 'regular political dialogue', 'issue', 'responsibility', 'document', 'ec funds', 'supply side', 'general political agreement', 'further steps', 'conduct', 'oecd conventions', 'country', 'factors', 'interinstitutional investigative powers', 'market', 'self-assessment framework', 'instrument', 'narrower criminal law sense', 'case participation', 'commission staff', 'commitments', 'future eu policy', 'world', 'particular project', 'eu-wide adoption', 'behaviour', 'anti-corruption clauses', 'far-reaching implications', 'other policy objectives', 'criminal law convention', 'strong indirect incentives', 'public administration structures', 'new borders', 'maximum sentence', 'key objectives', 'important part', 'clear decision-making procedures', 'better capacity', 'overarching concern', 'such corruption', 'body', 'respect', 'commission decision', 'eu heads', 'future un convention', 'following core elements', 'future staff regulations', 'prior verification', 'olaf expertise', 'internal measures', 'interagency co-operation', 'strong influence', 'prioritised action', 'ways', 'best practices', 'health sector', 'eu anti-corruption instruments', 'secret triangular links', 'strategy', 'european court', 'other wto parties', 'aforesaid millennium strategy', 'international standards', 'specialised anti-corruption authorities', 'second protocol', 'trade unions', 'recent communication', 'european public administration', 'networks', 'concrete implementation', 'co-operation framework', 'minimum rules', 'co-operation', 'practical application', 'serious matters', 'viable option', 'clear benchmark', 'olaf activities', 'partner countries', 'interests', 'mandatory character', 'criminal law matters', 'state', 'administrative investigation', 'ratifications', 'countries', 'wider europe -neighbourhood', 'full commission', 'works', 'concerns', 'proposals', 'substantial criminal law legislation', 'domestic law', 'general problem'}\n",
      "____________________________________________________________________\n",
      "\n",
      "___________________________TOTAL_________________________________________\n",
      "\n",
      "total result\n",
      "Precision: 0.22419354838709676\n",
      "Recall: 0.35732647814910024\n",
      "F1 Score: 0.27552031714568875\n",
      "Истинные обнаружения: {'advisory committee', 'mutual legal assistance', 'preliminary rulings', 'non-governmental organisation', 'criminal conspiracy', 'public services', 'western nis', 'state contracts', 'private corruption', 'authorities', 'business world', 'election spending', 'statutory auditor', 'custodial sentences', 'european union', 'private sector', 'authority', 'laws', 'private sector corruption', 'framework decision', 'criminal behaviour', 'legal action', 'active corruption', 'offence', 'common market', 'corruption risks', 'criminal enquiries', 'federal criminal investigation police', 'south-east europe', 'joint action', 'fair competition', 'general assembly', 'judicial authorities', 'data protection', 'european arrest warrant', 'millennium strategy', 'wrongful retention', 'world economy', 'financial interests', 'transparency international', 'society', 'financing', 'european commission', 'evaluation mechanisms', 'white paper', 'mandate', 'civil service', 'legal obligations', 'economic damage', 'criminal proceedings', 'parliament', 'internal investigations', 'free trade', 'all-cause mortality', 'disciplinary sanctions', 'company', 'western europe', 'contracting authorities', 'political corruption scandals', 'professional secrecy', 'european communities', 'crime', 'fraud', 'international market', 'directive', 'illicit financing', 'tax administration', 'anti-corruption policy', 'criminal abuses', 'europe', 'neurohumoral blockers', 'transborder corruption cases', 'public interest', 'public administration', 'eu council', 'business community', 'public authorities', 'corporate liability', 'party financing', 'improper influence', 'police', 'integrity', 'decision', 'corruption case', 'report', 'passive corruption', 'ethical enterprise', 'public accounting system', 'european parliament', 'common assessment framework', 'official journal', 'legal status', 'statutory audits', 'united nations', 'corruption cases', 'professional ethics', 'interpretative jurisdiction', 'public bribery', 'public service provider', 'procurement', 'aggravating circumstances', 'companies', 'world bank', 'rule', 'joint venture', 'european treaty series', 'anti-corruption network', 'money laundering', 'acp-eu partnership agreement', 'criminal act', 'political parties', 'petty corruption', 'competition', 'european community', 'government', 'legal person', 'subsidy laws', 'public procurement', 'hague programme', 'public officials', 'civil servants', 'advantage', 'statutory audit', 'liability', 'rules', 'international accounting standards', 'professional misconduct', 'staff regulations', 'laundering', 'government procurement', 'public administrations', 'accounting irregularities', 'federal government departments', 'personal interest', 'corruption', 'united nations global compact', 'belgian criminal code', 'î²-blockers', 'law', 'legal persons', 'third parties', 'framework decisions', 'police officers', 'public prosecutor', 'ethical behaviour', 'tax payments', 'market', 'hospitalization', 'term', 'crime records', 'corrupt activities', 'civil society', 'officials', 'ngo', 'renal function', 'corrupt practices', 'anti-corruption standards', 'european anti-fraud office', 'white lists', 'policies', 'combat corruption', 'gains', 'corporate taxpayer', 'public procurement procedures', 'private-to-private corruption', 'renin-angiotensin system blocker', 'tax legislation', 'moniteur belge', 'prosecution', 'commercial dispute', 'predicate offences', 'auditors', 'bribery', 'offences', 'costs', 'commission', 'blood pressure', 'trade', 'good governance', 'ex officio', 'internal appeal procedures', 'third party', 'public institutions', 'corrupt behaviour', 'organised crime', 'corruption offences', 'anti-bribery laws', 'jurisdiction', 'home affairs', 'criminal penalties', 'ad-hoc committee', 'misdemeanours', 'anti-corruption instruments', 'societies', 'european council', 'law enforcement', 'prosecutors', 'contracting authority', 'corrupt acts', 'open markets', 'tax consultants', 'public official', 'government contracts', 'fundamental ethical obligations', 'private gain', 'undue advantage', 'in-house corruption', 'royal decree', 'hazard ratio', 'federal civil service', 'direct universal suffrage', 'corrupt business practices', \"cadre d'auto-ã©valuation des fonctions publiques\", 'public sector', 'legislation', 'slush money', 'council', 'action plan', 'development aid', 'uptitration', 'renin-angiotensin system', 'internal market', 'public institution', 'criminal prosecution', 'integrity policy', 'prosecutor', 'official', 'export credits', 'anti-corruption culture', 'eu', 'business relations', 'financial transactions', 'transparency', 'political corruption', 'disciplinary rules', 'misdemeanour', 'financial investigations', 'tax deductibility', 'ras blockers', 'private bribery', 'grey areas', 'enterprises', 'criminal offences', 'punishable offence', 'cotonou agreement', 'enforcement', 'uptitrations', 'financial crime', 'financial irregularities', 'public office', 'victims', 'european anti-corruption network', 'legal framework', 'custodial sentence', 'political scandals', 'investment', 'administrations', 'spironolactone', 'public contracts', 'criminal law', 'criminal code', 'heart rate', 'public agents', 'definitive judgement', 'criminal offence', 'acquis', 'heart failure', 'criminal organisation', 'double criminality', 'serious wrongdoings', 'tax offences', 'legal instruments', 'fighting corruption', 'external financial control', 'criminal liability', 'single market', 'policy', 'left ventricular ejection fraction'}\n",
      "Ложные пропуски: {'memorandum of understanding', 'eu-wide', 'good-governance', 'exploited', 'ias', 'natural persons', 'additional tenths', 'cases of corruption', 'funding', 'blacklist', 'malpractices', 'private sectors', 'belarus', 'budapest', 'un convention against corruption', 'abuse of power', 'contracting', 'anti-corruption strategy', 'cost', 'feb', 'icc', 'p', 'rule of law principles', 'legal acts', 'departments of government', 'extortion', 'hr', 'witnesses', 'immovable property', 'federal republic of germany', 'corporate', 'trade policy', 'punishing', 'madrid', 'statute', 'subcontracts', 'cream something off payments', 'bribe', 'criminalises', 'eurojust', 'civil law convention on corruption', 'salary', 'admission', 'retaliation', 'vote', 'federal department of finance', 'declaration of financial interests', 'accommodation', 'penalties', 'criminally liable', 'service for criminal policy', 'caf', 'breached', 'board of public prosecutors-general', 'tenderers', 'prosecuting', 'contract', 'transparent', 'anti-corruption agencies', 'organised crime groups', 'internal audit schemes', 'market conditions', 'levied', 'burden of proof', 'preserved left ventricular ejection fractions', 'denmark', 'accountability', 'income', 'public sectors', 'judicial', 'regulation', 'deducted', 'agis', 'banks', 'organisation for economic cooperation and development', 'criminals', 'payment', 'disciplinary', 'judges', 'legally', 'phare', 'compliance', 'disciplinary bodies', 'cologne', 'royal decrees', 'corrupt', 'public servants', 'public policy', 'passive', 'vienna', 'business', 'reduced ejection fraction', 'paying', 'collusion', 'central office for the repression of corruption', 'movable', 'politicians', 'tampere', 'payments', 'remunerated', 'prosecute', 'well-paid', 'distortion of competition', 'bribe taking', 'voting', 'oj', 'basis of tax assessment', 'sentence', 'cepol', 'small and medium-sized enterprises11', 'idoc', 'funds', 'policy against corruption', 'conflict of interest', 'neighbourhood policy', 'monopolies', 'teu', 'term of office', 'judge', 'criminal law enforcement', 'tactless', 'unremunerated', 'governments', 'san francisco', 'natural person', 'magistrates', 'anti-corruption authorities', 'anti-corruption services', 'reported', 'action statement', 'market procedures', 'copenhagen', 'public money', 'witness', 'luxembourg', 'business interests', 'illicit', 'directives', 'private-to-private', 'rules of conduct', 'commissions', 'undeclared donations', 'public invitations to tender', 'network of expertise on economic ', 'irregularities', 'black-lists', 'notaries', 'anti-corruption policies', 'illicitly', 'non-transparent', 'convict', 'austria', 'purchasing director', 'bribee', 'clinical', 'gratuity', 'organised and transborder corruption', 'passive bribery', 'audit', 'subsistence expenses', 'bribe giving', 'disputes', 'corruption scandals', 'anti-fraud', 'legislative proposal', 'penalization', 'co-morbidity', 'subsidies', 'federal government department of the budget and management control', 'internet portal', 'european court of justice', 'illicit proceeds', 'advantages', 'legislative', 'primacy of the rule of law', 'pay', 'duty of loyalty', 'doha', 'fiscal', 'termination of a contract', 'usa', 'indirect financial benefit', 'misappropriation', 'illegal activity', 'financial prosecutor', 'bribe-paying', 'ras', 'ref', 'auditing standards', 'therapy', 'treaty of amsterdam', 'favoritism', 'turkey', 'off-books accounting', 'imprisonment', 'professional integrity', 'count of corruption', 'lawfully provided services', 'framework of good practice', 'punished', 'fight against corruption', 'doha wto 4th ministerial conference', 'sentences', 'cards', 'hfpef', 'reimbursement', 'ad hoc committee for the negotiations of a united nations convention against corruption', 'punishment', 'treaty on european union', 'bulgaria', 'fine', 'legal', 'pef', 'justice', 'blackmail', 'hospitalized', 'prosecuted', 'liable', 'balkan', 'bribing', 'convicted', 'belgium', 'uclaf', 'committee of ministers', 'assets', 'victim', 'investigation and disciplinary office', 'paid', 'illegal', 'economic crimes', 'bureau of official ethics and good practice', 'oecd working group on bribery', 'chamber of commerce', 'conflicts of interest', 'financial statements', 'travel', 'whistle blowing', 'financial and fiscal crime', 'rules of the procedure', 'integrity-enhancing', 'hidden', 'briber', 'epac', 'business transactions', 'income tax law', 'financial management', 'strasbourg', 'council of europe', 'mismanagement', 'punishable', 'standards of conduct', 'collusive', 'un corruption', 'board of directors', 'resolution', 'budget', 'national security plan 2008 - 2011', 'natural', 'impartiality', 'blacklists', 'î²-blocker', 'confiscation', 'lawyers', 'office for administrative ethics and deontology', 'ukraine', 'freedom of bidding', 'gdp', 'hfref', 'fines', 'businesses', 'transparency international belgium', 'punishes', 'reporting', 'global programme against corruption', 'european partners against corruption', 'pact of silence', 'federal police', 'accounts', 'monitoring standards', 'directorate for combating economic and financial crime', 'business contacts', 'criminality', 'confidence interval', 'greco', 'revenue', 'lobbying', 'deprivation of liberty', 'disbursements', 'ecj', \"bribe payers ' index\", 'committee on legal affairs', 'accomplices', 'anti-corruption', 'criminal', 'principles of conduct', 'compromise', 'ethically', 'impartially', 'm. alliot-marie', 'pif-convention', 'breach', 'federation of enterprises in belgium', 'isa', 'trade union', 'dereliction', 'extradition', 'active', 'court of justice of the european union', 'hf', 'double-checking', 'judiciary', 'foreign corrupt practices act', 'hf with preserved ejection fraction', 'acp', 'significant', 'gpa', \"convention on the protection of the european communities ' financial interests\", 'regulations', 'commercial', 'breaches', 'rapporteur', 'iraq', 'privatisation', 'illegitimate', 'consolidated accounts', 'lebanon', 'expenditure', 'committee on constitutional affairs', 'reduced', 'legal definition', 'conflicts of interests', 'hospital', 'italy', 'offenders', 'court of justice', 'olaf', 'network of expertise on corruption', 'accounting', 'business practices', 'ec', 'russia', 'ambulatory', 'collection of evidence', 'communication on wider europe - neighbourhood', 'licensing', 'penalty', 'private', 'significantly', 'rules of procedure', 'transactions', 'adjudication', 'capital market', 'transfer of proceedings', 'contractors', 'cotonou', 'accountable', 'prohibition', 'usufruct', 'misconduct', 'algeria', 'whistleblowing', 'investigation power', 'expenditures', 'expenses', 'embezzle', 'passive transborder corruption', 'financial offences', 'europol', 'acts of bribery', 'readmissions', 'civil', 'self-regulatory regimes', 'confiscate', 'courts', 'us', 'tec', 'incriminations', 'police on web', 'jurisdictions', 'voting freedom', 'trading', 'tax', 'ras -', 'anti-bribery convention', 'bribed', 'combating corruption', 'integer', 'composite end-point', 'mandated', 'reclaim', 'accounting offences', 'costs of transactions', 'romania', 'evaluation of the activities of the european anti-fraud office', 'infringement', 'moldova', 'recognitions', 'rights', 'gifts', 'euratom', 'direct', 'markets', 'price', 'legal instrument', 'taxpayers', 'socio-economic', 'dispute', 'agreement on government procurement', 'trade organization', 'corruption-related', 'semi-public', 'political agreement', 'tenderer', 'disinterest', 'monitoring mechanism', 'federal department of the budget', 'goods', 'criminalising', 'administrative', 'contracts', 'objectively', 'public', 'court of auditors', 'un', 'customs', 'freezing', 'balkans', 'outcome', 'code of good administrative behaviour', 'european economic and social committee', 'icc belgium', 'international standards on auditing', 'code of conduct', 'statutory', 'rome', 'evidence', 'united nations convention against corruption', 'penalizes', 'federal government department of justice', 'oecd', 'american', 'criminal law convention on corruption', 'patients', 'saddam hussein', 'private gains', 'non - governmental organisations', 'fight against fraud', 'bribes', 'whistleblowers', 'registration for transfers of ownership', 'committee of independent experts', 'financial services action plan', 'ci', 'integrity standards', 'advisory committee on the conduct of members', 'remuneration', 'elections', 'social responsibility', 'public tender', 'equitable', 'codes of conduct', 'green paper', 'sme', 'group of states against corruption', 'beta-blocker', 'corporate governance', \"employers ' organization\", 'auditing', 'civil law', 'exploitation', 'governance-related', 'adjudicating', 'wto', 'council of the european union', 'proceeds', 'tender', 'principal', 'accounting standards', 'ras-blocker', 'ethical', 'office-holders', 'bureaucratisation', 'intermediaries', 'sanctions', 'financial', 'oecd convention on combating bribery of foreign public officials in international business transactions', 'central department on combating corruption', 'vulnerability to fraud', 'economic', 'rule of law', 'policy areas', 'accountants', 'political', 'magistracy', 'penalty of imprisonment', 'reward', 'criminal law legislation on corruption', 'anti-corruption laws', 'legitimately', 'blacklisting'}\n",
      "Ложные обнаружения: {'general agreement', 'instruments', 'western balkan countries', 'social partners', 'interest situations', 'european public administration integrity', 'closed doors', 'international trade', 'other servants', 'contact-point network', 'first reading', 'possible areas', 'network', 'sound project management', 'unreported cases', 'secret nature', 'such payments', 'administrative integrity', 'similar activities', 'concrete quid-pro-quo bribe giving', 'warning signs', 'judicial cooperation', 'guidelines', 'most eu member states', 'commercial players', 'collective action guide', 'edition', 'international level', 'ec treaty', 'project financing', 'documents', 'double-faced role', 'illegal reduction', 'broader socio-economic sense', 'challenge', 'draft convention', 'group', 'continuous basis', 'political dialogue', 'specific predicate offences', 'supranational efforts', 'broad consultation', 'invaluable source', 'partner country', 'foreign officials', 'criminal behaviours', 'article k.3', 'crisis situation head-on', 'democratic principles', 'primary purpose', 'national contact points', 'tolerable phenomenon', 'criminal policy', 'areas', 'illegitimate private gains', 'direct payment', 'eu convention', 'commission green paper', 'particular article', 'serious fraud', 'iraqi officials', 'parts', 'appropriate actor', 'certain sectors', 'normal business contacts', 'possible legal discrepancies', 'member states', 'fresh impetus', 'early stage', 'reading', 'noteworthy initiatives', 'evaluation report', 'corporate financial statements', 'clear rules', 'total remuneration', 'such funds', 'mediterranean partners', 'mediterranean countries', 'follow-up', 'single uniform definition', 'eu mechanism', 'individual rights', 'policy development', 'aforementioned eu', 'strict evaluation mechanism', 'semi-public entities', 'unambiguous stance', 'new dividing lines', 'criminal law sense', 'international instruments', 'decisions', 'national anti-corruption strategies', 'information exchange', 'way', 'provisional eurojust unit', 'progress', 'recent years', 'future initiatives', 'relevant provisions', 'practice', 'multilateral agreement', 'first part-session', 'ten principles', 'contact points', 'forthcoming communication', 'international anti-corruption instruments', 'award', 'basis', 'new provisions', 'procurement opportunities', 'eu forum', 'different authorities', 'communication', 'tampere presidency conclusion', 'external aid', 'responsible behaviour', 'comprehensive dialogue', 'organisations', 'european public prosecutor', 'further delay', 'serious consequences', 'specific provisions', 'special nature', 'law instruments', 'firm line', 'cases', 'main ngo', 'protocol', 'fight', 'joint investigations', 'professions', 'common security threats', 'act', 'official delegation', 'higher investment', 'younger patients', 'best practice', 'aforementioned eu instruments', 'legal point', 'particular country', 'broad support', 'report com', 'technical support', 'list', 'certain country', 'support', 'belgian government department', 'belgian government departments', 'total quality management', 'other internal policies', 'comprehensive multi-faceted policy', 'key representatives', 'essential issue', 'longer term', 'eu ministers', 'degree', 'general role', 'relevant documents', 'adoption', 'corruption prosecution policy', 'â‰¥40 %', 'domestic law', 'three-year period', 'unnecessary resources', 'further information', 'oj c', 'community system', 'acts', 'commission evaluation report', 'dose changes', 'effective means', 'www.fightingcorruption.org', 'tampere conclusions', 'mutual interest', 'unnecessary duplication', 'applicable legislation', 'several documents', 'eu member states', 'more transparent', 'stage', 'belgian federal government', 'legal affairs', 'beneficiary state', 'foreign investment', 'interest groups', 'controls', 'criminal code articles', 'approach', 'second report', 'consultancy agreements', 'conflict', 'context', 'action', 'persons', 'basic ethical principles', 'public prosecutors-general', 'such guidelines', 'candidate countries', 'absolute priority', 'further development', 'insurance companies', 'europol convention', 'such rules', 'screen candidates', 'hidden phenomenon', 'issues', 'such advantages', 'public awareness', 'corruption undermines', 'significant step', 'basic rules', 'proper implementation', 'central message', 'world-wide fight', 'various initiatives', 'efforts', 'parties', 'belgian government', 'procedures', 'other eu institutions', 'other international regulations', 'such guidance', 'important contribution', 'offices', 'capacity', 'foreign public official', 'same corrupt behaviour', 'institutions', 'agreement', 'major review', 'local agents', 'thorough scrutiny', 'community competence', 'good practices', 'european professional associations', 'eu strategy', 'e.g. fraud', 'ratification', 'illicit purposes', 'other international fora', 'conventions', 'various forms', 'law principles', 'late 1990s', 'work programme', 'management', 'overwhelming majority', 'community interests', 'different areas', 'western balkans', 'independent administrative body', 'broader definition', 'common definition', 'such risk countries', 'greco membership', 'membership', 'structure', 'nominate reserve members', 'natural resources', 'text', 'common standards', 'period', 'non -governmental organisations', 'comprehensive approach', 'texts', 'assessments', 'essential elements', 'com', 'innovative public services group', 'international efforts', 'other countries', 'belgian network', 'fractions', 'good management', 'common definitions', 'stronger coherence', 'union policy', 'council framework decision', 'method', 'protection', 'broad class', 'last resort', 'position', 'belgian individuals', 'cross-border approach', 'european integration', 'other framework decisions', 'common framework', 'illicit business interests', 'article', 'major recent scandals', 'investigative techniques', 'unselected bidder', 'court', 'personal situation', 'genuine follow-up monitoring', 'former public companies', 'equivalent conditions', 'possible action', 'first time', 'political competition', 'new initiatives', 'protocols', 'aforesaid joint action', 'significant partner', 'secret agreement', 'more information', 'human rights', 'council declaration', 'other economic crimes', 'cooperation', 'other rule', 'serious cases', 'neighbouring countries', 'national bodies', 'other bodies', 'certain countries', 'such behaviour', 'effective protection', 'overall strategic approach com', 'other illegal activity', 'participation', 'serious forms', 'co-ordination', 'national legislation', 'dialogue', 'relevant areas', 'sound financial management', 'affairs', 'highest level', 'official ethics', 'european area', 'internal decision', 'direct victims', 'main measures', 'european financial prosecutor', 'main obstacle', 'civil aspects', 'investigative tools', 'influences', 'eu level', 'investigation', 'good start', 'model decision', 'tactless civil servants', 'international legal instrument', 'sixth full member', 'other reward', 'preventive measures', 'serious corruption', 'new neighbourhood policy', 'third countries', 'constituent elements', 'mechanism', 'new rules', 'multi-disciplinary integrated method', 'official capacity', 'strategies', 'eu officials', 'international pressure', 'financial support', 'administrative co-operation', 'case', 'campaign expenditures', 'copenhagen european council', 'necessary steps', 'external aspects', 'area', 'olaf enquiries', 'structures', 'specific obligation', 'clear stance', 'practical guide', 'sunny destination', 'means', 'professional duties', 'duplication', 'implementation', 'communities', 'reports', 'eu governments', 'covert links', 'national anti-corruption policies', 'ec budget', 'relevant international anti-corruption instruments', 'united nations convention', 'new eu members states', 'clear political determination', 'clear timeframe', 'major reform', 'foreign legislation', 'institution-building good governance', 'transparent funding', 'foreign public officials', 'outside experts', 'civil law conventions', 'new policy', 'fundamental element', 'positions', 'widespread phenomenon', 'second subparagraph', 'fundamental freedoms', 'actions', 'hospital admission', 'main partners', 'foreign official', 'commission report', 'rotation', 'main barriers', 'other misdemeanour', 'adequate salary', 'quality management tools', 'judicial review', 'strategic concept', 'specialised anti-corruption services', 'person', 'separate amount', 'brief list', 'peer review', 'courtesy usage', 'first subparagraph', 'different co-operation agreements', 'nature', 'eu country', 'important tool', 'material competence', 'responsible management', 'corporate initiatives', 'draft framework decision', 'systematic checks', 'community co-operation', 'ras-blocker uptitration', 'clinical outcome', 'awareness', 'eu countries', 'regular contacts', 'framework', 'interinstitutional agreement', 'member', 'training programmes', 'eu anti-corruption policy', 'parliamentary proceedings', 'substantial proceeds', 'right solution', 'concentrated eu initiatives', 'oecd convention', 'public procurement directives', 'independence', 'direct victim', 'e accounting standards', 'relevant reserve member', 'first stage', 'eu budget resources', 'social partner entities', 'good administrative behaviour', 'assistance', 'prior knowledge', 'self-employed person', 'situation', 'sensitive posts', 'icc rules', 'annual basis', 'last update', 'eu acquis', 'private entities', 'biggest challenge', 'good practice', 'political balance', 'personal threats', 'appropriate remedies', 'high professional standards', 'ratification instruments', 'other undue advantage', 'national institution', 'practices', 'same degree', 'comprehensive preventative policy', 'aforesaid recommendations', 'key element', 'important role', 'inter alia fraud', 'other international instruments', 'systematic protection', 'such expenses', 'new chapters', 'part', 'investigations', 'special attention', 'disciplinary point', 'community', 'sufficient time', 'formal invitation', 'entire private sector', 'trust', 'other persons', 'future trends', 'interest', 'delicate situations', 'official context', 'strong political commitment', 'corruption-related issues', 'foreign markets', 'new act', 'ministers', 'detailed interinstitutional approach', 'oecd action statement', 'committee', 'other interest groups', 'such conventions', 'conflicts', 'accession negotiations', 'few dollars', 'improved co-ordination', 'proper functioning', 'definition', 'possible decision', 'cologne european council', 'necessary dialogue', 'legal professions', 'same rule', 'development', 'progresses', 'reasoned decision', 'international markets', 'passive * corruption', 'council regulation', 'constitutional affairs', 'appropriate modalities', 'business activities', 'tax assessment', 'control', 'necessary measures', 'certain contracting', 'advice', 'further campaigns', 'comprehensive effort', 'international procurement', 'ambulatory patients', 'higher heart rate', 'certain restrictions', 'forthcoming accession', 'extended mandate', 'criminal law provisions', 'appropriate follow-up', 'effective functioning', 'present communication', 'level', 'oecd guidelines', 'activities', 'certain royal decrees', 'unremitting work', 'inter-departmental working group', 'council act', 'damaging consequences', 'beta-blocker therapy', 'integer companies', 'technical assistance', 'practical breakdown', 'essential element', 'special report', 'potential public policy implications', 'community directives', 'accession', 'non-discriminatory access', 'effective criminal law enforcement', 'best corruption prevention strategy', 'community competencies', 'specific financing agreements', 'national corruption scandals', 'pilot role', 'special investigative techniques', 'transparency international business principles', 'best signal', 'appropriate work', 'important eu', 'criminal law perspective', 'concrete actions', 'initiatives', 'european union strategy', 'job rotation', 'office', 'crimes', 'common values', 'problem', 'high-profile cases', 'better protection', 'political guideline', 'european partners', 'amounts', 'vulnerable position', 'first protocol', 'significant reductions', 'dose', '23.10.1996', 'pure law enforcement', 'oecd working group', 'judicial cooperation network', 'fraction', 'ratification process', 'award process', 'new millennium', 'conclusion', 'states', 'common integrity standards', 'incidental condition', 'capacity building', 'specific article', 'single anti-corruption unit', 'application', 'intentional act', 'plan', 'belgian anti-corruption policy', 'other serious professional misconduct', 'economic cooperation', 'expert advice', 'comprehensive eu policy', 'international companies', 'public invitations', 'oecd bribery convention', 'overall strategy', 'public tender procedure', 'such disclosure', 'rule 153(3', 'staff', 'law enforcement authorities', 'ad hoc committee', 'federal government department', 'vienna conference', 'eu territory', 'bodies', 'other international organisations', 'epac member organisations', 'law enforcement bodies', 'benchmarks', 'common positions', 'independent experts', 'possible penalties', 'priorities', 'global programme', 'aid', 'protection instruments', 'danish initiative', 'department', 'coherent approach', 'global cost', 'groups', 'better renal function', 'terms', 'first global instrument', 'community financial interests', 'level playing field', 'general principles', 'member state', 'legal protection', 'previous instrument', 'public office holders', 'prevention', 'former members', 'hf readmissions', 'sectors', 'signal', 'enormous progress', 'paper', 'possible application', 'web site', 'particular rules', 'information procedures', 'eu instruments', 'first important steps', 'following tasks', 'inadequate legal means', 'treaty', 'corporate responsibility', 'independent european public prosecutor', 'role', 'internal control', 'fields', 'administrative ethics', 'substantive criminal law', 'affected party', 'hf hospitalization', 'sector', 'inter alia', 'american company', 'social rights', 'concept', 'improper award', 'international organisations', 'such cooperation', 'phare programme', 'law enforcement measures', 'phenomenon', 'monitoring', 'clear definition', 'international', 'definitions', 'national mechanisms', 'international cooperation', 'particular focus', 'consecutive patients', 'clearest possible picture', 'belgian law', 'alleged breach', 'full text', 'system', 'regular integrity courses', 'union', 'various markets', 'other financial interests', 'multinational enterprises', 'wto doha agenda', 'affected aspects', 'appropriate independence', 'party', 'eu institutions', 'standard clauses', 'multilateral systems', 'agis conference', 'other third countries', 'agreements', 'relevant rules', 'in-depth evaluation report', 'un general assembly', 'minimum standards', 'repressive measures', 'other agents', 'crime prevention', 'competent authorities', 'international co-operation', 'comprehensive framework', 'relevant administrative capacities', 'right conclusions', 'particular ec law', 'serious crime', 'second money laundering directive', 'particular relevance', 'regular assessment', 'only way', 'comprehensive policy', 'jurisdiction world-wide', 'enhanced transparency', 'character', 'awkward situations', 'general strengthening', 'unlimited respect', 'cards assistance programme', 'beneficiary states', 'clear signal', 'corrupt companies', 'low co-morbidity burden', 'nearest belgian factory', 'collusive behaviour', 'civil law convention', 'specific accession clauses', 'such advantage', 'annual report', 'vulnerable professions', 'key issue', 'relevant national agencies', 'clear delimitation', 'future policy priorities', 'belgian companies', 'certain cases', 'institutional safeguards', 'bank', 'same document', 'insufficiencies', 'further legislative proposal', 'anti-corruption prosecutors', 'modern accounting standards', 'economic performance', 'consultations', 'permanent political dialogue', 'initiative', 'direct infringement', 'conclusions', 'organisational structure', 'foreign aid programmes', 'important issue', 'enhanced alignment', 'comprehensive eu policy corruption', 'political group', 'governance-related issues', 'national courts', 'proposal', 'purpose', 'operational cooperation', 'levels', 'important subject', 'convention', 'audit profession', 'further momentum', 'oj l', 'key factor', 'well-paid civil servants', 'irregular conduct', 'federal republic', 'strasbourg resolution', 'international business transactions', 'guideline-recommended target dose', 'inspection bodies', 'time', 'adequate internal audit schemes', 'several anti-corruption projects', 'work', 'parliamentary term', 'potential conflicts', 'speedy ratification', 'standardised application', 'process', 'international activities', 'main international anti-corruption instruments', 'articles', 'monitoring procedure', 'best safeguard', 'consultation procedure', 'firm legislation', 'high investment', 'other methods', 'tender procedures', 'spironolactone use', 'federal government', 'subject', 'attention', 'regular political dialogue', 'issue', 'responsibility', 'document', 'ec funds', 'supply side', 'general political agreement', 'further steps', 'country', 'conduct', 'oecd conventions', 'factors', 'national level', 'interinstitutional investigative powers', 'self-assessment framework', 'community rules', 'instrument', 'case participation', 'annual meetings', 'commitments', 'commission staff', 'narrower criminal law sense', 'preventive monitoring', 'future eu policy', 'particular project', 'corporate life', 'dose increase', 'eu-wide adoption', 'world', 'behaviour', '%', 'anti-corruption clauses', 'far-reaching implications', 'negative publicity', 'other policy objectives', 'criminal law convention', 'voluntary principles', 'strong indirect incentives', 'key objectives', 'public administration structures', 'maximum sentence', 'new borders', 'important part', 'effective measures', 'international corporate integrity handbook', 'publicity', 'various levels', 'clear decision-making procedures', 'better capacity', 'overarching concern', 'similar benefits', 'such corruption', 'body', 'corruptie voorkomen', 'respect', 'severe penalties', '12.1.2008', 'whole week', 'commission decision', 'sme edition', 'eu heads', 'future un convention', 'following core elements', 'â‰¥10 %', 'such conflict', 'future staff regulations', 'prior verification', 'alleged breaches', 'olaf expertise', 'internal measures', 'federal civil servants', 'strong influence', 'interagency co-operation', 'prioritised action', 'many years', 'clear procedures', 'ways', 'best practices', 'members', 'health sector', 'eu anti-corruption instruments', 'secret triangular links', 'strategy', 'european court', 'other wto parties', 'aforesaid millennium strategy', 'latter us legislation', 'international standards', 'active maintenance', 'specialised anti-corruption authorities', 'second protocol', 'public trust', 'trade unions', 'powerful tool', 'departments', 'national governments', 'recent communication', 'networks', 'european public administration', 'concrete implementation', 'co-operation framework', 'minimum rules', 'co-operation', 'practical application', 'serious matters', 'general public', 'icc publication', 'viable option', 'clear benchmark', 'other actions', 'central office', 'olaf activities', 'sound companies', 'relevant players', 'partner countries', 'interests', 'mandatory character', 'criminal law matters', 'state', 'administrative investigation', 'ratifications', 'countries', 'information', 'possible breaches', 'wider europe -neighbourhood', 'major international companies', 'sound decisions', 'works', 'full commission', 'concerns', 'alarm signals', 'obligations', 'proposals', 'substantial criminal law legislation', 'other income', 'main international initiatives', 'general problem', 'service'}\n"
     ]
    },
    {
     "data": {
      "text/plain": "(0.22419354838709676,\n 0.35732647814910024,\n 0.27552031714568875,\n {'accounting irregularities',\n  'acp-eu partnership agreement',\n  'acquis',\n  'action plan',\n  'active corruption',\n  'ad-hoc committee',\n  'administrations',\n  'advantage',\n  'advisory committee',\n  'aggravating circumstances',\n  'all-cause mortality',\n  'anti-bribery laws',\n  'anti-corruption culture',\n  'anti-corruption instruments',\n  'anti-corruption network',\n  'anti-corruption policy',\n  'anti-corruption standards',\n  'auditors',\n  'authorities',\n  'authority',\n  'belgian criminal code',\n  'blood pressure',\n  'bribery',\n  'business community',\n  'business relations',\n  'business world',\n  \"cadre d'auto-ã©valuation des fonctions publiques\",\n  'civil servants',\n  'civil service',\n  'civil society',\n  'combat corruption',\n  'commercial dispute',\n  'commission',\n  'common assessment framework',\n  'common market',\n  'companies',\n  'company',\n  'competition',\n  'contracting authorities',\n  'contracting authority',\n  'corporate liability',\n  'corporate taxpayer',\n  'corrupt activities',\n  'corrupt acts',\n  'corrupt behaviour',\n  'corrupt business practices',\n  'corrupt practices',\n  'corruption',\n  'corruption case',\n  'corruption cases',\n  'corruption offences',\n  'corruption risks',\n  'costs',\n  'cotonou agreement',\n  'council',\n  'crime',\n  'crime records',\n  'criminal abuses',\n  'criminal act',\n  'criminal behaviour',\n  'criminal code',\n  'criminal conspiracy',\n  'criminal enquiries',\n  'criminal law',\n  'criminal liability',\n  'criminal offence',\n  'criminal offences',\n  'criminal organisation',\n  'criminal penalties',\n  'criminal proceedings',\n  'criminal prosecution',\n  'custodial sentence',\n  'custodial sentences',\n  'data protection',\n  'decision',\n  'definitive judgement',\n  'development aid',\n  'direct universal suffrage',\n  'directive',\n  'disciplinary rules',\n  'disciplinary sanctions',\n  'double criminality',\n  'economic damage',\n  'election spending',\n  'enforcement',\n  'enterprises',\n  'ethical behaviour',\n  'ethical enterprise',\n  'eu',\n  'eu council',\n  'europe',\n  'european anti-corruption network',\n  'european anti-fraud office',\n  'european arrest warrant',\n  'european commission',\n  'european communities',\n  'european community',\n  'european council',\n  'european parliament',\n  'european treaty series',\n  'european union',\n  'evaluation mechanisms',\n  'ex officio',\n  'export credits',\n  'external financial control',\n  'fair competition',\n  'federal civil service',\n  'federal criminal investigation police',\n  'federal government departments',\n  'fighting corruption',\n  'financial crime',\n  'financial interests',\n  'financial investigations',\n  'financial irregularities',\n  'financial transactions',\n  'financing',\n  'framework decision',\n  'framework decisions',\n  'fraud',\n  'free trade',\n  'fundamental ethical obligations',\n  'gains',\n  'general assembly',\n  'good governance',\n  'government',\n  'government contracts',\n  'government procurement',\n  'grey areas',\n  'hague programme',\n  'hazard ratio',\n  'heart failure',\n  'heart rate',\n  'home affairs',\n  'hospitalization',\n  'illicit financing',\n  'improper influence',\n  'in-house corruption',\n  'integrity',\n  'integrity policy',\n  'internal appeal procedures',\n  'internal investigations',\n  'internal market',\n  'international accounting standards',\n  'international market',\n  'interpretative jurisdiction',\n  'investment',\n  'joint action',\n  'joint venture',\n  'judicial authorities',\n  'jurisdiction',\n  'laundering',\n  'law',\n  'law enforcement',\n  'laws',\n  'left ventricular ejection fraction',\n  'legal action',\n  'legal framework',\n  'legal instruments',\n  'legal obligations',\n  'legal person',\n  'legal persons',\n  'legal status',\n  'legislation',\n  'liability',\n  'mandate',\n  'market',\n  'millennium strategy',\n  'misdemeanour',\n  'misdemeanours',\n  'money laundering',\n  'moniteur belge',\n  'mutual legal assistance',\n  'neurohumoral blockers',\n  'ngo',\n  'non-governmental organisation',\n  'offence',\n  'offences',\n  'official',\n  'official journal',\n  'officials',\n  'open markets',\n  'organised crime',\n  'parliament',\n  'party financing',\n  'passive corruption',\n  'personal interest',\n  'petty corruption',\n  'police',\n  'police officers',\n  'policies',\n  'policy',\n  'political corruption',\n  'political corruption scandals',\n  'political parties',\n  'political scandals',\n  'predicate offences',\n  'preliminary rulings',\n  'private bribery',\n  'private corruption',\n  'private gain',\n  'private sector',\n  'private sector corruption',\n  'private-to-private corruption',\n  'procurement',\n  'professional ethics',\n  'professional misconduct',\n  'professional secrecy',\n  'prosecution',\n  'prosecutor',\n  'prosecutors',\n  'public accounting system',\n  'public administration',\n  'public administrations',\n  'public agents',\n  'public authorities',\n  'public bribery',\n  'public contracts',\n  'public institution',\n  'public institutions',\n  'public interest',\n  'public office',\n  'public official',\n  'public officials',\n  'public procurement',\n  'public procurement procedures',\n  'public prosecutor',\n  'public sector',\n  'public service provider',\n  'public services',\n  'punishable offence',\n  'ras blockers',\n  'renal function',\n  'renin-angiotensin system',\n  'renin-angiotensin system blocker',\n  'report',\n  'royal decree',\n  'rule',\n  'rules',\n  'serious wrongdoings',\n  'single market',\n  'slush money',\n  'societies',\n  'society',\n  'south-east europe',\n  'spironolactone',\n  'staff regulations',\n  'state contracts',\n  'statutory audit',\n  'statutory auditor',\n  'statutory audits',\n  'subsidy laws',\n  'tax administration',\n  'tax consultants',\n  'tax deductibility',\n  'tax legislation',\n  'tax offences',\n  'tax payments',\n  'term',\n  'third parties',\n  'third party',\n  'trade',\n  'transborder corruption cases',\n  'transparency',\n  'transparency international',\n  'undue advantage',\n  'united nations',\n  'united nations global compact',\n  'uptitration',\n  'uptitrations',\n  'victims',\n  'western europe',\n  'western nis',\n  'white lists',\n  'white paper',\n  'world bank',\n  'world economy',\n  'wrongful retention',\n  'î²-blockers'},\n {'abuse of power',\n  'accommodation',\n  'accomplices',\n  'accountability',\n  'accountable',\n  'accountants',\n  'accounting',\n  'accounting offences',\n  'accounting standards',\n  'accounts',\n  'acp',\n  'action statement',\n  'active',\n  'acts of bribery',\n  'ad hoc committee for the negotiations of a united nations convention against corruption',\n  'additional tenths',\n  'adjudicating',\n  'adjudication',\n  'administrative',\n  'admission',\n  'advantages',\n  'advisory committee on the conduct of members',\n  'agis',\n  'agreement on government procurement',\n  'algeria',\n  'ambulatory',\n  'american',\n  'anti-bribery convention',\n  'anti-corruption',\n  'anti-corruption agencies',\n  'anti-corruption authorities',\n  'anti-corruption laws',\n  'anti-corruption policies',\n  'anti-corruption services',\n  'anti-corruption strategy',\n  'anti-fraud',\n  'assets',\n  'audit',\n  'auditing',\n  'auditing standards',\n  'austria',\n  'balkan',\n  'balkans',\n  'banks',\n  'basis of tax assessment',\n  'belarus',\n  'belgium',\n  'beta-blocker',\n  'black-lists',\n  'blacklist',\n  'blacklisting',\n  'blacklists',\n  'blackmail',\n  'board of directors',\n  'board of public prosecutors-general',\n  'breach',\n  'breached',\n  'breaches',\n  'bribe',\n  'bribe giving',\n  \"bribe payers ' index\",\n  'bribe taking',\n  'bribe-paying',\n  'bribed',\n  'bribee',\n  'briber',\n  'bribes',\n  'bribing',\n  'budapest',\n  'budget',\n  'bulgaria',\n  'burden of proof',\n  'bureau of official ethics and good practice',\n  'bureaucratisation',\n  'business',\n  'business contacts',\n  'business interests',\n  'business practices',\n  'business transactions',\n  'businesses',\n  'caf',\n  'capital market',\n  'cards',\n  'cases of corruption',\n  'central department on combating corruption',\n  'central office for the repression of corruption',\n  'cepol',\n  'chamber of commerce',\n  'ci',\n  'civil',\n  'civil law',\n  'civil law convention on corruption',\n  'clinical',\n  'co-morbidity',\n  'code of conduct',\n  'code of good administrative behaviour',\n  'codes of conduct',\n  'collection of evidence',\n  'collusion',\n  'collusive',\n  'cologne',\n  'combating corruption',\n  'commercial',\n  'commissions',\n  'committee of independent experts',\n  'committee of ministers',\n  'committee on constitutional affairs',\n  'committee on legal affairs',\n  'communication on wider europe - neighbourhood',\n  'compliance',\n  'composite end-point',\n  'compromise',\n  'confidence interval',\n  'confiscate',\n  'confiscation',\n  'conflict of interest',\n  'conflicts of interest',\n  'conflicts of interests',\n  'consolidated accounts',\n  'contract',\n  'contracting',\n  'contractors',\n  'contracts',\n  \"convention on the protection of the european communities ' financial interests\",\n  'convict',\n  'convicted',\n  'copenhagen',\n  'corporate',\n  'corporate governance',\n  'corrupt',\n  'corruption scandals',\n  'corruption-related',\n  'cost',\n  'costs of transactions',\n  'cotonou',\n  'council of europe',\n  'council of the european union',\n  'count of corruption',\n  'court of auditors',\n  'court of justice',\n  'court of justice of the european union',\n  'courts',\n  'cream something off payments',\n  'criminal',\n  'criminal law convention on corruption',\n  'criminal law enforcement',\n  'criminal law legislation on corruption',\n  'criminalises',\n  'criminalising',\n  'criminality',\n  'criminally liable',\n  'criminals',\n  'customs',\n  'declaration of financial interests',\n  'deducted',\n  'denmark',\n  'departments of government',\n  'deprivation of liberty',\n  'dereliction',\n  'direct',\n  'directives',\n  'directorate for combating economic and financial crime',\n  'disbursements',\n  'disciplinary',\n  'disciplinary bodies',\n  'disinterest',\n  'dispute',\n  'disputes',\n  'distortion of competition',\n  'doha',\n  'doha wto 4th ministerial conference',\n  'double-checking',\n  'duty of loyalty',\n  'ec',\n  'ecj',\n  'economic',\n  'economic crimes',\n  'elections',\n  'embezzle',\n  \"employers ' organization\",\n  'epac',\n  'equitable',\n  'ethical',\n  'ethically',\n  'eu-wide',\n  'euratom',\n  'eurojust',\n  'european court of justice',\n  'european economic and social committee',\n  'european partners against corruption',\n  'europol',\n  'evaluation of the activities of the european anti-fraud office',\n  'evidence',\n  'expenditure',\n  'expenditures',\n  'expenses',\n  'exploitation',\n  'exploited',\n  'extortion',\n  'extradition',\n  'favoritism',\n  'feb',\n  'federal department of finance',\n  'federal department of the budget',\n  'federal government department of justice',\n  'federal government department of the budget and management control',\n  'federal police',\n  'federal republic of germany',\n  'federation of enterprises in belgium',\n  'fight against corruption',\n  'fight against fraud',\n  'financial',\n  'financial and fiscal crime',\n  'financial management',\n  'financial offences',\n  'financial prosecutor',\n  'financial services action plan',\n  'financial statements',\n  'fine',\n  'fines',\n  'fiscal',\n  'foreign corrupt practices act',\n  'framework of good practice',\n  'freedom of bidding',\n  'freezing',\n  'funding',\n  'funds',\n  'gdp',\n  'gifts',\n  'global programme against corruption',\n  'good-governance',\n  'goods',\n  'governance-related',\n  'governments',\n  'gpa',\n  'gratuity',\n  'greco',\n  'green paper',\n  'group of states against corruption',\n  'hf',\n  'hf with preserved ejection fraction',\n  'hfpef',\n  'hfref',\n  'hidden',\n  'hospital',\n  'hospitalized',\n  'hr',\n  'ias',\n  'icc',\n  'icc belgium',\n  'idoc',\n  'illegal',\n  'illegal activity',\n  'illegitimate',\n  'illicit',\n  'illicit proceeds',\n  'illicitly',\n  'immovable property',\n  'impartiality',\n  'impartially',\n  'imprisonment',\n  'income',\n  'income tax law',\n  'incriminations',\n  'indirect financial benefit',\n  'infringement',\n  'integer',\n  'integrity standards',\n  'integrity-enhancing',\n  'intermediaries',\n  'internal audit schemes',\n  'international standards on auditing',\n  'internet portal',\n  'investigation and disciplinary office',\n  'investigation power',\n  'iraq',\n  'irregularities',\n  'isa',\n  'italy',\n  'judge',\n  'judges',\n  'judicial',\n  'judiciary',\n  'jurisdictions',\n  'justice',\n  'lawfully provided services',\n  'lawyers',\n  'lebanon',\n  'legal',\n  'legal acts',\n  'legal definition',\n  'legal instrument',\n  'legally',\n  'legislative',\n  'legislative proposal',\n  'legitimately',\n  'levied',\n  'liable',\n  'licensing',\n  'lobbying',\n  'luxembourg',\n  'm. alliot-marie',\n  'madrid',\n  'magistracy',\n  'magistrates',\n  'malpractices',\n  'mandated',\n  'market conditions',\n  'market procedures',\n  'markets',\n  'memorandum of understanding',\n  'misappropriation',\n  'misconduct',\n  'mismanagement',\n  'moldova',\n  'monitoring mechanism',\n  'monitoring standards',\n  'monopolies',\n  'movable',\n  'national security plan 2008 - 2011',\n  'natural',\n  'natural person',\n  'natural persons',\n  'neighbourhood policy',\n  'network of expertise on corruption',\n  'network of expertise on economic ',\n  'non - governmental organisations',\n  'non-transparent',\n  'notaries',\n  'objectively',\n  'oecd',\n  'oecd convention on combating bribery of foreign public officials in international business transactions',\n  'oecd working group on bribery',\n  'off-books accounting',\n  'offenders',\n  'office for administrative ethics and deontology',\n  'office-holders',\n  'oj',\n  'olaf',\n  'organisation for economic cooperation and development',\n  'organised and transborder corruption',\n  'organised crime groups',\n  'outcome',\n  'p',\n  'pact of silence',\n  'paid',\n  'passive',\n  'passive bribery',\n  'passive transborder corruption',\n  'patients',\n  'pay',\n  'paying',\n  'payment',\n  'payments',\n  'pef',\n  'penalization',\n  'penalizes',\n  'penalties',\n  'penalty',\n  'penalty of imprisonment',\n  'phare',\n  'pif-convention',\n  'police on web',\n  'policy against corruption',\n  'policy areas',\n  'political',\n  'political agreement',\n  'politicians',\n  'preserved left ventricular ejection fractions',\n  'price',\n  'primacy of the rule of law',\n  'principal',\n  'principles of conduct',\n  'private',\n  'private gains',\n  'private sectors',\n  'private-to-private',\n  'privatisation',\n  'proceeds',\n  'professional integrity',\n  'prohibition',\n  'prosecute',\n  'prosecuted',\n  'prosecuting',\n  'public',\n  'public invitations to tender',\n  'public money',\n  'public policy',\n  'public sectors',\n  'public servants',\n  'public tender',\n  'punishable',\n  'punished',\n  'punishes',\n  'punishing',\n  'punishment',\n  'purchasing director',\n  'rapporteur',\n  'ras',\n  'ras -',\n  'ras-blocker',\n  'readmissions',\n  'reclaim',\n  'recognitions',\n  'reduced',\n  'reduced ejection fraction',\n  'ref',\n  'registration for transfers of ownership',\n  'regulation',\n  'regulations',\n  'reimbursement',\n  'remunerated',\n  'remuneration',\n  'reported',\n  'reporting',\n  'resolution',\n  'retaliation',\n  'revenue',\n  'reward',\n  'rights',\n  'romania',\n  'rome',\n  'royal decrees',\n  'rule of law',\n  'rule of law principles',\n  'rules of conduct',\n  'rules of procedure',\n  'rules of the procedure',\n  'russia',\n  'saddam hussein',\n  'salary',\n  'san francisco',\n  'sanctions',\n  'self-regulatory regimes',\n  'semi-public',\n  'sentence',\n  'sentences',\n  'service for criminal policy',\n  'significant',\n  'significantly',\n  'small and medium-sized enterprises11',\n  'sme',\n  'social responsibility',\n  'socio-economic',\n  'standards of conduct',\n  'statute',\n  'statutory',\n  'strasbourg',\n  'subcontracts',\n  'subsidies',\n  'subsistence expenses',\n  'tactless',\n  'tampere',\n  'tax',\n  'taxpayers',\n  'tec',\n  'tender',\n  'tenderer',\n  'tenderers',\n  'term of office',\n  'termination of a contract',\n  'teu',\n  'therapy',\n  'trade organization',\n  'trade policy',\n  'trade union',\n  'trading',\n  'transactions',\n  'transfer of proceedings',\n  'transparency international belgium',\n  'transparent',\n  'travel',\n  'treaty of amsterdam',\n  'treaty on european union',\n  'turkey',\n  'uclaf',\n  'ukraine',\n  'un',\n  'un convention against corruption',\n  'un corruption',\n  'undeclared donations',\n  'united nations convention against corruption',\n  'unremunerated',\n  'us',\n  'usa',\n  'usufruct',\n  'victim',\n  'vienna',\n  'vote',\n  'voting',\n  'voting freedom',\n  'vulnerability to fraud',\n  'well-paid',\n  'whistle blowing',\n  'whistleblowers',\n  'whistleblowing',\n  'witness',\n  'witnesses',\n  'wto',\n  'î²-blocker'},\n {'%',\n  '12.1.2008',\n  '23.10.1996',\n  'absolute priority',\n  'accession',\n  'accession negotiations',\n  'act',\n  'action',\n  'actions',\n  'active maintenance',\n  'activities',\n  'acts',\n  'ad hoc committee',\n  'adequate internal audit schemes',\n  'adequate salary',\n  'administrative co-operation',\n  'administrative ethics',\n  'administrative integrity',\n  'administrative investigation',\n  'adoption',\n  'advice',\n  'affairs',\n  'affected aspects',\n  'affected party',\n  'aforementioned eu',\n  'aforementioned eu instruments',\n  'aforesaid joint action',\n  'aforesaid millennium strategy',\n  'aforesaid recommendations',\n  'agis conference',\n  'agreement',\n  'agreements',\n  'aid',\n  'alarm signals',\n  'alleged breach',\n  'alleged breaches',\n  'ambulatory patients',\n  'american company',\n  'amounts',\n  'annual basis',\n  'annual meetings',\n  'annual report',\n  'anti-corruption clauses',\n  'anti-corruption prosecutors',\n  'applicable legislation',\n  'application',\n  'approach',\n  'appropriate actor',\n  'appropriate follow-up',\n  'appropriate independence',\n  'appropriate modalities',\n  'appropriate remedies',\n  'appropriate work',\n  'area',\n  'areas',\n  'article',\n  'article k.3',\n  'articles',\n  'assessments',\n  'assistance',\n  'attention',\n  'audit profession',\n  'award',\n  'award process',\n  'awareness',\n  'awkward situations',\n  'bank',\n  'basic ethical principles',\n  'basic rules',\n  'basis',\n  'behaviour',\n  'belgian anti-corruption policy',\n  'belgian companies',\n  'belgian federal government',\n  'belgian government',\n  'belgian government department',\n  'belgian government departments',\n  'belgian individuals',\n  'belgian law',\n  'belgian network',\n  'benchmarks',\n  'beneficiary state',\n  'beneficiary states',\n  'best corruption prevention strategy',\n  'best practice',\n  'best practices',\n  'best safeguard',\n  'best signal',\n  'beta-blocker therapy',\n  'better capacity',\n  'better protection',\n  'better renal function',\n  'biggest challenge',\n  'bodies',\n  'body',\n  'brief list',\n  'broad class',\n  'broad consultation',\n  'broad support',\n  'broader definition',\n  'broader socio-economic sense',\n  'business activities',\n  'campaign expenditures',\n  'candidate countries',\n  'capacity',\n  'capacity building',\n  'cards assistance programme',\n  'case',\n  'case participation',\n  'cases',\n  'central message',\n  'central office',\n  'certain cases',\n  'certain contracting',\n  'certain countries',\n  'certain country',\n  'certain restrictions',\n  'certain royal decrees',\n  'certain sectors',\n  'challenge',\n  'character',\n  'civil aspects',\n  'civil law convention',\n  'civil law conventions',\n  'clear benchmark',\n  'clear decision-making procedures',\n  'clear definition',\n  'clear delimitation',\n  'clear political determination',\n  'clear procedures',\n  'clear rules',\n  'clear signal',\n  'clear stance',\n  'clear timeframe',\n  'clearest possible picture',\n  'clinical outcome',\n  'closed doors',\n  'co-operation',\n  'co-operation framework',\n  'co-ordination',\n  'coherent approach',\n  'collective action guide',\n  'collusive behaviour',\n  'cologne european council',\n  'com',\n  'commercial players',\n  'commission decision',\n  'commission evaluation report',\n  'commission green paper',\n  'commission report',\n  'commission staff',\n  'commitments',\n  'committee',\n  'common definition',\n  'common definitions',\n  'common framework',\n  'common integrity standards',\n  'common positions',\n  'common security threats',\n  'common standards',\n  'common values',\n  'communication',\n  'communities',\n  'community',\n  'community co-operation',\n  'community competence',\n  'community competencies',\n  'community directives',\n  'community financial interests',\n  'community interests',\n  'community rules',\n  'community system',\n  'competent authorities',\n  'comprehensive approach',\n  'comprehensive dialogue',\n  'comprehensive effort',\n  'comprehensive eu policy',\n  'comprehensive eu policy corruption',\n  'comprehensive framework',\n  'comprehensive multi-faceted policy',\n  'comprehensive policy',\n  'comprehensive preventative policy',\n  'concentrated eu initiatives',\n  'concept',\n  'concerns',\n  'conclusion',\n  'conclusions',\n  'concrete actions',\n  'concrete implementation',\n  'concrete quid-pro-quo bribe giving',\n  'conduct',\n  'conflict',\n  'conflicts',\n  'consecutive patients',\n  'constituent elements',\n  'constitutional affairs',\n  'consultancy agreements',\n  'consultation procedure',\n  'consultations',\n  'contact points',\n  'contact-point network',\n  'context',\n  'continuous basis',\n  'control',\n  'controls',\n  'convention',\n  'conventions',\n  'cooperation',\n  'copenhagen european council',\n  'corporate financial statements',\n  'corporate initiatives',\n  'corporate life',\n  'corporate responsibility',\n  'corrupt companies',\n  'corruptie voorkomen',\n  'corruption prosecution policy',\n  'corruption undermines',\n  'corruption-related issues',\n  'council act',\n  'council declaration',\n  'council framework decision',\n  'council regulation',\n  'countries',\n  'country',\n  'court',\n  'courtesy usage',\n  'covert links',\n  'crime prevention',\n  'crimes',\n  'criminal behaviours',\n  'criminal code articles',\n  'criminal law convention',\n  'criminal law matters',\n  'criminal law perspective',\n  'criminal law provisions',\n  'criminal law sense',\n  'criminal policy',\n  'crisis situation head-on',\n  'cross-border approach',\n  'damaging consequences',\n  'danish initiative',\n  'decisions',\n  'definition',\n  'definitions',\n  'degree',\n  'delicate situations',\n  'democratic principles',\n  'department',\n  'departments',\n  'detailed interinstitutional approach',\n  'development',\n  'dialogue',\n  'different areas',\n  'different authorities',\n  'different co-operation agreements',\n  'direct infringement',\n  'direct payment',\n  'direct victim',\n  'direct victims',\n  'disciplinary point',\n  'document',\n  'documents',\n  'domestic law',\n  'dose',\n  'dose changes',\n  'dose increase',\n  'double-faced role',\n  'draft convention',\n  'draft framework decision',\n  'duplication',\n  'e accounting standards',\n  'e.g. fraud',\n  'early stage',\n  'ec budget',\n  'ec funds',\n  'ec treaty',\n  'economic cooperation',\n  'economic performance',\n  'edition',\n  'effective criminal law enforcement',\n  'effective functioning',\n  'effective means',\n  'effective measures',\n  'effective protection',\n  'efforts',\n  'enhanced alignment',\n  'enhanced transparency',\n  'enormous progress',\n  'entire private sector',\n  'epac member organisations',\n  'equivalent conditions',\n  'essential element',\n  'essential elements',\n  'essential issue',\n  'eu acquis',\n  'eu anti-corruption instruments',\n  'eu anti-corruption policy',\n  'eu budget resources',\n  'eu convention',\n  'eu countries',\n  'eu country',\n  'eu forum',\n  'eu governments',\n  'eu heads',\n  'eu institutions',\n  'eu instruments',\n  'eu level',\n  'eu mechanism',\n  'eu member states',\n  'eu ministers',\n  'eu officials',\n  'eu strategy',\n  'eu territory',\n  'eu-wide adoption',\n  'european area',\n  'european court',\n  'european financial prosecutor',\n  'european integration',\n  'european partners',\n  'european professional associations',\n  'european public administration',\n  'european public administration integrity',\n  'european public prosecutor',\n  'european union strategy',\n  'europol convention',\n  'evaluation report',\n  'expert advice',\n  'extended mandate',\n  'external aid',\n  'external aspects',\n  'factors',\n  'far-reaching implications',\n  'federal civil servants',\n  'federal government',\n  'federal government department',\n  'federal republic',\n  'few dollars',\n  'fields',\n  'fight',\n  'financial support',\n  'firm legislation',\n  'firm line',\n  'first global instrument',\n  'first important steps',\n  'first part-session',\n  'first protocol',\n  'first reading',\n  'first stage',\n  'first subparagraph',\n  'first time',\n  'follow-up',\n  'following core elements',\n  'following tasks',\n  'foreign aid programmes',\n  'foreign investment',\n  'foreign legislation',\n  'foreign markets',\n  'foreign official',\n  'foreign officials',\n  'foreign public official',\n  'foreign public officials',\n  'formal invitation',\n  'former members',\n  'former public companies',\n  'forthcoming accession',\n  'forthcoming communication',\n  'fraction',\n  'fractions',\n  'framework',\n  'fresh impetus',\n  'full commission',\n  'full text',\n  'fundamental element',\n  'fundamental freedoms',\n  'further campaigns',\n  'further delay',\n  'further development',\n  'further information',\n  'further legislative proposal',\n  'further momentum',\n  'further steps',\n  'future eu policy',\n  'future initiatives',\n  'future policy priorities',\n  'future staff regulations',\n  'future trends',\n  'future un convention',\n  'general agreement',\n  'general political agreement',\n  'general principles',\n  'general problem',\n  'general public',\n  'general role',\n  'general strengthening',\n  'genuine follow-up monitoring',\n  'global cost',\n  'global programme',\n  'good administrative behaviour',\n  'good management',\n  'good practice',\n  'good practices',\n  'good start',\n  'governance-related issues',\n  'greco membership',\n  'group',\n  'groups',\n  'guideline-recommended target dose',\n  'guidelines',\n  'health sector',\n  'hf hospitalization',\n  'hf readmissions',\n  'hidden phenomenon',\n  'high investment',\n  'high professional standards',\n  'high-profile cases',\n  'higher heart rate',\n  'higher investment',\n  'highest level',\n  'hospital admission',\n  'human rights',\n  'icc publication',\n  'icc rules',\n  'illegal reduction',\n  'illegitimate private gains',\n  'illicit business interests',\n  'illicit purposes',\n  'implementation',\n  'important contribution',\n  'important eu',\n  'important issue',\n  'important part',\n  'important role',\n  'important subject',\n  'important tool',\n  'improper award',\n  'improved co-ordination',\n  'in-depth evaluation report',\n  'inadequate legal means',\n  'incidental condition',\n  'independence',\n  'independent administrative body',\n  'independent european public prosecutor',\n  'independent experts',\n  'individual rights',\n  'influences',\n  'information',\n  'information exchange',\n  'information procedures',\n  'initiative',\n  'initiatives',\n  'innovative public services group',\n  'inspection bodies',\n  'institution-building good governance',\n  'institutional safeguards',\n  'institutions',\n  'instrument',\n  'instruments',\n  'insufficiencies',\n  'insurance companies',\n  'integer companies',\n  'intentional act',\n  'inter alia',\n  'inter alia fraud',\n  'inter-departmental working group',\n  'interagency co-operation',\n  'interest',\n  'interest groups',\n  'interest situations',\n  'interests',\n  'interinstitutional agreement',\n  'interinstitutional investigative powers',\n  'internal control',\n  'internal decision',\n  'internal measures',\n  'international',\n  'international activities',\n  'international anti-corruption instruments',\n  'international business transactions',\n  'international co-operation',\n  'international companies',\n  'international cooperation',\n  'international corporate integrity handbook',\n  'international efforts',\n  'international instruments',\n  'international legal instrument',\n  'international level',\n  'international markets',\n  'international organisations',\n  'international pressure',\n  'international procurement',\n  'international standards',\n  'international trade',\n  'invaluable source',\n  'investigation',\n  'investigations',\n  'investigative techniques',\n  'investigative tools',\n  'iraqi officials',\n  'irregular conduct',\n  'issue',\n  'issues',\n  'job rotation',\n  'joint investigations',\n  'judicial cooperation',\n  'judicial cooperation network',\n  'judicial review',\n  'jurisdiction world-wide',\n  'key element',\n  'key factor',\n  'key issue',\n  'key objectives',\n  'key representatives',\n  'last resort',\n  'last update',\n  'late 1990s',\n  'latter us legislation',\n  'law enforcement authorities',\n  'law enforcement bodies',\n  'law enforcement measures',\n  'law instruments',\n  'law principles',\n  'legal affairs',\n  'legal point',\n  'legal professions',\n  'legal protection',\n  'level',\n  'level playing field',\n  'levels',\n  'list',\n  'local agents',\n  'longer term',\n  'low co-morbidity burden',\n  'main barriers',\n  'main international anti-corruption instruments',\n  'main international initiatives',\n  'main measures',\n  'main ngo',\n  'main obstacle',\n  'main partners',\n  'major international companies',\n  'major recent scandals',\n  'major reform',\n  'major review',\n  'management',\n  'mandatory character',\n  'many years',\n  'material competence',\n  'maximum sentence',\n  'means',\n  'mechanism',\n  'mediterranean countries',\n  'mediterranean partners',\n  'member',\n  'member state',\n  'member states',\n  'members',\n  'membership',\n  'method',\n  'minimum rules',\n  'minimum standards',\n  'ministers',\n  'model decision',\n  'modern accounting standards',\n  'monitoring',\n  'monitoring procedure',\n  'more information',\n  'more transparent',\n  'most eu member states',\n  'multi-disciplinary integrated method',\n  'multilateral agreement',\n  'multilateral systems',\n  'multinational enterprises',\n  'mutual interest',\n  'narrower criminal law sense',\n  'national anti-corruption policies',\n  'national anti-corruption strategies',\n  'national bodies',\n  'national contact points',\n  'national corruption scandals',\n  'national courts',\n  'national governments',\n  'national institution',\n  'national legislation',\n  'national level',\n  'national mechanisms',\n  'natural resources',\n  'nature',\n  'nearest belgian factory',\n  'necessary dialogue',\n  'necessary measures',\n  'necessary steps',\n  'negative publicity',\n  'neighbouring countries',\n  'network',\n  'networks',\n  'new act',\n  'new borders',\n  'new chapters',\n  'new dividing lines',\n  'new eu members states',\n  'new initiatives',\n  'new millennium',\n  'new neighbourhood policy',\n  'new policy',\n  'new provisions',\n  'new rules',\n  'nominate reserve members',\n  'non -governmental organisations',\n  'non-discriminatory access',\n  'normal business contacts',\n  'noteworthy initiatives',\n  'obligations',\n  'oecd action statement',\n  'oecd bribery convention',\n  'oecd convention',\n  'oecd conventions',\n  'oecd guidelines',\n  'oecd working group',\n  'office',\n  'offices',\n  'official capacity',\n  'official context',\n  'official delegation',\n  'official ethics',\n  'oj c',\n  'oj l',\n  'olaf activities',\n  'olaf enquiries',\n  'olaf expertise',\n  'only way',\n  'operational cooperation',\n  'organisational structure',\n  'organisations',\n  'other actions',\n  'other agents',\n  'other bodies',\n  'other countries',\n  'other economic crimes',\n  'other eu institutions',\n  'other financial interests',\n  'other framework decisions',\n  'other illegal activity',\n  'other income',\n  'other interest groups',\n  'other internal policies',\n  'other international fora',\n  'other international instruments',\n  'other international organisations',\n  'other international regulations',\n  'other methods',\n  'other misdemeanour',\n  'other persons',\n  'other policy objectives',\n  'other reward',\n  'other rule',\n  'other serious professional misconduct',\n  'other servants',\n  'other third countries',\n  'other undue advantage',\n  'other wto parties',\n  'outside experts',\n  'overall strategic approach com',\n  'overall strategy',\n  'overarching concern',\n  'overwhelming majority',\n  'paper',\n  'parliamentary proceedings',\n  'parliamentary term',\n  'part',\n  'participation',\n  'particular article',\n  'particular country',\n  'particular ec law',\n  'particular focus',\n  'particular project',\n  'particular relevance',\n  'particular rules',\n  'parties',\n  'partner countries',\n  'partner country',\n  'parts',\n  'party',\n  'passive * corruption',\n  'peer review',\n  'period',\n  'permanent political dialogue',\n  'person',\n  'personal situation',\n  'personal threats',\n  'persons',\n  'phare programme',\n  'phenomenon',\n  'pilot role',\n  'plan',\n  'policy development',\n  'political balance',\n  'political competition',\n  'political dialogue',\n  'political group',\n  'political guideline',\n  'position',\n  'positions',\n  'possible action',\n  'possible application',\n  'possible areas',\n  'possible breaches',\n  'possible decision',\n  'possible legal discrepancies',\n  'possible penalties',\n  'potential conflicts',\n  'potential public policy implications',\n  'powerful tool',\n  'practical application',\n  'practical breakdown',\n  'practical guide',\n  'practice',\n  'practices',\n  'present communication',\n  'prevention',\n  'preventive measures',\n  'preventive monitoring',\n  'previous instrument',\n  'primary purpose',\n  'prior knowledge',\n  'prior verification',\n  'priorities',\n  'prioritised action',\n  'private entities',\n  'problem',\n  'procedures',\n  'process',\n  'procurement opportunities',\n  'professional duties',\n  'professions',\n  'progress',\n  'progresses',\n  'project financing',\n  'proper functioning',\n  'proper implementation',\n  'proposal',\n  'proposals',\n  'protection',\n  'protection instruments',\n  'protocol',\n  'protocols',\n  'provisional eurojust unit',\n  'public administration structures',\n  'public awareness',\n  'public invitations',\n  'public office holders',\n  'public procurement directives',\n  'public prosecutors-general',\n  'public tender procedure',\n  'public trust',\n  'publicity',\n  'pure law enforcement',\n  'purpose',\n  'quality management tools',\n  'ras-blocker uptitration',\n  'ratification',\n  'ratification instruments',\n  'ratification process',\n  'ratifications',\n  'reading',\n  'reasoned decision',\n  'recent communication',\n  'recent years',\n  'regular assessment',\n  'regular contacts',\n  'regular integrity courses',\n  'regular political dialogue',\n  'relevant administrative capacities',\n  'relevant areas',\n  'relevant documents',\n  'relevant international anti-corruption instruments',\n  'relevant national agencies',\n  'relevant players',\n  'relevant provisions',\n  'relevant reserve member',\n  'relevant rules',\n  'report com',\n  'reports',\n  'repressive measures',\n  'respect',\n  'responsibility',\n  'responsible behaviour',\n  'responsible management',\n  'right conclusions',\n  'right solution',\n  'role',\n  'rotation',\n  'rule 153(3',\n  'same corrupt behaviour',\n  'same degree',\n  'same document',\n  'same rule',\n  'screen candidates',\n  'second money laundering directive',\n  'second protocol',\n  'second report',\n  'second subparagraph',\n  'secret agreement',\n  'secret nature',\n  'secret triangular links',\n  'sector',\n  'sectors',\n  'self-assessment framework',\n  'self-employed person',\n  'semi-public entities',\n  'sensitive posts',\n  'separate amount',\n  'serious cases',\n  'serious consequences',\n  'serious corruption',\n  'serious crime',\n  'serious forms',\n  'serious fraud',\n  'serious matters',\n  'service',\n  'several anti-corruption projects',\n  'several documents',\n  'severe penalties',\n  'signal',\n  'significant partner',\n  'significant reductions',\n  'significant step',\n  'similar activities',\n  'similar benefits',\n  'single anti-corruption unit',\n  'single uniform definition',\n  'situation',\n  'sixth full member',\n  'sme edition',\n  'social partner entities',\n  'social partners',\n  'social rights',\n  'sound companies',\n  'sound decisions',\n  'sound financial management',\n  'sound project management',\n  'special attention',\n  'special investigative techniques',\n  'special nature',\n  'special report',\n  'specialised anti-corruption authorities',\n  'specialised anti-corruption services',\n  'specific accession clauses',\n  'specific article',\n  'specific financing agreements',\n  'specific obligation',\n  'specific predicate offences',\n  'specific provisions',\n  'speedy ratification',\n  'spironolactone use',\n  'staff',\n  'stage',\n  'standard clauses',\n  'standardised application',\n  'state',\n  'states',\n  'strasbourg resolution',\n  'strategic concept',\n  'strategies',\n  'strategy',\n  'strict evaluation mechanism',\n  'strong indirect incentives',\n  'strong influence',\n  'strong political commitment',\n  'stronger coherence',\n  'structure',\n  'structures',\n  'subject',\n  'substantial criminal law legislation',\n  'substantial proceeds',\n  'substantive criminal law',\n  'such advantage',\n  'such advantages',\n  'such behaviour',\n  'such conflict',\n  'such conventions',\n  'such cooperation',\n  'such corruption',\n  'such disclosure',\n  'such expenses',\n  'such funds',\n  'such guidance',\n  'such guidelines',\n  'such payments',\n  'such risk countries',\n  'such rules',\n  'sufficient time',\n  'sunny destination',\n  'supply side',\n  'support',\n  'supranational efforts',\n  'system',\n  'systematic checks',\n  'systematic protection',\n  'tactless civil servants',\n  'tampere conclusions',\n  'tampere presidency conclusion',\n  'tax assessment',\n  'technical assistance',\n  'technical support',\n  'ten principles',\n  'tender procedures',\n  'terms',\n  'text',\n  'texts',\n  'third countries',\n  'thorough scrutiny',\n  'three-year period',\n  'time',\n  'tolerable phenomenon',\n  'total quality management',\n  'total remuneration',\n  'trade unions',\n  'training programmes',\n  'transparency international business principles',\n  'transparent funding',\n  'treaty',\n  'trust',\n  'un general assembly',\n  'unambiguous stance',\n  'union',\n  'union policy',\n  'united nations convention',\n  'unlimited respect',\n  'unnecessary duplication',\n  'unnecessary resources',\n  'unremitting work',\n  'unreported cases',\n  'unselected bidder',\n  'various forms',\n  'various initiatives',\n  'various levels',\n  'various markets',\n  'viable option',\n  'vienna conference',\n  'voluntary principles',\n  'vulnerable position',\n  'vulnerable professions',\n  'warning signs',\n  'way',\n  'ways',\n  'web site',\n  'well-paid civil servants',\n  'western balkan countries',\n  'western balkans',\n  'whole week',\n  'wider europe -neighbourhood',\n  'widespread phenomenon',\n  'work',\n  'work programme',\n  'works',\n  'world',\n  'world-wide fight',\n  'wto doha agenda',\n  'www.fightingcorruption.org',\n  'younger patients',\n  'â‰¥10 %',\n  'â‰¥40 %'})"
     },
     "execution_count": 16,
     "metadata": {},
     "output_type": "execute_result"
    }
   ],
   "source": [
    "os.chdir(folder_name)\n",
    "whole_true_terms=[]\n",
    "whole_extracted_terms=[]\n",
    "results=[]\n",
    "for text_file_name, term_file_name in file_tuples:\n",
    "    true_terms, extracted_terms, precision, recall, f1_score, true_detections, false_gaps, false_detections=test_file(text_file_name, term_file_name)\n",
    "    results.append((true_terms, extracted_terms, precision, recall, f1_score, true_detections, false_gaps, false_detections ))\n",
    "    print('____________________________________________________________________\\n')\n",
    "    whole_true_terms+=true_terms\n",
    "    whole_extracted_terms+=extracted_terms\n",
    "print('___________________________TOTAL_________________________________________\\n')\n",
    "whole_true_terms=set(whole_true_terms)\n",
    "whole_extracted_terms=set(whole_extracted_terms)\n",
    "print('total result')\n",
    "report(whole_true_terms, whole_extracted_terms)"
   ],
   "metadata": {
    "collapsed": false,
    "ExecuteTime": {
     "end_time": "2023-11-30T10:51:02.612472600Z",
     "start_time": "2023-11-30T10:50:07.518876200Z"
    }
   },
   "id": "f07c640dc1e74e39"
  },
  {
   "cell_type": "code",
   "execution_count": 17,
   "outputs": [],
   "source": [
    "os.chdir('..')\n"
   ],
   "metadata": {
    "collapsed": false,
    "ExecuteTime": {
     "end_time": "2023-11-26T18:30:03.500911900Z",
     "start_time": "2023-11-26T18:30:03.473069200Z"
    }
   },
   "id": "2bb33be2aa83c996"
  },
  {
   "cell_type": "code",
   "execution_count": 17,
   "outputs": [],
   "source": [],
   "metadata": {
    "collapsed": false,
    "ExecuteTime": {
     "end_time": "2023-11-10T04:40:26.169680800Z",
     "start_time": "2023-11-10T04:40:26.160917900Z"
    }
   },
   "id": "fa44f4fdf3a91839"
  },
  {
   "cell_type": "code",
   "execution_count": 17,
   "outputs": [],
   "source": [],
   "metadata": {
    "collapsed": false,
    "ExecuteTime": {
     "end_time": "2023-11-10T04:40:26.173186600Z",
     "start_time": "2023-11-10T04:40:26.166957Z"
    }
   },
   "id": "2fc4f60d0e74e732"
  }
 ],
 "metadata": {
  "kernelspec": {
   "display_name": "Python 3",
   "language": "python",
   "name": "python3"
  },
  "language_info": {
   "codemirror_mode": {
    "name": "ipython",
    "version": 2
   },
   "file_extension": ".py",
   "mimetype": "text/x-python",
   "name": "python",
   "nbconvert_exporter": "python",
   "pygments_lexer": "ipython2",
   "version": "2.7.6"
  }
 },
 "nbformat": 4,
 "nbformat_minor": 5
}
